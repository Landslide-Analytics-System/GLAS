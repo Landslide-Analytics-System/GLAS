{
 "cells": [
  {
   "cell_type": "code",
   "execution_count": null,
   "source": [
    "import pandas as pd\n",
    "import math"
   ],
   "outputs": [],
   "metadata": {}
  },
  {
   "cell_type": "code",
   "execution_count": null,
   "source": [
    "df = pd.read_csv(\"<PATH TO CSV>\")"
   ],
   "outputs": [],
   "metadata": {}
  },
  {
   "cell_type": "code",
   "execution_count": null,
   "source": [
    "def rnd(n, p):\n",
    "    return round(n * 10**p)/(10**p)"
   ],
   "outputs": [],
   "metadata": {}
  },
  {
   "cell_type": "code",
   "execution_count": null,
   "source": [
    "# days_before is how many days before the landslide this ARI is being calculated (0-9). row is the dataframe row\n",
    "# returns ari (float), and summation of the 7 weights\n",
    "def getARI(days_before, row):\n",
    "    w = 0\n",
    "    num = 0\n",
    "    for t in range(7):\n",
    "        w_t = pow(t+1,-2) \n",
    "        w += w_t\n",
    "        num += w_t * float(row['precip'+str(t+days_before)])\n",
    "    return float(num), w"
   ],
   "outputs": [],
   "metadata": {}
  },
  {
   "cell_type": "code",
   "execution_count": null,
   "source": [
    "ARI = [[] for i in range(10)]\n",
    "\n",
    "# ARI[i] = ARI for ith day before landslide\n",
    "for index, row in df.iterrows():\n",
    "    for i in range(10):  # 10 days of ARI data\n",
    "        ari, w = getARI(i, row)\n",
    "        ARI[i].append(round(ari/w, 9))\n"
   ],
   "outputs": [],
   "metadata": {
    "scrolled": true
   }
  },
  {
   "cell_type": "code",
   "execution_count": null,
   "source": [
    "# create ARI columns in dataset. \"ARI0\" column contains ARI 0 days before event occurs (ARI[i])\n",
    "for i in range(10):\n",
    "    df['ARI' + str(i)] = ARI[i]    "
   ],
   "outputs": [],
   "metadata": {}
  },
  {
   "cell_type": "code",
   "execution_count": null,
   "source": [
    "df"
   ],
   "outputs": [],
   "metadata": {}
  },
  {
   "cell_type": "code",
   "execution_count": null,
   "source": [
    "# Save dataset\n",
    "df.to_csv('dataset_with_ARI.csv', index = False, header=True)"
   ],
   "outputs": [],
   "metadata": {}
  }
 ],
 "metadata": {
  "kernelspec": {
   "display_name": "Python 3",
   "language": "python",
   "name": "python3"
  },
  "language_info": {
   "codemirror_mode": {
    "name": "ipython",
    "version": 3
   },
   "file_extension": ".py",
   "mimetype": "text/x-python",
   "name": "python",
   "nbconvert_exporter": "python",
   "pygments_lexer": "ipython3",
   "version": "3.7.4"
  }
 },
 "nbformat": 4,
 "nbformat_minor": 4
}