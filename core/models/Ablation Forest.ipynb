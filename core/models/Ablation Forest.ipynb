{
 "cells": [
  {
   "cell_type": "markdown",
   "metadata": {},
   "source": [
    "## Random Forest Classifier\n",
    "The model predicts the severity of the landslide (or if there will even be one) within the next 2 days, based on weather data from the past 5 days.\n",
    "A Random Forest model with 113 trees yielded an accuracy of 81.21% when trained on slope data and precipitation and wind data over a 5 day period."
   ]
  },
  {
   "cell_type": "code",
   "execution_count": 1,
   "metadata": {},
   "outputs": [],
   "source": [
    "import pandas as pd\n",
    "import numpy as np\n",
    "import matplotlib.pyplot as plt\n",
    "%matplotlib inline\n",
    "import sklearn\n",
    "from sklearn.utils import shuffle\n",
    "import pickle"
   ]
  },
  {
   "cell_type": "code",
   "execution_count": 2,
   "metadata": {},
   "outputs": [
    {
     "name": "stderr",
     "output_type": "stream",
     "text": [
      "/Library/Frameworks/Python.framework/Versions/3.7/lib/python3.7/site-packages/IPython/core/interactiveshell.py:3146: DtypeWarning: Columns (5,8,9,10,11) have mixed types.Specify dtype option on import or set low_memory=False.\n",
      "  interactivity=interactivity, compiler=compiler, result=result)\n"
     ]
    },
    {
     "data": {
      "text/plain": [
       "17808"
      ]
     },
     "execution_count": 2,
     "metadata": {},
     "output_type": "execute_result"
    }
   ],
   "source": [
    "df = pd.read_csv(\"dataset.csv\")\n",
    "len(df)"
   ]
  },
  {
   "cell_type": "code",
   "execution_count": 3,
   "metadata": {},
   "outputs": [
    {
     "data": {
      "text/plain": [
       "medium          5594\n",
       "small           2612\n",
       "unknown          834\n",
       "large            679\n",
       "...              359\n",
       "very_large       102\n",
       "Medium            72\n",
       "Unknown           19\n",
       "Large             17\n",
       "Small             10\n",
       "catastrophic       4\n",
       "landslide          2\n",
       "Very_large         1\n",
       "Very...large       1\n",
       "Name: severity, dtype: int64"
      ]
     },
     "execution_count": 3,
     "metadata": {},
     "output_type": "execute_result"
    }
   ],
   "source": [
    "df['severity'].value_counts()"
   ]
  },
  {
   "cell_type": "code",
   "execution_count": 4,
   "metadata": {},
   "outputs": [
    {
     "name": "stdout",
     "output_type": "stream",
     "text": [
      "17808\n"
     ]
    }
   ],
   "source": [
    "df['severity'].value_counts()\n",
    "df = shuffle(df)\n",
    "df.reset_index(inplace=True, drop=True)\n",
    "print(len(df))"
   ]
  },
  {
   "cell_type": "code",
   "execution_count": 5,
   "metadata": {},
   "outputs": [
    {
     "data": {
      "text/html": [
       "<div>\n",
       "<style scoped>\n",
       "    .dataframe tbody tr th:only-of-type {\n",
       "        vertical-align: middle;\n",
       "    }\n",
       "\n",
       "    .dataframe tbody tr th {\n",
       "        vertical-align: top;\n",
       "    }\n",
       "\n",
       "    .dataframe thead th {\n",
       "        text-align: right;\n",
       "    }\n",
       "</style>\n",
       "<table border=\"1\" class=\"dataframe\">\n",
       "  <thead>\n",
       "    <tr style=\"text-align: right;\">\n",
       "      <th></th>\n",
       "      <th>humidity9</th>\n",
       "      <th>ARI9</th>\n",
       "      <th>humidity8</th>\n",
       "      <th>ARI8</th>\n",
       "      <th>humidity7</th>\n",
       "      <th>ARI7</th>\n",
       "      <th>humidity6</th>\n",
       "      <th>ARI6</th>\n",
       "      <th>humidity5</th>\n",
       "      <th>ARI5</th>\n",
       "      <th>slope</th>\n",
       "      <th>osm</th>\n",
       "    </tr>\n",
       "  </thead>\n",
       "  <tbody>\n",
       "    <tr>\n",
       "      <th>0</th>\n",
       "      <td>96</td>\n",
       "      <td>4.022861</td>\n",
       "      <td>95</td>\n",
       "      <td>3.916090</td>\n",
       "      <td>97</td>\n",
       "      <td>1.409127</td>\n",
       "      <td>99</td>\n",
       "      <td>2.817276</td>\n",
       "      <td>94</td>\n",
       "      <td>0.916551</td>\n",
       "      <td>19.245</td>\n",
       "      <td>7798</td>\n",
       "    </tr>\n",
       "    <tr>\n",
       "      <th>1</th>\n",
       "      <td>98</td>\n",
       "      <td>4.103260</td>\n",
       "      <td>98</td>\n",
       "      <td>9.561101</td>\n",
       "      <td>99</td>\n",
       "      <td>5.796450</td>\n",
       "      <td>98</td>\n",
       "      <td>5.166752</td>\n",
       "      <td>98</td>\n",
       "      <td>3.782236</td>\n",
       "      <td>30.919</td>\n",
       "      <td>40270</td>\n",
       "    </tr>\n",
       "    <tr>\n",
       "      <th>2</th>\n",
       "      <td>94</td>\n",
       "      <td>0.136755</td>\n",
       "      <td>99</td>\n",
       "      <td>0.031048</td>\n",
       "      <td>97</td>\n",
       "      <td>1.785954</td>\n",
       "      <td>97</td>\n",
       "      <td>1.769417</td>\n",
       "      <td>98</td>\n",
       "      <td>1.124490</td>\n",
       "      <td>2.966</td>\n",
       "      <td>14</td>\n",
       "    </tr>\n",
       "    <tr>\n",
       "      <th>3</th>\n",
       "      <td>92</td>\n",
       "      <td>0.583102</td>\n",
       "      <td>90</td>\n",
       "      <td>1.871443</td>\n",
       "      <td>89</td>\n",
       "      <td>4.502031</td>\n",
       "      <td>91</td>\n",
       "      <td>4.552002</td>\n",
       "      <td>90</td>\n",
       "      <td>7.615655</td>\n",
       "      <td>1.806</td>\n",
       "      <td>1126</td>\n",
       "    </tr>\n",
       "    <tr>\n",
       "      <th>4</th>\n",
       "      <td>98</td>\n",
       "      <td>0.374315</td>\n",
       "      <td>99</td>\n",
       "      <td>0.510198</td>\n",
       "      <td>98</td>\n",
       "      <td>0.153517</td>\n",
       "      <td>99</td>\n",
       "      <td>0.064768</td>\n",
       "      <td>99</td>\n",
       "      <td>0.236474</td>\n",
       "      <td>16.977</td>\n",
       "      <td>4478</td>\n",
       "    </tr>\n",
       "    <tr>\n",
       "      <th>...</th>\n",
       "      <td>...</td>\n",
       "      <td>...</td>\n",
       "      <td>...</td>\n",
       "      <td>...</td>\n",
       "      <td>...</td>\n",
       "      <td>...</td>\n",
       "      <td>...</td>\n",
       "      <td>...</td>\n",
       "      <td>...</td>\n",
       "      <td>...</td>\n",
       "      <td>...</td>\n",
       "      <td>...</td>\n",
       "    </tr>\n",
       "    <tr>\n",
       "      <th>17803</th>\n",
       "      <td>23</td>\n",
       "      <td>0.000000</td>\n",
       "      <td>18</td>\n",
       "      <td>0.000000</td>\n",
       "      <td>19</td>\n",
       "      <td>0.000000</td>\n",
       "      <td>20</td>\n",
       "      <td>0.000000</td>\n",
       "      <td>19</td>\n",
       "      <td>0.000000</td>\n",
       "      <td>1.699</td>\n",
       "      <td>269</td>\n",
       "    </tr>\n",
       "    <tr>\n",
       "      <th>17804</th>\n",
       "      <td>97</td>\n",
       "      <td>0.105756</td>\n",
       "      <td>100</td>\n",
       "      <td>0.067421</td>\n",
       "      <td>100</td>\n",
       "      <td>0.029698</td>\n",
       "      <td>87</td>\n",
       "      <td>0.000000</td>\n",
       "      <td>84</td>\n",
       "      <td>0.000000</td>\n",
       "      <td>3.063</td>\n",
       "      <td>101</td>\n",
       "    </tr>\n",
       "    <tr>\n",
       "      <th>17805</th>\n",
       "      <td>99</td>\n",
       "      <td>2.374114</td>\n",
       "      <td>98</td>\n",
       "      <td>5.055324</td>\n",
       "      <td>98</td>\n",
       "      <td>5.819724</td>\n",
       "      <td>97</td>\n",
       "      <td>2.119434</td>\n",
       "      <td>97</td>\n",
       "      <td>4.314101</td>\n",
       "      <td>31.138</td>\n",
       "      <td>34403</td>\n",
       "    </tr>\n",
       "    <tr>\n",
       "      <th>17806</th>\n",
       "      <td>83</td>\n",
       "      <td>0.049610</td>\n",
       "      <td>96</td>\n",
       "      <td>0.022049</td>\n",
       "      <td>96</td>\n",
       "      <td>0.872306</td>\n",
       "      <td>99</td>\n",
       "      <td>0.222914</td>\n",
       "      <td>84</td>\n",
       "      <td>0.101057</td>\n",
       "      <td>2.563</td>\n",
       "      <td>4138</td>\n",
       "    </tr>\n",
       "    <tr>\n",
       "      <th>17807</th>\n",
       "      <td>98</td>\n",
       "      <td>0.205005</td>\n",
       "      <td>92</td>\n",
       "      <td>2.535935</td>\n",
       "      <td>93</td>\n",
       "      <td>2.782350</td>\n",
       "      <td>96</td>\n",
       "      <td>0.955917</td>\n",
       "      <td>89</td>\n",
       "      <td>0.435923</td>\n",
       "      <td>3.397</td>\n",
       "      <td>2540</td>\n",
       "    </tr>\n",
       "  </tbody>\n",
       "</table>\n",
       "<p>17808 rows × 12 columns</p>\n",
       "</div>"
      ],
      "text/plain": [
       "       humidity9      ARI9  humidity8      ARI8  humidity7      ARI7  \\\n",
       "0             96  4.022861         95  3.916090         97  1.409127   \n",
       "1             98  4.103260         98  9.561101         99  5.796450   \n",
       "2             94  0.136755         99  0.031048         97  1.785954   \n",
       "3             92  0.583102         90  1.871443         89  4.502031   \n",
       "4             98  0.374315         99  0.510198         98  0.153517   \n",
       "...          ...       ...        ...       ...        ...       ...   \n",
       "17803         23  0.000000         18  0.000000         19  0.000000   \n",
       "17804         97  0.105756        100  0.067421        100  0.029698   \n",
       "17805         99  2.374114         98  5.055324         98  5.819724   \n",
       "17806         83  0.049610         96  0.022049         96  0.872306   \n",
       "17807         98  0.205005         92  2.535935         93  2.782350   \n",
       "\n",
       "       humidity6      ARI6  humidity5      ARI5   slope    osm  \n",
       "0             99  2.817276         94  0.916551  19.245   7798  \n",
       "1             98  5.166752         98  3.782236  30.919  40270  \n",
       "2             97  1.769417         98  1.124490   2.966     14  \n",
       "3             91  4.552002         90  7.615655   1.806   1126  \n",
       "4             99  0.064768         99  0.236474  16.977   4478  \n",
       "...          ...       ...        ...       ...     ...    ...  \n",
       "17803         20  0.000000         19  0.000000   1.699    269  \n",
       "17804         87  0.000000         84  0.000000   3.063    101  \n",
       "17805         97  2.119434         97  4.314101  31.138  34403  \n",
       "17806         99  0.222914         84  0.101057   2.563   4138  \n",
       "17807         96  0.955917         89  0.435923   3.397   2540  \n",
       "\n",
       "[17808 rows x 12 columns]"
      ]
     },
     "execution_count": 5,
     "metadata": {},
     "output_type": "execute_result"
    }
   ],
   "source": [
    "X = df.copy()\n",
    "y = X.landslide\n",
    "columns=[]\n",
    "for i in range(9, 4, -1):\n",
    "    columns.append('humidity' + str(i))\n",
    "    columns.append('ARI' + str(i))\n",
    "columns.append('slope')\n",
    "# columns.append('forest2')\n",
    "columns.append('osm')\n",
    "X = X[columns]\n",
    "X"
   ]
  },
  {
   "cell_type": "markdown",
   "metadata": {},
   "source": [
    "## Scaling"
   ]
  },
  {
   "cell_type": "code",
   "execution_count": 6,
   "metadata": {},
   "outputs": [],
   "source": [
    "from sklearn.model_selection import train_test_split\n",
    "from sklearn.preprocessing import StandardScaler\n",
    "X_train, X_test, y_train, y_test = train_test_split(X, y, test_size = 0.2)\n",
    "\n",
    "X_train\n",
    "scaler = StandardScaler()\n",
    "scaler.fit(X_train)\n",
    "\n",
    "X_train = scaler.transform(X_train)\n",
    "X_test = scaler.transform(X_test)"
   ]
  },
  {
   "cell_type": "markdown",
   "metadata": {},
   "source": [
    "## Prediction"
   ]
  },
  {
   "cell_type": "code",
   "execution_count": 7,
   "metadata": {},
   "outputs": [
    {
     "data": {
      "text/plain": [
       "RandomForestClassifier()"
      ]
     },
     "execution_count": 7,
     "metadata": {},
     "output_type": "execute_result"
    }
   ],
   "source": [
    "from sklearn.ensemble import RandomForestClassifier\n",
    "from sklearn.metrics import accuracy_score\n",
    "model = RandomForestClassifier()\n",
    "model.fit(X_train, y_train)"
   ]
  },
  {
   "cell_type": "code",
   "execution_count": 8,
   "metadata": {},
   "outputs": [
    {
     "name": "stdout",
     "output_type": "stream",
     "text": [
      "ACCURACY: 0.847557551937114\n"
     ]
    }
   ],
   "source": [
    "pred = model.predict(X_test)\n",
    "print(\"ACCURACY:\", accuracy_score(pred, y_test))"
   ]
  },
  {
   "cell_type": "code",
   "execution_count": 9,
   "metadata": {
    "scrolled": true
   },
   "outputs": [
    {
     "name": "stdout",
     "output_type": "stream",
     "text": [
      "n_estimators = 85   ACCURACY: 84.25\n",
      "n_estimators = 87   ACCURACY: 84.67\n",
      "n_estimators = 89   ACCURACY: 84.14\n",
      "n_estimators = 91   ACCURACY: 84.36\n",
      "n_estimators = 93   ACCURACY: 84.53\n",
      "n_estimators = 95   ACCURACY: 84.62\n",
      "n_estimators = 97   ACCURACY: 84.36\n",
      "n_estimators = 99   ACCURACY: 84.45\n",
      "n_estimators = 101   ACCURACY: 84.36\n",
      "n_estimators = 103   ACCURACY: 84.7\n",
      "n_estimators = 105   ACCURACY: 84.62\n",
      "n_estimators = 107   ACCURACY: 84.39\n",
      "n_estimators = 109   ACCURACY: 84.36\n",
      "n_estimators = 111   ACCURACY: 84.08\n",
      "n_estimators = 113   ACCURACY: 84.59\n",
      "n_estimators = 115   ACCURACY: 84.14\n",
      "n_estimators = 117   ACCURACY: 84.11\n",
      "n_estimators = 119   ACCURACY: 84.42\n",
      "n_estimators = 121   ACCURACY: 84.22\n",
      "n_estimators = 123   ACCURACY: 84.42\n",
      "n_estimators = 125   ACCURACY: 84.76\n",
      "n_estimators = 127   ACCURACY: 84.5\n",
      "n_estimators = 129   ACCURACY: 84.28\n",
      "n_estimators = 131   ACCURACY: 84.39\n",
      "n_estimators = 133   ACCURACY: 84.48\n",
      "n_estimators = 135   ACCURACY: 84.14\n",
      "n_estimators = 137   ACCURACY: 84.31\n",
      "n_estimators = 139   ACCURACY: 84.25\n",
      "n_estimators = 141   ACCURACY: 84.7\n",
      "n_estimators = 143   ACCURACY: 84.45\n",
      "n_estimators = 145   ACCURACY: 84.5\n",
      "n_estimators = 147   ACCURACY: 84.73\n",
      "n_estimators = 149   ACCURACY: 84.31\n",
      "# of trees: 125 84.76\n"
     ]
    }
   ],
   "source": [
    "best = 1\n",
    "highest = 0\n",
    "\n",
    "for i in range(85, 150, 2):\n",
    "    rf = RandomForestClassifier(n_estimators = i)\n",
    "    rf.fit(X_train, y_train)\n",
    "    pred = rf.predict(X_test)\n",
    "    score = round(accuracy_score(pred, y_test)*10000)/100\n",
    "    print(\"n_estimators =\", i, \"  ACCURACY:\", score)\n",
    "    if score > highest:\n",
    "        highest = score\n",
    "        best = i\n",
    "print(\"# of trees:\", best, highest)"
   ]
  },
  {
   "cell_type": "code",
   "execution_count": 10,
   "metadata": {},
   "outputs": [
    {
     "name": "stdout",
     "output_type": "stream",
     "text": [
      "0.8450308815272319\n"
     ]
    },
    {
     "data": {
      "text/plain": [
       "array([[1199,  289],\n",
       "       [ 263, 1811]])"
      ]
     },
     "execution_count": 10,
     "metadata": {},
     "output_type": "execute_result"
    }
   ],
   "source": [
    "rf = RandomForestClassifier(n_estimators = 139)\n",
    "rf.fit(X_train, y_train)\n",
    "pred = rf.predict(X_test)\n",
    "print(accuracy_score(pred, y_test))\n",
    "from sklearn.metrics import confusion_matrix\n",
    "array = confusion_matrix(y_test, pred)\n",
    "array"
   ]
  },
  {
   "cell_type": "code",
   "execution_count": 7,
   "metadata": {},
   "outputs": [],
   "source": [
    "array = [[1254,245],[161,1902]]"
   ]
  },
  {
   "cell_type": "code",
   "execution_count": 8,
   "metadata": {},
   "outputs": [
    {
     "data": {
      "image/png": "[encoded data removed]",
      "text/plain": [
       "<Figure size 720x504 with 2 Axes>"
      ]
     },
     "metadata": {
      "needs_background": "light"
     },
     "output_type": "display_data"
    }
   ],
   "source": [
    "import seaborn as sn\n",
    "import pandas as pd\n",
    "import matplotlib.pyplot as plt\n",
    "binary=True\n",
    "if binary:\n",
    "    df_cm = pd.DataFrame(array, index = [i for i in [\"No\", \"Yes\"]],\n",
    "                    columns = [i for i in [\"No\", \"Yes\"]])\n",
    "else:\n",
    "    df_cm = pd.DataFrame(array, index = [i for i in [\"None\", \"Small\", \"Medium\", \"Large\", \"Very Large\"]],\n",
    "                  columns = [i for i in [\"None\", \"Small\", \"Medium\", \"Large\", \"Very Large\"]])\n",
    "\n",
    "plt.figure(figsize = (10,7))\n",
    "\n",
    "ax = sn.heatmap(df_cm, cmap=\"Greens\", annot=True, annot_kws={\"size\":50}, fmt='g')\n",
    "ax.tick_params(axis='both', which='major', labelsize=27)\n",
    "plt.xlabel('Predicted', fontsize = 40) \n",
    "# plt.title(\"KNN Confusion Matrix\", fontsize = 50)\n",
    "plt.ylabel('Actual', fontsize = 40) \n",
    "plt.savefig(\"RF Matrix\", bbox_inches=\"tight\")\n",
    "\n",
    "plt.show()"
   ]
  },
  {
   "cell_type": "code",
   "execution_count": null,
   "metadata": {},
   "outputs": [],
   "source": []
  }
 ],
 "metadata": {
  "kernelspec": {
   "display_name": "Python 3",
   "language": "python",
   "name": "python3"
  },
  "language_info": {
   "codemirror_mode": {
    "name": "ipython",
    "version": 3
   },
   "file_extension": ".py",
   "mimetype": "text/x-python",
   "name": "python",
   "nbconvert_exporter": "python",
   "pygments_lexer": "ipython3",
   "version": "3.7.4"
  }
 },
 "nbformat": 4,
 "nbformat_minor": 4
}
