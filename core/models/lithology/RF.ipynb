{
 "cells": [
  {
   "cell_type": "markdown",
   "metadata": {},
   "source": [
    "## Random Forest Classifier\n",
    "The model predicts the severity of the landslide (or if there will even be one) within the next 2 days, based on weather data from the past 5 days.\n",
    "A Random Forest model with 113 trees yielded an accuracy of 81.21% when trained on slope data and precipitation and wind data over a 5 day period."
   ]
  },
  {
   "cell_type": "code",
   "execution_count": 2,
   "metadata": {},
   "outputs": [],
   "source": [
    "import pandas as pd\n",
    "import numpy as np\n",
    "import matplotlib.pyplot as plt\n",
    "%matplotlib inline\n",
    "import sklearn\n",
    "from sklearn.utils import shuffle\n",
    "import pickle\n",
    "from sklearn.ensemble import RandomForestClassifier\n",
    "from sklearn.metrics import accuracy_score"
   ]
  },
  {
   "cell_type": "code",
   "execution_count": 3,
   "metadata": {},
   "outputs": [
    {
     "name": "stderr",
     "output_type": "stream",
     "text": [
      "/Library/Frameworks/Python.framework/Versions/3.7/lib/python3.7/site-packages/IPython/core/interactiveshell.py:3146: DtypeWarning: Columns (8,11,12,13,14) have mixed types.Specify dtype option on import or set low_memory=False.\n",
      "  interactivity=interactivity, compiler=compiler, result=result)\n"
     ]
    },
    {
     "data": {
      "text/plain": [
       "17808"
      ]
     },
     "execution_count": 3,
     "metadata": {},
     "output_type": "execute_result"
    }
   ],
   "source": [
    "df = pd.read_csv(\"dataset.csv\")\n",
    "len(df)"
   ]
  },
  {
   "cell_type": "code",
   "execution_count": 4,
   "metadata": {},
   "outputs": [
    {
     "data": {
      "text/plain": [
       "medium          5594\n",
       "small           2612\n",
       "unknown          834\n",
       "large            679\n",
       "...              359\n",
       "very_large       102\n",
       "Medium            72\n",
       "Unknown           19\n",
       "Large             17\n",
       "Small             10\n",
       "catastrophic       4\n",
       "landslide          2\n",
       "Very_large         1\n",
       "Very...large       1\n",
       "Name: severity, dtype: int64"
      ]
     },
     "execution_count": 4,
     "metadata": {},
     "output_type": "execute_result"
    }
   ],
   "source": [
    "df['severity'].value_counts()"
   ]
  },
  {
   "cell_type": "code",
   "execution_count": 5,
   "metadata": {},
   "outputs": [
    {
     "name": "stdout",
     "output_type": "stream",
     "text": [
      "17808\n"
     ]
    }
   ],
   "source": [
    "df['severity'].value_counts()\n",
    "df = shuffle(df)\n",
    "df.reset_index(inplace=True, drop=True)\n",
    "print(len(df))"
   ]
  },
  {
   "cell_type": "code",
   "execution_count": 6,
   "metadata": {},
   "outputs": [],
   "source": [
    "X = df.copy()\n",
    "y = X.landslide\n",
    "columns=[]\n",
    "for i in range(9, 4, -1):\n",
    "    columns.append('humidity' + str(i))\n",
    "    columns.append('ARI' + str(i))\n",
    "columns.append('slope')\n",
    "columns.append('forest2')\n",
    "columns.append('realosm')\n",
    "columns.append('lithology')\n",
    "X = X[columns]"
   ]
  },
  {
   "cell_type": "code",
   "execution_count": 7,
   "metadata": {},
   "outputs": [
    {
     "name": "stdout",
     "output_type": "stream",
     "text": [
      "Added lithology:  mt\n",
      "Added lithology:  sm\n",
      "Added lithology:  sc\n",
      "Added lithology:  ss\n",
      "Added lithology:  su\n",
      "Added lithology:  pa\n",
      "Added lithology:  wb\n",
      "Added lithology:  va\n",
      "Added lithology:  vi\n",
      "Added lithology:  pb\n",
      "Added lithology:  ev\n",
      "Added lithology:  ig\n",
      "Added lithology:  vb\n",
      "Added lithology:  nd\n",
      "Added lithology:  py\n"
     ]
    },
    {
     "data": {
      "text/html": [
       "<div>\n",
       "<style scoped>\n",
       "    .dataframe tbody tr th:only-of-type {\n",
       "        vertical-align: middle;\n",
       "    }\n",
       "\n",
       "    .dataframe tbody tr th {\n",
       "        vertical-align: top;\n",
       "    }\n",
       "\n",
       "    .dataframe thead th {\n",
       "        text-align: right;\n",
       "    }\n",
       "</style>\n",
       "<table border=\"1\" class=\"dataframe\">\n",
       "  <thead>\n",
       "    <tr style=\"text-align: right;\">\n",
       "      <th></th>\n",
       "      <th>humidity9</th>\n",
       "      <th>ARI9</th>\n",
       "      <th>humidity8</th>\n",
       "      <th>ARI8</th>\n",
       "      <th>humidity7</th>\n",
       "      <th>ARI7</th>\n",
       "      <th>humidity6</th>\n",
       "      <th>ARI6</th>\n",
       "      <th>humidity5</th>\n",
       "      <th>ARI5</th>\n",
       "      <th>slope</th>\n",
       "      <th>forest2</th>\n",
       "      <th>realosm</th>\n",
       "      <th>lithology</th>\n",
       "    </tr>\n",
       "  </thead>\n",
       "  <tbody>\n",
       "    <tr>\n",
       "      <th>0</th>\n",
       "      <td>99</td>\n",
       "      <td>17.802454</td>\n",
       "      <td>98</td>\n",
       "      <td>7.570666</td>\n",
       "      <td>98</td>\n",
       "      <td>7.744504</td>\n",
       "      <td>98</td>\n",
       "      <td>7.040050</td>\n",
       "      <td>98</td>\n",
       "      <td>5.883734</td>\n",
       "      <td>21.298</td>\n",
       "      <td>1</td>\n",
       "      <td>3</td>\n",
       "      <td>0</td>\n",
       "    </tr>\n",
       "    <tr>\n",
       "      <th>1</th>\n",
       "      <td>96</td>\n",
       "      <td>0.171259</td>\n",
       "      <td>96</td>\n",
       "      <td>0.238463</td>\n",
       "      <td>95</td>\n",
       "      <td>0.085033</td>\n",
       "      <td>89</td>\n",
       "      <td>0.033711</td>\n",
       "      <td>82</td>\n",
       "      <td>0.078465</td>\n",
       "      <td>0.000</td>\n",
       "      <td>0</td>\n",
       "      <td>0</td>\n",
       "      <td>0</td>\n",
       "    </tr>\n",
       "    <tr>\n",
       "      <th>2</th>\n",
       "      <td>100</td>\n",
       "      <td>2.296254</td>\n",
       "      <td>100</td>\n",
       "      <td>1.229348</td>\n",
       "      <td>100</td>\n",
       "      <td>0.612661</td>\n",
       "      <td>100</td>\n",
       "      <td>0.299753</td>\n",
       "      <td>100</td>\n",
       "      <td>0.186032</td>\n",
       "      <td>14.711</td>\n",
       "      <td>1</td>\n",
       "      <td>0</td>\n",
       "      <td>1</td>\n",
       "    </tr>\n",
       "    <tr>\n",
       "      <th>3</th>\n",
       "      <td>56</td>\n",
       "      <td>0.078288</td>\n",
       "      <td>70</td>\n",
       "      <td>0.704568</td>\n",
       "      <td>68</td>\n",
       "      <td>0.852414</td>\n",
       "      <td>70</td>\n",
       "      <td>0.252307</td>\n",
       "      <td>83</td>\n",
       "      <td>4.085462</td>\n",
       "      <td>21.209</td>\n",
       "      <td>1</td>\n",
       "      <td>4</td>\n",
       "      <td>1</td>\n",
       "    </tr>\n",
       "    <tr>\n",
       "      <th>4</th>\n",
       "      <td>83</td>\n",
       "      <td>0.590504</td>\n",
       "      <td>84</td>\n",
       "      <td>2.031458</td>\n",
       "      <td>89</td>\n",
       "      <td>3.396398</td>\n",
       "      <td>89</td>\n",
       "      <td>5.797771</td>\n",
       "      <td>91</td>\n",
       "      <td>1.738216</td>\n",
       "      <td>0.000</td>\n",
       "      <td>1</td>\n",
       "      <td>0</td>\n",
       "      <td>2</td>\n",
       "    </tr>\n",
       "    <tr>\n",
       "      <th>...</th>\n",
       "      <td>...</td>\n",
       "      <td>...</td>\n",
       "      <td>...</td>\n",
       "      <td>...</td>\n",
       "      <td>...</td>\n",
       "      <td>...</td>\n",
       "      <td>...</td>\n",
       "      <td>...</td>\n",
       "      <td>...</td>\n",
       "      <td>...</td>\n",
       "      <td>...</td>\n",
       "      <td>...</td>\n",
       "      <td>...</td>\n",
       "      <td>...</td>\n",
       "    </tr>\n",
       "    <tr>\n",
       "      <th>17803</th>\n",
       "      <td>91</td>\n",
       "      <td>2.910657</td>\n",
       "      <td>89</td>\n",
       "      <td>1.157829</td>\n",
       "      <td>84</td>\n",
       "      <td>2.744639</td>\n",
       "      <td>94</td>\n",
       "      <td>3.452359</td>\n",
       "      <td>94</td>\n",
       "      <td>1.253482</td>\n",
       "      <td>6.679</td>\n",
       "      <td>0</td>\n",
       "      <td>2</td>\n",
       "      <td>4</td>\n",
       "    </tr>\n",
       "    <tr>\n",
       "      <th>17804</th>\n",
       "      <td>89</td>\n",
       "      <td>0.881687</td>\n",
       "      <td>97</td>\n",
       "      <td>1.352886</td>\n",
       "      <td>95</td>\n",
       "      <td>0.446675</td>\n",
       "      <td>89</td>\n",
       "      <td>0.629952</td>\n",
       "      <td>91</td>\n",
       "      <td>0.825351</td>\n",
       "      <td>4.208</td>\n",
       "      <td>1</td>\n",
       "      <td>97</td>\n",
       "      <td>8</td>\n",
       "    </tr>\n",
       "    <tr>\n",
       "      <th>17805</th>\n",
       "      <td>92</td>\n",
       "      <td>0.029178</td>\n",
       "      <td>93</td>\n",
       "      <td>0.015159</td>\n",
       "      <td>92</td>\n",
       "      <td>0.075626</td>\n",
       "      <td>92</td>\n",
       "      <td>0.021020</td>\n",
       "      <td>91</td>\n",
       "      <td>0.010537</td>\n",
       "      <td>5.002</td>\n",
       "      <td>1</td>\n",
       "      <td>0</td>\n",
       "      <td>2</td>\n",
       "    </tr>\n",
       "    <tr>\n",
       "      <th>17806</th>\n",
       "      <td>99</td>\n",
       "      <td>4.799773</td>\n",
       "      <td>99</td>\n",
       "      <td>7.833622</td>\n",
       "      <td>98</td>\n",
       "      <td>4.393393</td>\n",
       "      <td>97</td>\n",
       "      <td>2.902987</td>\n",
       "      <td>99</td>\n",
       "      <td>5.173442</td>\n",
       "      <td>34.083</td>\n",
       "      <td>1</td>\n",
       "      <td>41</td>\n",
       "      <td>0</td>\n",
       "    </tr>\n",
       "    <tr>\n",
       "      <th>17807</th>\n",
       "      <td>81</td>\n",
       "      <td>0.302972</td>\n",
       "      <td>79</td>\n",
       "      <td>0.156900</td>\n",
       "      <td>85</td>\n",
       "      <td>0.094891</td>\n",
       "      <td>91</td>\n",
       "      <td>0.063972</td>\n",
       "      <td>86</td>\n",
       "      <td>0.035098</td>\n",
       "      <td>1.424</td>\n",
       "      <td>1</td>\n",
       "      <td>8</td>\n",
       "      <td>1</td>\n",
       "    </tr>\n",
       "  </tbody>\n",
       "</table>\n",
       "<p>17808 rows × 14 columns</p>\n",
       "</div>"
      ],
      "text/plain": [
       "       humidity9       ARI9  humidity8      ARI8  humidity7      ARI7  \\\n",
       "0             99  17.802454         98  7.570666         98  7.744504   \n",
       "1             96   0.171259         96  0.238463         95  0.085033   \n",
       "2            100   2.296254        100  1.229348        100  0.612661   \n",
       "3             56   0.078288         70  0.704568         68  0.852414   \n",
       "4             83   0.590504         84  2.031458         89  3.396398   \n",
       "...          ...        ...        ...       ...        ...       ...   \n",
       "17803         91   2.910657         89  1.157829         84  2.744639   \n",
       "17804         89   0.881687         97  1.352886         95  0.446675   \n",
       "17805         92   0.029178         93  0.015159         92  0.075626   \n",
       "17806         99   4.799773         99  7.833622         98  4.393393   \n",
       "17807         81   0.302972         79  0.156900         85  0.094891   \n",
       "\n",
       "       humidity6      ARI6  humidity5      ARI5   slope  forest2  realosm  \\\n",
       "0             98  7.040050         98  5.883734  21.298        1        3   \n",
       "1             89  0.033711         82  0.078465   0.000        0        0   \n",
       "2            100  0.299753        100  0.186032  14.711        1        0   \n",
       "3             70  0.252307         83  4.085462  21.209        1        4   \n",
       "4             89  5.797771         91  1.738216   0.000        1        0   \n",
       "...          ...       ...        ...       ...     ...      ...      ...   \n",
       "17803         94  3.452359         94  1.253482   6.679        0        2   \n",
       "17804         89  0.629952         91  0.825351   4.208        1       97   \n",
       "17805         92  0.021020         91  0.010537   5.002        1        0   \n",
       "17806         97  2.902987         99  5.173442  34.083        1       41   \n",
       "17807         91  0.063972         86  0.035098   1.424        1        8   \n",
       "\n",
       "       lithology  \n",
       "0              0  \n",
       "1              0  \n",
       "2              1  \n",
       "3              1  \n",
       "4              2  \n",
       "...          ...  \n",
       "17803          4  \n",
       "17804          8  \n",
       "17805          2  \n",
       "17806          0  \n",
       "17807          1  \n",
       "\n",
       "[17808 rows x 14 columns]"
      ]
     },
     "execution_count": 7,
     "metadata": {},
     "output_type": "execute_result"
    }
   ],
   "source": [
    "lith = dict()\n",
    "numToLith = dict()\n",
    "cnt = 0\n",
    "for lithology in X['lithology']:\n",
    "    if lithology not in lith:\n",
    "        lith[lithology] = cnt\n",
    "        numToLith[cnt] = lithology\n",
    "        cnt += 1\n",
    "        print(\"Added lithology: \", lithology)\n",
    "lithCol = []\n",
    "for lithology in X['lithology']:\n",
    "    lithCol.append(lith[lithology])\n",
    "X['lithology'] = lithCol\n",
    "X"
   ]
  },
  {
   "cell_type": "markdown",
   "metadata": {},
   "source": [
    "## Scaling"
   ]
  },
  {
   "cell_type": "code",
   "execution_count": 8,
   "metadata": {},
   "outputs": [],
   "source": [
    "from sklearn.model_selection import train_test_split\n",
    "from sklearn.preprocessing import StandardScaler\n",
    "scaler = StandardScaler()\n",
    "scaler.fit(X)\n",
    "X = X.to_numpy().tolist()"
   ]
  },
  {
   "cell_type": "code",
   "execution_count": 9,
   "metadata": {},
   "outputs": [],
   "source": [
    "models = []\n",
    "folds = []\n",
    "foldsy = []\n",
    "def createFolds(numFolds):\n",
    "    global models\n",
    "    global folds\n",
    "    global foldsy\n",
    "    models = []\n",
    "    folds = []\n",
    "    foldsy = []\n",
    "    for p in range(0, len(X), int(len(X)/numFolds)):\n",
    "        folds.append(X[p : p + int(len(X)/numFolds)])\n",
    "        foldsy.append(y[p : p + int(len(y)/numFolds)])\n",
    "    folds = folds[:numFolds]"
   ]
  },
  {
   "cell_type": "code",
   "execution_count": 10,
   "metadata": {},
   "outputs": [],
   "source": [
    "def getValidation(numFolds, k):\n",
    "    vscore = 0\n",
    "    for kfold in range(numFolds):\n",
    "        X_train = []\n",
    "        y_train = []\n",
    "        for index in range(numFolds):\n",
    "            if index == kfold: continue\n",
    "            X_train.extend(folds[index])\n",
    "            y_train.extend(foldsy[index])\n",
    "        X_test = folds[kfold]\n",
    "        y_test = foldsy[kfold]\n",
    "        model = RandomForestClassifier(n_estimators = k)\n",
    "        model.fit(X_train, y_train)\n",
    "        pred = model.predict(X_test)\n",
    "        vscore += accuracy_score(pred, y_test)\n",
    "    return vscore/numFolds"
   ]
  },
  {
   "cell_type": "code",
   "execution_count": 11,
   "metadata": {},
   "outputs": [],
   "source": [
    "def getBest(numFolds, loK, maxK, verbose = False):\n",
    "    bestK = loK\n",
    "    bestV = 0\n",
    "    createFolds(numFolds)\n",
    "    for k in range(loK, maxK + 1):\n",
    "        res = getValidation(numFolds, k)\n",
    "        if(res > bestV):\n",
    "            bestV = res\n",
    "            bestK = k\n",
    "            if verbose:\n",
    "                print(k, \"is better:\", res)\n",
    "    return bestK, bestV"
   ]
  },
  {
   "cell_type": "code",
   "execution_count": 12,
   "metadata": {},
   "outputs": [
    {
     "name": "stdout",
     "output_type": "stream",
     "text": [
      "20 is better: 0.8970224719101123\n",
      "21 is better: 0.8981460674157304\n",
      "23 is better: 0.8988202247191012\n",
      "27 is better: 0.8992134831460674\n",
      "29 is better: 0.8998876404494383\n",
      "32 is better: 0.9001685393258427\n",
      "42 is better: 0.9013483146067415\n",
      "55 is better: 0.9015168539325842\n",
      "59 is better: 0.9015730337078651\n",
      "64 is better: 0.9024157303370786\n",
      "72 is better: 0.9024157303370787\n",
      "138 is better: 0.9028089887640448\n",
      "Use:  138 = 0.9028089887640448\n"
     ]
    }
   ],
   "source": [
    "n, val = getBest(10, 20, 140, True)\n",
    "print(\"Use: \", n, \"=\", val)"
   ]
  },
  {
   "cell_type": "markdown",
   "metadata": {},
   "source": [
    "## Prediction"
   ]
  },
  {
   "cell_type": "code",
   "execution_count": 13,
   "metadata": {},
   "outputs": [
    {
     "data": {
      "text/plain": [
       "RandomForestClassifier(n_estimators=138, oob_score=True)"
      ]
     },
     "execution_count": 13,
     "metadata": {},
     "output_type": "execute_result"
    }
   ],
   "source": [
    "X_train, X_test, y_train, y_test = train_test_split(X, y, test_size = 0.2)\n",
    "model = RandomForestClassifier(n_estimators = n, oob_score = True)\n",
    "model.fit(X_train, y_train)"
   ]
  },
  {
   "cell_type": "code",
   "execution_count": 14,
   "metadata": {},
   "outputs": [
    {
     "name": "stdout",
     "output_type": "stream",
     "text": [
      "ACCURACY: 0.8944413250982594\n"
     ]
    }
   ],
   "source": [
    "pred = model.predict(X_test)\n",
    "print(\"ACCURACY:\", accuracy_score(pred, y_test))"
   ]
  },
  {
   "cell_type": "code",
   "execution_count": 15,
   "metadata": {},
   "outputs": [
    {
     "data": {
      "text/plain": [
       "array([[1241,  233],\n",
       "       [ 143, 1945]])"
      ]
     },
     "execution_count": 15,
     "metadata": {},
     "output_type": "execute_result"
    }
   ],
   "source": [
    "from sklearn.metrics import confusion_matrix\n",
    "array = confusion_matrix(y_test, pred)\n",
    "array"
   ]
  },
  {
   "cell_type": "code",
   "execution_count": 16,
   "metadata": {},
   "outputs": [],
   "source": [
    "# array = [[1254,245],[161,1902]]"
   ]
  },
  {
   "cell_type": "code",
   "execution_count": 17,
   "metadata": {},
   "outputs": [
    {
     "data": {
      "image/png": "[encoded data removed]",
      "text/plain": [
       "<Figure size 720x504 with 2 Axes>"
      ]
     },
     "metadata": {
      "needs_background": "light"
     },
     "output_type": "display_data"
    }
   ],
   "source": [
    "import seaborn as sn\n",
    "import pandas as pd\n",
    "import matplotlib.pyplot as plt\n",
    "binary=True\n",
    "if binary:\n",
    "    df_cm = pd.DataFrame(array, index = [i for i in [\"No\", \"Yes\"]],\n",
    "                    columns = [i for i in [\"No\", \"Yes\"]])\n",
    "else:\n",
    "    df_cm = pd.DataFrame(array, index = [i for i in [\"None\", \"Small\", \"Medium\", \"Large\", \"Very Large\"]],\n",
    "                  columns = [i for i in [\"None\", \"Small\", \"Medium\", \"Large\", \"Very Large\"]])\n",
    "\n",
    "plt.figure(figsize = (10,7))\n",
    "\n",
    "ax = sn.heatmap(df_cm, cmap=\"Greens\", annot=True, annot_kws={\"size\":50}, fmt='g')\n",
    "ax.tick_params(axis='both', which='major', labelsize=27)\n",
    "plt.xlabel('Predicted', fontsize = 40) \n",
    "# plt.title(\"KNN Confusion Matrix\", fontsize = 50)\n",
    "plt.ylabel('Actual', fontsize = 40) \n",
    "plt.savefig(\"Lith Valid RF Matrix\", bbox_inches=\"tight\")\n",
    "\n",
    "plt.show()"
   ]
  },
  {
   "cell_type": "code",
   "execution_count": 18,
   "metadata": {},
   "outputs": [
    {
     "name": "stdout",
     "output_type": "stream",
     "text": [
      "0.9004632879404745\n"
     ]
    }
   ],
   "source": [
    "print(model.oob_score_)"
   ]
  },
  {
   "cell_type": "code",
   "execution_count": null,
   "metadata": {},
   "outputs": [],
   "source": []
  }
 ],
 "metadata": {
  "kernelspec": {
   "display_name": "Python 3",
   "language": "python",
   "name": "python3"
  },
  "language_info": {
   "codemirror_mode": {
    "name": "ipython",
    "version": 3
   },
   "file_extension": ".py",
   "mimetype": "text/x-python",
   "name": "python",
   "nbconvert_exporter": "python",
   "pygments_lexer": "ipython3",
   "version": "3.7.4"
  }
 },
 "nbformat": 4,
 "nbformat_minor": 4
}
