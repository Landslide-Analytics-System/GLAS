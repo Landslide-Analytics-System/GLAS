{
 "cells": [
  {
   "cell_type": "markdown",
   "metadata": {},
   "source": [
    "## KNN Classifier\n",
    "The model predicts the severity of the landslide (or if there will even be one) within the next 2 days, based on weather data from the past 5 days.\n",
    "Binary Classification yielded a maximum accuracy of 77.53%. Severity Classification (multiple classes) was around 56%."
   ]
  },
  {
   "cell_type": "code",
   "execution_count": 77,
   "metadata": {},
   "outputs": [],
   "source": [
    "import pandas as pd\n",
    "import numpy as np\n",
    "import matplotlib.pyplot as plt\n",
    "%matplotlib inline\n",
    "import sklearn\n",
    "from sklearn.utils import shuffle\n",
    "import pickle"
   ]
  },
  {
   "cell_type": "code",
   "execution_count": 78,
   "metadata": {},
   "outputs": [
    {
     "name": "stderr",
     "output_type": "stream",
     "text": [
      "/Library/Frameworks/Python.framework/Versions/3.7/lib/python3.7/site-packages/IPython/core/interactiveshell.py:3146: DtypeWarning: Columns (6,7,12,13,14,15,16,17,18,19,20,21,22,23,24,25,26,27,28,29,30,31,32,33,34,35,36,37,38,39,40,41,42,43,44,45,46,47,48,49,50,51,52,53,54,55,56,57,58,59,60,61,62,63,64,65,66,67,68,69,70,71,72,73,74,75,76,77,78,79,80,81,82,83,84,85,86,87,88,89,90,91,92,93,94,95,96,97,98,99,100,101,102,103,104,105,106,107,108,109,110,111,112,113,114,115,116,117,118,119,120,121,122,123,124,125,126,127,128,129,130,131,132,133,134,135,136,137,138,139,140,141) have mixed types.Specify dtype option on import or set low_memory=False.\n",
      "  interactivity=interactivity, compiler=compiler, result=result)\n"
     ]
    }
   ],
   "source": [
    "df = pd.read_csv(\"full_dataset_v1.csv\")"
   ]
  },
  {
   "cell_type": "code",
   "execution_count": 79,
   "metadata": {},
   "outputs": [
    {
     "data": {
      "text/plain": [
       "medium          3300\n",
       "na              1321\n",
       "small            613\n",
       "large            427\n",
       "unknown           75\n",
       "very_large        56\n",
       "...                5\n",
       "catastrophic       1\n",
       "Name: severity, dtype: int64"
      ]
     },
     "execution_count": 79,
     "metadata": {},
     "output_type": "execute_result"
    }
   ],
   "source": [
    "df['severity'].value_counts()"
   ]
  },
  {
   "cell_type": "code",
   "execution_count": 80,
   "metadata": {},
   "outputs": [],
   "source": [
    "# filter by severity. na is for non-landslide data\n",
    "df = df[df['severity'].isin([\"medium\", \"small\", \"large\", \"very_large\", \"na\"])]"
   ]
  },
  {
   "cell_type": "code",
   "execution_count": 81,
   "metadata": {},
   "outputs": [
    {
     "name": "stdout",
     "output_type": "stream",
     "text": [
      "5717\n"
     ]
    }
   ],
   "source": [
    "df['severity'].value_counts()\n",
    "df = shuffle(df)\n",
    "df.reset_index(inplace=True, drop=True)\n",
    "print(len(df))"
   ]
  },
  {
   "cell_type": "code",
   "execution_count": 88,
   "metadata": {},
   "outputs": [
    {
     "data": {
      "text/html": [
       "<div>\n",
       "<style scoped>\n",
       "    .dataframe tbody tr th:only-of-type {\n",
       "        vertical-align: middle;\n",
       "    }\n",
       "\n",
       "    .dataframe tbody tr th {\n",
       "        vertical-align: top;\n",
       "    }\n",
       "\n",
       "    .dataframe thead th {\n",
       "        text-align: right;\n",
       "    }\n",
       "</style>\n",
       "<table border=\"1\" class=\"dataframe\">\n",
       "  <thead>\n",
       "    <tr style=\"text-align: right;\">\n",
       "      <th></th>\n",
       "      <th>precip7</th>\n",
       "      <th>wind7</th>\n",
       "      <th>precip6</th>\n",
       "      <th>wind6</th>\n",
       "      <th>precip5</th>\n",
       "      <th>wind5</th>\n",
       "      <th>precip4</th>\n",
       "      <th>wind4</th>\n",
       "      <th>precip3</th>\n",
       "      <th>wind3</th>\n",
       "      <th>slope</th>\n",
       "      <th>severity</th>\n",
       "    </tr>\n",
       "  </thead>\n",
       "  <tbody>\n",
       "    <tr>\n",
       "      <th>0</th>\n",
       "      <td>4.4</td>\n",
       "      <td>9.0</td>\n",
       "      <td>4.3</td>\n",
       "      <td>10.0</td>\n",
       "      <td>4.1</td>\n",
       "      <td>8.0</td>\n",
       "      <td>5.3</td>\n",
       "      <td>9.0</td>\n",
       "      <td>5.7</td>\n",
       "      <td>9.0</td>\n",
       "      <td>99.0</td>\n",
       "      <td>medium</td>\n",
       "    </tr>\n",
       "    <tr>\n",
       "      <th>1</th>\n",
       "      <td>0.5</td>\n",
       "      <td>17.0</td>\n",
       "      <td>0.4</td>\n",
       "      <td>15.0</td>\n",
       "      <td>0.0</td>\n",
       "      <td>16.0</td>\n",
       "      <td>0.4</td>\n",
       "      <td>13.0</td>\n",
       "      <td>0.6</td>\n",
       "      <td>17.0</td>\n",
       "      <td>147.0</td>\n",
       "      <td>medium</td>\n",
       "    </tr>\n",
       "    <tr>\n",
       "      <th>2</th>\n",
       "      <td>3.5</td>\n",
       "      <td>7.0</td>\n",
       "      <td>0.5</td>\n",
       "      <td>8.0</td>\n",
       "      <td>3.1</td>\n",
       "      <td>6.0</td>\n",
       "      <td>1.5</td>\n",
       "      <td>7.0</td>\n",
       "      <td>7.4</td>\n",
       "      <td>8.0</td>\n",
       "      <td>106.0</td>\n",
       "      <td>large</td>\n",
       "    </tr>\n",
       "    <tr>\n",
       "      <th>3</th>\n",
       "      <td>0.2</td>\n",
       "      <td>17.0</td>\n",
       "      <td>2.5</td>\n",
       "      <td>10.0</td>\n",
       "      <td>4.1</td>\n",
       "      <td>11.0</td>\n",
       "      <td>3.6</td>\n",
       "      <td>9.0</td>\n",
       "      <td>1.0</td>\n",
       "      <td>14.0</td>\n",
       "      <td>5.0</td>\n",
       "      <td>medium</td>\n",
       "    </tr>\n",
       "    <tr>\n",
       "      <th>4</th>\n",
       "      <td>3.6</td>\n",
       "      <td>5.0</td>\n",
       "      <td>3.1</td>\n",
       "      <td>7.0</td>\n",
       "      <td>4.4</td>\n",
       "      <td>7.0</td>\n",
       "      <td>1.9</td>\n",
       "      <td>6.0</td>\n",
       "      <td>8.4</td>\n",
       "      <td>4.0</td>\n",
       "      <td>78.0</td>\n",
       "      <td>medium</td>\n",
       "    </tr>\n",
       "    <tr>\n",
       "      <th>...</th>\n",
       "      <td>...</td>\n",
       "      <td>...</td>\n",
       "      <td>...</td>\n",
       "      <td>...</td>\n",
       "      <td>...</td>\n",
       "      <td>...</td>\n",
       "      <td>...</td>\n",
       "      <td>...</td>\n",
       "      <td>...</td>\n",
       "      <td>...</td>\n",
       "      <td>...</td>\n",
       "      <td>...</td>\n",
       "    </tr>\n",
       "    <tr>\n",
       "      <th>5712</th>\n",
       "      <td>43.1</td>\n",
       "      <td>25.0</td>\n",
       "      <td>2.1</td>\n",
       "      <td>18.0</td>\n",
       "      <td>0.9</td>\n",
       "      <td>14.0</td>\n",
       "      <td>1.8</td>\n",
       "      <td>9.0</td>\n",
       "      <td>2.4</td>\n",
       "      <td>11.0</td>\n",
       "      <td>77.0</td>\n",
       "      <td>medium</td>\n",
       "    </tr>\n",
       "    <tr>\n",
       "      <th>5713</th>\n",
       "      <td>1.2</td>\n",
       "      <td>15.0</td>\n",
       "      <td>4.3</td>\n",
       "      <td>18.0</td>\n",
       "      <td>0.2</td>\n",
       "      <td>18.0</td>\n",
       "      <td>0.1</td>\n",
       "      <td>15.0</td>\n",
       "      <td>1.3</td>\n",
       "      <td>15.0</td>\n",
       "      <td>35.0</td>\n",
       "      <td>na</td>\n",
       "    </tr>\n",
       "    <tr>\n",
       "      <th>5714</th>\n",
       "      <td>1.6</td>\n",
       "      <td>11.0</td>\n",
       "      <td>4.8</td>\n",
       "      <td>9.0</td>\n",
       "      <td>4.7</td>\n",
       "      <td>10.0</td>\n",
       "      <td>1.7</td>\n",
       "      <td>12.0</td>\n",
       "      <td>0.9</td>\n",
       "      <td>10.0</td>\n",
       "      <td>20.0</td>\n",
       "      <td>medium</td>\n",
       "    </tr>\n",
       "    <tr>\n",
       "      <th>5715</th>\n",
       "      <td>0.0</td>\n",
       "      <td>0.0</td>\n",
       "      <td>0.0</td>\n",
       "      <td>0.0</td>\n",
       "      <td>0.0</td>\n",
       "      <td>0.0</td>\n",
       "      <td>0.0</td>\n",
       "      <td>0.0</td>\n",
       "      <td>0.0</td>\n",
       "      <td>0.0</td>\n",
       "      <td>24.0</td>\n",
       "      <td>medium</td>\n",
       "    </tr>\n",
       "    <tr>\n",
       "      <th>5716</th>\n",
       "      <td>5.4</td>\n",
       "      <td>10.0</td>\n",
       "      <td>4.0</td>\n",
       "      <td>9.0</td>\n",
       "      <td>3.6</td>\n",
       "      <td>10.0</td>\n",
       "      <td>3.0</td>\n",
       "      <td>11.0</td>\n",
       "      <td>2.2</td>\n",
       "      <td>12.0</td>\n",
       "      <td>109.0</td>\n",
       "      <td>medium</td>\n",
       "    </tr>\n",
       "  </tbody>\n",
       "</table>\n",
       "<p>5716 rows × 12 columns</p>\n",
       "</div>"
      ],
      "text/plain": [
       "      precip7  wind7  precip6  wind6  precip5  wind5  precip4  wind4  precip3  \\\n",
       "0         4.4    9.0      4.3   10.0      4.1    8.0      5.3    9.0      5.7   \n",
       "1         0.5   17.0      0.4   15.0      0.0   16.0      0.4   13.0      0.6   \n",
       "2         3.5    7.0      0.5    8.0      3.1    6.0      1.5    7.0      7.4   \n",
       "3         0.2   17.0      2.5   10.0      4.1   11.0      3.6    9.0      1.0   \n",
       "4         3.6    5.0      3.1    7.0      4.4    7.0      1.9    6.0      8.4   \n",
       "...       ...    ...      ...    ...      ...    ...      ...    ...      ...   \n",
       "5712     43.1   25.0      2.1   18.0      0.9   14.0      1.8    9.0      2.4   \n",
       "5713      1.2   15.0      4.3   18.0      0.2   18.0      0.1   15.0      1.3   \n",
       "5714      1.6   11.0      4.8    9.0      4.7   10.0      1.7   12.0      0.9   \n",
       "5715      0.0    0.0      0.0    0.0      0.0    0.0      0.0    0.0      0.0   \n",
       "5716      5.4   10.0      4.0    9.0      3.6   10.0      3.0   11.0      2.2   \n",
       "\n",
       "      wind3  slope severity  \n",
       "0       9.0   99.0   medium  \n",
       "1      17.0  147.0   medium  \n",
       "2       8.0  106.0    large  \n",
       "3      14.0    5.0   medium  \n",
       "4       4.0   78.0   medium  \n",
       "...     ...    ...      ...  \n",
       "5712   11.0   77.0   medium  \n",
       "5713   15.0   35.0       na  \n",
       "5714   10.0   20.0   medium  \n",
       "5715    0.0   24.0   medium  \n",
       "5716   12.0  109.0   medium  \n",
       "\n",
       "[5716 rows x 12 columns]"
      ]
     },
     "execution_count": 88,
     "metadata": {},
     "output_type": "execute_result"
    }
   ],
   "source": [
    "X = df.copy()\n",
    "\n",
    "X.drop(X.columns[[i for i in range(0, 151)]], axis = 1, inplace = True)\n",
    "# X.drop(X.columns[[i for i in range(20, 35)]], axis = 1, inplace = True)\n",
    "X[\"severity\"] = df[\"severity\"]\n",
    "X.drop(X.columns[[0]], axis = 1, inplace = True)\n",
    "\n",
    "X = X.dropna()\n",
    "for i in range(0, 8):\n",
    "    del X['air' + str(i)]\n",
    "    del X['temp' + str(i)]\n",
    "    del X['humidity' + str(i)]\n",
    "    \n",
    "X.drop(X.columns[[i for i in range(len(X.columns)-8, len(X.columns)-2)]], axis = 1, inplace = True)\n",
    "X"
   ]
  },
  {
   "cell_type": "markdown",
   "metadata": {},
   "source": [
    "### Generate Labels\n",
    "For binary classification, pass `True` into the function call"
   ]
  },
  {
   "cell_type": "code",
   "execution_count": 89,
   "metadata": {},
   "outputs": [],
   "source": [
    "def generate_labels(binary = False):\n",
    "    y = []\n",
    "    idx_to_severity = [\"na\", \"small\", \"medium\", \"large\", \"very_large\"]\n",
    "    for severity in X.severity:\n",
    "        if not binary:\n",
    "            y.append(idx_to_severity.index(severity))\n",
    "        elif severity == \"na\":\n",
    "            y.append(0)\n",
    "        else:\n",
    "            y.append(1)\n",
    "    X.drop(X.columns[[-1]], axis = 1, inplace = True)\n",
    "    print(y.count(1))\n",
    "    return y"
   ]
  },
  {
   "cell_type": "code",
   "execution_count": 90,
   "metadata": {},
   "outputs": [
    {
     "name": "stdout",
     "output_type": "stream",
     "text": [
      "613\n"
     ]
    }
   ],
   "source": [
    "y = generate_labels()"
   ]
  },
  {
   "cell_type": "markdown",
   "metadata": {},
   "source": [
    "## Scaling"
   ]
  },
  {
   "cell_type": "code",
   "execution_count": 91,
   "metadata": {},
   "outputs": [],
   "source": [
    "from sklearn.model_selection import train_test_split\n",
    "from sklearn.preprocessing import StandardScaler\n",
    "X_train, X_test, y_train, y_test = train_test_split(X, y, test_size = 0.2)\n",
    "\n",
    "scaler = StandardScaler()\n",
    "scaler.fit(X_train)\n",
    "\n",
    "X_train = scaler.transform(X_train)\n",
    "X_test = scaler.transform(X_test)"
   ]
  },
  {
   "cell_type": "markdown",
   "metadata": {},
   "source": [
    "## Prediction"
   ]
  },
  {
   "cell_type": "code",
   "execution_count": 92,
   "metadata": {},
   "outputs": [
    {
     "data": {
      "text/plain": [
       "KNeighborsClassifier(n_neighbors=17)"
      ]
     },
     "execution_count": 92,
     "metadata": {},
     "output_type": "execute_result"
    }
   ],
   "source": [
    "from sklearn.neighbors import KNeighborsClassifier\n",
    "knn = KNeighborsClassifier(n_neighbors=17)\n",
    "knn.fit(X_train, y_train)"
   ]
  },
  {
   "cell_type": "code",
   "execution_count": 93,
   "metadata": {},
   "outputs": [
    {
     "name": "stdout",
     "output_type": "stream",
     "text": [
      "ACCURACY: 0.5708041958041958\n"
     ]
    }
   ],
   "source": [
    "from sklearn.metrics import accuracy_score\n",
    "pred = knn.predict(X_test)\n",
    "print(\"ACCURACY:\", accuracy_score(pred, y_test))"
   ]
  },
  {
   "cell_type": "code",
   "execution_count": 44,
   "metadata": {},
   "outputs": [
    {
     "name": "stdout",
     "output_type": "stream",
     "text": [
      "k = 1   ACCURACY: 73.95\n",
      "k = 2   ACCURACY: 65.3\n",
      "k = 3   ACCURACY: 73.86\n",
      "k = 4   ACCURACY: 70.37\n",
      "k = 5   ACCURACY: 75.26\n",
      "k = 6   ACCURACY: 73.25\n",
      "k = 7   ACCURACY: 75.52\n",
      "k = 8   ACCURACY: 73.95\n",
      "k = 9   ACCURACY: 74.83\n",
      "k = 10   ACCURACY: 73.43\n",
      "k = 11   ACCURACY: 75.17\n",
      "k = 12   ACCURACY: 74.56\n",
      "k = 13   ACCURACY: 75.26\n",
      "k = 14   ACCURACY: 75.09\n",
      "k = 15   ACCURACY: 76.05\n",
      "k = 16   ACCURACY: 75.44\n",
      "k = 17   ACCURACY: 75.79\n",
      "k = 18   ACCURACY: 75.17\n",
      "k = 19   ACCURACY: 75.87\n",
      "k = 20   ACCURACY: 75.96\n",
      "k = 21   ACCURACY: 77.1\n",
      "k = 22   ACCURACY: 76.66\n",
      "k = 23   ACCURACY: 77.01\n",
      "k = 24   ACCURACY: 76.66\n",
      "k = 25   ACCURACY: 76.84\n",
      "k = 26   ACCURACY: 76.84\n",
      "k = 27   ACCURACY: 76.92\n",
      "k = 28   ACCURACY: 76.84\n",
      "k = 29   ACCURACY: 77.01\n",
      "k = 30   ACCURACY: 76.84\n",
      "k = 31   ACCURACY: 76.66\n",
      "k = 32   ACCURACY: 76.57\n",
      "k = 33   ACCURACY: 76.92\n",
      "k = 34   ACCURACY: 76.92\n",
      "k = 35   ACCURACY: 76.75\n",
      "k = 36   ACCURACY: 77.01\n",
      "k = 37   ACCURACY: 77.1\n",
      "k = 38   ACCURACY: 77.19\n",
      "k = 39   ACCURACY: 77.27\n",
      "k = 40   ACCURACY: 77.27\n",
      "k = 41   ACCURACY: 77.36\n",
      "k = 42   ACCURACY: 77.27\n",
      "k = 43   ACCURACY: 77.27\n",
      "k = 44   ACCURACY: 77.1\n",
      "k = 45   ACCURACY: 77.1\n",
      "k = 46   ACCURACY: 76.84\n",
      "k = 47   ACCURACY: 77.19\n",
      "k = 48   ACCURACY: 77.01\n",
      "k = 49   ACCURACY: 77.01\n",
      "k = 50   ACCURACY: 77.01\n",
      "k = 51   ACCURACY: 77.01\n",
      "k = 52   ACCURACY: 77.1\n",
      "k = 53   ACCURACY: 77.19\n",
      "k = 54   ACCURACY: 77.36\n",
      "k = 55   ACCURACY: 77.36\n",
      "k = 56   ACCURACY: 77.27\n",
      "k = 57   ACCURACY: 77.36\n",
      "k = 58   ACCURACY: 77.36\n",
      "k = 59   ACCURACY: 77.45\n",
      "k = 60   ACCURACY: 77.45\n",
      "k = 61   ACCURACY: 77.53\n",
      "k = 62   ACCURACY: 77.53\n",
      "k = 63   ACCURACY: 77.36\n",
      "k = 64   ACCURACY: 77.36\n",
      "k = 65   ACCURACY: 77.27\n",
      "k = 66   ACCURACY: 77.27\n",
      "k = 67   ACCURACY: 77.19\n",
      "k = 68   ACCURACY: 77.27\n",
      "k = 69   ACCURACY: 77.19\n",
      "k = 70   ACCURACY: 77.45\n",
      "k = 71   ACCURACY: 77.27\n",
      "k = 72   ACCURACY: 77.27\n",
      "k = 73   ACCURACY: 77.1\n",
      "k = 74   ACCURACY: 77.01\n",
      "k = 75   ACCURACY: 77.1\n",
      "k = 76   ACCURACY: 77.01\n",
      "k = 77   ACCURACY: 77.1\n",
      "k = 78   ACCURACY: 77.19\n",
      "k = 79   ACCURACY: 77.36\n",
      "k = 80   ACCURACY: 77.19\n",
      "k = 81   ACCURACY: 77.45\n",
      "k = 82   ACCURACY: 77.45\n",
      "k = 83   ACCURACY: 77.45\n",
      "k = 84   ACCURACY: 77.36\n",
      "k = 85   ACCURACY: 77.45\n",
      "k = 86   ACCURACY: 77.45\n",
      "k = 87   ACCURACY: 77.45\n",
      "k = 88   ACCURACY: 77.45\n",
      "k = 89   ACCURACY: 77.45\n",
      "k = 90   ACCURACY: 77.53\n",
      "k = 91   ACCURACY: 77.53\n",
      "k = 92   ACCURACY: 77.45\n",
      "k = 93   ACCURACY: 77.27\n",
      "k = 94   ACCURACY: 77.36\n",
      "k = 95   ACCURACY: 77.36\n",
      "k = 96   ACCURACY: 77.45\n",
      "k = 97   ACCURACY: 77.45\n",
      "k = 98   ACCURACY: 77.45\n",
      "k = 99   ACCURACY: 77.45\n",
      "k = 100   ACCURACY: 77.45\n",
      "k = 101   ACCURACY: 77.36\n",
      "k = 102   ACCURACY: 77.36\n",
      "k = 103   ACCURACY: 77.27\n",
      "k = 104   ACCURACY: 77.27\n",
      "k = 105   ACCURACY: 77.27\n",
      "k = 106   ACCURACY: 77.27\n",
      "k = 107   ACCURACY: 77.27\n",
      "k = 108   ACCURACY: 77.27\n",
      "k = 109   ACCURACY: 77.27\n",
      "k = 110   ACCURACY: 77.27\n",
      "k = 111   ACCURACY: 77.27\n",
      "k = 112   ACCURACY: 77.27\n",
      "k = 113   ACCURACY: 77.27\n",
      "k = 114   ACCURACY: 77.27\n",
      "k = 115   ACCURACY: 77.27\n",
      "k = 116   ACCURACY: 77.27\n",
      "k = 117   ACCURACY: 77.27\n",
      "k = 118   ACCURACY: 77.36\n",
      "k = 119   ACCURACY: 77.27\n",
      "k = 120   ACCURACY: 77.27\n",
      "k = 121   ACCURACY: 77.27\n",
      "k = 122   ACCURACY: 77.27\n",
      "k = 123   ACCURACY: 77.27\n",
      "k = 124   ACCURACY: 77.27\n",
      "k = 125   ACCURACY: 77.27\n",
      "k = 126   ACCURACY: 77.27\n",
      "k = 127   ACCURACY: 77.27\n",
      "k = 128   ACCURACY: 77.27\n",
      "k = 129   ACCURACY: 77.27\n",
      "Best k: 61 77.53\n"
     ]
    }
   ],
   "source": [
    "best = 1\n",
    "highest = 0\n",
    "\n",
    "for i in range(1, 130):\n",
    "    knn = KNeighborsClassifier(n_neighbors=i)\n",
    "    knn.fit(X_train, y_train)\n",
    "    pred = knn.predict(X_test)\n",
    "    score = round(accuracy_score(pred, y_test)*10000)/100\n",
    "    print(\"k =\", i, \"  ACCURACY:\", score)\n",
    "    if score > highest:\n",
    "        highest = score\n",
    "        best = i\n",
    "print(\"Best k:\", best, highest)"
   ]
  }
 ],
 "metadata": {
  "kernelspec": {
   "display_name": "Python 3",
   "language": "python",
   "name": "python3"
  },
  "language_info": {
   "codemirror_mode": {
    "name": "ipython",
    "version": 3
   },
   "file_extension": ".py",
   "mimetype": "text/x-python",
   "name": "python",
   "nbconvert_exporter": "python",
   "pygments_lexer": "ipython3",
   "version": "3.7.4"
  }
 },
 "nbformat": 4,
 "nbformat_minor": 4
}
