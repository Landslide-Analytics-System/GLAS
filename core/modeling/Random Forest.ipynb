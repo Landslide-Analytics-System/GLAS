{
 "cells": [
  {
   "cell_type": "markdown",
   "metadata": {},
   "source": [
    "## Random Forest Classifier\n",
    "The model predicts the severity of the landslide (or if there will even be one) within the next 2 days, based on weather data from the past 5 days.\n",
    "A Random Forest model with 113 trees yielded an accuracy of 81.21% when trained on slope data and precipitation and wind data over a 5 day period."
   ]
  },
  {
   "cell_type": "code",
   "execution_count": 37,
   "metadata": {},
   "outputs": [],
   "source": [
    "import pandas as pd\n",
    "import numpy as np\n",
    "import matplotlib.pyplot as plt\n",
    "%matplotlib inline\n",
    "import sklearn\n",
    "from sklearn.utils import shuffle\n",
    "import pickle"
   ]
  },
  {
   "cell_type": "code",
   "execution_count": 38,
   "metadata": {},
   "outputs": [
    {
     "name": "stderr",
     "output_type": "stream",
     "text": [
      "/Library/Frameworks/Python.framework/Versions/3.7/lib/python3.7/site-packages/IPython/core/interactiveshell.py:3146: DtypeWarning: Columns (6,7,12,13,14,15,16,17,18,19,20,21,22,23,24,25,26,27,28,29,30,31,32,33,34,35,36,37,38,39,40,41,42,43,44,45,46,47,48,49,50,51,52,53,54,55,56,57,58,59,60,61,62,63,64,65,66,67,68,69,70,71,72,73,74,75,76,77,78,79,80,81,82,83,84,85,86,87,88,89,90,91,92,93,94,95,96,97,98,99,100,101,102,103,104,105,106,107,108,109,110,111,112,113,114,115,116,117,118,119,120,121,122,123,124,125,126,127,128,129,130,131,132,133,134,135,136,137,138,139,140,141) have mixed types.Specify dtype option on import or set low_memory=False.\n",
      "  interactivity=interactivity, compiler=compiler, result=result)\n"
     ]
    }
   ],
   "source": [
    "df = pd.read_csv(\"full_dataset_v1.csv\")"
   ]
  },
  {
   "cell_type": "code",
   "execution_count": 39,
   "metadata": {},
   "outputs": [
    {
     "data": {
      "text/plain": [
       "medium          3300\n",
       "na              1321\n",
       "small            613\n",
       "large            427\n",
       "unknown           75\n",
       "very_large        56\n",
       "...                5\n",
       "catastrophic       1\n",
       "Name: severity, dtype: int64"
      ]
     },
     "execution_count": 39,
     "metadata": {},
     "output_type": "execute_result"
    }
   ],
   "source": [
    "df['severity'].value_counts()"
   ]
  },
  {
   "cell_type": "code",
   "execution_count": 40,
   "metadata": {},
   "outputs": [],
   "source": [
    "# filter by severity. na is for non-landslide data\n",
    "df = df[df['severity'].isin([\"medium\", \"small\", \"large\", \"very_large\", \"na\"])]"
   ]
  },
  {
   "cell_type": "code",
   "execution_count": 41,
   "metadata": {},
   "outputs": [
    {
     "name": "stdout",
     "output_type": "stream",
     "text": [
      "5717\n"
     ]
    }
   ],
   "source": [
    "df['severity'].value_counts()\n",
    "df = shuffle(df)\n",
    "df.reset_index(inplace=True, drop=True)\n",
    "print(len(df))"
   ]
  },
  {
   "cell_type": "code",
   "execution_count": 42,
   "metadata": {},
   "outputs": [
    {
     "data": {
      "text/html": [
       "<div>\n",
       "<style scoped>\n",
       "    .dataframe tbody tr th:only-of-type {\n",
       "        vertical-align: middle;\n",
       "    }\n",
       "\n",
       "    .dataframe tbody tr th {\n",
       "        vertical-align: top;\n",
       "    }\n",
       "\n",
       "    .dataframe thead th {\n",
       "        text-align: right;\n",
       "    }\n",
       "</style>\n",
       "<table border=\"1\" class=\"dataframe\">\n",
       "  <thead>\n",
       "    <tr style=\"text-align: right;\">\n",
       "      <th></th>\n",
       "      <th>precip7</th>\n",
       "      <th>wind7</th>\n",
       "      <th>precip6</th>\n",
       "      <th>wind6</th>\n",
       "      <th>precip5</th>\n",
       "      <th>wind5</th>\n",
       "      <th>precip4</th>\n",
       "      <th>wind4</th>\n",
       "      <th>precip3</th>\n",
       "      <th>wind3</th>\n",
       "      <th>slope</th>\n",
       "      <th>severity</th>\n",
       "    </tr>\n",
       "  </thead>\n",
       "  <tbody>\n",
       "    <tr>\n",
       "      <th>0</th>\n",
       "      <td>6.4</td>\n",
       "      <td>6.0</td>\n",
       "      <td>31.4</td>\n",
       "      <td>10.0</td>\n",
       "      <td>11.6</td>\n",
       "      <td>11.0</td>\n",
       "      <td>6.3</td>\n",
       "      <td>6.0</td>\n",
       "      <td>16.2</td>\n",
       "      <td>6.0</td>\n",
       "      <td>-1.0</td>\n",
       "      <td>large</td>\n",
       "    </tr>\n",
       "    <tr>\n",
       "      <th>1</th>\n",
       "      <td>0.0</td>\n",
       "      <td>15.0</td>\n",
       "      <td>1.0</td>\n",
       "      <td>29.0</td>\n",
       "      <td>5.3</td>\n",
       "      <td>12.0</td>\n",
       "      <td>1.2</td>\n",
       "      <td>37.0</td>\n",
       "      <td>13.3</td>\n",
       "      <td>51.0</td>\n",
       "      <td>5.0</td>\n",
       "      <td>large</td>\n",
       "    </tr>\n",
       "    <tr>\n",
       "      <th>2</th>\n",
       "      <td>0.3</td>\n",
       "      <td>8.0</td>\n",
       "      <td>0.4</td>\n",
       "      <td>6.0</td>\n",
       "      <td>0.0</td>\n",
       "      <td>6.0</td>\n",
       "      <td>0.1</td>\n",
       "      <td>6.0</td>\n",
       "      <td>0.0</td>\n",
       "      <td>6.0</td>\n",
       "      <td>67.0</td>\n",
       "      <td>na</td>\n",
       "    </tr>\n",
       "    <tr>\n",
       "      <th>3</th>\n",
       "      <td>0.0</td>\n",
       "      <td>14.0</td>\n",
       "      <td>0.0</td>\n",
       "      <td>17.0</td>\n",
       "      <td>0.0</td>\n",
       "      <td>16.0</td>\n",
       "      <td>0.0</td>\n",
       "      <td>15.0</td>\n",
       "      <td>0.0</td>\n",
       "      <td>15.0</td>\n",
       "      <td>125.0</td>\n",
       "      <td>medium</td>\n",
       "    </tr>\n",
       "    <tr>\n",
       "      <th>4</th>\n",
       "      <td>6.2</td>\n",
       "      <td>9.0</td>\n",
       "      <td>5.0</td>\n",
       "      <td>9.0</td>\n",
       "      <td>6.3</td>\n",
       "      <td>10.0</td>\n",
       "      <td>3.3</td>\n",
       "      <td>9.0</td>\n",
       "      <td>4.1</td>\n",
       "      <td>10.0</td>\n",
       "      <td>83.0</td>\n",
       "      <td>medium</td>\n",
       "    </tr>\n",
       "    <tr>\n",
       "      <th>...</th>\n",
       "      <td>...</td>\n",
       "      <td>...</td>\n",
       "      <td>...</td>\n",
       "      <td>...</td>\n",
       "      <td>...</td>\n",
       "      <td>...</td>\n",
       "      <td>...</td>\n",
       "      <td>...</td>\n",
       "      <td>...</td>\n",
       "      <td>...</td>\n",
       "      <td>...</td>\n",
       "      <td>...</td>\n",
       "    </tr>\n",
       "    <tr>\n",
       "      <th>5712</th>\n",
       "      <td>4.5</td>\n",
       "      <td>10.0</td>\n",
       "      <td>5.3</td>\n",
       "      <td>13.0</td>\n",
       "      <td>1.1</td>\n",
       "      <td>16.0</td>\n",
       "      <td>1.9</td>\n",
       "      <td>15.0</td>\n",
       "      <td>3.8</td>\n",
       "      <td>11.0</td>\n",
       "      <td>105.0</td>\n",
       "      <td>large</td>\n",
       "    </tr>\n",
       "    <tr>\n",
       "      <th>5713</th>\n",
       "      <td>7.3</td>\n",
       "      <td>26.0</td>\n",
       "      <td>1.1</td>\n",
       "      <td>10.0</td>\n",
       "      <td>0.5</td>\n",
       "      <td>11.0</td>\n",
       "      <td>1.0</td>\n",
       "      <td>13.0</td>\n",
       "      <td>1.7</td>\n",
       "      <td>11.0</td>\n",
       "      <td>80.0</td>\n",
       "      <td>medium</td>\n",
       "    </tr>\n",
       "    <tr>\n",
       "      <th>5714</th>\n",
       "      <td>0.0</td>\n",
       "      <td>13.0</td>\n",
       "      <td>0.0</td>\n",
       "      <td>16.0</td>\n",
       "      <td>0.0</td>\n",
       "      <td>14.0</td>\n",
       "      <td>0.0</td>\n",
       "      <td>17.0</td>\n",
       "      <td>0.0</td>\n",
       "      <td>21.0</td>\n",
       "      <td>94.0</td>\n",
       "      <td>na</td>\n",
       "    </tr>\n",
       "    <tr>\n",
       "      <th>5715</th>\n",
       "      <td>6.8</td>\n",
       "      <td>14.0</td>\n",
       "      <td>3.6</td>\n",
       "      <td>13.0</td>\n",
       "      <td>2.1</td>\n",
       "      <td>12.0</td>\n",
       "      <td>0.7</td>\n",
       "      <td>10.0</td>\n",
       "      <td>2.4</td>\n",
       "      <td>11.0</td>\n",
       "      <td>53.0</td>\n",
       "      <td>medium</td>\n",
       "    </tr>\n",
       "    <tr>\n",
       "      <th>5716</th>\n",
       "      <td>0.4</td>\n",
       "      <td>13.0</td>\n",
       "      <td>1.0</td>\n",
       "      <td>16.0</td>\n",
       "      <td>0.3</td>\n",
       "      <td>16.0</td>\n",
       "      <td>0.7</td>\n",
       "      <td>15.0</td>\n",
       "      <td>1.3</td>\n",
       "      <td>16.0</td>\n",
       "      <td>153.0</td>\n",
       "      <td>large</td>\n",
       "    </tr>\n",
       "  </tbody>\n",
       "</table>\n",
       "<p>5716 rows × 12 columns</p>\n",
       "</div>"
      ],
      "text/plain": [
       "      precip7  wind7  precip6  wind6  precip5  wind5  precip4  wind4  precip3  \\\n",
       "0         6.4    6.0     31.4   10.0     11.6   11.0      6.3    6.0     16.2   \n",
       "1         0.0   15.0      1.0   29.0      5.3   12.0      1.2   37.0     13.3   \n",
       "2         0.3    8.0      0.4    6.0      0.0    6.0      0.1    6.0      0.0   \n",
       "3         0.0   14.0      0.0   17.0      0.0   16.0      0.0   15.0      0.0   \n",
       "4         6.2    9.0      5.0    9.0      6.3   10.0      3.3    9.0      4.1   \n",
       "...       ...    ...      ...    ...      ...    ...      ...    ...      ...   \n",
       "5712      4.5   10.0      5.3   13.0      1.1   16.0      1.9   15.0      3.8   \n",
       "5713      7.3   26.0      1.1   10.0      0.5   11.0      1.0   13.0      1.7   \n",
       "5714      0.0   13.0      0.0   16.0      0.0   14.0      0.0   17.0      0.0   \n",
       "5715      6.8   14.0      3.6   13.0      2.1   12.0      0.7   10.0      2.4   \n",
       "5716      0.4   13.0      1.0   16.0      0.3   16.0      0.7   15.0      1.3   \n",
       "\n",
       "      wind3  slope severity  \n",
       "0       6.0   -1.0    large  \n",
       "1      51.0    5.0    large  \n",
       "2       6.0   67.0       na  \n",
       "3      15.0  125.0   medium  \n",
       "4      10.0   83.0   medium  \n",
       "...     ...    ...      ...  \n",
       "5712   11.0  105.0    large  \n",
       "5713   11.0   80.0   medium  \n",
       "5714   21.0   94.0       na  \n",
       "5715   11.0   53.0   medium  \n",
       "5716   16.0  153.0    large  \n",
       "\n",
       "[5716 rows x 12 columns]"
      ]
     },
     "execution_count": 42,
     "metadata": {},
     "output_type": "execute_result"
    }
   ],
   "source": [
    "X = df.copy()\n",
    "\n",
    "X.drop(X.columns[[i for i in range(0, 151)]], axis = 1, inplace = True)\n",
    "# X.drop(X.columns[[i for i in range(20, 35)]], axis = 1, inplace = True)\n",
    "X[\"severity\"] = df[\"severity\"]\n",
    "X.drop(X.columns[[0]], axis = 1, inplace = True)\n",
    "\n",
    "X = X.dropna()\n",
    "for i in range(0, 8):\n",
    "    del X['air' + str(i)]\n",
    "    del X['temp' + str(i)]\n",
    "    del X['humidity' + str(i)]\n",
    "    \n",
    "X.drop(X.columns[[i for i in range(len(X.columns)-8, len(X.columns)-2)]], axis = 1, inplace = True)\n",
    "X"
   ]
  },
  {
   "cell_type": "markdown",
   "metadata": {},
   "source": [
    "### Generate Labels\n",
    "For binary classification, pass `True` into the function call"
   ]
  },
  {
   "cell_type": "code",
   "execution_count": 43,
   "metadata": {},
   "outputs": [],
   "source": [
    "def generate_labels(binary = False):\n",
    "    y = []\n",
    "    idx_to_severity = [\"na\", \"small\", \"medium\", \"large\", \"very_large\"]\n",
    "    for severity in X.severity:\n",
    "        if binary:\n",
    "            y.append(idx_to_severity.index(severity))\n",
    "        elif severity == \"na\":\n",
    "            y.append(0)\n",
    "        else:\n",
    "            y.append(1)\n",
    "    X.drop(X.columns[[-1]], axis = 1, inplace = True)\n",
    "    print(y.count(1))\n",
    "    return y"
   ]
  },
  {
   "cell_type": "code",
   "execution_count": 44,
   "metadata": {},
   "outputs": [
    {
     "name": "stdout",
     "output_type": "stream",
     "text": [
      "4396\n"
     ]
    }
   ],
   "source": [
    "y = generate_labels(False)"
   ]
  },
  {
   "cell_type": "markdown",
   "metadata": {},
   "source": [
    "## Scaling"
   ]
  },
  {
   "cell_type": "code",
   "execution_count": 45,
   "metadata": {},
   "outputs": [],
   "source": [
    "from sklearn.model_selection import train_test_split\n",
    "from sklearn.preprocessing import StandardScaler\n",
    "X_train, X_test, y_train, y_test = train_test_split(X, y, test_size = 0.2)\n",
    "\n",
    "scaler = StandardScaler()\n",
    "scaler.fit(X_train)\n",
    "\n",
    "X_train = scaler.transform(X_train)\n",
    "X_test = scaler.transform(X_test)"
   ]
  },
  {
   "cell_type": "markdown",
   "metadata": {},
   "source": [
    "## Prediction"
   ]
  },
  {
   "cell_type": "code",
   "execution_count": 46,
   "metadata": {},
   "outputs": [
    {
     "data": {
      "text/plain": [
       "RandomForestClassifier()"
      ]
     },
     "execution_count": 46,
     "metadata": {},
     "output_type": "execute_result"
    }
   ],
   "source": [
    "from sklearn.ensemble import RandomForestClassifier\n",
    "from sklearn.metrics import accuracy_score\n",
    "model = RandomForestClassifier()\n",
    "model.fit(X_train, y_train)"
   ]
  },
  {
   "cell_type": "code",
   "execution_count": 47,
   "metadata": {},
   "outputs": [
    {
     "name": "stdout",
     "output_type": "stream",
     "text": [
      "ACCURACY: 0.8015734265734266\n"
     ]
    }
   ],
   "source": [
    "pred = model.predict(X_test)\n",
    "print(\"ACCURACY:\", accuracy_score(pred, y_test))"
   ]
  },
  {
   "cell_type": "code",
   "execution_count": 25,
   "metadata": {
    "scrolled": true
   },
   "outputs": [
    {
     "name": "stdout",
     "output_type": "stream",
     "text": [
      "n_estimators = 85   ACCURACY: 80.16\n",
      "n_estimators = 87   ACCURACY: 80.07\n",
      "n_estimators = 89   ACCURACY: 80.42\n",
      "n_estimators = 91   ACCURACY: 80.51\n",
      "n_estimators = 93   ACCURACY: 80.42\n",
      "n_estimators = 95   ACCURACY: 80.59\n",
      "n_estimators = 97   ACCURACY: 80.86\n",
      "n_estimators = 99   ACCURACY: 80.59\n",
      "n_estimators = 101   ACCURACY: 80.33\n",
      "n_estimators = 103   ACCURACY: 80.77\n",
      "n_estimators = 105   ACCURACY: 80.42\n",
      "n_estimators = 107   ACCURACY: 80.24\n",
      "n_estimators = 109   ACCURACY: 81.03\n",
      "n_estimators = 111   ACCURACY: 80.51\n",
      "n_estimators = 113   ACCURACY: 81.21\n",
      "n_estimators = 115   ACCURACY: 80.16\n",
      "n_estimators = 117   ACCURACY: 80.94\n",
      "n_estimators = 119   ACCURACY: 80.42\n",
      "n_estimators = 121   ACCURACY: 80.24\n",
      "n_estimators = 123   ACCURACY: 80.86\n",
      "n_estimators = 125   ACCURACY: 80.51\n",
      "n_estimators = 127   ACCURACY: 80.24\n",
      "n_estimators = 129   ACCURACY: 80.42\n",
      "n_estimators = 131   ACCURACY: 80.68\n",
      "n_estimators = 133   ACCURACY: 80.33\n",
      "n_estimators = 135   ACCURACY: 80.42\n",
      "n_estimators = 137   ACCURACY: 80.68\n",
      "n_estimators = 139   ACCURACY: 80.16\n",
      "n_estimators = 141   ACCURACY: 80.33\n",
      "n_estimators = 143   ACCURACY: 80.42\n",
      "n_estimators = 145   ACCURACY: 80.86\n",
      "n_estimators = 147   ACCURACY: 80.77\n",
      "n_estimators = 149   ACCURACY: 80.59\n",
      "n_estimators = 151   ACCURACY: 80.16\n",
      "n_estimators = 153   ACCURACY: 80.77\n",
      "n_estimators = 155   ACCURACY: 79.98\n",
      "n_estimators = 157   ACCURACY: 80.24\n",
      "n_estimators = 159   ACCURACY: 80.33\n",
      "n_estimators = 161   ACCURACY: 80.68\n",
      "n_estimators = 163   ACCURACY: 80.86\n",
      "n_estimators = 165   ACCURACY: 80.33\n",
      "n_estimators = 167   ACCURACY: 80.77\n",
      "n_estimators = 169   ACCURACY: 81.12\n",
      "n_estimators = 171   ACCURACY: 80.24\n",
      "n_estimators = 173   ACCURACY: 81.12\n",
      "n_estimators = 175   ACCURACY: 80.86\n",
      "n_estimators = 177   ACCURACY: 80.24\n",
      "n_estimators = 179   ACCURACY: 80.77\n",
      "n_estimators = 181   ACCURACY: 80.77\n",
      "n_estimators = 183   ACCURACY: 80.77\n",
      "n_estimators = 185   ACCURACY: 80.16\n",
      "n_estimators = 187   ACCURACY: 80.59\n",
      "n_estimators = 189   ACCURACY: 80.33\n",
      "n_estimators = 191   ACCURACY: 80.86\n",
      "n_estimators = 193   ACCURACY: 81.03\n",
      "n_estimators = 195   ACCURACY: 80.59\n",
      "n_estimators = 197   ACCURACY: 80.77\n",
      "n_estimators = 199   ACCURACY: 80.51\n",
      "# of trees: 113 81.21\n"
     ]
    }
   ],
   "source": [
    "best = 1\n",
    "highest = 0\n",
    "\n",
    "for i in range(85, 200, 2):\n",
    "    rf = RandomForestClassifier(n_estimators = i)\n",
    "    rf.fit(X_train, y_train)\n",
    "    pred = rf.predict(X_test)\n",
    "    score = round(accuracy_score(pred, y_test)*10000)/100\n",
    "    print(\"n_estimators =\", i, \"  ACCURACY:\", score)\n",
    "    if score > highest:\n",
    "        highest = score\n",
    "        best = i\n",
    "print(\"# of trees:\", best, highest)"
   ]
  },
  {
   "cell_type": "code",
   "execution_count": null,
   "metadata": {},
   "outputs": [],
   "source": []
  }
 ],
 "metadata": {
  "kernelspec": {
   "display_name": "Python 3",
   "language": "python",
   "name": "python3"
  },
  "language_info": {
   "codemirror_mode": {
    "name": "ipython",
    "version": 3
   },
   "file_extension": ".py",
   "mimetype": "text/x-python",
   "name": "python",
   "nbconvert_exporter": "python",
   "pygments_lexer": "ipython3",
   "version": "3.7.4"
  }
 },
 "nbformat": 4,
 "nbformat_minor": 4
}
