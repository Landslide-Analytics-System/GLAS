{
 "cells": [
  {
   "cell_type": "markdown",
   "metadata": {},
   "source": [
    "## Random Forest Classifier\n",
    "The model predicts the severity of the landslide (or if there will even be one) within the next 2 days, based on weather data from the past 5 days.\n",
    "A Random Forest model with 113 trees yielded an accuracy of 81.21% when trained on slope data and precipitation and wind data over a 5 day period."
   ]
  },
  {
   "cell_type": "code",
   "execution_count": 146,
   "metadata": {},
   "outputs": [],
   "source": [
    "import pandas as pd\n",
    "import numpy as np\n",
    "import matplotlib.pyplot as plt\n",
    "%matplotlib inline\n",
    "import sklearn\n",
    "from sklearn.utils import shuffle\n",
    "import pickle"
   ]
  },
  {
   "cell_type": "code",
   "execution_count": 147,
   "metadata": {},
   "outputs": [],
   "source": [
    "df = pd.read_csv(\"full_dataset_v1.csv\", low_memory='false')"
   ]
  },
  {
   "cell_type": "code",
   "execution_count": 148,
   "metadata": {},
   "outputs": [
    {
     "data": {
      "text/plain": [
       "na              4476\n",
       "medium          3300\n",
       "small            613\n",
       "large            427\n",
       "unknown           75\n",
       "very_large        56\n",
       "...                5\n",
       "catastrophic       1\n",
       "Name: severity, dtype: int64"
      ]
     },
     "execution_count": 148,
     "metadata": {},
     "output_type": "execute_result"
    }
   ],
   "source": [
    "df['severity'].value_counts()"
   ]
  },
  {
   "cell_type": "code",
   "execution_count": 149,
   "metadata": {},
   "outputs": [],
   "source": [
    "# filter by severity. na is for non-landslide data\n",
    "df = df[df['severity'].isin([\"medium\", \"small\", \"large\", \"very_large\", \"na\"])]"
   ]
  },
  {
   "cell_type": "code",
   "execution_count": 150,
   "metadata": {},
   "outputs": [
    {
     "name": "stdout",
     "output_type": "stream",
     "text": [
      "8872\n"
     ]
    }
   ],
   "source": [
    "df['severity'].value_counts()\n",
    "df = shuffle(df)\n",
    "df.reset_index(inplace=True, drop=True)\n",
    "print(len(df))"
   ]
  },
  {
   "cell_type": "code",
   "execution_count": 151,
   "metadata": {},
   "outputs": [
    {
     "data": {
      "text/html": [
       "<div>\n",
       "<style scoped>\n",
       "    .dataframe tbody tr th:only-of-type {\n",
       "        vertical-align: middle;\n",
       "    }\n",
       "\n",
       "    .dataframe tbody tr th {\n",
       "        vertical-align: top;\n",
       "    }\n",
       "\n",
       "    .dataframe thead th {\n",
       "        text-align: right;\n",
       "    }\n",
       "</style>\n",
       "<table border=\"1\" class=\"dataframe\">\n",
       "  <thead>\n",
       "    <tr style=\"text-align: right;\">\n",
       "      <th></th>\n",
       "      <th>precip7</th>\n",
       "      <th>wind7</th>\n",
       "      <th>precip6</th>\n",
       "      <th>wind6</th>\n",
       "      <th>precip5</th>\n",
       "      <th>wind5</th>\n",
       "      <th>precip4</th>\n",
       "      <th>wind4</th>\n",
       "      <th>precip3</th>\n",
       "      <th>wind3</th>\n",
       "      <th>precip2</th>\n",
       "      <th>severity</th>\n",
       "    </tr>\n",
       "  </thead>\n",
       "  <tbody>\n",
       "    <tr>\n",
       "      <th>0</th>\n",
       "      <td>1.2</td>\n",
       "      <td>7</td>\n",
       "      <td>1.3</td>\n",
       "      <td>8</td>\n",
       "      <td>0.1</td>\n",
       "      <td>8</td>\n",
       "      <td>0.0</td>\n",
       "      <td>8</td>\n",
       "      <td>0.2</td>\n",
       "      <td>6</td>\n",
       "      <td>0.4</td>\n",
       "      <td>na</td>\n",
       "    </tr>\n",
       "    <tr>\n",
       "      <th>1</th>\n",
       "      <td>3.9</td>\n",
       "      <td>8</td>\n",
       "      <td>2.6</td>\n",
       "      <td>6</td>\n",
       "      <td>1.1</td>\n",
       "      <td>9</td>\n",
       "      <td>2.9</td>\n",
       "      <td>14</td>\n",
       "      <td>1.1</td>\n",
       "      <td>10</td>\n",
       "      <td>0.9</td>\n",
       "      <td>medium</td>\n",
       "    </tr>\n",
       "    <tr>\n",
       "      <th>2</th>\n",
       "      <td>2.0</td>\n",
       "      <td>10</td>\n",
       "      <td>2.2</td>\n",
       "      <td>13</td>\n",
       "      <td>0.5</td>\n",
       "      <td>12</td>\n",
       "      <td>9.1</td>\n",
       "      <td>6</td>\n",
       "      <td>0.3</td>\n",
       "      <td>13</td>\n",
       "      <td>0.0</td>\n",
       "      <td>na</td>\n",
       "    </tr>\n",
       "    <tr>\n",
       "      <th>3</th>\n",
       "      <td>2.9</td>\n",
       "      <td>8</td>\n",
       "      <td>1.5</td>\n",
       "      <td>9</td>\n",
       "      <td>5.5</td>\n",
       "      <td>7</td>\n",
       "      <td>3.2</td>\n",
       "      <td>10</td>\n",
       "      <td>1.4</td>\n",
       "      <td>14</td>\n",
       "      <td>2.7</td>\n",
       "      <td>na</td>\n",
       "    </tr>\n",
       "    <tr>\n",
       "      <th>4</th>\n",
       "      <td>0.5</td>\n",
       "      <td>12</td>\n",
       "      <td>3.4</td>\n",
       "      <td>15</td>\n",
       "      <td>5.7</td>\n",
       "      <td>13</td>\n",
       "      <td>2.1</td>\n",
       "      <td>12</td>\n",
       "      <td>0.1</td>\n",
       "      <td>15</td>\n",
       "      <td>0.0</td>\n",
       "      <td>medium</td>\n",
       "    </tr>\n",
       "    <tr>\n",
       "      <th>...</th>\n",
       "      <td>...</td>\n",
       "      <td>...</td>\n",
       "      <td>...</td>\n",
       "      <td>...</td>\n",
       "      <td>...</td>\n",
       "      <td>...</td>\n",
       "      <td>...</td>\n",
       "      <td>...</td>\n",
       "      <td>...</td>\n",
       "      <td>...</td>\n",
       "      <td>...</td>\n",
       "      <td>...</td>\n",
       "    </tr>\n",
       "    <tr>\n",
       "      <th>8867</th>\n",
       "      <td>3.1</td>\n",
       "      <td>14</td>\n",
       "      <td>0.9</td>\n",
       "      <td>15</td>\n",
       "      <td>0.2</td>\n",
       "      <td>12</td>\n",
       "      <td>0.3</td>\n",
       "      <td>13</td>\n",
       "      <td>0.2</td>\n",
       "      <td>11</td>\n",
       "      <td>0.0</td>\n",
       "      <td>na</td>\n",
       "    </tr>\n",
       "    <tr>\n",
       "      <th>8868</th>\n",
       "      <td>1.6</td>\n",
       "      <td>15</td>\n",
       "      <td>0.1</td>\n",
       "      <td>12</td>\n",
       "      <td>0.6</td>\n",
       "      <td>12</td>\n",
       "      <td>0.8</td>\n",
       "      <td>13</td>\n",
       "      <td>1.1</td>\n",
       "      <td>12</td>\n",
       "      <td>0.0</td>\n",
       "      <td>na</td>\n",
       "    </tr>\n",
       "    <tr>\n",
       "      <th>8869</th>\n",
       "      <td>3.3</td>\n",
       "      <td>7</td>\n",
       "      <td>3.0</td>\n",
       "      <td>9</td>\n",
       "      <td>2.1</td>\n",
       "      <td>12</td>\n",
       "      <td>3.1</td>\n",
       "      <td>10</td>\n",
       "      <td>3.4</td>\n",
       "      <td>8</td>\n",
       "      <td>7.1</td>\n",
       "      <td>na</td>\n",
       "    </tr>\n",
       "    <tr>\n",
       "      <th>8870</th>\n",
       "      <td>0.0</td>\n",
       "      <td>7</td>\n",
       "      <td>0.0</td>\n",
       "      <td>9</td>\n",
       "      <td>0.0</td>\n",
       "      <td>7</td>\n",
       "      <td>0.0</td>\n",
       "      <td>7</td>\n",
       "      <td>0.0</td>\n",
       "      <td>8</td>\n",
       "      <td>0.0</td>\n",
       "      <td>na</td>\n",
       "    </tr>\n",
       "    <tr>\n",
       "      <th>8871</th>\n",
       "      <td>3.5</td>\n",
       "      <td>13</td>\n",
       "      <td>2.5</td>\n",
       "      <td>9</td>\n",
       "      <td>3.8</td>\n",
       "      <td>13</td>\n",
       "      <td>0.2</td>\n",
       "      <td>9</td>\n",
       "      <td>0.1</td>\n",
       "      <td>10</td>\n",
       "      <td>0.0</td>\n",
       "      <td>na</td>\n",
       "    </tr>\n",
       "  </tbody>\n",
       "</table>\n",
       "<p>8872 rows × 12 columns</p>\n",
       "</div>"
      ],
      "text/plain": [
       "      precip7  wind7  precip6  wind6  precip5  wind5  precip4  wind4  precip3  \\\n",
       "0         1.2      7      1.3      8      0.1      8      0.0      8      0.2   \n",
       "1         3.9      8      2.6      6      1.1      9      2.9     14      1.1   \n",
       "2         2.0     10      2.2     13      0.5     12      9.1      6      0.3   \n",
       "3         2.9      8      1.5      9      5.5      7      3.2     10      1.4   \n",
       "4         0.5     12      3.4     15      5.7     13      2.1     12      0.1   \n",
       "...       ...    ...      ...    ...      ...    ...      ...    ...      ...   \n",
       "8867      3.1     14      0.9     15      0.2     12      0.3     13      0.2   \n",
       "8868      1.6     15      0.1     12      0.6     12      0.8     13      1.1   \n",
       "8869      3.3      7      3.0      9      2.1     12      3.1     10      3.4   \n",
       "8870      0.0      7      0.0      9      0.0      7      0.0      7      0.0   \n",
       "8871      3.5     13      2.5      9      3.8     13      0.2      9      0.1   \n",
       "\n",
       "      wind3  precip2 severity  \n",
       "0         6      0.4       na  \n",
       "1        10      0.9   medium  \n",
       "2        13      0.0       na  \n",
       "3        14      2.7       na  \n",
       "4        15      0.0   medium  \n",
       "...     ...      ...      ...  \n",
       "8867     11      0.0       na  \n",
       "8868     12      0.0       na  \n",
       "8869      8      7.1       na  \n",
       "8870      8      0.0       na  \n",
       "8871     10      0.0       na  \n",
       "\n",
       "[8872 rows x 12 columns]"
      ]
     },
     "execution_count": 151,
     "metadata": {},
     "output_type": "execute_result"
    }
   ],
   "source": [
    "X = df.copy()\n",
    "\n",
    "X.drop(X.columns[[i for i in range(0, 151)]], axis = 1, inplace = True)\n",
    "# X.drop(X.columns[[i for i in range(20, 35)]], axis = 1, inplace = True)\n",
    "X[\"severity\"] = df[\"severity\"]\n",
    "X.drop(X.columns[[0]], axis = 1, inplace = True)\n",
    "\n",
    "X = X.dropna()\n",
    "for i in range(0, 8):\n",
    "    del X['air' + str(i)]\n",
    "    del X['temp' + str(i)]\n",
    "    del X['humidity' + str(i)]\n",
    "    \n",
    "X.drop(X.columns[[i for i in range(len(X.columns)-8, len(X.columns)-2)]], axis = 1, inplace = True)\n",
    "X.drop(columns=['label'], inplace=True)\n",
    "X"
   ]
  },
  {
   "cell_type": "markdown",
   "metadata": {},
   "source": [
    "### Generate Labels\n",
    "For binary classification, pass `True` into the function call"
   ]
  },
  {
   "cell_type": "code",
   "execution_count": 152,
   "metadata": {},
   "outputs": [],
   "source": [
    "def generate_labels(binary = False):\n",
    "    y = []\n",
    "    idx_to_severity = [\"na\", \"small\", \"medium\", \"large\", \"very_large\"]\n",
    "    for severity in X.severity:\n",
    "        if binary:\n",
    "            y.append(idx_to_severity.index(severity))\n",
    "        elif severity == \"na\":\n",
    "            y.append(0)\n",
    "        else:\n",
    "            y.append(1)\n",
    "    X.drop(X.columns[[-1]], axis = 1, inplace = True)\n",
    "    print(y.count(1))\n",
    "    return y"
   ]
  },
  {
   "cell_type": "code",
   "execution_count": 153,
   "metadata": {},
   "outputs": [
    {
     "name": "stdout",
     "output_type": "stream",
     "text": [
      "4396\n",
      "4396\n",
      "8872\n"
     ]
    }
   ],
   "source": [
    "y = generate_labels(False)\n",
    "print(sum(y))\n",
    "print(len(y))"
   ]
  },
  {
   "cell_type": "markdown",
   "metadata": {},
   "source": [
    "## Scaling"
   ]
  },
  {
   "cell_type": "code",
   "execution_count": 154,
   "metadata": {},
   "outputs": [],
   "source": [
    "from sklearn.model_selection import train_test_split\n",
    "from sklearn.preprocessing import StandardScaler\n",
    "X_train, X_test, y_train, y_test = train_test_split(X, y, test_size = 0.2)\n",
    "\n",
    "scaler = StandardScaler()\n",
    "scaler.fit(X_train)\n",
    "\n",
    "X_train = scaler.transform(X_train)\n",
    "X_test = scaler.transform(X_test)"
   ]
  },
  {
   "cell_type": "markdown",
   "metadata": {},
   "source": [
    "## Prediction"
   ]
  },
  {
   "cell_type": "code",
   "execution_count": 155,
   "metadata": {},
   "outputs": [
    {
     "name": "stderr",
     "output_type": "stream",
     "text": [
      "c:\\users\\shrey\\appdata\\local\\programs\\python\\python36\\lib\\site-packages\\sklearn\\ensemble\\forest.py:245: FutureWarning: The default value of n_estimators will change from 10 in version 0.20 to 100 in 0.22.\n",
      "  \"10 in version 0.20 to 100 in 0.22.\", FutureWarning)\n"
     ]
    },
    {
     "data": {
      "text/plain": [
       "RandomForestClassifier(bootstrap=True, class_weight=None, criterion='gini',\n",
       "                       max_depth=None, max_features='auto', max_leaf_nodes=None,\n",
       "                       min_impurity_decrease=0.0, min_impurity_split=None,\n",
       "                       min_samples_leaf=1, min_samples_split=2,\n",
       "                       min_weight_fraction_leaf=0.0, n_estimators=10,\n",
       "                       n_jobs=None, oob_score=False, random_state=None,\n",
       "                       verbose=0, warm_start=False)"
      ]
     },
     "execution_count": 155,
     "metadata": {},
     "output_type": "execute_result"
    }
   ],
   "source": [
    "from sklearn.ensemble import RandomForestClassifier\n",
    "from sklearn.metrics import accuracy_score, confusion_matrix\n",
    "model = RandomForestClassifier()\n",
    "model.fit(X_train, y_train)"
   ]
  },
  {
   "cell_type": "code",
   "execution_count": 156,
   "metadata": {},
   "outputs": [
    {
     "name": "stdout",
     "output_type": "stream",
     "text": [
      "ACCURACY: 0.6309859154929578\n"
     ]
    }
   ],
   "source": [
    "pred = model.predict(X_test)\n",
    "print(\"ACCURACY:\", accuracy_score(pred, y_test))"
   ]
  },
  {
   "cell_type": "code",
   "execution_count": 157,
   "metadata": {
    "scrolled": true
   },
   "outputs": [
    {
     "name": "stdout",
     "output_type": "stream",
     "text": [
      "n_estimators = 85   ACCURACY: 64.45\n",
      "n_estimators = 87   ACCURACY: 65.18\n",
      "n_estimators = 89   ACCURACY: 64.9\n",
      "n_estimators = 91   ACCURACY: 64.45\n",
      "n_estimators = 93   ACCURACY: 63.89\n",
      "n_estimators = 95   ACCURACY: 64.79\n",
      "n_estimators = 97   ACCURACY: 64.73\n",
      "n_estimators = 99   ACCURACY: 65.13\n",
      "n_estimators = 101   ACCURACY: 64.85\n",
      "n_estimators = 103   ACCURACY: 64.9\n",
      "n_estimators = 105   ACCURACY: 66.08\n",
      "n_estimators = 107   ACCURACY: 63.77\n",
      "n_estimators = 109   ACCURACY: 65.01\n",
      "n_estimators = 111   ACCURACY: 64.34\n",
      "n_estimators = 113   ACCURACY: 64.45\n",
      "n_estimators = 115   ACCURACY: 65.8\n",
      "n_estimators = 117   ACCURACY: 65.18\n",
      "n_estimators = 119   ACCURACY: 65.13\n",
      "n_estimators = 121   ACCURACY: 65.63\n",
      "n_estimators = 123   ACCURACY: 64.73\n",
      "n_estimators = 125   ACCURACY: 65.35\n",
      "n_estimators = 127   ACCURACY: 63.89\n",
      "n_estimators = 129   ACCURACY: 64.45\n",
      "n_estimators = 131   ACCURACY: 64.79\n",
      "n_estimators = 133   ACCURACY: 65.86\n",
      "n_estimators = 135   ACCURACY: 65.01\n",
      "n_estimators = 137   ACCURACY: 65.63\n",
      "n_estimators = 139   ACCURACY: 65.35\n",
      "n_estimators = 141   ACCURACY: 64.0\n",
      "n_estimators = 143   ACCURACY: 64.34\n",
      "n_estimators = 145   ACCURACY: 65.52\n",
      "n_estimators = 147   ACCURACY: 66.08\n",
      "n_estimators = 149   ACCURACY: 64.73\n",
      "n_estimators = 151   ACCURACY: 64.17\n",
      "n_estimators = 153   ACCURACY: 64.34\n",
      "n_estimators = 155   ACCURACY: 64.51\n",
      "n_estimators = 157   ACCURACY: 64.62\n",
      "n_estimators = 159   ACCURACY: 65.41\n",
      "n_estimators = 161   ACCURACY: 65.86\n",
      "n_estimators = 163   ACCURACY: 65.24\n",
      "n_estimators = 165   ACCURACY: 64.9\n",
      "n_estimators = 167   ACCURACY: 65.13\n",
      "n_estimators = 169   ACCURACY: 65.8\n",
      "n_estimators = 171   ACCURACY: 64.73\n",
      "n_estimators = 173   ACCURACY: 64.56\n",
      "n_estimators = 175   ACCURACY: 64.56\n",
      "n_estimators = 177   ACCURACY: 63.49\n",
      "n_estimators = 179   ACCURACY: 65.86\n",
      "n_estimators = 181   ACCURACY: 65.07\n",
      "n_estimators = 183   ACCURACY: 64.62\n",
      "n_estimators = 185   ACCURACY: 64.28\n",
      "n_estimators = 187   ACCURACY: 65.13\n",
      "n_estimators = 189   ACCURACY: 64.45\n",
      "n_estimators = 191   ACCURACY: 65.13\n",
      "n_estimators = 193   ACCURACY: 65.52\n",
      "n_estimators = 195   ACCURACY: 64.79\n",
      "n_estimators = 197   ACCURACY: 64.56\n",
      "n_estimators = 199   ACCURACY: 64.68\n",
      "# of trees: 105 66.08\n"
     ]
    }
   ],
   "source": [
    "best = 1\n",
    "highest = 0\n",
    "best_rf = 0\n",
    "\n",
    "for i in range(85, 200, 2):\n",
    "    rf = RandomForestClassifier(n_estimators = i)\n",
    "    rf.fit(X_train, y_train)\n",
    "    pred = rf.predict(X_test)\n",
    "    score = round(accuracy_score(pred, y_test)*10000)/100\n",
    "    print(\"n_estimators =\", i, \"  ACCURACY:\", score)\n",
    "    if score > highest:\n",
    "        highest = score\n",
    "        best = i\n",
    "        best_rf = rf\n",
    "        \n",
    "print(\"# of trees:\", best, highest)"
   ]
  },
  {
   "cell_type": "code",
   "execution_count": 158,
   "metadata": {},
   "outputs": [
    {
     "name": "stdout",
     "output_type": "stream",
     "text": [
      "ACCURACY: 0.6608450704225353\n"
     ]
    }
   ],
   "source": [
    "pred = best_rf.predict(X_test)\n",
    "print(\"ACCURACY:\", accuracy_score(pred, y_test))"
   ]
  },
  {
   "cell_type": "code",
   "execution_count": 159,
   "metadata": {},
   "outputs": [],
   "source": [
    "matrix = confusion_matrix(pred, y_test)"
   ]
  },
  {
   "cell_type": "code",
   "execution_count": 160,
   "metadata": {},
   "outputs": [
    {
     "ename": "ModuleNotFoundError",
     "evalue": "No module named 'seaborn'",
     "output_type": "error",
     "traceback": [
      "\u001b[1;31m---------------------------------------------------------------------------\u001b[0m",
      "\u001b[1;31mModuleNotFoundError\u001b[0m                       Traceback (most recent call last)",
      "\u001b[1;32m<ipython-input-160-d88b10f0f725>\u001b[0m in \u001b[0;36m<module>\u001b[1;34m\u001b[0m\n\u001b[1;32m----> 1\u001b[1;33m \u001b[1;32mimport\u001b[0m \u001b[0mseaborn\u001b[0m \u001b[1;32mas\u001b[0m \u001b[0msns\u001b[0m\u001b[1;33m\u001b[0m\u001b[1;33m\u001b[0m\u001b[0m\n\u001b[0m\u001b[0;32m      2\u001b[0m \u001b[0msns\u001b[0m\u001b[1;33m.\u001b[0m\u001b[0mheatmap\u001b[0m\u001b[1;33m(\u001b[0m\u001b[0mmatrix\u001b[0m\u001b[1;33m)\u001b[0m\u001b[1;33m\u001b[0m\u001b[1;33m\u001b[0m\u001b[0m\n",
      "\u001b[1;31mModuleNotFoundError\u001b[0m: No module named 'seaborn'"
     ]
    }
   ],
   "source": [
    "import seaborn as sns\n",
    "sns.heatmap(matrix)"
   ]
  },
  {
   "cell_type": "code",
   "execution_count": null,
   "metadata": {},
   "outputs": [],
   "source": []
  }
 ],
 "metadata": {
  "kernelspec": {
   "display_name": "Python 3",
   "language": "python",
   "name": "python3"
  },
  "language_info": {
   "codemirror_mode": {
    "name": "ipython",
    "version": 3
   },
   "file_extension": ".py",
   "mimetype": "text/x-python",
   "name": "python",
   "nbconvert_exporter": "python",
   "pygments_lexer": "ipython3",
   "version": "3.6.8"
  }
 },
 "nbformat": 4,
 "nbformat_minor": 4
}
