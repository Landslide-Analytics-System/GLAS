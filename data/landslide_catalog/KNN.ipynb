{
 "cells": [
  {
   "cell_type": "markdown",
   "metadata": {},
   "source": [
    "## KNN Classifier\n",
    "The model predicts the severity of the landslide (or if there will even be one) within the next 2 days, based on weather data from the past 5 days.\n",
    "Binary Classification yielded a maximum accuracy of 77.53%. Severity Classification (multiple classes) was around 56%."
   ]
  },
  {
   "cell_type": "code",
   "execution_count": 1,
   "metadata": {},
   "outputs": [],
   "source": [
    "import pandas as pd\n",
    "import numpy as np\n",
    "import matplotlib.pyplot as plt\n",
    "%matplotlib inline\n",
    "import sklearn\n",
    "from sklearn.utils import shuffle\n",
    "import pickle"
   ]
  },
  {
   "cell_type": "code",
   "execution_count": 2,
   "metadata": {},
   "outputs": [],
   "source": [
    "df = pd.read_csv(\"full_dataset_v1.csv\")"
   ]
  },
  {
   "cell_type": "code",
   "execution_count": 3,
   "metadata": {},
   "outputs": [
    {
     "data": {
      "text/plain": [
       "medium          6604\n",
       "small           1223\n",
       "large            851\n",
       "unknown          150\n",
       "very_large       112\n",
       "...               11\n",
       "catastrophic       2\n",
       "Name: severity, dtype: int64"
      ]
     },
     "execution_count": 3,
     "metadata": {},
     "output_type": "execute_result"
    }
   ],
   "source": [
    "df['severity'].value_counts()"
   ]
  },
  {
   "cell_type": "code",
   "execution_count": 4,
   "metadata": {},
   "outputs": [],
   "source": [
    "# filter by severity. na is for non-landslide data\n",
    "df = df[df['severity'].isin([\"medium\", \"small\", \"large\", \"very_large\", \"na\"])]"
   ]
  },
  {
   "cell_type": "code",
   "execution_count": 5,
   "metadata": {},
   "outputs": [
    {
     "name": "stdout",
     "output_type": "stream",
     "text": [
      "8790\n"
     ]
    }
   ],
   "source": [
    "df['severity'].value_counts()\n",
    "df = shuffle(df)\n",
    "df.reset_index(inplace=True, drop=True)\n",
    "print(len(df))"
   ]
  },
  {
   "cell_type": "code",
   "execution_count": 6,
   "metadata": {},
   "outputs": [
    {
     "data": {
      "text/html": [
       "<div>\n",
       "<style scoped>\n",
       "    .dataframe tbody tr th:only-of-type {\n",
       "        vertical-align: middle;\n",
       "    }\n",
       "\n",
       "    .dataframe tbody tr th {\n",
       "        vertical-align: top;\n",
       "    }\n",
       "\n",
       "    .dataframe thead th {\n",
       "        text-align: right;\n",
       "    }\n",
       "</style>\n",
       "<table border=\"1\" class=\"dataframe\">\n",
       "  <thead>\n",
       "    <tr style=\"text-align: right;\">\n",
       "      <th></th>\n",
       "      <th>precip7</th>\n",
       "      <th>wind7</th>\n",
       "      <th>precip6</th>\n",
       "      <th>wind6</th>\n",
       "      <th>precip5</th>\n",
       "      <th>wind5</th>\n",
       "      <th>precip4</th>\n",
       "      <th>wind4</th>\n",
       "      <th>precip3</th>\n",
       "      <th>wind3</th>\n",
       "      <th>precip2</th>\n",
       "      <th>label</th>\n",
       "      <th>severity</th>\n",
       "    </tr>\n",
       "  </thead>\n",
       "  <tbody>\n",
       "    <tr>\n",
       "      <th>0</th>\n",
       "      <td>1.2</td>\n",
       "      <td>11</td>\n",
       "      <td>3.3</td>\n",
       "      <td>8</td>\n",
       "      <td>0.5</td>\n",
       "      <td>9</td>\n",
       "      <td>1.6</td>\n",
       "      <td>11</td>\n",
       "      <td>0.4</td>\n",
       "      <td>14</td>\n",
       "      <td>0.7</td>\n",
       "      <td>0</td>\n",
       "      <td>medium</td>\n",
       "    </tr>\n",
       "    <tr>\n",
       "      <th>1</th>\n",
       "      <td>2.0</td>\n",
       "      <td>9</td>\n",
       "      <td>0.0</td>\n",
       "      <td>10</td>\n",
       "      <td>1.1</td>\n",
       "      <td>11</td>\n",
       "      <td>2.9</td>\n",
       "      <td>10</td>\n",
       "      <td>0.6</td>\n",
       "      <td>10</td>\n",
       "      <td>3.7</td>\n",
       "      <td>1</td>\n",
       "      <td>medium</td>\n",
       "    </tr>\n",
       "    <tr>\n",
       "      <th>2</th>\n",
       "      <td>0.3</td>\n",
       "      <td>21</td>\n",
       "      <td>3.7</td>\n",
       "      <td>25</td>\n",
       "      <td>10.5</td>\n",
       "      <td>32</td>\n",
       "      <td>6.1</td>\n",
       "      <td>28</td>\n",
       "      <td>12.9</td>\n",
       "      <td>31</td>\n",
       "      <td>7.9</td>\n",
       "      <td>0</td>\n",
       "      <td>medium</td>\n",
       "    </tr>\n",
       "    <tr>\n",
       "      <th>3</th>\n",
       "      <td>0.0</td>\n",
       "      <td>7</td>\n",
       "      <td>0.2</td>\n",
       "      <td>4</td>\n",
       "      <td>0.1</td>\n",
       "      <td>6</td>\n",
       "      <td>0.0</td>\n",
       "      <td>4</td>\n",
       "      <td>0.1</td>\n",
       "      <td>5</td>\n",
       "      <td>0.6</td>\n",
       "      <td>0</td>\n",
       "      <td>small</td>\n",
       "    </tr>\n",
       "    <tr>\n",
       "      <th>4</th>\n",
       "      <td>0.2</td>\n",
       "      <td>10</td>\n",
       "      <td>0.3</td>\n",
       "      <td>7</td>\n",
       "      <td>0.8</td>\n",
       "      <td>10</td>\n",
       "      <td>0.5</td>\n",
       "      <td>10</td>\n",
       "      <td>11.5</td>\n",
       "      <td>8</td>\n",
       "      <td>0.1</td>\n",
       "      <td>1</td>\n",
       "      <td>medium</td>\n",
       "    </tr>\n",
       "    <tr>\n",
       "      <th>...</th>\n",
       "      <td>...</td>\n",
       "      <td>...</td>\n",
       "      <td>...</td>\n",
       "      <td>...</td>\n",
       "      <td>...</td>\n",
       "      <td>...</td>\n",
       "      <td>...</td>\n",
       "      <td>...</td>\n",
       "      <td>...</td>\n",
       "      <td>...</td>\n",
       "      <td>...</td>\n",
       "      <td>...</td>\n",
       "      <td>...</td>\n",
       "    </tr>\n",
       "    <tr>\n",
       "      <th>8785</th>\n",
       "      <td>0.1</td>\n",
       "      <td>12</td>\n",
       "      <td>0.1</td>\n",
       "      <td>12</td>\n",
       "      <td>0.0</td>\n",
       "      <td>14</td>\n",
       "      <td>0.0</td>\n",
       "      <td>13</td>\n",
       "      <td>0.5</td>\n",
       "      <td>14</td>\n",
       "      <td>4.4</td>\n",
       "      <td>1</td>\n",
       "      <td>small</td>\n",
       "    </tr>\n",
       "    <tr>\n",
       "      <th>8786</th>\n",
       "      <td>0.8</td>\n",
       "      <td>9</td>\n",
       "      <td>1.3</td>\n",
       "      <td>9</td>\n",
       "      <td>0.2</td>\n",
       "      <td>9</td>\n",
       "      <td>1.5</td>\n",
       "      <td>9</td>\n",
       "      <td>3.1</td>\n",
       "      <td>7</td>\n",
       "      <td>0.7</td>\n",
       "      <td>0</td>\n",
       "      <td>medium</td>\n",
       "    </tr>\n",
       "    <tr>\n",
       "      <th>8787</th>\n",
       "      <td>2.4</td>\n",
       "      <td>17</td>\n",
       "      <td>0.7</td>\n",
       "      <td>15</td>\n",
       "      <td>0.7</td>\n",
       "      <td>15</td>\n",
       "      <td>0.4</td>\n",
       "      <td>15</td>\n",
       "      <td>0.8</td>\n",
       "      <td>17</td>\n",
       "      <td>0.0</td>\n",
       "      <td>1</td>\n",
       "      <td>medium</td>\n",
       "    </tr>\n",
       "    <tr>\n",
       "      <th>8788</th>\n",
       "      <td>0.0</td>\n",
       "      <td>12</td>\n",
       "      <td>0.1</td>\n",
       "      <td>12</td>\n",
       "      <td>1.9</td>\n",
       "      <td>13</td>\n",
       "      <td>1.6</td>\n",
       "      <td>12</td>\n",
       "      <td>0.5</td>\n",
       "      <td>10</td>\n",
       "      <td>0.7</td>\n",
       "      <td>1</td>\n",
       "      <td>medium</td>\n",
       "    </tr>\n",
       "    <tr>\n",
       "      <th>8789</th>\n",
       "      <td>2.4</td>\n",
       "      <td>11</td>\n",
       "      <td>2.1</td>\n",
       "      <td>14</td>\n",
       "      <td>1.1</td>\n",
       "      <td>18</td>\n",
       "      <td>0.5</td>\n",
       "      <td>21</td>\n",
       "      <td>1.7</td>\n",
       "      <td>17</td>\n",
       "      <td>1.1</td>\n",
       "      <td>0</td>\n",
       "      <td>small</td>\n",
       "    </tr>\n",
       "  </tbody>\n",
       "</table>\n",
       "<p>8790 rows × 13 columns</p>\n",
       "</div>"
      ],
      "text/plain": [
       "      precip7  wind7  precip6  wind6  precip5  wind5  precip4  wind4  precip3  \\\n",
       "0         1.2     11      3.3      8      0.5      9      1.6     11      0.4   \n",
       "1         2.0      9      0.0     10      1.1     11      2.9     10      0.6   \n",
       "2         0.3     21      3.7     25     10.5     32      6.1     28     12.9   \n",
       "3         0.0      7      0.2      4      0.1      6      0.0      4      0.1   \n",
       "4         0.2     10      0.3      7      0.8     10      0.5     10     11.5   \n",
       "...       ...    ...      ...    ...      ...    ...      ...    ...      ...   \n",
       "8785      0.1     12      0.1     12      0.0     14      0.0     13      0.5   \n",
       "8786      0.8      9      1.3      9      0.2      9      1.5      9      3.1   \n",
       "8787      2.4     17      0.7     15      0.7     15      0.4     15      0.8   \n",
       "8788      0.0     12      0.1     12      1.9     13      1.6     12      0.5   \n",
       "8789      2.4     11      2.1     14      1.1     18      0.5     21      1.7   \n",
       "\n",
       "      wind3  precip2  label severity  \n",
       "0        14      0.7      0   medium  \n",
       "1        10      3.7      1   medium  \n",
       "2        31      7.9      0   medium  \n",
       "3         5      0.6      0    small  \n",
       "4         8      0.1      1   medium  \n",
       "...     ...      ...    ...      ...  \n",
       "8785     14      4.4      1    small  \n",
       "8786      7      0.7      0   medium  \n",
       "8787     17      0.0      1   medium  \n",
       "8788     10      0.7      1   medium  \n",
       "8789     17      1.1      0    small  \n",
       "\n",
       "[8790 rows x 13 columns]"
      ]
     },
     "execution_count": 6,
     "metadata": {},
     "output_type": "execute_result"
    }
   ],
   "source": [
    "X = df.copy()\n",
    "\n",
    "X.drop(X.columns[[i for i in range(0, 151)]], axis = 1, inplace = True)\n",
    "# X.drop(X.columns[[i for i in range(20, 35)]], axis = 1, inplace = True)\n",
    "X[\"severity\"] = df[\"severity\"]\n",
    "X.drop(X.columns[[0]], axis = 1, inplace = True)\n",
    "\n",
    "X = X.dropna()\n",
    "for i in range(0, 8):\n",
    "    del X['air' + str(i)]\n",
    "    del X['temp' + str(i)]\n",
    "    del X['humidity' + str(i)]\n",
    "    \n",
    "X.drop(X.columns[[i for i in range(len(X.columns)-8, len(X.columns)-2)]], axis = 1, inplace = True)\n",
    "X"
   ]
  },
  {
   "cell_type": "markdown",
   "metadata": {},
   "source": [
    "### Generate Labels\n",
    "For binary classification, pass `True` into the function call"
   ]
  },
  {
   "cell_type": "code",
   "execution_count": 7,
   "metadata": {},
   "outputs": [],
   "source": [
    "def generate_labels(binary = False):\n",
    "    y = []\n",
    "    idx_to_severity = [\"na\", \"small\", \"medium\", \"large\", \"very_large\"]\n",
    "    for severity in X.severity:\n",
    "        if binary:\n",
    "            y.append(idx_to_severity.index(severity))\n",
    "        elif severity == \"na\":\n",
    "            y.append(0)\n",
    "        else:\n",
    "            y.append(1)\n",
    "    X.drop(X.columns[[-1]], axis = 1, inplace = True)\n",
    "    print(y.count(1))\n",
    "    return y"
   ]
  },
  {
   "cell_type": "code",
   "execution_count": 8,
   "metadata": {},
   "outputs": [
    {
     "name": "stdout",
     "output_type": "stream",
     "text": [
      "8790\n"
     ]
    }
   ],
   "source": [
    "y = generate_labels()"
   ]
  },
  {
   "cell_type": "markdown",
   "metadata": {},
   "source": [
    "## Scaling"
   ]
  },
  {
   "cell_type": "code",
   "execution_count": 9,
   "metadata": {},
   "outputs": [],
   "source": [
    "from sklearn.model_selection import train_test_split\n",
    "from sklearn.preprocessing import StandardScaler\n",
    "X_train, X_test, y_train, y_test = train_test_split(X, y, test_size = 0.2)\n",
    "\n",
    "scaler = StandardScaler()\n",
    "scaler.fit(X_train)\n",
    "\n",
    "X_train = scaler.transform(X_train)\n",
    "X_test = scaler.transform(X_test)"
   ]
  },
  {
   "cell_type": "markdown",
   "metadata": {},
   "source": [
    "## Prediction"
   ]
  },
  {
   "cell_type": "code",
   "execution_count": 10,
   "metadata": {},
   "outputs": [
    {
     "data": {
      "text/plain": [
       "KNeighborsClassifier(algorithm='auto', leaf_size=30, metric='minkowski',\n",
       "                     metric_params=None, n_jobs=None, n_neighbors=17, p=2,\n",
       "                     weights='uniform')"
      ]
     },
     "execution_count": 10,
     "metadata": {},
     "output_type": "execute_result"
    }
   ],
   "source": [
    "from sklearn.neighbors import KNeighborsClassifier\n",
    "knn = KNeighborsClassifier(n_neighbors=17)\n",
    "knn.fit(X_train, y_train)"
   ]
  },
  {
   "cell_type": "code",
   "execution_count": 14,
   "metadata": {},
   "outputs": [
    {
     "name": "stdout",
     "output_type": "stream",
     "text": [
      "ACCURACY: 1.0\n"
     ]
    }
   ],
   "source": [
    "from sklearn.metrics import accuracy_score, confusion_matrix\n",
    "\n",
    "pred = knn.predict(X_test)\n",
    "print(\"ACCURACY:\", accuracy_score(pred, y_test))\n",
    "matrix = confusion_matrix(pred, y_test)"
   ]
  },
  {
   "cell_type": "code",
   "execution_count": null,
   "metadata": {},
   "outputs": [
    {
     "name": "stdout",
     "output_type": "stream",
     "text": [
      "k = 1   ACCURACY: 100.0\n",
      "k = 2   ACCURACY: 100.0\n",
      "k = 3   ACCURACY: 100.0\n",
      "k = 4   ACCURACY: 100.0\n",
      "k = 5   ACCURACY: 100.0\n",
      "k = 6   ACCURACY: 100.0\n",
      "k = 7   ACCURACY: 100.0\n",
      "k = 8   ACCURACY: 100.0\n",
      "k = 9   ACCURACY: 100.0\n",
      "k = 10   ACCURACY: 100.0\n",
      "k = 11   ACCURACY: 100.0\n",
      "k = 12   ACCURACY: 100.0\n",
      "k = 13   ACCURACY: 100.0\n",
      "k = 14   ACCURACY: 100.0\n",
      "k = 15   ACCURACY: 100.0\n",
      "k = 16   ACCURACY: 100.0\n",
      "k = 17   ACCURACY: 100.0\n",
      "k = 18   ACCURACY: 100.0\n",
      "k = 19   ACCURACY: 100.0\n",
      "k = 20   ACCURACY: 100.0\n",
      "k = 21   ACCURACY: 100.0\n",
      "k = 22   ACCURACY: 100.0\n",
      "k = 23   ACCURACY: 100.0\n",
      "k = 24   ACCURACY: 100.0\n",
      "k = 25   ACCURACY: 100.0\n",
      "k = 26   ACCURACY: 100.0\n",
      "k = 27   ACCURACY: 100.0\n",
      "k = 28   ACCURACY: 100.0\n",
      "k = 29   ACCURACY: 100.0\n",
      "k = 30   ACCURACY: 100.0\n",
      "k = 31   ACCURACY: 100.0\n",
      "k = 32   ACCURACY: 100.0\n",
      "k = 33   ACCURACY: 100.0\n",
      "k = 34   ACCURACY: 100.0\n",
      "k = 35   ACCURACY: 100.0\n",
      "k = 36   ACCURACY: 100.0\n",
      "k = 37   ACCURACY: 100.0\n",
      "k = 38   ACCURACY: 100.0\n",
      "k = 39   ACCURACY: 100.0\n",
      "k = 40   ACCURACY: 100.0\n",
      "k = 41   ACCURACY: 100.0\n",
      "k = 42   ACCURACY: 100.0\n",
      "k = 43   ACCURACY: 100.0\n",
      "k = 44   ACCURACY: 100.0\n",
      "k = 45   ACCURACY: 100.0\n",
      "k = 46   ACCURACY: 100.0\n",
      "k = 47   ACCURACY: 100.0\n",
      "k = 48   ACCURACY: 100.0\n",
      "k = 49   ACCURACY: 100.0\n",
      "k = 50   ACCURACY: 100.0\n",
      "k = 51   ACCURACY: 100.0\n",
      "k = 52   ACCURACY: 100.0\n",
      "k = 53   ACCURACY: 100.0\n",
      "k = 54   ACCURACY: 100.0\n",
      "k = 55   ACCURACY: 100.0\n",
      "k = 56   ACCURACY: 100.0\n",
      "k = 57   ACCURACY: 100.0\n",
      "k = 58   ACCURACY: 100.0\n",
      "k = 59   ACCURACY: 100.0\n",
      "k = 60   ACCURACY: 100.0\n",
      "k = 61   ACCURACY: 100.0\n",
      "k = 62   ACCURACY: 100.0\n",
      "k = 63   ACCURACY: 100.0\n",
      "k = 64   ACCURACY: 100.0\n",
      "k = 65   ACCURACY: 100.0\n",
      "k = 66   ACCURACY: 100.0\n",
      "k = 67   ACCURACY: 100.0\n",
      "k = 68   ACCURACY: 100.0\n",
      "k = 69   ACCURACY: 100.0\n",
      "k = 70   ACCURACY: 100.0\n",
      "k = 71   ACCURACY: 100.0\n",
      "k = 72   ACCURACY: 100.0\n",
      "k = 73   ACCURACY: 100.0\n",
      "k = 74   ACCURACY: 100.0\n",
      "k = 75   ACCURACY: 100.0\n",
      "k = 76   ACCURACY: 100.0\n",
      "k = 77   ACCURACY: 100.0\n",
      "k = 78   ACCURACY: 100.0\n",
      "k = 79   ACCURACY: 100.0\n",
      "k = 80   ACCURACY: 100.0\n",
      "k = 81   ACCURACY: 100.0\n",
      "k = 82   ACCURACY: 100.0\n",
      "k = 83   ACCURACY: 100.0\n",
      "k = 84   ACCURACY: 100.0\n",
      "k = 85   ACCURACY: 100.0\n",
      "k = 86   ACCURACY: 100.0\n",
      "k = 87   ACCURACY: 100.0\n",
      "k = 88   ACCURACY: 100.0\n",
      "k = 89   ACCURACY: 100.0\n",
      "k = 90   ACCURACY: 100.0\n",
      "k = 91   ACCURACY: 100.0\n",
      "k = 92   ACCURACY: 100.0\n",
      "k = 93   ACCURACY: 100.0\n",
      "k = 94   ACCURACY: 100.0\n",
      "k = 95   ACCURACY: 100.0\n",
      "k = 96   ACCURACY: 100.0\n",
      "k = 97   ACCURACY: 100.0\n",
      "k = 98   ACCURACY: 100.0\n",
      "k = 99   ACCURACY: 100.0\n",
      "k = 100   ACCURACY: 100.0\n"
     ]
    }
   ],
   "source": [
    "best = 1\n",
    "highest = 0\n",
    "\n",
    "for i in range(1, 130):\n",
    "    knn = KNeighborsClassifier(n_neighbors=i)\n",
    "    knn.fit(X_train, y_train)\n",
    "    pred = knn.predict(X_test)\n",
    "    score = round(accuracy_score(pred, y_test)*10000)/100\n",
    "    print(\"k =\", i, \"  ACCURACY:\", score)\n",
    "    if score > highest:\n",
    "        highest = score\n",
    "        best = i\n",
    "print(\"Best k:\", best, highest)"
   ]
  },
  {
   "cell_type": "code",
   "execution_count": null,
   "metadata": {},
   "outputs": [],
   "source": []
  }
 ],
 "metadata": {
  "kernelspec": {
   "display_name": "Python 3",
   "language": "python",
   "name": "python3"
  },
  "language_info": {
   "codemirror_mode": {
    "name": "ipython",
    "version": 3
   },
   "file_extension": ".py",
   "mimetype": "text/x-python",
   "name": "python",
   "nbconvert_exporter": "python",
   "pygments_lexer": "ipython3",
   "version": "3.6.8"
  }
 },
 "nbformat": 4,
 "nbformat_minor": 4
}
