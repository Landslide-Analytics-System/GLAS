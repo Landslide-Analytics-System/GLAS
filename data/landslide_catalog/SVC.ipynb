{
 "cells": [
  {
   "cell_type": "markdown",
   "metadata": {},
   "source": [
    "## SVC Classifier\n",
    "The model predicts the severity of the landslide (or if there will even be one) within the next 2 days, based on weather data from the past 5 days."
   ]
  },
  {
   "cell_type": "code",
   "execution_count": 58,
   "metadata": {},
   "outputs": [],
   "source": [
    "import pandas as pd\n",
    "import numpy as np\n",
    "import matplotlib.pyplot as plt\n",
    "%matplotlib inline\n",
    "import sklearn\n",
    "from sklearn.utils import shuffle\n",
    "import pickle"
   ]
  },
  {
   "cell_type": "code",
   "execution_count": 59,
   "metadata": {},
   "outputs": [
    {
     "name": "stderr",
     "output_type": "stream",
     "text": [
      "/Library/Frameworks/Python.framework/Versions/3.7/lib/python3.7/site-packages/IPython/core/interactiveshell.py:3146: DtypeWarning: Columns (6,7,12,13,14,15,16,17,18,19,20,21,22,23,24,25,26,27,28,29,30,31,32,33,34,35,36,37,38,39,40,41,42,43,44,45,46,47,48,49,50,51,52,53,54,55,56,57,58,59,60,61,62,63,64,65,66,67,68,69,70,71,72,73,74,75,76,77,78,79,80,81,82,83,84,85,86,87,88,89,90,91,92,93,94,95,96,97,98,99,100,101,102,103,104,105,106,107,108,109,110,111,112,113,114,115,116,117,118,119,120,121,122,123,124,125,126,127,128,129,130,131,132,133,134,135,136,137,138,139,140,141) have mixed types.Specify dtype option on import or set low_memory=False.\n",
      "  interactivity=interactivity, compiler=compiler, result=result)\n"
     ]
    }
   ],
   "source": [
    "df = pd.read_csv(\"full_dataset_v1.csv\")"
   ]
  },
  {
   "cell_type": "code",
   "execution_count": 60,
   "metadata": {},
   "outputs": [
    {
     "data": {
      "text/plain": [
       "medium          3300\n",
       "na              1321\n",
       "small            613\n",
       "large            427\n",
       "unknown           75\n",
       "very_large        56\n",
       "...                5\n",
       "catastrophic       1\n",
       "Name: severity, dtype: int64"
      ]
     },
     "execution_count": 60,
     "metadata": {},
     "output_type": "execute_result"
    }
   ],
   "source": [
    "df['severity'].value_counts()"
   ]
  },
  {
   "cell_type": "code",
   "execution_count": 61,
   "metadata": {},
   "outputs": [],
   "source": [
    "# filter by severity. na is for non-landslide data\n",
    "df = df[df['severity'].isin([\"medium\", \"small\", \"large\", \"very_large\", \"na\"])]"
   ]
  },
  {
   "cell_type": "code",
   "execution_count": 62,
   "metadata": {},
   "outputs": [
    {
     "name": "stdout",
     "output_type": "stream",
     "text": [
      "5717\n"
     ]
    }
   ],
   "source": [
    "df['severity'].value_counts()\n",
    "df = shuffle(df)\n",
    "df.reset_index(inplace=True, drop=True)\n",
    "print(len(df))"
   ]
  },
  {
   "cell_type": "code",
   "execution_count": 69,
   "metadata": {},
   "outputs": [
    {
     "data": {
      "text/html": [
       "<div>\n",
       "<style scoped>\n",
       "    .dataframe tbody tr th:only-of-type {\n",
       "        vertical-align: middle;\n",
       "    }\n",
       "\n",
       "    .dataframe tbody tr th {\n",
       "        vertical-align: top;\n",
       "    }\n",
       "\n",
       "    .dataframe thead th {\n",
       "        text-align: right;\n",
       "    }\n",
       "</style>\n",
       "<table border=\"1\" class=\"dataframe\">\n",
       "  <thead>\n",
       "    <tr style=\"text-align: right;\">\n",
       "      <th></th>\n",
       "      <th>precip7</th>\n",
       "      <th>wind7</th>\n",
       "      <th>precip6</th>\n",
       "      <th>wind6</th>\n",
       "      <th>precip5</th>\n",
       "      <th>wind5</th>\n",
       "      <th>precip4</th>\n",
       "      <th>wind4</th>\n",
       "      <th>precip3</th>\n",
       "      <th>wind3</th>\n",
       "      <th>slope</th>\n",
       "      <th>severity</th>\n",
       "    </tr>\n",
       "  </thead>\n",
       "  <tbody>\n",
       "    <tr>\n",
       "      <th>0</th>\n",
       "      <td>2.9</td>\n",
       "      <td>12.0</td>\n",
       "      <td>1.0</td>\n",
       "      <td>9.0</td>\n",
       "      <td>15.6</td>\n",
       "      <td>7.0</td>\n",
       "      <td>0.3</td>\n",
       "      <td>6.0</td>\n",
       "      <td>7.3</td>\n",
       "      <td>7.0</td>\n",
       "      <td>8.0</td>\n",
       "      <td>small</td>\n",
       "    </tr>\n",
       "    <tr>\n",
       "      <th>1</th>\n",
       "      <td>0.0</td>\n",
       "      <td>12.0</td>\n",
       "      <td>0.3</td>\n",
       "      <td>11.0</td>\n",
       "      <td>0.0</td>\n",
       "      <td>11.0</td>\n",
       "      <td>0.0</td>\n",
       "      <td>12.0</td>\n",
       "      <td>0.0</td>\n",
       "      <td>12.0</td>\n",
       "      <td>125.0</td>\n",
       "      <td>medium</td>\n",
       "    </tr>\n",
       "    <tr>\n",
       "      <th>2</th>\n",
       "      <td>0.7</td>\n",
       "      <td>35.0</td>\n",
       "      <td>0.0</td>\n",
       "      <td>25.0</td>\n",
       "      <td>0.0</td>\n",
       "      <td>12.0</td>\n",
       "      <td>0.1</td>\n",
       "      <td>23.0</td>\n",
       "      <td>0.0</td>\n",
       "      <td>28.0</td>\n",
       "      <td>42.0</td>\n",
       "      <td>medium</td>\n",
       "    </tr>\n",
       "    <tr>\n",
       "      <th>3</th>\n",
       "      <td>0.1</td>\n",
       "      <td>3.0</td>\n",
       "      <td>0.5</td>\n",
       "      <td>3.0</td>\n",
       "      <td>0.0</td>\n",
       "      <td>5.0</td>\n",
       "      <td>0.1</td>\n",
       "      <td>4.0</td>\n",
       "      <td>0.4</td>\n",
       "      <td>7.0</td>\n",
       "      <td>170.0</td>\n",
       "      <td>na</td>\n",
       "    </tr>\n",
       "    <tr>\n",
       "      <th>4</th>\n",
       "      <td>1.7</td>\n",
       "      <td>10.0</td>\n",
       "      <td>3.6</td>\n",
       "      <td>10.0</td>\n",
       "      <td>8.1</td>\n",
       "      <td>16.0</td>\n",
       "      <td>3.3</td>\n",
       "      <td>11.0</td>\n",
       "      <td>0.1</td>\n",
       "      <td>10.0</td>\n",
       "      <td>26.0</td>\n",
       "      <td>na</td>\n",
       "    </tr>\n",
       "    <tr>\n",
       "      <th>...</th>\n",
       "      <td>...</td>\n",
       "      <td>...</td>\n",
       "      <td>...</td>\n",
       "      <td>...</td>\n",
       "      <td>...</td>\n",
       "      <td>...</td>\n",
       "      <td>...</td>\n",
       "      <td>...</td>\n",
       "      <td>...</td>\n",
       "      <td>...</td>\n",
       "      <td>...</td>\n",
       "      <td>...</td>\n",
       "    </tr>\n",
       "    <tr>\n",
       "      <th>5712</th>\n",
       "      <td>0.0</td>\n",
       "      <td>12.0</td>\n",
       "      <td>0.4</td>\n",
       "      <td>11.0</td>\n",
       "      <td>0.0</td>\n",
       "      <td>10.0</td>\n",
       "      <td>0.0</td>\n",
       "      <td>12.0</td>\n",
       "      <td>0.0</td>\n",
       "      <td>10.0</td>\n",
       "      <td>99.0</td>\n",
       "      <td>large</td>\n",
       "    </tr>\n",
       "    <tr>\n",
       "      <th>5713</th>\n",
       "      <td>20.9</td>\n",
       "      <td>29.0</td>\n",
       "      <td>4.1</td>\n",
       "      <td>18.0</td>\n",
       "      <td>6.2</td>\n",
       "      <td>20.0</td>\n",
       "      <td>3.2</td>\n",
       "      <td>26.0</td>\n",
       "      <td>3.6</td>\n",
       "      <td>23.0</td>\n",
       "      <td>47.0</td>\n",
       "      <td>medium</td>\n",
       "    </tr>\n",
       "    <tr>\n",
       "      <th>5714</th>\n",
       "      <td>0.5</td>\n",
       "      <td>17.0</td>\n",
       "      <td>0.0</td>\n",
       "      <td>15.0</td>\n",
       "      <td>0.0</td>\n",
       "      <td>17.0</td>\n",
       "      <td>0.0</td>\n",
       "      <td>18.0</td>\n",
       "      <td>0.0</td>\n",
       "      <td>18.0</td>\n",
       "      <td>97.0</td>\n",
       "      <td>na</td>\n",
       "    </tr>\n",
       "    <tr>\n",
       "      <th>5715</th>\n",
       "      <td>2.4</td>\n",
       "      <td>17.0</td>\n",
       "      <td>1.8</td>\n",
       "      <td>14.0</td>\n",
       "      <td>3.5</td>\n",
       "      <td>15.0</td>\n",
       "      <td>3.0</td>\n",
       "      <td>15.0</td>\n",
       "      <td>6.9</td>\n",
       "      <td>17.0</td>\n",
       "      <td>68.0</td>\n",
       "      <td>medium</td>\n",
       "    </tr>\n",
       "    <tr>\n",
       "      <th>5716</th>\n",
       "      <td>2.4</td>\n",
       "      <td>7.0</td>\n",
       "      <td>0.3</td>\n",
       "      <td>7.0</td>\n",
       "      <td>0.8</td>\n",
       "      <td>7.0</td>\n",
       "      <td>0.9</td>\n",
       "      <td>8.0</td>\n",
       "      <td>3.0</td>\n",
       "      <td>6.0</td>\n",
       "      <td>27.0</td>\n",
       "      <td>na</td>\n",
       "    </tr>\n",
       "  </tbody>\n",
       "</table>\n",
       "<p>5716 rows × 12 columns</p>\n",
       "</div>"
      ],
      "text/plain": [
       "      precip7  wind7  precip6  wind6  precip5  wind5  precip4  wind4  precip3  \\\n",
       "0         2.9   12.0      1.0    9.0     15.6    7.0      0.3    6.0      7.3   \n",
       "1         0.0   12.0      0.3   11.0      0.0   11.0      0.0   12.0      0.0   \n",
       "2         0.7   35.0      0.0   25.0      0.0   12.0      0.1   23.0      0.0   \n",
       "3         0.1    3.0      0.5    3.0      0.0    5.0      0.1    4.0      0.4   \n",
       "4         1.7   10.0      3.6   10.0      8.1   16.0      3.3   11.0      0.1   \n",
       "...       ...    ...      ...    ...      ...    ...      ...    ...      ...   \n",
       "5712      0.0   12.0      0.4   11.0      0.0   10.0      0.0   12.0      0.0   \n",
       "5713     20.9   29.0      4.1   18.0      6.2   20.0      3.2   26.0      3.6   \n",
       "5714      0.5   17.0      0.0   15.0      0.0   17.0      0.0   18.0      0.0   \n",
       "5715      2.4   17.0      1.8   14.0      3.5   15.0      3.0   15.0      6.9   \n",
       "5716      2.4    7.0      0.3    7.0      0.8    7.0      0.9    8.0      3.0   \n",
       "\n",
       "      wind3  slope severity  \n",
       "0       7.0    8.0    small  \n",
       "1      12.0  125.0   medium  \n",
       "2      28.0   42.0   medium  \n",
       "3       7.0  170.0       na  \n",
       "4      10.0   26.0       na  \n",
       "...     ...    ...      ...  \n",
       "5712   10.0   99.0    large  \n",
       "5713   23.0   47.0   medium  \n",
       "5714   18.0   97.0       na  \n",
       "5715   17.0   68.0   medium  \n",
       "5716    6.0   27.0       na  \n",
       "\n",
       "[5716 rows x 12 columns]"
      ]
     },
     "execution_count": 69,
     "metadata": {},
     "output_type": "execute_result"
    }
   ],
   "source": [
    "X = df.copy()\n",
    "\n",
    "X.drop(X.columns[[i for i in range(0, 151)]], axis = 1, inplace = True)\n",
    "# X.drop(X.columns[[i for i in range(20, 35)]], axis = 1, inplace = True)\n",
    "X[\"severity\"] = df[\"severity\"]\n",
    "X.drop(X.columns[[0]], axis = 1, inplace = True)\n",
    "\n",
    "X = X.dropna()\n",
    "for i in range(0, 8):\n",
    "    del X['air' + str(i)]\n",
    "    del X['temp' + str(i)]\n",
    "    del X['humidity' + str(i)]\n",
    "    \n",
    "X.drop(X.columns[[i for i in range(len(X.columns)-8, len(X.columns)-2)]], axis = 1, inplace = True)\n",
    "X"
   ]
  },
  {
   "cell_type": "code",
   "execution_count": 70,
   "metadata": {},
   "outputs": [],
   "source": [
    "def generate_labels(binary = False):\n",
    "    y = []\n",
    "    idx_to_severity = [\"na\", \"small\", \"medium\", \"large\", \"very_large\"]\n",
    "    for severity in X.severity:\n",
    "        if binary:\n",
    "            y.append(idx_to_severity.index(severity))\n",
    "        elif severity == \"na\":\n",
    "            y.append(0)\n",
    "        else:\n",
    "            y.append(1)\n",
    "    X.drop(X.columns[[-1]], axis = 1, inplace = True)\n",
    "    print(y.count(1))\n",
    "    return y"
   ]
  },
  {
   "cell_type": "code",
   "execution_count": 71,
   "metadata": {},
   "outputs": [
    {
     "name": "stdout",
     "output_type": "stream",
     "text": [
      "613\n"
     ]
    }
   ],
   "source": [
    "y = generate_labels(True)"
   ]
  },
  {
   "cell_type": "markdown",
   "metadata": {},
   "source": [
    "## Scaling"
   ]
  },
  {
   "cell_type": "code",
   "execution_count": 72,
   "metadata": {},
   "outputs": [],
   "source": [
    "from sklearn.model_selection import train_test_split\n",
    "from sklearn.preprocessing import StandardScaler\n",
    "X_train, X_test, y_train, y_test = train_test_split(X, y, test_size = 0.2)\n",
    "\n",
    "scaler = StandardScaler()\n",
    "scaler.fit(X_train)\n",
    "\n",
    "X_train = scaler.transform(X_train)\n",
    "X_test = scaler.transform(X_test)"
   ]
  },
  {
   "cell_type": "markdown",
   "metadata": {},
   "source": [
    "## PCA"
   ]
  },
  {
   "cell_type": "code",
   "execution_count": 73,
   "metadata": {},
   "outputs": [
    {
     "data": {
      "text/plain": [
       "array([0.36520976, 0.22117808, 0.09102161, 0.0785012 , 0.06158014,\n",
       "       0.05319635, 0.04622439])"
      ]
     },
     "execution_count": 73,
     "metadata": {},
     "output_type": "execute_result"
    }
   ],
   "source": [
    "from sklearn.decomposition import PCA\n",
    "pca = PCA(0.9)\n",
    "\n",
    "principalComponents = pca.fit_transform(X_train)\n",
    "pca.explained_variance_ratio_"
   ]
  },
  {
   "cell_type": "code",
   "execution_count": 74,
   "metadata": {},
   "outputs": [],
   "source": [
    "X_train = pca.transform(X_train)\n",
    "X_test = pca.transform(X_test)"
   ]
  },
  {
   "cell_type": "code",
   "execution_count": 75,
   "metadata": {},
   "outputs": [],
   "source": [
    "from sklearn.svm import SVC\n",
    "svclassifier = SVC(kernel='rbf', verbose = True)"
   ]
  },
  {
   "cell_type": "code",
   "execution_count": 76,
   "metadata": {},
   "outputs": [
    {
     "name": "stdout",
     "output_type": "stream",
     "text": [
      "[LibSVM]"
     ]
    },
    {
     "data": {
      "text/plain": [
       "SVC(verbose=True)"
      ]
     },
     "execution_count": 76,
     "metadata": {},
     "output_type": "execute_result"
    }
   ],
   "source": [
    "svclassifier.fit(X_train, y_train)"
   ]
  },
  {
   "cell_type": "code",
   "execution_count": 77,
   "metadata": {},
   "outputs": [
    {
     "name": "stdout",
     "output_type": "stream",
     "text": [
      "ACCURACY: 0.5812937062937062\n"
     ]
    }
   ],
   "source": [
    "from sklearn.metrics import accuracy_score\n",
    "pred = svclassifier.predict(X_test)\n",
    "print(\"ACCURACY:\" ,accuracy_score(pred, y_test))"
   ]
  },
  {
   "cell_type": "markdown",
   "metadata": {},
   "source": [
    "## Testing gamma and c"
   ]
  },
  {
   "cell_type": "code",
   "execution_count": 78,
   "metadata": {},
   "outputs": [
    {
     "name": "stdout",
     "output_type": "stream",
     "text": [
      "[LibSVM]1 0.1 : 0.5812937062937062\n",
      "[LibSVM]1 1 : 0.5865384615384616\n",
      "[LibSVM]1 10 : 0.6031468531468531\n",
      "[LibSVM]1 100 : 0.6153846153846154\n",
      "[LibSVM]10 0.1 : 0.583041958041958\n",
      "[LibSVM]10 1 : 0.5629370629370629\n",
      "[LibSVM]10 10 : 0.5821678321678322\n",
      "[LibSVM]10 100 : 0.6092657342657343\n",
      "[LibSVM]100 0.1 : 0.5655594405594405\n",
      "[LibSVM]100 1 : 0.5218531468531469\n",
      "[LibSVM]100 10 : 0.5865384615384616\n",
      "[LibSVM]100 100 : 0.6092657342657343\n"
     ]
    }
   ],
   "source": [
    "from sklearn.metrics import accuracy_score\n",
    "C_range =[1, 10, 100]\n",
    "gamma_range = [0.1, 1, 10, 100]\n",
    "for c in C_range:\n",
    "    for g in gamma_range:\n",
    "        svc2 = SVC(kernel='rbf', gamma=g,C=c, verbose = True)\n",
    "        svc2.fit(X_train, y_train)\n",
    "        print(c, g, \":\",accuracy_score(y_test, svc2.predict(X_test)))"
   ]
  },
  {
   "cell_type": "code",
   "execution_count": 79,
   "metadata": {},
   "outputs": [
    {
     "data": {
      "text/plain": [
       "0.6092657342657343"
      ]
     },
     "execution_count": 79,
     "metadata": {},
     "output_type": "execute_result"
    }
   ],
   "source": [
    "accuracy_score(y_test, svc2.predict(X_test))"
   ]
  }
 ],
 "metadata": {
  "kernelspec": {
   "display_name": "Python 3",
   "language": "python",
   "name": "python3"
  },
  "language_info": {
   "codemirror_mode": {
    "name": "ipython",
    "version": 3
   },
   "file_extension": ".py",
   "mimetype": "text/x-python",
   "name": "python",
   "nbconvert_exporter": "python",
   "pygments_lexer": "ipython3",
   "version": "3.6.8"
  }
 },
 "nbformat": 4,
 "nbformat_minor": 4
}
