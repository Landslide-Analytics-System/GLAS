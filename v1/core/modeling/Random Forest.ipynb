{
 "cells": [
  {
   "cell_type": "markdown",
   "metadata": {},
   "source": [
    "## Random Forest Classifier\n",
    "The model predicts the severity of the landslide (or if there will even be one) within the next 2 days, based on weather data from the past 5 days.\n",
    "A Random Forest model with 113 trees yielded an accuracy of 81.21% when trained on slope data and precipitation and wind data over a 5 day period."
   ]
  },
  {
   "cell_type": "code",
   "execution_count": 24,
   "metadata": {},
   "outputs": [],
   "source": [
    "import pandas as pd\n",
    "import numpy as np\n",
    "import matplotlib.pyplot as plt\n",
    "%matplotlib inline\n",
    "import sklearn\n",
    "from sklearn.utils import shuffle\n",
    "import pickle"
   ]
  },
  {
   "cell_type": "code",
   "execution_count": 25,
   "metadata": {},
   "outputs": [],
   "source": [
    "# df = pd.read_csv(\"full_dataset_v1.csv\")\n",
    "# df = pd.read_csv(\"/Users/ishaanjavali/Documents/Science Fair/2020/Code/API/full_dataset_v1.csv\")\n",
    "df = pd.read_csv(\"/Users/ishaanjavali/Documents/Science Fair/2020/Code/API/full_dataset_good.csv\")"
   ]
  },
  {
   "cell_type": "code",
   "execution_count": 26,
   "metadata": {},
   "outputs": [
    {
     "output_type": "execute_result",
     "data": {
      "text/plain": [
       "na              4476\n",
       "medium          3300\n",
       "small            612\n",
       "large            426\n",
       "unknown           75\n",
       "very_large        56\n",
       "...                5\n",
       "landslide          2\n",
       "catastrophic       1\n",
       "Name: severity, dtype: int64"
      ]
     },
     "metadata": {},
     "execution_count": 26
    }
   ],
   "source": [
    "df['severity'].value_counts()"
   ]
  },
  {
   "cell_type": "code",
   "execution_count": 27,
   "metadata": {},
   "outputs": [],
   "source": [
    "# filter by severity. na is for non-landslide data\n",
    "df = df[df['severity'].isin([\"medium\", \"small\", \"large\", \"very_large\", \"na\"])]\n",
    "# Remove -1 slopes\n",
    "df = df.loc[~(df.slope == -1)]"
   ]
  },
  {
   "cell_type": "code",
   "execution_count": 28,
   "metadata": {},
   "outputs": [
    {
     "output_type": "stream",
     "name": "stdout",
     "text": [
      "8696\n"
     ]
    }
   ],
   "source": [
    "df['severity'].value_counts()\n",
    "df = shuffle(df)\n",
    "df.reset_index(inplace=True, drop=True)\n",
    "print(len(df))"
   ]
  },
  {
   "cell_type": "code",
   "execution_count": 29,
   "metadata": {},
   "outputs": [
    {
     "output_type": "execute_result",
     "data": {
      "text/plain": [
       "      precip7  wind7  precip6  wind6  precip5  wind5  precip4  wind4  precip3  \\\n",
       "0         0.1     21      0.0     20      0.0     18      0.7     15      0.4   \n",
       "1         1.4     14      4.6     13      8.0     13      5.4      9      3.4   \n",
       "2         0.2      6      6.7      5      7.9      8      2.8      5      1.2   \n",
       "3         0.2     15      2.1     13      0.4     13      0.2     19      0.5   \n",
       "4         4.0      8      3.5      5      6.4      5      1.3      5      9.5   \n",
       "...       ...    ...      ...    ...      ...    ...      ...    ...      ...   \n",
       "8691      0.0      9      0.0     10      0.0     15      0.0     12      0.0   \n",
       "8692      5.1      9      0.6      9      5.5     10      3.6     10      6.0   \n",
       "8693      0.0     11      0.0     10      0.0      6      0.0     11      0.0   \n",
       "8694      2.3      6      6.4      7      7.1      3      2.3      4      1.7   \n",
       "8695      2.6      5      1.1      6      1.5      4      3.0      4      2.8   \n",
       "\n",
       "      wind3  slope severity  \n",
       "0        14     50       na  \n",
       "1        10     96       na  \n",
       "2         6     59       na  \n",
       "3        17    185       na  \n",
       "4         8     29       na  \n",
       "...     ...    ...      ...  \n",
       "8691     15    112   medium  \n",
       "8692     10    101   medium  \n",
       "8693      9     51       na  \n",
       "8694      9     86       na  \n",
       "8695      5    117    small  \n",
       "\n",
       "[8696 rows x 12 columns]"
      ],
      "text/html": "<div>\n<style scoped>\n    .dataframe tbody tr th:only-of-type {\n        vertical-align: middle;\n    }\n\n    .dataframe tbody tr th {\n        vertical-align: top;\n    }\n\n    .dataframe thead th {\n        text-align: right;\n    }\n</style>\n<table border=\"1\" class=\"dataframe\">\n  <thead>\n    <tr style=\"text-align: right;\">\n      <th></th>\n      <th>precip7</th>\n      <th>wind7</th>\n      <th>precip6</th>\n      <th>wind6</th>\n      <th>precip5</th>\n      <th>wind5</th>\n      <th>precip4</th>\n      <th>wind4</th>\n      <th>precip3</th>\n      <th>wind3</th>\n      <th>slope</th>\n      <th>severity</th>\n    </tr>\n  </thead>\n  <tbody>\n    <tr>\n      <th>0</th>\n      <td>0.1</td>\n      <td>21</td>\n      <td>0.0</td>\n      <td>20</td>\n      <td>0.0</td>\n      <td>18</td>\n      <td>0.7</td>\n      <td>15</td>\n      <td>0.4</td>\n      <td>14</td>\n      <td>50</td>\n      <td>na</td>\n    </tr>\n    <tr>\n      <th>1</th>\n      <td>1.4</td>\n      <td>14</td>\n      <td>4.6</td>\n      <td>13</td>\n      <td>8.0</td>\n      <td>13</td>\n      <td>5.4</td>\n      <td>9</td>\n      <td>3.4</td>\n      <td>10</td>\n      <td>96</td>\n      <td>na</td>\n    </tr>\n    <tr>\n      <th>2</th>\n      <td>0.2</td>\n      <td>6</td>\n      <td>6.7</td>\n      <td>5</td>\n      <td>7.9</td>\n      <td>8</td>\n      <td>2.8</td>\n      <td>5</td>\n      <td>1.2</td>\n      <td>6</td>\n      <td>59</td>\n      <td>na</td>\n    </tr>\n    <tr>\n      <th>3</th>\n      <td>0.2</td>\n      <td>15</td>\n      <td>2.1</td>\n      <td>13</td>\n      <td>0.4</td>\n      <td>13</td>\n      <td>0.2</td>\n      <td>19</td>\n      <td>0.5</td>\n      <td>17</td>\n      <td>185</td>\n      <td>na</td>\n    </tr>\n    <tr>\n      <th>4</th>\n      <td>4.0</td>\n      <td>8</td>\n      <td>3.5</td>\n      <td>5</td>\n      <td>6.4</td>\n      <td>5</td>\n      <td>1.3</td>\n      <td>5</td>\n      <td>9.5</td>\n      <td>8</td>\n      <td>29</td>\n      <td>na</td>\n    </tr>\n    <tr>\n      <th>...</th>\n      <td>...</td>\n      <td>...</td>\n      <td>...</td>\n      <td>...</td>\n      <td>...</td>\n      <td>...</td>\n      <td>...</td>\n      <td>...</td>\n      <td>...</td>\n      <td>...</td>\n      <td>...</td>\n      <td>...</td>\n    </tr>\n    <tr>\n      <th>8691</th>\n      <td>0.0</td>\n      <td>9</td>\n      <td>0.0</td>\n      <td>10</td>\n      <td>0.0</td>\n      <td>15</td>\n      <td>0.0</td>\n      <td>12</td>\n      <td>0.0</td>\n      <td>15</td>\n      <td>112</td>\n      <td>medium</td>\n    </tr>\n    <tr>\n      <th>8692</th>\n      <td>5.1</td>\n      <td>9</td>\n      <td>0.6</td>\n      <td>9</td>\n      <td>5.5</td>\n      <td>10</td>\n      <td>3.6</td>\n      <td>10</td>\n      <td>6.0</td>\n      <td>10</td>\n      <td>101</td>\n      <td>medium</td>\n    </tr>\n    <tr>\n      <th>8693</th>\n      <td>0.0</td>\n      <td>11</td>\n      <td>0.0</td>\n      <td>10</td>\n      <td>0.0</td>\n      <td>6</td>\n      <td>0.0</td>\n      <td>11</td>\n      <td>0.0</td>\n      <td>9</td>\n      <td>51</td>\n      <td>na</td>\n    </tr>\n    <tr>\n      <th>8694</th>\n      <td>2.3</td>\n      <td>6</td>\n      <td>6.4</td>\n      <td>7</td>\n      <td>7.1</td>\n      <td>3</td>\n      <td>2.3</td>\n      <td>4</td>\n      <td>1.7</td>\n      <td>9</td>\n      <td>86</td>\n      <td>na</td>\n    </tr>\n    <tr>\n      <th>8695</th>\n      <td>2.6</td>\n      <td>5</td>\n      <td>1.1</td>\n      <td>6</td>\n      <td>1.5</td>\n      <td>4</td>\n      <td>3.0</td>\n      <td>4</td>\n      <td>2.8</td>\n      <td>5</td>\n      <td>117</td>\n      <td>small</td>\n    </tr>\n  </tbody>\n</table>\n<p>8696 rows × 12 columns</p>\n</div>"
     },
     "metadata": {},
     "execution_count": 29
    }
   ],
   "source": [
    "def getX():\n",
    "    X = df.copy()\n",
    "\n",
    "    X.drop(X.columns[[i for i in range(0, 151)]], axis = 1, inplace = True)\n",
    "    # X.drop(X.columns[[i for i in range(20, 35)]], axis = 1, inplace = True)\n",
    "    X[\"severity\"] = df[\"severity\"]\n",
    "    X.drop(X.columns[[0]], axis = 1, inplace = True)\n",
    "\n",
    "    X = X.dropna()\n",
    "    for i in range(0, 8):\n",
    "        del X['air' + str(i)]\n",
    "        del X['temp' + str(i)]\n",
    "        del X['humidity' + str(i)]\n",
    "        \n",
    "    X.drop(X.columns[[i for i in range(len(X.columns)-8, len(X.columns)-2)]], axis = 1, inplace = True)\n",
    "    return X\n",
    "X = getX()\n",
    "X"
   ]
  },
  {
   "cell_type": "markdown",
   "metadata": {},
   "source": [
    "### Generate Labels\n",
    "For binary classification, pass `True` into the function call"
   ]
  },
  {
   "cell_type": "code",
   "execution_count": 30,
   "metadata": {},
   "outputs": [],
   "source": [
    "def generate_labels(binary = False):\n",
    "    global X\n",
    "    X = getX()\n",
    "    y = []\n",
    "    idx_to_severity = [\"na\", \"small\", \"medium\", \"large\", \"very_large\"]\n",
    "    for severity in X.severity:\n",
    "        if not binary:\n",
    "            y.append(idx_to_severity.index(severity))\n",
    "        elif severity == \"na\":\n",
    "            y.append(0)\n",
    "        else:\n",
    "            y.append(1)\n",
    "    X.drop(X.columns[[-1]], axis = 1, inplace = True)\n",
    "    print(y.count(1))\n",
    "    print(\"Y Length:\",len(y))\n",
    "    return y"
   ]
  },
  {
   "cell_type": "code",
   "execution_count": 31,
   "metadata": {},
   "outputs": [
    {
     "output_type": "stream",
     "name": "stdout",
     "text": [
      "4311\nY Length: 8696\n"
     ]
    }
   ],
   "source": [
    "y = generate_labels(True)"
   ]
  },
  {
   "cell_type": "code",
   "execution_count": 32,
   "metadata": {},
   "outputs": [
    {
     "output_type": "stream",
     "name": "stdout",
     "text": [
      "0 4385\n1 4311\n2 0\n3 0\n4 0\n"
     ]
    },
    {
     "output_type": "execute_result",
     "data": {
      "text/plain": [
       "      precip7  wind7  precip6  wind6  precip5  wind5  precip4  wind4  precip3  \\\n",
       "0         0.1     21      0.0     20      0.0     18      0.7     15      0.4   \n",
       "1         1.4     14      4.6     13      8.0     13      5.4      9      3.4   \n",
       "2         0.2      6      6.7      5      7.9      8      2.8      5      1.2   \n",
       "3         0.2     15      2.1     13      0.4     13      0.2     19      0.5   \n",
       "4         4.0      8      3.5      5      6.4      5      1.3      5      9.5   \n",
       "...       ...    ...      ...    ...      ...    ...      ...    ...      ...   \n",
       "8691      0.0      9      0.0     10      0.0     15      0.0     12      0.0   \n",
       "8692      5.1      9      0.6      9      5.5     10      3.6     10      6.0   \n",
       "8693      0.0     11      0.0     10      0.0      6      0.0     11      0.0   \n",
       "8694      2.3      6      6.4      7      7.1      3      2.3      4      1.7   \n",
       "8695      2.6      5      1.1      6      1.5      4      3.0      4      2.8   \n",
       "\n",
       "      wind3  slope  \n",
       "0        14     50  \n",
       "1        10     96  \n",
       "2         6     59  \n",
       "3        17    185  \n",
       "4         8     29  \n",
       "...     ...    ...  \n",
       "8691     15    112  \n",
       "8692     10    101  \n",
       "8693      9     51  \n",
       "8694      9     86  \n",
       "8695      5    117  \n",
       "\n",
       "[8696 rows x 11 columns]"
      ],
      "text/html": "<div>\n<style scoped>\n    .dataframe tbody tr th:only-of-type {\n        vertical-align: middle;\n    }\n\n    .dataframe tbody tr th {\n        vertical-align: top;\n    }\n\n    .dataframe thead th {\n        text-align: right;\n    }\n</style>\n<table border=\"1\" class=\"dataframe\">\n  <thead>\n    <tr style=\"text-align: right;\">\n      <th></th>\n      <th>precip7</th>\n      <th>wind7</th>\n      <th>precip6</th>\n      <th>wind6</th>\n      <th>precip5</th>\n      <th>wind5</th>\n      <th>precip4</th>\n      <th>wind4</th>\n      <th>precip3</th>\n      <th>wind3</th>\n      <th>slope</th>\n    </tr>\n  </thead>\n  <tbody>\n    <tr>\n      <th>0</th>\n      <td>0.1</td>\n      <td>21</td>\n      <td>0.0</td>\n      <td>20</td>\n      <td>0.0</td>\n      <td>18</td>\n      <td>0.7</td>\n      <td>15</td>\n      <td>0.4</td>\n      <td>14</td>\n      <td>50</td>\n    </tr>\n    <tr>\n      <th>1</th>\n      <td>1.4</td>\n      <td>14</td>\n      <td>4.6</td>\n      <td>13</td>\n      <td>8.0</td>\n      <td>13</td>\n      <td>5.4</td>\n      <td>9</td>\n      <td>3.4</td>\n      <td>10</td>\n      <td>96</td>\n    </tr>\n    <tr>\n      <th>2</th>\n      <td>0.2</td>\n      <td>6</td>\n      <td>6.7</td>\n      <td>5</td>\n      <td>7.9</td>\n      <td>8</td>\n      <td>2.8</td>\n      <td>5</td>\n      <td>1.2</td>\n      <td>6</td>\n      <td>59</td>\n    </tr>\n    <tr>\n      <th>3</th>\n      <td>0.2</td>\n      <td>15</td>\n      <td>2.1</td>\n      <td>13</td>\n      <td>0.4</td>\n      <td>13</td>\n      <td>0.2</td>\n      <td>19</td>\n      <td>0.5</td>\n      <td>17</td>\n      <td>185</td>\n    </tr>\n    <tr>\n      <th>4</th>\n      <td>4.0</td>\n      <td>8</td>\n      <td>3.5</td>\n      <td>5</td>\n      <td>6.4</td>\n      <td>5</td>\n      <td>1.3</td>\n      <td>5</td>\n      <td>9.5</td>\n      <td>8</td>\n      <td>29</td>\n    </tr>\n    <tr>\n      <th>...</th>\n      <td>...</td>\n      <td>...</td>\n      <td>...</td>\n      <td>...</td>\n      <td>...</td>\n      <td>...</td>\n      <td>...</td>\n      <td>...</td>\n      <td>...</td>\n      <td>...</td>\n      <td>...</td>\n    </tr>\n    <tr>\n      <th>8691</th>\n      <td>0.0</td>\n      <td>9</td>\n      <td>0.0</td>\n      <td>10</td>\n      <td>0.0</td>\n      <td>15</td>\n      <td>0.0</td>\n      <td>12</td>\n      <td>0.0</td>\n      <td>15</td>\n      <td>112</td>\n    </tr>\n    <tr>\n      <th>8692</th>\n      <td>5.1</td>\n      <td>9</td>\n      <td>0.6</td>\n      <td>9</td>\n      <td>5.5</td>\n      <td>10</td>\n      <td>3.6</td>\n      <td>10</td>\n      <td>6.0</td>\n      <td>10</td>\n      <td>101</td>\n    </tr>\n    <tr>\n      <th>8693</th>\n      <td>0.0</td>\n      <td>11</td>\n      <td>0.0</td>\n      <td>10</td>\n      <td>0.0</td>\n      <td>6</td>\n      <td>0.0</td>\n      <td>11</td>\n      <td>0.0</td>\n      <td>9</td>\n      <td>51</td>\n    </tr>\n    <tr>\n      <th>8694</th>\n      <td>2.3</td>\n      <td>6</td>\n      <td>6.4</td>\n      <td>7</td>\n      <td>7.1</td>\n      <td>3</td>\n      <td>2.3</td>\n      <td>4</td>\n      <td>1.7</td>\n      <td>9</td>\n      <td>86</td>\n    </tr>\n    <tr>\n      <th>8695</th>\n      <td>2.6</td>\n      <td>5</td>\n      <td>1.1</td>\n      <td>6</td>\n      <td>1.5</td>\n      <td>4</td>\n      <td>3.0</td>\n      <td>4</td>\n      <td>2.8</td>\n      <td>5</td>\n      <td>117</td>\n    </tr>\n  </tbody>\n</table>\n<p>8696 rows × 11 columns</p>\n</div>"
     },
     "metadata": {},
     "execution_count": 32
    }
   ],
   "source": [
    "for i in range(5):\n",
    "    print(i, y.count(i))\n",
    "X"
   ]
  },
  {
   "cell_type": "markdown",
   "metadata": {},
   "source": [
    "## Scaling"
   ]
  },
  {
   "cell_type": "code",
   "execution_count": 33,
   "metadata": {},
   "outputs": [],
   "source": [
    "from sklearn.model_selection import train_test_split\n",
    "from sklearn.preprocessing import StandardScaler\n",
    "X_train, X_test, y_train, y_test = train_test_split(X, y, test_size = 0.2)\n",
    "\n",
    "X_train\n",
    "scaler = StandardScaler()\n",
    "scaler.fit(X_train)\n",
    "\n",
    "X_train = scaler.transform(X_train)\n",
    "X_test = scaler.transform(X_test)"
   ]
  },
  {
   "cell_type": "markdown",
   "metadata": {},
   "source": [
    "## Prediction"
   ]
  },
  {
   "cell_type": "code",
   "execution_count": 34,
   "metadata": {},
   "outputs": [
    {
     "output_type": "execute_result",
     "data": {
      "text/plain": [
       "RandomForestClassifier()"
      ]
     },
     "metadata": {},
     "execution_count": 34
    }
   ],
   "source": [
    "from sklearn.ensemble import RandomForestClassifier\n",
    "from sklearn.metrics import accuracy_score\n",
    "model = RandomForestClassifier()\n",
    "model.fit(X_train, y_train)"
   ]
  },
  {
   "cell_type": "code",
   "execution_count": 35,
   "metadata": {},
   "outputs": [
    {
     "output_type": "stream",
     "name": "stdout",
     "text": [
      "ACCURACY: 0.6224137931034482\n"
     ]
    }
   ],
   "source": [
    "pred = model.predict(X_test)\n",
    "print(\"ACCURACY:\", accuracy_score(pred, y_test))"
   ]
  },
  {
   "cell_type": "code",
   "execution_count": 14,
   "metadata": {
    "scrolled": true
   },
   "outputs": [
    {
     "output_type": "stream",
     "name": "stdout",
     "text": [
      "n_estimators = 85   ACCURACY: 62.97\n",
      "n_estimators = 87   ACCURACY: 62.63\n",
      "n_estimators = 89   ACCURACY: 62.12\n",
      "n_estimators = 91   ACCURACY: 63.25\n",
      "n_estimators = 93   ACCURACY: 61.61\n",
      "n_estimators = 95   ACCURACY: 62.18\n",
      "n_estimators = 97   ACCURACY: 62.74\n",
      "n_estimators = 99   ACCURACY: 61.27\n",
      "n_estimators = 101   ACCURACY: 62.97\n",
      "n_estimators = 103   ACCURACY: 62.4\n",
      "n_estimators = 105   ACCURACY: 63.7\n",
      "n_estimators = 107   ACCURACY: 63.13\n",
      "n_estimators = 109   ACCURACY: 62.06\n",
      "n_estimators = 111   ACCURACY: 62.74\n",
      "n_estimators = 113   ACCURACY: 63.42\n",
      "n_estimators = 115   ACCURACY: 63.59\n",
      "n_estimators = 117   ACCURACY: 63.47\n",
      "n_estimators = 119   ACCURACY: 61.89\n",
      "n_estimators = 121   ACCURACY: 62.18\n",
      "n_estimators = 123   ACCURACY: 64.77\n",
      "n_estimators = 125   ACCURACY: 62.4\n",
      "n_estimators = 127   ACCURACY: 63.36\n",
      "n_estimators = 129   ACCURACY: 63.42\n",
      "n_estimators = 131   ACCURACY: 63.36\n",
      "n_estimators = 133   ACCURACY: 61.1\n",
      "n_estimators = 135   ACCURACY: 63.42\n",
      "n_estimators = 137   ACCURACY: 63.75\n",
      "n_estimators = 139   ACCURACY: 63.75\n",
      "n_estimators = 141   ACCURACY: 62.4\n",
      "n_estimators = 143   ACCURACY: 63.13\n",
      "n_estimators = 145   ACCURACY: 62.34\n",
      "n_estimators = 147   ACCURACY: 62.91\n",
      "n_estimators = 149   ACCURACY: 62.97\n",
      "n_estimators = 151   ACCURACY: 63.47\n",
      "n_estimators = 153   ACCURACY: 61.95\n",
      "n_estimators = 155   ACCURACY: 63.42\n",
      "n_estimators = 157   ACCURACY: 63.13\n",
      "n_estimators = 159   ACCURACY: 62.91\n",
      "n_estimators = 161   ACCURACY: 62.68\n",
      "n_estimators = 163   ACCURACY: 62.01\n",
      "n_estimators = 165   ACCURACY: 63.19\n",
      "n_estimators = 167   ACCURACY: 62.97\n",
      "n_estimators = 169   ACCURACY: 63.19\n",
      "n_estimators = 171   ACCURACY: 62.97\n",
      "n_estimators = 173   ACCURACY: 63.3\n",
      "n_estimators = 175   ACCURACY: 61.89\n",
      "n_estimators = 177   ACCURACY: 62.34\n",
      "n_estimators = 179   ACCURACY: 63.19\n",
      "n_estimators = 181   ACCURACY: 62.23\n",
      "n_estimators = 183   ACCURACY: 62.8\n",
      "n_estimators = 185   ACCURACY: 62.46\n",
      "n_estimators = 187   ACCURACY: 63.81\n",
      "n_estimators = 189   ACCURACY: 63.02\n",
      "n_estimators = 191   ACCURACY: 62.34\n",
      "n_estimators = 193   ACCURACY: 62.97\n",
      "n_estimators = 195   ACCURACY: 63.36\n",
      "n_estimators = 197   ACCURACY: 63.75\n",
      "n_estimators = 199   ACCURACY: 63.02\n",
      "# of trees: 123 64.77\n"
     ]
    }
   ],
   "source": [
    "best = 1\n",
    "highest = 0\n",
    "\n",
    "for i in range(85, 200, 2):\n",
    "    rf = RandomForestClassifier(n_estimators = i)\n",
    "    rf.fit(X_train, y_train)\n",
    "    pred = rf.predict(X_test)\n",
    "    score = round(accuracy_score(pred, y_test)*10000)/100\n",
    "    print(\"n_estimators =\", i, \"  ACCURACY:\", score)\n",
    "    if score > highest:\n",
    "        highest = score\n",
    "        best = i\n",
    "print(\"# of trees:\", best, highest)"
   ]
  },
  {
   "cell_type": "code",
   "execution_count": null,
   "metadata": {},
   "outputs": [],
   "source": []
  }
 ],
 "metadata": {
  "kernelspec": {
   "display_name": "Python 3",
   "language": "python",
   "name": "python3"
  },
  "language_info": {
   "codemirror_mode": {
    "name": "ipython",
    "version": 3
   },
   "file_extension": ".py",
   "mimetype": "text/x-python",
   "name": "python",
   "nbconvert_exporter": "python",
   "pygments_lexer": "ipython3",
   "version": "3.7.4-final"
  }
 },
 "nbformat": 4,
 "nbformat_minor": 4
}