{
 "cells": [
  {
   "cell_type": "markdown",
   "metadata": {},
   "source": [
    "## SVC Classifier\n",
    "The model predicts the severity of the landslide (or if there will even be one) within the next 2 days, based on weather data from the past 5 days."
   ]
  },
  {
   "cell_type": "code",
   "execution_count": 145,
   "metadata": {},
   "outputs": [],
   "source": [
    "import pandas as pd\n",
    "import numpy as np\n",
    "import matplotlib.pyplot as plt\n",
    "%matplotlib inline\n",
    "import sklearn\n",
    "from sklearn.utils import shuffle\n",
    "import pickle"
   ]
  },
  {
   "cell_type": "code",
   "execution_count": 164,
   "metadata": {},
   "outputs": [
    {
     "output_type": "execute_result",
     "data": {
      "text/plain": [
       "(8953, 193)"
      ]
     },
     "metadata": {},
     "execution_count": 164
    }
   ],
   "source": [
    "# df = pd.read_csv(\"full_dataset_v1.csv\")\n",
    "# df = pd.read_csv(\"/Users/ishaanjavali/Documents/Science Fair/2020/Code/API/full_dataset_v1.csv\")\n",
    "df = pd.read_csv(\"/Users/ishaanjavali/Documents/Science Fair/2020/Code/API/full_dataset_good.csv\")\n",
    "df.shape"
   ]
  },
  {
   "cell_type": "code",
   "execution_count": 147,
   "metadata": {},
   "outputs": [
    {
     "output_type": "execute_result",
     "data": {
      "text/plain": [
       "na              4476\n",
       "medium          3300\n",
       "small            612\n",
       "large            426\n",
       "unknown           75\n",
       "very_large        56\n",
       "...                5\n",
       "landslide          2\n",
       "catastrophic       1\n",
       "Name: severity, dtype: int64"
      ]
     },
     "metadata": {},
     "execution_count": 147
    }
   ],
   "source": [
    "df['severity'].value_counts()"
   ]
  },
  {
   "cell_type": "code",
   "execution_count": 148,
   "metadata": {},
   "outputs": [
    {
     "output_type": "stream",
     "name": "stdout",
     "text": [
      "na                     4476\nlandslide              3681\nmudslide                371\nrock_fall               150\ncomplex                  75\ndebris_flow              39\nother                    24\nriverbank_collapse       23\nunknown                   9\ntranslational_slide       7\nsnow_avalanche            6\nlahar                     3\nearth_flow                3\nrotational_slide          2\n...                       1\nName: type, dtype: int64\n"
     ]
    }
   ],
   "source": [
    "# filter by severity. na is for non-landslide data\n",
    "df = df[df['severity'].isin([\"medium\", \"small\", \"large\", \"very_large\", \"na\"])]\n",
    "# Remove -1 slopes\n",
    "df = df.loc[~(df.slope == -1)]"
   ]
  },
  {
   "cell_type": "code",
   "execution_count": 149,
   "metadata": {},
   "outputs": [
    {
     "output_type": "stream",
     "name": "stdout",
     "text": [
      "8870\n"
     ]
    }
   ],
   "source": [
    "df['severity'].value_counts()\n",
    "df = shuffle(df)\n",
    "df.reset_index(inplace=True, drop=True)\n",
    "print(len(df))"
   ]
  },
  {
   "cell_type": "code",
   "execution_count": 150,
   "metadata": {},
   "outputs": [
    {
     "output_type": "execute_result",
     "data": {
      "text/plain": [
       "      precip7  wind7  precip6  wind6  precip5  wind5  precip4  wind4  precip3  \\\n",
       "0         0.0     14      0.0     14      0.0     21      0.0     27      0.0   \n",
       "1         0.0      0      0.0      0      0.0      0      0.0      0      0.0   \n",
       "2         0.0     14      0.0     15      0.0     14      0.2     12      1.0   \n",
       "3         3.2     31      2.5     24      4.2     29      1.2     33      6.3   \n",
       "4         2.2     12      3.6     11      1.3     10      0.5     11      0.4   \n",
       "...       ...    ...      ...    ...      ...    ...      ...    ...      ...   \n",
       "8865      4.2      6      4.1      5      3.9      7      1.9     10      3.1   \n",
       "8866      1.4      5      1.9      4      0.9      5      6.8      5      9.5   \n",
       "8867      0.7      8      0.7      9      3.7      9      2.0      9      1.0   \n",
       "8868      0.0      0      0.0      0      0.0      0      0.0      0      0.0   \n",
       "8869      0.4      6      4.9      5      7.3      5      3.3      5      4.3   \n",
       "\n",
       "      wind3  slope severity  \n",
       "0        27    145   medium  \n",
       "1         0     12    large  \n",
       "2        12    172       na  \n",
       "3        34     47    small  \n",
       "4        12    168       na  \n",
       "...     ...    ...      ...  \n",
       "8865      8     95       na  \n",
       "8866      5    107   medium  \n",
       "8867      9     33       na  \n",
       "8868      0     51   medium  \n",
       "8869      8    119   medium  \n",
       "\n",
       "[8870 rows x 12 columns]"
      ],
      "text/html": "<div>\n<style scoped>\n    .dataframe tbody tr th:only-of-type {\n        vertical-align: middle;\n    }\n\n    .dataframe tbody tr th {\n        vertical-align: top;\n    }\n\n    .dataframe thead th {\n        text-align: right;\n    }\n</style>\n<table border=\"1\" class=\"dataframe\">\n  <thead>\n    <tr style=\"text-align: right;\">\n      <th></th>\n      <th>precip7</th>\n      <th>wind7</th>\n      <th>precip6</th>\n      <th>wind6</th>\n      <th>precip5</th>\n      <th>wind5</th>\n      <th>precip4</th>\n      <th>wind4</th>\n      <th>precip3</th>\n      <th>wind3</th>\n      <th>slope</th>\n      <th>severity</th>\n    </tr>\n  </thead>\n  <tbody>\n    <tr>\n      <th>0</th>\n      <td>0.0</td>\n      <td>14</td>\n      <td>0.0</td>\n      <td>14</td>\n      <td>0.0</td>\n      <td>21</td>\n      <td>0.0</td>\n      <td>27</td>\n      <td>0.0</td>\n      <td>27</td>\n      <td>145</td>\n      <td>medium</td>\n    </tr>\n    <tr>\n      <th>1</th>\n      <td>0.0</td>\n      <td>0</td>\n      <td>0.0</td>\n      <td>0</td>\n      <td>0.0</td>\n      <td>0</td>\n      <td>0.0</td>\n      <td>0</td>\n      <td>0.0</td>\n      <td>0</td>\n      <td>12</td>\n      <td>large</td>\n    </tr>\n    <tr>\n      <th>2</th>\n      <td>0.0</td>\n      <td>14</td>\n      <td>0.0</td>\n      <td>15</td>\n      <td>0.0</td>\n      <td>14</td>\n      <td>0.2</td>\n      <td>12</td>\n      <td>1.0</td>\n      <td>12</td>\n      <td>172</td>\n      <td>na</td>\n    </tr>\n    <tr>\n      <th>3</th>\n      <td>3.2</td>\n      <td>31</td>\n      <td>2.5</td>\n      <td>24</td>\n      <td>4.2</td>\n      <td>29</td>\n      <td>1.2</td>\n      <td>33</td>\n      <td>6.3</td>\n      <td>34</td>\n      <td>47</td>\n      <td>small</td>\n    </tr>\n    <tr>\n      <th>4</th>\n      <td>2.2</td>\n      <td>12</td>\n      <td>3.6</td>\n      <td>11</td>\n      <td>1.3</td>\n      <td>10</td>\n      <td>0.5</td>\n      <td>11</td>\n      <td>0.4</td>\n      <td>12</td>\n      <td>168</td>\n      <td>na</td>\n    </tr>\n    <tr>\n      <th>...</th>\n      <td>...</td>\n      <td>...</td>\n      <td>...</td>\n      <td>...</td>\n      <td>...</td>\n      <td>...</td>\n      <td>...</td>\n      <td>...</td>\n      <td>...</td>\n      <td>...</td>\n      <td>...</td>\n      <td>...</td>\n    </tr>\n    <tr>\n      <th>8865</th>\n      <td>4.2</td>\n      <td>6</td>\n      <td>4.1</td>\n      <td>5</td>\n      <td>3.9</td>\n      <td>7</td>\n      <td>1.9</td>\n      <td>10</td>\n      <td>3.1</td>\n      <td>8</td>\n      <td>95</td>\n      <td>na</td>\n    </tr>\n    <tr>\n      <th>8866</th>\n      <td>1.4</td>\n      <td>5</td>\n      <td>1.9</td>\n      <td>4</td>\n      <td>0.9</td>\n      <td>5</td>\n      <td>6.8</td>\n      <td>5</td>\n      <td>9.5</td>\n      <td>5</td>\n      <td>107</td>\n      <td>medium</td>\n    </tr>\n    <tr>\n      <th>8867</th>\n      <td>0.7</td>\n      <td>8</td>\n      <td>0.7</td>\n      <td>9</td>\n      <td>3.7</td>\n      <td>9</td>\n      <td>2.0</td>\n      <td>9</td>\n      <td>1.0</td>\n      <td>9</td>\n      <td>33</td>\n      <td>na</td>\n    </tr>\n    <tr>\n      <th>8868</th>\n      <td>0.0</td>\n      <td>0</td>\n      <td>0.0</td>\n      <td>0</td>\n      <td>0.0</td>\n      <td>0</td>\n      <td>0.0</td>\n      <td>0</td>\n      <td>0.0</td>\n      <td>0</td>\n      <td>51</td>\n      <td>medium</td>\n    </tr>\n    <tr>\n      <th>8869</th>\n      <td>0.4</td>\n      <td>6</td>\n      <td>4.9</td>\n      <td>5</td>\n      <td>7.3</td>\n      <td>5</td>\n      <td>3.3</td>\n      <td>5</td>\n      <td>4.3</td>\n      <td>8</td>\n      <td>119</td>\n      <td>medium</td>\n    </tr>\n  </tbody>\n</table>\n<p>8870 rows × 12 columns</p>\n</div>"
     },
     "metadata": {},
     "execution_count": 150
    }
   ],
   "source": [
    "def getX():\n",
    "    X = df.copy()\n",
    "\n",
    "    X.drop(X.columns[[i for i in range(0, 151)]], axis = 1, inplace = True)\n",
    "    # X.drop(X.columns[[i for i in range(20, 35)]], axis = 1, inplace = True)\n",
    "    X[\"severity\"] = df[\"severity\"]\n",
    "    X.drop(X.columns[[0]], axis = 1, inplace = True)\n",
    "\n",
    "    X = X.dropna()\n",
    "    for i in range(0, 8):\n",
    "        del X['air' + str(i)]\n",
    "        del X['temp' + str(i)]\n",
    "        del X['humidity' + str(i)]\n",
    "        \n",
    "    X.drop(X.columns[[i for i in range(len(X.columns)-8, len(X.columns)-2)]], axis = 1, inplace = True)\n",
    "    return X\n",
    "X = getX()\n",
    "X"
   ]
  },
  {
   "cell_type": "code",
   "execution_count": 151,
   "metadata": {},
   "outputs": [],
   "source": [
    "def generate_labels(binary = False):\n",
    "    global X\n",
    "    X = getX()\n",
    "    y = []\n",
    "    idx_to_severity = [\"na\", \"small\", \"medium\", \"large\", \"very_large\"]\n",
    "    for severity in X.severity:\n",
    "        if not binary:\n",
    "            y.append(idx_to_severity.index(severity))\n",
    "        elif severity == \"na\":\n",
    "            y.append(0)\n",
    "        else:\n",
    "            y.append(1)\n",
    "    X.drop(X.columns[[-1]], axis = 1, inplace = True)\n",
    "    print(y.count(1))\n",
    "    return y"
   ]
  },
  {
   "cell_type": "code",
   "execution_count": 152,
   "metadata": {},
   "outputs": [
    {
     "output_type": "stream",
     "name": "stdout",
     "text": [
      "4394\n"
     ]
    }
   ],
   "source": [
    "binary = True\n",
    "y = generate_labels(binary)"
   ]
  },
  {
   "cell_type": "code",
   "execution_count": 153,
   "metadata": {},
   "outputs": [
    {
     "output_type": "execute_result",
     "data": {
      "text/plain": [
       "      precip7  wind7  precip6  wind6  precip5  wind5  precip4  wind4  precip3  \\\n",
       "0         0.0     14      0.0     14      0.0     21      0.0     27      0.0   \n",
       "1         0.0      0      0.0      0      0.0      0      0.0      0      0.0   \n",
       "2         0.0     14      0.0     15      0.0     14      0.2     12      1.0   \n",
       "3         3.2     31      2.5     24      4.2     29      1.2     33      6.3   \n",
       "4         2.2     12      3.6     11      1.3     10      0.5     11      0.4   \n",
       "...       ...    ...      ...    ...      ...    ...      ...    ...      ...   \n",
       "8865      4.2      6      4.1      5      3.9      7      1.9     10      3.1   \n",
       "8866      1.4      5      1.9      4      0.9      5      6.8      5      9.5   \n",
       "8867      0.7      8      0.7      9      3.7      9      2.0      9      1.0   \n",
       "8868      0.0      0      0.0      0      0.0      0      0.0      0      0.0   \n",
       "8869      0.4      6      4.9      5      7.3      5      3.3      5      4.3   \n",
       "\n",
       "      wind3  slope  \n",
       "0        27    145  \n",
       "1         0     12  \n",
       "2        12    172  \n",
       "3        34     47  \n",
       "4        12    168  \n",
       "...     ...    ...  \n",
       "8865      8     95  \n",
       "8866      5    107  \n",
       "8867      9     33  \n",
       "8868      0     51  \n",
       "8869      8    119  \n",
       "\n",
       "[8870 rows x 11 columns]"
      ],
      "text/html": "<div>\n<style scoped>\n    .dataframe tbody tr th:only-of-type {\n        vertical-align: middle;\n    }\n\n    .dataframe tbody tr th {\n        vertical-align: top;\n    }\n\n    .dataframe thead th {\n        text-align: right;\n    }\n</style>\n<table border=\"1\" class=\"dataframe\">\n  <thead>\n    <tr style=\"text-align: right;\">\n      <th></th>\n      <th>precip7</th>\n      <th>wind7</th>\n      <th>precip6</th>\n      <th>wind6</th>\n      <th>precip5</th>\n      <th>wind5</th>\n      <th>precip4</th>\n      <th>wind4</th>\n      <th>precip3</th>\n      <th>wind3</th>\n      <th>slope</th>\n    </tr>\n  </thead>\n  <tbody>\n    <tr>\n      <th>0</th>\n      <td>0.0</td>\n      <td>14</td>\n      <td>0.0</td>\n      <td>14</td>\n      <td>0.0</td>\n      <td>21</td>\n      <td>0.0</td>\n      <td>27</td>\n      <td>0.0</td>\n      <td>27</td>\n      <td>145</td>\n    </tr>\n    <tr>\n      <th>1</th>\n      <td>0.0</td>\n      <td>0</td>\n      <td>0.0</td>\n      <td>0</td>\n      <td>0.0</td>\n      <td>0</td>\n      <td>0.0</td>\n      <td>0</td>\n      <td>0.0</td>\n      <td>0</td>\n      <td>12</td>\n    </tr>\n    <tr>\n      <th>2</th>\n      <td>0.0</td>\n      <td>14</td>\n      <td>0.0</td>\n      <td>15</td>\n      <td>0.0</td>\n      <td>14</td>\n      <td>0.2</td>\n      <td>12</td>\n      <td>1.0</td>\n      <td>12</td>\n      <td>172</td>\n    </tr>\n    <tr>\n      <th>3</th>\n      <td>3.2</td>\n      <td>31</td>\n      <td>2.5</td>\n      <td>24</td>\n      <td>4.2</td>\n      <td>29</td>\n      <td>1.2</td>\n      <td>33</td>\n      <td>6.3</td>\n      <td>34</td>\n      <td>47</td>\n    </tr>\n    <tr>\n      <th>4</th>\n      <td>2.2</td>\n      <td>12</td>\n      <td>3.6</td>\n      <td>11</td>\n      <td>1.3</td>\n      <td>10</td>\n      <td>0.5</td>\n      <td>11</td>\n      <td>0.4</td>\n      <td>12</td>\n      <td>168</td>\n    </tr>\n    <tr>\n      <th>...</th>\n      <td>...</td>\n      <td>...</td>\n      <td>...</td>\n      <td>...</td>\n      <td>...</td>\n      <td>...</td>\n      <td>...</td>\n      <td>...</td>\n      <td>...</td>\n      <td>...</td>\n      <td>...</td>\n    </tr>\n    <tr>\n      <th>8865</th>\n      <td>4.2</td>\n      <td>6</td>\n      <td>4.1</td>\n      <td>5</td>\n      <td>3.9</td>\n      <td>7</td>\n      <td>1.9</td>\n      <td>10</td>\n      <td>3.1</td>\n      <td>8</td>\n      <td>95</td>\n    </tr>\n    <tr>\n      <th>8866</th>\n      <td>1.4</td>\n      <td>5</td>\n      <td>1.9</td>\n      <td>4</td>\n      <td>0.9</td>\n      <td>5</td>\n      <td>6.8</td>\n      <td>5</td>\n      <td>9.5</td>\n      <td>5</td>\n      <td>107</td>\n    </tr>\n    <tr>\n      <th>8867</th>\n      <td>0.7</td>\n      <td>8</td>\n      <td>0.7</td>\n      <td>9</td>\n      <td>3.7</td>\n      <td>9</td>\n      <td>2.0</td>\n      <td>9</td>\n      <td>1.0</td>\n      <td>9</td>\n      <td>33</td>\n    </tr>\n    <tr>\n      <th>8868</th>\n      <td>0.0</td>\n      <td>0</td>\n      <td>0.0</td>\n      <td>0</td>\n      <td>0.0</td>\n      <td>0</td>\n      <td>0.0</td>\n      <td>0</td>\n      <td>0.0</td>\n      <td>0</td>\n      <td>51</td>\n    </tr>\n    <tr>\n      <th>8869</th>\n      <td>0.4</td>\n      <td>6</td>\n      <td>4.9</td>\n      <td>5</td>\n      <td>7.3</td>\n      <td>5</td>\n      <td>3.3</td>\n      <td>5</td>\n      <td>4.3</td>\n      <td>8</td>\n      <td>119</td>\n    </tr>\n  </tbody>\n</table>\n<p>8870 rows × 11 columns</p>\n</div>"
     },
     "metadata": {},
     "execution_count": 153
    }
   ],
   "source": [
    "X"
   ]
  },
  {
   "cell_type": "markdown",
   "metadata": {},
   "source": [
    "## Scaling"
   ]
  },
  {
   "cell_type": "code",
   "execution_count": 154,
   "metadata": {},
   "outputs": [],
   "source": [
    "from sklearn.model_selection import train_test_split\n",
    "from sklearn.preprocessing import StandardScaler\n",
    "X_train, X_test, y_train, y_test = train_test_split(X, y, test_size = 0.2)\n",
    "\n",
    "scaler = StandardScaler()\n",
    "scaler.fit(X_train)\n",
    "\n",
    "X_train = scaler.transform(X_train)\n",
    "X_test = scaler.transform(X_test)"
   ]
  },
  {
   "cell_type": "markdown",
   "metadata": {},
   "source": [
    "## PCA"
   ]
  },
  {
   "cell_type": "code",
   "execution_count": 155,
   "metadata": {},
   "outputs": [
    {
     "output_type": "execute_result",
     "data": {
      "text/plain": [
       "array([0.36659294, 0.22010174, 0.09099556, 0.08070899, 0.0611546 ,\n",
       "       0.05081662, 0.04398091])"
      ]
     },
     "metadata": {},
     "execution_count": 155
    }
   ],
   "source": [
    "from sklearn.decomposition import PCA\n",
    "pca = PCA(0.9)\n",
    "\n",
    "principalComponents = pca.fit_transform(X_train)\n",
    "pca.explained_variance_ratio_"
   ]
  },
  {
   "cell_type": "code",
   "execution_count": 156,
   "metadata": {},
   "outputs": [],
   "source": [
    "X_train = pca.transform(X_train)\n",
    "X_test = pca.transform(X_test)"
   ]
  },
  {
   "cell_type": "code",
   "execution_count": 157,
   "metadata": {},
   "outputs": [],
   "source": [
    "from sklearn.svm import SVC\n",
    "svclassifier = SVC(kernel='rbf', verbose = True)"
   ]
  },
  {
   "cell_type": "code",
   "execution_count": 158,
   "metadata": {},
   "outputs": [
    {
     "output_type": "stream",
     "name": "stdout",
     "text": [
      "[LibSVM]"
     ]
    },
    {
     "output_type": "execute_result",
     "data": {
      "text/plain": [
       "SVC(verbose=True)"
      ]
     },
     "metadata": {},
     "execution_count": 158
    }
   ],
   "source": [
    "svclassifier.fit(X_train, y_train)"
   ]
  },
  {
   "cell_type": "code",
   "execution_count": 159,
   "metadata": {},
   "outputs": [
    {
     "output_type": "stream",
     "name": "stdout",
     "text": [
      "ACCURACY: 0.5997745208568207\n"
     ]
    }
   ],
   "source": [
    "from sklearn.metrics import accuracy_score\n",
    "pred = svclassifier.predict(X_test)\n",
    "print(\"ACCURACY:\" ,accuracy_score(pred, y_test))"
   ]
  },
  {
   "cell_type": "markdown",
   "metadata": {},
   "source": [
    "## Testing gamma and c"
   ]
  },
  {
   "cell_type": "code",
   "execution_count": 160,
   "metadata": {},
   "outputs": [
    {
     "output_type": "stream",
     "name": "stdout",
     "text": [
      "[LibSVM]1 0.1 : 0.5997745208568207\n",
      "[LibSVM]1 1 : 0.6155580608793687\n",
      "[LibSVM]1 10 : 0.6443066516347238\n",
      "[LibSVM]1 100 : 0.6341600901916573\n",
      "[LibSVM]10 0.1 : 0.5963923337091319\n",
      "[LibSVM]10 1 : 0.6071025930101466\n",
      "[LibSVM]10 10 : 0.6510710259301015\n",
      "[LibSVM]10 100 : 0.6307779030439684\n",
      "[LibSVM]100 0.1 : 0.59695603156708\n",
      "[LibSVM]100 1 : 0.6138669673055243\n",
      "[LibSVM]100 10 : 0.644870349492672\n",
      "[LibSVM]100 100 : 0.6285231116121759\n"
     ]
    }
   ],
   "source": [
    "from sklearn.metrics import accuracy_score\n",
    "C_range =[1, 10, 100]\n",
    "gamma_range = [0.1, 1, 10, 100]\n",
    "for c in C_range:\n",
    "    for g in gamma_range:\n",
    "        svc2 = SVC(kernel='rbf', gamma=g,C=c, verbose = True)\n",
    "        svc2.fit(X_train, y_train)\n",
    "        print(c, g, \":\",accuracy_score(y_test, svc2.predict(X_test)))"
   ]
  },
  {
   "cell_type": "code",
   "execution_count": 161,
   "metadata": {},
   "outputs": [
    {
     "output_type": "stream",
     "name": "stdout",
     "text": [
      "[LibSVM]"
     ]
    },
    {
     "output_type": "execute_result",
     "data": {
      "text/plain": [
       "0.6510710259301015"
      ]
     },
     "metadata": {},
     "execution_count": 161
    }
   ],
   "source": [
    "svc2 = SVC(kernel='rbf', gamma=10,C=10, verbose = True)\n",
    "svc2.fit(X_train, y_train)\n",
    "accuracy_score(y_test, svc2.predict(X_test))"
   ]
  },
  {
   "source": [
    "## Confusion Matrix"
   ],
   "cell_type": "markdown",
   "metadata": {}
  },
  {
   "cell_type": "code",
   "execution_count": 162,
   "metadata": {},
   "outputs": [
    {
     "output_type": "execute_result",
     "data": {
      "text/plain": [
       "array([[583, 320],\n",
       "       [390, 481]])"
      ]
     },
     "metadata": {},
     "execution_count": 162
    }
   ],
   "source": [
    "from sklearn.metrics import confusion_matrix\n",
    "array = confusion_matrix(y_test, pred)\n",
    "array"
   ]
  },
  {
   "cell_type": "code",
   "execution_count": 163,
   "metadata": {},
   "outputs": [
    {
     "output_type": "display_data",
     "data": {
      "text/plain": "<Figure size 720x504 with 2 Axes>",
      "image/svg+xml": "<?xml version=\"1.0\" encoding=\"utf-8\" standalone=\"no\"?>\n<!DOCTYPE svg PUBLIC \"-//W3C//DTD SVG 1.1//EN\"\n  \"http://www.w3.org/Graphics/SVG/1.1/DTD/svg11.dtd\">\n<!-- Created with matplotlib (https://matplotlib.org/) -->\n<svg height=\"470.763437pt\" version=\"1.1\" viewBox=\"0 0 609.656938 470.763437\" width=\"609.656938pt\" xmlns=\"http://www.w3.org/2000/svg\" xmlns:xlink=\"http://www.w3.org/1999/xlink\">\n <metadata>\n  <rdf:RDF xmlns:cc=\"http://creativecommons.org/ns#\" xmlns:dc=\"http://purl.org/dc/elements/1.1/\" xmlns:rdf=\"http://www.w3.org/1999/02/22-rdf-syntax-ns#\">\n   <cc:Work>\n    <dc:type rdf:resource=\"http://purl.org/dc/dcmitype/StillImage\"/>\n    <dc:date>2020-12-03T14:54:36.486816</dc:date>\n    <dc:format>image/svg+xml</dc:format>\n    <dc:creator>\n     <cc:Agent>\n      <dc:title>Matplotlib v3.3.1, https://matplotlib.org/</dc:title>\n     </cc:Agent>\n    </dc:creator>\n   </cc:Work>\n  </rdf:RDF>\n </metadata>\n <defs>\n  <style type=\"text/css\">*{stroke-linecap:butt;stroke-linejoin:round;}</style>\n </defs>\n <g id=\"figure_1\">\n  <g id=\"patch_1\">\n   <path d=\"M 0 470.763437 \nL 609.656938 470.763437 \nL 609.656938 0 \nL 0 0 \nz\n\" style=\"fill:none;\"/>\n  </g>\n  <g id=\"axes_1\">\n   <g id=\"patch_2\">\n    <path d=\"M 83.043438 387.72 \nL 529.443438 387.72 \nL 529.443438 7.2 \nL 83.043438 7.2 \nz\n\" style=\"fill:#ffffff;\"/>\n   </g>\n   <g id=\"QuadMesh_1\">\n    <path clip-path=\"url(#p5241ffd269)\" d=\"M 83.043438 7.2 \nL 306.243438 7.2 \nL 306.243438 197.46 \nL 83.043438 197.46 \nL 83.043438 7.2 \n\" style=\"fill:#00441b;\"/>\n    <path clip-path=\"url(#p5241ffd269)\" d=\"M 306.243438 7.2 \nL 529.443438 7.2 \nL 529.443438 197.46 \nL 306.243438 197.46 \nL 306.243438 7.2 \n\" style=\"fill:#f7fcf5;\"/>\n    <path clip-path=\"url(#p5241ffd269)\" d=\"M 83.043438 197.46 \nL 306.243438 197.46 \nL 306.243438 387.72 \nL 83.043438 387.72 \nL 83.043438 197.46 \n\" style=\"fill:#c2e7bb;\"/>\n    <path clip-path=\"url(#p5241ffd269)\" d=\"M 306.243438 197.46 \nL 529.443438 197.46 \nL 529.443438 387.72 \nL 306.243438 387.72 \nL 306.243438 197.46 \n\" style=\"fill:#46ae60;\"/>\n   </g>\n   <g id=\"matplotlib.axis_1\">\n    <g id=\"xtick_1\">\n     <g id=\"line2d_1\">\n      <defs>\n       <path d=\"M 0 0 \nL 0 3.5 \n\" id=\"m4a662eaae0\" style=\"stroke:#000000;stroke-width:0.8;\"/>\n      </defs>\n      <g>\n       <use style=\"stroke:#000000;stroke-width:0.8;\" x=\"194.643438\" xlink:href=\"#m4a662eaae0\" y=\"387.72\"/>\n      </g>\n     </g>\n     <g id=\"text_1\">\n      <!-- No -->\n      <g transform=\"translate(176.283438 415.235781)scale(0.27 -0.27)\">\n       <defs>\n        <path d=\"M 9.8125 72.90625 \nL 23.09375 72.90625 \nL 55.421875 11.921875 \nL 55.421875 72.90625 \nL 64.984375 72.90625 \nL 64.984375 0 \nL 51.703125 0 \nL 19.390625 60.984375 \nL 19.390625 0 \nL 9.8125 0 \nz\n\" id=\"DejaVuSans-78\"/>\n        <path d=\"M 30.609375 48.390625 \nQ 23.390625 48.390625 19.1875 42.75 \nQ 14.984375 37.109375 14.984375 27.296875 \nQ 14.984375 17.484375 19.15625 11.84375 \nQ 23.34375 6.203125 30.609375 6.203125 \nQ 37.796875 6.203125 41.984375 11.859375 \nQ 46.1875 17.53125 46.1875 27.296875 \nQ 46.1875 37.015625 41.984375 42.703125 \nQ 37.796875 48.390625 30.609375 48.390625 \nz\nM 30.609375 56 \nQ 42.328125 56 49.015625 48.375 \nQ 55.71875 40.765625 55.71875 27.296875 \nQ 55.71875 13.875 49.015625 6.21875 \nQ 42.328125 -1.421875 30.609375 -1.421875 \nQ 18.84375 -1.421875 12.171875 6.21875 \nQ 5.515625 13.875 5.515625 27.296875 \nQ 5.515625 40.765625 12.171875 48.375 \nQ 18.84375 56 30.609375 56 \nz\n\" id=\"DejaVuSans-111\"/>\n       </defs>\n       <use xlink:href=\"#DejaVuSans-78\"/>\n       <use x=\"74.804688\" xlink:href=\"#DejaVuSans-111\"/>\n      </g>\n     </g>\n    </g>\n    <g id=\"xtick_2\">\n     <g id=\"line2d_2\">\n      <g>\n       <use style=\"stroke:#000000;stroke-width:0.8;\" x=\"417.843438\" xlink:href=\"#m4a662eaae0\" y=\"387.72\"/>\n      </g>\n     </g>\n     <g id=\"text_2\">\n      <!-- Yes -->\n      <g transform=\"translate(396.047266 415.235781)scale(0.27 -0.27)\">\n       <defs>\n        <path d=\"M -0.203125 72.90625 \nL 10.40625 72.90625 \nL 30.609375 42.921875 \nL 50.6875 72.90625 \nL 61.28125 72.90625 \nL 35.5 34.71875 \nL 35.5 0 \nL 25.59375 0 \nL 25.59375 34.71875 \nz\n\" id=\"DejaVuSans-89\"/>\n        <path d=\"M 56.203125 29.59375 \nL 56.203125 25.203125 \nL 14.890625 25.203125 \nQ 15.484375 15.921875 20.484375 11.0625 \nQ 25.484375 6.203125 34.421875 6.203125 \nQ 39.59375 6.203125 44.453125 7.46875 \nQ 49.3125 8.734375 54.109375 11.28125 \nL 54.109375 2.78125 \nQ 49.265625 0.734375 44.1875 -0.34375 \nQ 39.109375 -1.421875 33.890625 -1.421875 \nQ 20.796875 -1.421875 13.15625 6.1875 \nQ 5.515625 13.8125 5.515625 26.8125 \nQ 5.515625 40.234375 12.765625 48.109375 \nQ 20.015625 56 32.328125 56 \nQ 43.359375 56 49.78125 48.890625 \nQ 56.203125 41.796875 56.203125 29.59375 \nz\nM 47.21875 32.234375 \nQ 47.125 39.59375 43.09375 43.984375 \nQ 39.0625 48.390625 32.421875 48.390625 \nQ 24.90625 48.390625 20.390625 44.140625 \nQ 15.875 39.890625 15.1875 32.171875 \nz\n\" id=\"DejaVuSans-101\"/>\n        <path d=\"M 44.28125 53.078125 \nL 44.28125 44.578125 \nQ 40.484375 46.53125 36.375 47.5 \nQ 32.28125 48.484375 27.875 48.484375 \nQ 21.1875 48.484375 17.84375 46.4375 \nQ 14.5 44.390625 14.5 40.28125 \nQ 14.5 37.15625 16.890625 35.375 \nQ 19.28125 33.59375 26.515625 31.984375 \nL 29.59375 31.296875 \nQ 39.15625 29.25 43.1875 25.515625 \nQ 47.21875 21.78125 47.21875 15.09375 \nQ 47.21875 7.46875 41.1875 3.015625 \nQ 35.15625 -1.421875 24.609375 -1.421875 \nQ 20.21875 -1.421875 15.453125 -0.5625 \nQ 10.6875 0.296875 5.421875 2 \nL 5.421875 11.28125 \nQ 10.40625 8.6875 15.234375 7.390625 \nQ 20.0625 6.109375 24.8125 6.109375 \nQ 31.15625 6.109375 34.5625 8.28125 \nQ 37.984375 10.453125 37.984375 14.40625 \nQ 37.984375 18.0625 35.515625 20.015625 \nQ 33.0625 21.96875 24.703125 23.78125 \nL 21.578125 24.515625 \nQ 13.234375 26.265625 9.515625 29.90625 \nQ 5.8125 33.546875 5.8125 39.890625 \nQ 5.8125 47.609375 11.28125 51.796875 \nQ 16.75 56 26.8125 56 \nQ 31.78125 56 36.171875 55.265625 \nQ 40.578125 54.546875 44.28125 53.078125 \nz\n\" id=\"DejaVuSans-115\"/>\n       </defs>\n       <use xlink:href=\"#DejaVuSans-89\"/>\n       <use x=\"47.833984\" xlink:href=\"#DejaVuSans-101\"/>\n       <use x=\"109.357422\" xlink:href=\"#DejaVuSans-115\"/>\n      </g>\n     </g>\n    </g>\n    <g id=\"text_3\">\n     <!-- Predicted -->\n     <g transform=\"translate(212.362188 455.244687)scale(0.4 -0.4)\">\n      <defs>\n       <path d=\"M 19.671875 64.796875 \nL 19.671875 37.40625 \nL 32.078125 37.40625 \nQ 38.96875 37.40625 42.71875 40.96875 \nQ 46.484375 44.53125 46.484375 51.125 \nQ 46.484375 57.671875 42.71875 61.234375 \nQ 38.96875 64.796875 32.078125 64.796875 \nz\nM 9.8125 72.90625 \nL 32.078125 72.90625 \nQ 44.34375 72.90625 50.609375 67.359375 \nQ 56.890625 61.8125 56.890625 51.125 \nQ 56.890625 40.328125 50.609375 34.8125 \nQ 44.34375 29.296875 32.078125 29.296875 \nL 19.671875 29.296875 \nL 19.671875 0 \nL 9.8125 0 \nz\n\" id=\"DejaVuSans-80\"/>\n       <path d=\"M 41.109375 46.296875 \nQ 39.59375 47.171875 37.8125 47.578125 \nQ 36.03125 48 33.890625 48 \nQ 26.265625 48 22.1875 43.046875 \nQ 18.109375 38.09375 18.109375 28.8125 \nL 18.109375 0 \nL 9.078125 0 \nL 9.078125 54.6875 \nL 18.109375 54.6875 \nL 18.109375 46.1875 \nQ 20.953125 51.171875 25.484375 53.578125 \nQ 30.03125 56 36.53125 56 \nQ 37.453125 56 38.578125 55.875 \nQ 39.703125 55.765625 41.0625 55.515625 \nz\n\" id=\"DejaVuSans-114\"/>\n       <path d=\"M 45.40625 46.390625 \nL 45.40625 75.984375 \nL 54.390625 75.984375 \nL 54.390625 0 \nL 45.40625 0 \nL 45.40625 8.203125 \nQ 42.578125 3.328125 38.25 0.953125 \nQ 33.9375 -1.421875 27.875 -1.421875 \nQ 17.96875 -1.421875 11.734375 6.484375 \nQ 5.515625 14.40625 5.515625 27.296875 \nQ 5.515625 40.1875 11.734375 48.09375 \nQ 17.96875 56 27.875 56 \nQ 33.9375 56 38.25 53.625 \nQ 42.578125 51.265625 45.40625 46.390625 \nz\nM 14.796875 27.296875 \nQ 14.796875 17.390625 18.875 11.75 \nQ 22.953125 6.109375 30.078125 6.109375 \nQ 37.203125 6.109375 41.296875 11.75 \nQ 45.40625 17.390625 45.40625 27.296875 \nQ 45.40625 37.203125 41.296875 42.84375 \nQ 37.203125 48.484375 30.078125 48.484375 \nQ 22.953125 48.484375 18.875 42.84375 \nQ 14.796875 37.203125 14.796875 27.296875 \nz\n\" id=\"DejaVuSans-100\"/>\n       <path d=\"M 9.421875 54.6875 \nL 18.40625 54.6875 \nL 18.40625 0 \nL 9.421875 0 \nz\nM 9.421875 75.984375 \nL 18.40625 75.984375 \nL 18.40625 64.59375 \nL 9.421875 64.59375 \nz\n\" id=\"DejaVuSans-105\"/>\n       <path d=\"M 48.78125 52.59375 \nL 48.78125 44.1875 \nQ 44.96875 46.296875 41.140625 47.34375 \nQ 37.3125 48.390625 33.40625 48.390625 \nQ 24.65625 48.390625 19.8125 42.84375 \nQ 14.984375 37.3125 14.984375 27.296875 \nQ 14.984375 17.28125 19.8125 11.734375 \nQ 24.65625 6.203125 33.40625 6.203125 \nQ 37.3125 6.203125 41.140625 7.25 \nQ 44.96875 8.296875 48.78125 10.40625 \nL 48.78125 2.09375 \nQ 45.015625 0.34375 40.984375 -0.53125 \nQ 36.96875 -1.421875 32.421875 -1.421875 \nQ 20.0625 -1.421875 12.78125 6.34375 \nQ 5.515625 14.109375 5.515625 27.296875 \nQ 5.515625 40.671875 12.859375 48.328125 \nQ 20.21875 56 33.015625 56 \nQ 37.15625 56 41.109375 55.140625 \nQ 45.0625 54.296875 48.78125 52.59375 \nz\n\" id=\"DejaVuSans-99\"/>\n       <path d=\"M 18.3125 70.21875 \nL 18.3125 54.6875 \nL 36.8125 54.6875 \nL 36.8125 47.703125 \nL 18.3125 47.703125 \nL 18.3125 18.015625 \nQ 18.3125 11.328125 20.140625 9.421875 \nQ 21.96875 7.515625 27.59375 7.515625 \nL 36.8125 7.515625 \nL 36.8125 0 \nL 27.59375 0 \nQ 17.1875 0 13.234375 3.875 \nQ 9.28125 7.765625 9.28125 18.015625 \nL 9.28125 47.703125 \nL 2.6875 47.703125 \nL 2.6875 54.6875 \nL 9.28125 54.6875 \nL 9.28125 70.21875 \nz\n\" id=\"DejaVuSans-116\"/>\n      </defs>\n      <use xlink:href=\"#DejaVuSans-80\"/>\n      <use x=\"58.552734\" xlink:href=\"#DejaVuSans-114\"/>\n      <use x=\"97.416016\" xlink:href=\"#DejaVuSans-101\"/>\n      <use x=\"158.939453\" xlink:href=\"#DejaVuSans-100\"/>\n      <use x=\"222.416016\" xlink:href=\"#DejaVuSans-105\"/>\n      <use x=\"250.199219\" xlink:href=\"#DejaVuSans-99\"/>\n      <use x=\"305.179688\" xlink:href=\"#DejaVuSans-116\"/>\n      <use x=\"344.388672\" xlink:href=\"#DejaVuSans-101\"/>\n      <use x=\"405.912109\" xlink:href=\"#DejaVuSans-100\"/>\n     </g>\n    </g>\n   </g>\n   <g id=\"matplotlib.axis_2\">\n    <g id=\"ytick_1\">\n     <g id=\"line2d_3\">\n      <defs>\n       <path d=\"M 0 0 \nL -3.5 0 \n\" id=\"m1f7d849ad5\" style=\"stroke:#000000;stroke-width:0.8;\"/>\n      </defs>\n      <g>\n       <use style=\"stroke:#000000;stroke-width:0.8;\" x=\"83.043438\" xlink:href=\"#m1f7d849ad5\" y=\"102.33\"/>\n      </g>\n     </g>\n     <g id=\"text_4\">\n      <!-- No -->\n      <g transform=\"translate(70.428281 128.792109)rotate(-90)scale(0.27 -0.27)\">\n       <use xlink:href=\"#DejaVuSans-78\"/>\n       <use x=\"74.804688\" xlink:href=\"#DejaVuSans-111\"/>\n      </g>\n     </g>\n    </g>\n    <g id=\"ytick_2\">\n     <g id=\"line2d_4\">\n      <g>\n       <use style=\"stroke:#000000;stroke-width:0.8;\" x=\"83.043438\" xlink:href=\"#m1f7d849ad5\" y=\"292.59\"/>\n      </g>\n     </g>\n     <g id=\"text_5\">\n      <!-- Yes -->\n      <g transform=\"translate(70.428281 325.924453)rotate(-90)scale(0.27 -0.27)\">\n       <use xlink:href=\"#DejaVuSans-89\"/>\n       <use x=\"47.833984\" xlink:href=\"#DejaVuSans-101\"/>\n       <use x=\"109.357422\" xlink:href=\"#DejaVuSans-115\"/>\n      </g>\n     </g>\n    </g>\n    <g id=\"text_6\">\n     <!-- Actual -->\n     <g transform=\"translate(37.59375 260.11625)rotate(-90)scale(0.4 -0.4)\">\n      <defs>\n       <path d=\"M 34.1875 63.1875 \nL 20.796875 26.90625 \nL 47.609375 26.90625 \nz\nM 28.609375 72.90625 \nL 39.796875 72.90625 \nL 67.578125 0 \nL 57.328125 0 \nL 50.6875 18.703125 \nL 17.828125 18.703125 \nL 11.1875 0 \nL 0.78125 0 \nz\n\" id=\"DejaVuSans-65\"/>\n       <path d=\"M 8.5 21.578125 \nL 8.5 54.6875 \nL 17.484375 54.6875 \nL 17.484375 21.921875 \nQ 17.484375 14.15625 20.5 10.265625 \nQ 23.53125 6.390625 29.59375 6.390625 \nQ 36.859375 6.390625 41.078125 11.03125 \nQ 45.3125 15.671875 45.3125 23.6875 \nL 45.3125 54.6875 \nL 54.296875 54.6875 \nL 54.296875 0 \nL 45.3125 0 \nL 45.3125 8.40625 \nQ 42.046875 3.421875 37.71875 1 \nQ 33.40625 -1.421875 27.6875 -1.421875 \nQ 18.265625 -1.421875 13.375 4.4375 \nQ 8.5 10.296875 8.5 21.578125 \nz\nM 31.109375 56 \nz\n\" id=\"DejaVuSans-117\"/>\n       <path d=\"M 34.28125 27.484375 \nQ 23.390625 27.484375 19.1875 25 \nQ 14.984375 22.515625 14.984375 16.5 \nQ 14.984375 11.71875 18.140625 8.90625 \nQ 21.296875 6.109375 26.703125 6.109375 \nQ 34.1875 6.109375 38.703125 11.40625 \nQ 43.21875 16.703125 43.21875 25.484375 \nL 43.21875 27.484375 \nz\nM 52.203125 31.203125 \nL 52.203125 0 \nL 43.21875 0 \nL 43.21875 8.296875 \nQ 40.140625 3.328125 35.546875 0.953125 \nQ 30.953125 -1.421875 24.3125 -1.421875 \nQ 15.921875 -1.421875 10.953125 3.296875 \nQ 6 8.015625 6 15.921875 \nQ 6 25.140625 12.171875 29.828125 \nQ 18.359375 34.515625 30.609375 34.515625 \nL 43.21875 34.515625 \nL 43.21875 35.40625 \nQ 43.21875 41.609375 39.140625 45 \nQ 35.0625 48.390625 27.6875 48.390625 \nQ 23 48.390625 18.546875 47.265625 \nQ 14.109375 46.140625 10.015625 43.890625 \nL 10.015625 52.203125 \nQ 14.9375 54.109375 19.578125 55.046875 \nQ 24.21875 56 28.609375 56 \nQ 40.484375 56 46.34375 49.84375 \nQ 52.203125 43.703125 52.203125 31.203125 \nz\n\" id=\"DejaVuSans-97\"/>\n       <path d=\"M 9.421875 75.984375 \nL 18.40625 75.984375 \nL 18.40625 0 \nL 9.421875 0 \nz\n\" id=\"DejaVuSans-108\"/>\n      </defs>\n      <use xlink:href=\"#DejaVuSans-65\"/>\n      <use x=\"66.658203\" xlink:href=\"#DejaVuSans-99\"/>\n      <use x=\"121.638672\" xlink:href=\"#DejaVuSans-116\"/>\n      <use x=\"160.847656\" xlink:href=\"#DejaVuSans-117\"/>\n      <use x=\"224.226562\" xlink:href=\"#DejaVuSans-97\"/>\n      <use x=\"285.505859\" xlink:href=\"#DejaVuSans-108\"/>\n     </g>\n    </g>\n   </g>\n   <g id=\"text_7\">\n    <!-- 583 -->\n    <g style=\"fill:#ffffff;\" transform=\"translate(146.924688 116.126875)scale(0.5 -0.5)\">\n     <defs>\n      <path d=\"M 10.796875 72.90625 \nL 49.515625 72.90625 \nL 49.515625 64.59375 \nL 19.828125 64.59375 \nL 19.828125 46.734375 \nQ 21.96875 47.46875 24.109375 47.828125 \nQ 26.265625 48.1875 28.421875 48.1875 \nQ 40.625 48.1875 47.75 41.5 \nQ 54.890625 34.8125 54.890625 23.390625 \nQ 54.890625 11.625 47.5625 5.09375 \nQ 40.234375 -1.421875 26.90625 -1.421875 \nQ 22.3125 -1.421875 17.546875 -0.640625 \nQ 12.796875 0.140625 7.71875 1.703125 \nL 7.71875 11.625 \nQ 12.109375 9.234375 16.796875 8.0625 \nQ 21.484375 6.890625 26.703125 6.890625 \nQ 35.15625 6.890625 40.078125 11.328125 \nQ 45.015625 15.765625 45.015625 23.390625 \nQ 45.015625 31 40.078125 35.4375 \nQ 35.15625 39.890625 26.703125 39.890625 \nQ 22.75 39.890625 18.8125 39.015625 \nQ 14.890625 38.140625 10.796875 36.28125 \nz\n\" id=\"DejaVuSans-53\"/>\n      <path d=\"M 31.78125 34.625 \nQ 24.75 34.625 20.71875 30.859375 \nQ 16.703125 27.09375 16.703125 20.515625 \nQ 16.703125 13.921875 20.71875 10.15625 \nQ 24.75 6.390625 31.78125 6.390625 \nQ 38.8125 6.390625 42.859375 10.171875 \nQ 46.921875 13.96875 46.921875 20.515625 \nQ 46.921875 27.09375 42.890625 30.859375 \nQ 38.875 34.625 31.78125 34.625 \nz\nM 21.921875 38.8125 \nQ 15.578125 40.375 12.03125 44.71875 \nQ 8.5 49.078125 8.5 55.328125 \nQ 8.5 64.0625 14.71875 69.140625 \nQ 20.953125 74.21875 31.78125 74.21875 \nQ 42.671875 74.21875 48.875 69.140625 \nQ 55.078125 64.0625 55.078125 55.328125 \nQ 55.078125 49.078125 51.53125 44.71875 \nQ 48 40.375 41.703125 38.8125 \nQ 48.828125 37.15625 52.796875 32.3125 \nQ 56.78125 27.484375 56.78125 20.515625 \nQ 56.78125 9.90625 50.3125 4.234375 \nQ 43.84375 -1.421875 31.78125 -1.421875 \nQ 19.734375 -1.421875 13.25 4.234375 \nQ 6.78125 9.90625 6.78125 20.515625 \nQ 6.78125 27.484375 10.78125 32.3125 \nQ 14.796875 37.15625 21.921875 38.8125 \nz\nM 18.3125 54.390625 \nQ 18.3125 48.734375 21.84375 45.5625 \nQ 25.390625 42.390625 31.78125 42.390625 \nQ 38.140625 42.390625 41.71875 45.5625 \nQ 45.3125 48.734375 45.3125 54.390625 \nQ 45.3125 60.0625 41.71875 63.234375 \nQ 38.140625 66.40625 31.78125 66.40625 \nQ 25.390625 66.40625 21.84375 63.234375 \nQ 18.3125 60.0625 18.3125 54.390625 \nz\n\" id=\"DejaVuSans-56\"/>\n      <path d=\"M 40.578125 39.3125 \nQ 47.65625 37.796875 51.625 33 \nQ 55.609375 28.21875 55.609375 21.1875 \nQ 55.609375 10.40625 48.1875 4.484375 \nQ 40.765625 -1.421875 27.09375 -1.421875 \nQ 22.515625 -1.421875 17.65625 -0.515625 \nQ 12.796875 0.390625 7.625 2.203125 \nL 7.625 11.71875 \nQ 11.71875 9.328125 16.59375 8.109375 \nQ 21.484375 6.890625 26.8125 6.890625 \nQ 36.078125 6.890625 40.9375 10.546875 \nQ 45.796875 14.203125 45.796875 21.1875 \nQ 45.796875 27.640625 41.28125 31.265625 \nQ 36.765625 34.90625 28.71875 34.90625 \nL 20.21875 34.90625 \nL 20.21875 43.015625 \nL 29.109375 43.015625 \nQ 36.375 43.015625 40.234375 45.921875 \nQ 44.09375 48.828125 44.09375 54.296875 \nQ 44.09375 59.90625 40.109375 62.90625 \nQ 36.140625 65.921875 28.71875 65.921875 \nQ 24.65625 65.921875 20.015625 65.03125 \nQ 15.375 64.15625 9.8125 62.3125 \nL 9.8125 71.09375 \nQ 15.4375 72.65625 20.34375 73.4375 \nQ 25.25 74.21875 29.59375 74.21875 \nQ 40.828125 74.21875 47.359375 69.109375 \nQ 53.90625 64.015625 53.90625 55.328125 \nQ 53.90625 49.265625 50.4375 45.09375 \nQ 46.96875 40.921875 40.578125 39.3125 \nz\n\" id=\"DejaVuSans-51\"/>\n     </defs>\n     <use xlink:href=\"#DejaVuSans-53\"/>\n     <use x=\"63.623047\" xlink:href=\"#DejaVuSans-56\"/>\n     <use x=\"127.246094\" xlink:href=\"#DejaVuSans-51\"/>\n    </g>\n   </g>\n   <g id=\"text_8\">\n    <!-- 320 -->\n    <g style=\"fill:#262626;\" transform=\"translate(370.124688 116.126875)scale(0.5 -0.5)\">\n     <defs>\n      <path d=\"M 19.1875 8.296875 \nL 53.609375 8.296875 \nL 53.609375 0 \nL 7.328125 0 \nL 7.328125 8.296875 \nQ 12.9375 14.109375 22.625 23.890625 \nQ 32.328125 33.6875 34.8125 36.53125 \nQ 39.546875 41.84375 41.421875 45.53125 \nQ 43.3125 49.21875 43.3125 52.78125 \nQ 43.3125 58.59375 39.234375 62.25 \nQ 35.15625 65.921875 28.609375 65.921875 \nQ 23.96875 65.921875 18.8125 64.3125 \nQ 13.671875 62.703125 7.8125 59.421875 \nL 7.8125 69.390625 \nQ 13.765625 71.78125 18.9375 73 \nQ 24.125 74.21875 28.421875 74.21875 \nQ 39.75 74.21875 46.484375 68.546875 \nQ 53.21875 62.890625 53.21875 53.421875 \nQ 53.21875 48.921875 51.53125 44.890625 \nQ 49.859375 40.875 45.40625 35.40625 \nQ 44.1875 33.984375 37.640625 27.21875 \nQ 31.109375 20.453125 19.1875 8.296875 \nz\n\" id=\"DejaVuSans-50\"/>\n      <path d=\"M 31.78125 66.40625 \nQ 24.171875 66.40625 20.328125 58.90625 \nQ 16.5 51.421875 16.5 36.375 \nQ 16.5 21.390625 20.328125 13.890625 \nQ 24.171875 6.390625 31.78125 6.390625 \nQ 39.453125 6.390625 43.28125 13.890625 \nQ 47.125 21.390625 47.125 36.375 \nQ 47.125 51.421875 43.28125 58.90625 \nQ 39.453125 66.40625 31.78125 66.40625 \nz\nM 31.78125 74.21875 \nQ 44.046875 74.21875 50.515625 64.515625 \nQ 56.984375 54.828125 56.984375 36.375 \nQ 56.984375 17.96875 50.515625 8.265625 \nQ 44.046875 -1.421875 31.78125 -1.421875 \nQ 19.53125 -1.421875 13.0625 8.265625 \nQ 6.59375 17.96875 6.59375 36.375 \nQ 6.59375 54.828125 13.0625 64.515625 \nQ 19.53125 74.21875 31.78125 74.21875 \nz\n\" id=\"DejaVuSans-48\"/>\n     </defs>\n     <use xlink:href=\"#DejaVuSans-51\"/>\n     <use x=\"63.623047\" xlink:href=\"#DejaVuSans-50\"/>\n     <use x=\"127.246094\" xlink:href=\"#DejaVuSans-48\"/>\n    </g>\n   </g>\n   <g id=\"text_9\">\n    <!-- 390 -->\n    <g style=\"fill:#262626;\" transform=\"translate(146.924688 306.386875)scale(0.5 -0.5)\">\n     <defs>\n      <path d=\"M 10.984375 1.515625 \nL 10.984375 10.5 \nQ 14.703125 8.734375 18.5 7.8125 \nQ 22.3125 6.890625 25.984375 6.890625 \nQ 35.75 6.890625 40.890625 13.453125 \nQ 46.046875 20.015625 46.78125 33.40625 \nQ 43.953125 29.203125 39.59375 26.953125 \nQ 35.25 24.703125 29.984375 24.703125 \nQ 19.046875 24.703125 12.671875 31.3125 \nQ 6.296875 37.9375 6.296875 49.421875 \nQ 6.296875 60.640625 12.9375 67.421875 \nQ 19.578125 74.21875 30.609375 74.21875 \nQ 43.265625 74.21875 49.921875 64.515625 \nQ 56.59375 54.828125 56.59375 36.375 \nQ 56.59375 19.140625 48.40625 8.859375 \nQ 40.234375 -1.421875 26.421875 -1.421875 \nQ 22.703125 -1.421875 18.890625 -0.6875 \nQ 15.09375 0.046875 10.984375 1.515625 \nz\nM 30.609375 32.421875 \nQ 37.25 32.421875 41.125 36.953125 \nQ 45.015625 41.5 45.015625 49.421875 \nQ 45.015625 57.28125 41.125 61.84375 \nQ 37.25 66.40625 30.609375 66.40625 \nQ 23.96875 66.40625 20.09375 61.84375 \nQ 16.21875 57.28125 16.21875 49.421875 \nQ 16.21875 41.5 20.09375 36.953125 \nQ 23.96875 32.421875 30.609375 32.421875 \nz\n\" id=\"DejaVuSans-57\"/>\n     </defs>\n     <use xlink:href=\"#DejaVuSans-51\"/>\n     <use x=\"63.623047\" xlink:href=\"#DejaVuSans-57\"/>\n     <use x=\"127.246094\" xlink:href=\"#DejaVuSans-48\"/>\n    </g>\n   </g>\n   <g id=\"text_10\">\n    <!-- 481 -->\n    <g style=\"fill:#ffffff;\" transform=\"translate(370.124688 306.386875)scale(0.5 -0.5)\">\n     <defs>\n      <path d=\"M 37.796875 64.3125 \nL 12.890625 25.390625 \nL 37.796875 25.390625 \nz\nM 35.203125 72.90625 \nL 47.609375 72.90625 \nL 47.609375 25.390625 \nL 58.015625 25.390625 \nL 58.015625 17.1875 \nL 47.609375 17.1875 \nL 47.609375 0 \nL 37.796875 0 \nL 37.796875 17.1875 \nL 4.890625 17.1875 \nL 4.890625 26.703125 \nz\n\" id=\"DejaVuSans-52\"/>\n      <path d=\"M 12.40625 8.296875 \nL 28.515625 8.296875 \nL 28.515625 63.921875 \nL 10.984375 60.40625 \nL 10.984375 69.390625 \nL 28.421875 72.90625 \nL 38.28125 72.90625 \nL 38.28125 8.296875 \nL 54.390625 8.296875 \nL 54.390625 0 \nL 12.40625 0 \nz\n\" id=\"DejaVuSans-49\"/>\n     </defs>\n     <use xlink:href=\"#DejaVuSans-52\"/>\n     <use x=\"63.623047\" xlink:href=\"#DejaVuSans-56\"/>\n     <use x=\"127.246094\" xlink:href=\"#DejaVuSans-49\"/>\n    </g>\n   </g>\n  </g>\n  <g id=\"axes_2\">\n   <g id=\"patch_3\">\n    <path clip-path=\"url(#pe2807e4b18)\" d=\"M 557.343438 387.72 \nL 557.343438 386.233594 \nL 557.343438 8.686406 \nL 557.343438 7.2 \nL 576.369438 7.2 \nL 576.369438 8.686406 \nL 576.369438 386.233594 \nL 576.369438 387.72 \nz\n\" style=\"fill:#ffffff;stroke:#ffffff;stroke-linejoin:miter;stroke-width:0.01;\"/>\n   </g>\n   <image height=\"381\" id=\"image8b12b0bf00\" transform=\"scale(1 -1)translate(0 -381)\" width=\"19\" x=\"557\" xlink:href=\"data:image/png;base64,\niVBORw0KGgoAAAANSUhEUgAAABMAAAF9CAYAAADm2VNSAAABzElEQVR4nO2bUWrFMBAD3ZL737b0pyQ9g8LAG5D2ACJjreV9id/X79/Pc6C6noNpnW9MiRa7nofDvI51zS7uudyYpJvkmrGYpAHb6Hmp3eTKjKl1syVprU9WkhpeN9caeZmTFpNyY2rd3IHyQkzs5jA/KeY9A7ZmL8TEeWZtDfNGX56ltabNqwZze/OjYmvavK7Tgbm9+UJMi3mfmxPzYpa4iWLeYsw1bSymxbytmGifbaTKC40gMeaaNhcjU0OMWdO0Xkxw1ljTxiXGNLtZMSBrJ8dNQXnBSat1s+Y3esneJJNWuzfZCPK6aW1a9Zp1zBoth3DJ6dQxa3Q07U6nXEyMWRJB7KsIrsyYWjfh8YArM2aHm96mRf+gIcbscHMRlIu1RBAm1bNmJZibHONSY2JaZkzyqrUYE9RyY87NsNSYJW56MVExL+bczMWsmOyfp7SYJW5ub74R82JK3dxIlZcaE9NyY2rd7PjAjMZ2yYulEjfNmCVu7kD5pJj4S0WLm9prdiVNuwPls2KLoLxa3ASzEX7neMBPryVrBmOCNxnMmHMzF/Niom4ugtIyY4rdRK/yYFp4BHVgzs1czIvJzrSYlhpzbqblxUSf7B9IPVJqdxKDzgAAAABJRU5ErkJggg==\" y=\"-6\"/>\n   <g id=\"matplotlib.axis_3\"/>\n   <g id=\"matplotlib.axis_4\">\n    <g id=\"ytick_3\">\n     <g id=\"line2d_5\">\n      <defs>\n       <path d=\"M 0 0 \nL 3.5 0 \n\" id=\"m9982f7981b\" style=\"stroke:#000000;stroke-width:0.8;\"/>\n      </defs>\n      <g>\n       <use style=\"stroke:#000000;stroke-width:0.8;\" x=\"576.369438\" xlink:href=\"#m9982f7981b\" y=\"344.314677\"/>\n      </g>\n     </g>\n     <g id=\"text_11\">\n      <!-- 350 -->\n      <g transform=\"translate(583.369438 348.113896)scale(0.1 -0.1)\">\n       <use xlink:href=\"#DejaVuSans-51\"/>\n       <use x=\"63.623047\" xlink:href=\"#DejaVuSans-53\"/>\n       <use x=\"127.246094\" xlink:href=\"#DejaVuSans-48\"/>\n      </g>\n     </g>\n    </g>\n    <g id=\"ytick_4\">\n     <g id=\"line2d_6\">\n      <g>\n       <use style=\"stroke:#000000;stroke-width:0.8;\" x=\"576.369438\" xlink:href=\"#m9982f7981b\" y=\"271.972471\"/>\n      </g>\n     </g>\n     <g id=\"text_12\">\n      <!-- 400 -->\n      <g transform=\"translate(583.369438 275.77169)scale(0.1 -0.1)\">\n       <use xlink:href=\"#DejaVuSans-52\"/>\n       <use x=\"63.623047\" xlink:href=\"#DejaVuSans-48\"/>\n       <use x=\"127.246094\" xlink:href=\"#DejaVuSans-48\"/>\n      </g>\n     </g>\n    </g>\n    <g id=\"ytick_5\">\n     <g id=\"line2d_7\">\n      <g>\n       <use style=\"stroke:#000000;stroke-width:0.8;\" x=\"576.369438\" xlink:href=\"#m9982f7981b\" y=\"199.630266\"/>\n      </g>\n     </g>\n     <g id=\"text_13\">\n      <!-- 450 -->\n      <g transform=\"translate(583.369438 203.429485)scale(0.1 -0.1)\">\n       <use xlink:href=\"#DejaVuSans-52\"/>\n       <use x=\"63.623047\" xlink:href=\"#DejaVuSans-53\"/>\n       <use x=\"127.246094\" xlink:href=\"#DejaVuSans-48\"/>\n      </g>\n     </g>\n    </g>\n    <g id=\"ytick_6\">\n     <g id=\"line2d_8\">\n      <g>\n       <use style=\"stroke:#000000;stroke-width:0.8;\" x=\"576.369438\" xlink:href=\"#m9982f7981b\" y=\"127.288061\"/>\n      </g>\n     </g>\n     <g id=\"text_14\">\n      <!-- 500 -->\n      <g transform=\"translate(583.369438 131.08728)scale(0.1 -0.1)\">\n       <use xlink:href=\"#DejaVuSans-53\"/>\n       <use x=\"63.623047\" xlink:href=\"#DejaVuSans-48\"/>\n       <use x=\"127.246094\" xlink:href=\"#DejaVuSans-48\"/>\n      </g>\n     </g>\n    </g>\n    <g id=\"ytick_7\">\n     <g id=\"line2d_9\">\n      <g>\n       <use style=\"stroke:#000000;stroke-width:0.8;\" x=\"576.369438\" xlink:href=\"#m9982f7981b\" y=\"54.945856\"/>\n      </g>\n     </g>\n     <g id=\"text_15\">\n      <!-- 550 -->\n      <g transform=\"translate(583.369438 58.745074)scale(0.1 -0.1)\">\n       <use xlink:href=\"#DejaVuSans-53\"/>\n       <use x=\"63.623047\" xlink:href=\"#DejaVuSans-53\"/>\n       <use x=\"127.246094\" xlink:href=\"#DejaVuSans-48\"/>\n      </g>\n     </g>\n    </g>\n   </g>\n   <g id=\"patch_4\">\n    <path d=\"M 557.343438 387.72 \nL 557.343438 386.233594 \nL 557.343438 8.686406 \nL 557.343438 7.2 \nL 576.369438 7.2 \nL 576.369438 8.686406 \nL 576.369438 386.233594 \nL 576.369438 387.72 \nz\n\" style=\"fill:none;\"/>\n   </g>\n  </g>\n </g>\n <defs>\n  <clipPath id=\"p5241ffd269\">\n   <rect height=\"380.52\" width=\"446.4\" x=\"83.043438\" y=\"7.2\"/>\n  </clipPath>\n  <clipPath id=\"pe2807e4b18\">\n   <rect height=\"380.52\" width=\"19.026\" x=\"557.343438\" y=\"7.2\"/>\n  </clipPath>\n </defs>\n</svg>\n",
      "image/png": "[encoded data removed]"
     },
     "metadata": {
      "needs_background": "light"
     }
    }
   ],
   "source": [
    "import seaborn as sn\n",
    "import pandas as pd\n",
    "import matplotlib.pyplot as plt\n",
    "\n",
    "if binary:\n",
    "    df_cm = pd.DataFrame(array, index = [i for i in [\"No\", \"Yes\"]],\n",
    "                    columns = [i for i in [\"No\", \"Yes\"]])\n",
    "else:\n",
    "    df_cm = pd.DataFrame(array, index = [i for i in [\"None\", \"Small\", \"Medium\", \"Large\", \"Very Large\"]],\n",
    "                  columns = [i for i in [\"None\", \"Small\", \"Medium\", \"Large\", \"Very Large\"]])\n",
    "\n",
    "plt.figure(figsize = (10,7))\n",
    "\n",
    "ax = sn.heatmap(df_cm, cmap=\"Greens\", annot=True, annot_kws={\"size\":50}, fmt='g')\n",
    "ax.tick_params(axis='both', which='major', labelsize=27)\n",
    "plt.xlabel('Predicted', fontsize = 40) \n",
    "# plt.title(\"KNN Confusion Matrix\", fontsize = 50)\n",
    "plt.ylabel('Actual', fontsize = 40) \n",
    "\n",
    "plt.show()"
   ]
  },
  {
   "cell_type": "code",
   "execution_count": null,
   "metadata": {},
   "outputs": [],
   "source": []
  }
 ],
 "metadata": {
  "kernelspec": {
   "display_name": "Python 3",
   "language": "python",
   "name": "python3"
  },
  "language_info": {
   "codemirror_mode": {
    "name": "ipython",
    "version": 3
   },
   "file_extension": ".py",
   "mimetype": "text/x-python",
   "name": "python",
   "nbconvert_exporter": "python",
   "pygments_lexer": "ipython3",
   "version": "3.7.4-final"
  }
 },
 "nbformat": 4,
 "nbformat_minor": 4
}