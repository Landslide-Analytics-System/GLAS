{
 "cells": [
  {
   "cell_type": "code",
   "execution_count": 13,
   "metadata": {},
   "outputs": [],
   "source": [
    "import matplotlib.pyplot as plt\n",
    "import pandas as pd\n",
    "import numpy as np\n",
    "from sklearn.utils import shuffle\n",
    "import sklearn\n",
    "import os\n",
    "%matplotlib inline\n",
    "from tensorflow.keras import Sequential\n",
    "from tensorflow.keras.layers import Conv2D, Flatten, Dense, LSTM, Bidirectional\n",
    "import tensorflow as tf"
   ]
  },
  {
   "cell_type": "code",
   "execution_count": 14,
   "metadata": {},
   "outputs": [],
   "source": [
    "df = pd.read_csv(\"dataset_v1.csv\")"
   ]
  },
  {
   "cell_type": "code",
   "execution_count": 15,
   "metadata": {},
   "outputs": [],
   "source": [
    "df = df[df['severity'].isin([\"medium\", \"small\", \"large\", \"very_large\", \"na\"])]\n",
    "df['severity'].value_counts()\n",
    "df = shuffle(df)\n",
    "df.reset_index(inplace=True, drop=True)"
   ]
  },
  {
   "cell_type": "code",
   "execution_count": 16,
   "metadata": {},
   "outputs": [],
   "source": [
    "def getX():\n",
    "    X = df.copy()\n",
    "\n",
    "    X.drop(X.columns[[i for i in range(0, 151)]], axis = 1, inplace = True)\n",
    "    # X.drop(X.columns[[i for i in range(20, 35)]], axis = 1, inplace = True)\n",
    "    X[\"severity\"] = df[\"severity\"]\n",
    "    X.drop(X.columns[[0]], axis = 1, inplace = True)\n",
    "\n",
    "    X = X.dropna()\n",
    "    for i in range(0, 8):\n",
    "        del X['air' + str(i)]\n",
    "        del X['temp' + str(i)]\n",
    "        del X['humidity' + str(i)]\n",
    "        \n",
    "    X.drop(X.columns[[i for i in range(len(X.columns)-8, len(X.columns)-2)]], axis = 1, inplace = True)\n",
    "    return X\n",
    "X = getX()"
   ]
  },
  {
   "cell_type": "code",
   "execution_count": 17,
   "metadata": {},
   "outputs": [],
   "source": [
    "def generate_labels(binary = False):\n",
    "    global X\n",
    "    X = getX()\n",
    "    y = []\n",
    "    idx_to_severity = [\"na\", \"small\", \"medium\", \"large\", \"very_large\"]\n",
    "    for severity in X.severity:\n",
    "        if not binary:\n",
    "            y.append(idx_to_severity.index(severity))\n",
    "        elif severity == \"na\":\n",
    "            y.append(0)\n",
    "        else:\n",
    "            y.append(1)\n",
    "    X.drop(X.columns[[-1,-2]], axis = 1, inplace = True)\n",
    "    print(y.count(1))\n",
    "    return y"
   ]
  },
  {
   "cell_type": "code",
   "execution_count": 18,
   "metadata": {},
   "outputs": [
    {
     "output_type": "stream",
     "name": "stdout",
     "text": [
      "4394\n"
     ]
    },
    {
     "output_type": "execute_result",
     "data": {
      "text/plain": [
       "   precip7  wind7  precip6  wind6  precip5  wind5  precip4  wind4  precip3  \\\n",
       "0      0.1     18      0.4     22      0.0     13      0.3      9      0.0   \n",
       "1      9.9      8      4.1      8      4.3      8      7.8      5      3.0   \n",
       "2      0.9      7      5.7      6      7.3      8      1.4      5      2.4   \n",
       "3      0.0     12      3.5     10      2.4     12      0.2     10      3.0   \n",
       "4      1.8     12      3.1     15      0.3     16      0.3     15      0.6   \n",
       "\n",
       "   wind3  \n",
       "0      8  \n",
       "1      5  \n",
       "2      7  \n",
       "3      6  \n",
       "4     13  "
      ],
      "text/html": "<div>\n<style scoped>\n    .dataframe tbody tr th:only-of-type {\n        vertical-align: middle;\n    }\n\n    .dataframe tbody tr th {\n        vertical-align: top;\n    }\n\n    .dataframe thead th {\n        text-align: right;\n    }\n</style>\n<table border=\"1\" class=\"dataframe\">\n  <thead>\n    <tr style=\"text-align: right;\">\n      <th></th>\n      <th>precip7</th>\n      <th>wind7</th>\n      <th>precip6</th>\n      <th>wind6</th>\n      <th>precip5</th>\n      <th>wind5</th>\n      <th>precip4</th>\n      <th>wind4</th>\n      <th>precip3</th>\n      <th>wind3</th>\n    </tr>\n  </thead>\n  <tbody>\n    <tr>\n      <th>0</th>\n      <td>0.1</td>\n      <td>18</td>\n      <td>0.4</td>\n      <td>22</td>\n      <td>0.0</td>\n      <td>13</td>\n      <td>0.3</td>\n      <td>9</td>\n      <td>0.0</td>\n      <td>8</td>\n    </tr>\n    <tr>\n      <th>1</th>\n      <td>9.9</td>\n      <td>8</td>\n      <td>4.1</td>\n      <td>8</td>\n      <td>4.3</td>\n      <td>8</td>\n      <td>7.8</td>\n      <td>5</td>\n      <td>3.0</td>\n      <td>5</td>\n    </tr>\n    <tr>\n      <th>2</th>\n      <td>0.9</td>\n      <td>7</td>\n      <td>5.7</td>\n      <td>6</td>\n      <td>7.3</td>\n      <td>8</td>\n      <td>1.4</td>\n      <td>5</td>\n      <td>2.4</td>\n      <td>7</td>\n    </tr>\n    <tr>\n      <th>3</th>\n      <td>0.0</td>\n      <td>12</td>\n      <td>3.5</td>\n      <td>10</td>\n      <td>2.4</td>\n      <td>12</td>\n      <td>0.2</td>\n      <td>10</td>\n      <td>3.0</td>\n      <td>6</td>\n    </tr>\n    <tr>\n      <th>4</th>\n      <td>1.8</td>\n      <td>12</td>\n      <td>3.1</td>\n      <td>15</td>\n      <td>0.3</td>\n      <td>16</td>\n      <td>0.3</td>\n      <td>15</td>\n      <td>0.6</td>\n      <td>13</td>\n    </tr>\n  </tbody>\n</table>\n</div>"
     },
     "metadata": {},
     "execution_count": 18
    }
   ],
   "source": [
    "binary = True\n",
    "y = generate_labels(binary)\n",
    "X.head()"
   ]
  },
  {
   "cell_type": "code",
   "execution_count": 23,
   "metadata": {},
   "outputs": [
    {
     "output_type": "stream",
     "name": "stdout",
     "text": [
      "<class 'numpy.ndarray'>\n"
     ]
    }
   ],
   "source": [
    "from sklearn.model_selection import train_test_split\n",
    "from sklearn.preprocessing import StandardScaler\n",
    "X_train, X_test, y_train, y_test = train_test_split(X, y, test_size = 0.2)\n",
    "\n",
    "scaler = StandardScaler()\n",
    "scaler.fit(X_train)\n",
    "\n",
    "X_train = scaler.transform(X_train)\n",
    "X_test = scaler.transform(X_test)\n",
    "print(type(X_train))"
   ]
  },
  {
   "cell_type": "code",
   "execution_count": 20,
   "metadata": {},
   "outputs": [],
   "source": []
  },
  {
   "cell_type": "code",
   "execution_count": 106,
   "metadata": {},
   "outputs": [
    {
     "name": "stdout",
     "output_type": "stream",
     "text": [
      "Epoch 1/10\n",
      "355/355 - 1s - loss: 0.5082\n",
      "Epoch 2/10\n",
      "355/355 - 1s - loss: 0.5082\n",
      "Epoch 3/10\n",
      "355/355 - 1s - loss: 0.5082\n",
      "Epoch 4/10\n",
      "355/355 - 1s - loss: 0.5082\n",
      "Epoch 5/10\n",
      "355/355 - 1s - loss: 0.5082\n",
      "Epoch 6/10\n",
      "355/355 - 1s - loss: 0.5082\n",
      "Epoch 7/10\n",
      "355/355 - 1s - loss: 0.5082\n",
      "Epoch 8/10\n",
      "355/355 - 1s - loss: 0.5082\n",
      "Epoch 9/10\n",
      "355/355 - 1s - loss: 0.5082\n",
      "Epoch 10/10\n",
      "355/355 - 1s - loss: 0.5082\n"
     ]
    },
    {
     "data": {
      "text/plain": [
       "<tensorflow.python.keras.callbacks.History at 0x7fba08ab4150>"
      ]
     },
     "execution_count": 106,
     "metadata": {},
     "output_type": "execute_result"
    }
   ],
   "source": []
  },
  {
   "cell_type": "code",
   "execution_count": 21,
   "metadata": {},
   "outputs": [],
   "source": [
    "from fbprophet import Prophet"
   ]
  },
  {
   "cell_type": "code",
   "execution_count": 11,
   "metadata": {},
   "outputs": [
    {
     "output_type": "error",
     "ename": "ValueError",
     "evalue": "Dataframe must have columns \"ds\" and \"y\" with the dates and values respectively.",
     "traceback": [
      "\u001b[0;31m---------------------------------------------------------------------------\u001b[0m",
      "\u001b[0;31mValueError\u001b[0m                                Traceback (most recent call last)",
      "\u001b[0;32m<ipython-input-11-6d1bad7f4b22>\u001b[0m in \u001b[0;36m<module>\u001b[0;34m\u001b[0m\n\u001b[1;32m      1\u001b[0m \u001b[0mmodel\u001b[0m\u001b[0;34m=\u001b[0m\u001b[0mProphet\u001b[0m\u001b[0;34m(\u001b[0m\u001b[0;34m)\u001b[0m\u001b[0;34m\u001b[0m\u001b[0;34m\u001b[0m\u001b[0m\n\u001b[0;32m----> 2\u001b[0;31m \u001b[0mmodel\u001b[0m\u001b[0;34m.\u001b[0m\u001b[0mfit\u001b[0m\u001b[0;34m(\u001b[0m\u001b[0mX_train\u001b[0m\u001b[0;34m)\u001b[0m\u001b[0;34m\u001b[0m\u001b[0;34m\u001b[0m\u001b[0m\n\u001b[0m",
      "\u001b[0;32m/Library/Frameworks/Python.framework/Versions/3.7/lib/python3.7/site-packages/fbprophet/forecaster.py\u001b[0m in \u001b[0;36mfit\u001b[0;34m(self, df, **kwargs)\u001b[0m\n\u001b[1;32m   1101\u001b[0m         \u001b[0;32mif\u001b[0m \u001b[0;34m(\u001b[0m\u001b[0;34m'ds'\u001b[0m \u001b[0;32mnot\u001b[0m \u001b[0;32min\u001b[0m \u001b[0mdf\u001b[0m\u001b[0;34m)\u001b[0m \u001b[0;32mor\u001b[0m \u001b[0;34m(\u001b[0m\u001b[0;34m'y'\u001b[0m \u001b[0;32mnot\u001b[0m \u001b[0;32min\u001b[0m \u001b[0mdf\u001b[0m\u001b[0;34m)\u001b[0m\u001b[0;34m:\u001b[0m\u001b[0;34m\u001b[0m\u001b[0;34m\u001b[0m\u001b[0m\n\u001b[1;32m   1102\u001b[0m             raise ValueError(\n\u001b[0;32m-> 1103\u001b[0;31m                 \u001b[0;34m'Dataframe must have columns \"ds\" and \"y\" with the dates and '\u001b[0m\u001b[0;34m\u001b[0m\u001b[0;34m\u001b[0m\u001b[0m\n\u001b[0m\u001b[1;32m   1104\u001b[0m                 \u001b[0;34m'values respectively.'\u001b[0m\u001b[0;34m\u001b[0m\u001b[0;34m\u001b[0m\u001b[0m\n\u001b[1;32m   1105\u001b[0m             )\n",
      "\u001b[0;31mValueError\u001b[0m: Dataframe must have columns \"ds\" and \"y\" with the dates and values respectively."
     ]
    }
   ],
   "source": [
    "model=Prophet()\n",
    "model.fit(X_train)"
   ]
  },
  {
   "cell_type": "code",
   "execution_count": 12,
   "metadata": {},
   "outputs": [
    {
     "output_type": "execute_result",
     "data": {
      "text/plain": [
       "array([[[ 0.19304412, -1.0382531 ],\n",
       "        [ 0.65178802, -1.17355696],\n",
       "        [ 4.35388797, -1.1542461 ],\n",
       "        [ 0.54474706, -0.98252011],\n",
       "        [ 6.09898779, -1.16445971]],\n",
       "\n",
       "       [[-0.44855689, -1.20468131],\n",
       "        [-0.60765087, -0.69725183],\n",
       "        [-0.53357746, -0.68978112],\n",
       "        [-0.4740807 , -0.68246361],\n",
       "        [-0.63594459, -0.54861025]],\n",
       "\n",
       "       [[-0.42564257, -0.37254026],\n",
       "        [-0.48170698, -0.37971507],\n",
       "        [-0.60373247,  0.39397051],\n",
       "        [-0.52039105, -0.68246361],\n",
       "        [-0.21354465, -0.70257262]],\n",
       "\n",
       "       ...,\n",
       "\n",
       "       [[-0.58604283,  0.45960079],\n",
       "        [-0.60765087,  1.04920033],\n",
       "        [-0.55696247,  1.94218713],\n",
       "        [-0.61301176,  0.36773412],\n",
       "        [-0.63594459,  0.0672392 ]],\n",
       "\n",
       "       [[-0.58604283, -0.70539668],\n",
       "        [ 0.80292069,  0.25535844],\n",
       "        [-0.58034747,  0.08432719],\n",
       "        [-0.61301176, -0.68246361],\n",
       "        [-0.5655446 , -0.54861025]],\n",
       "\n",
       "       [[-0.58604283,  0.29317258],\n",
       "        [-0.53208453,  0.25535844],\n",
       "        [-0.62711747,  0.8584355 ],\n",
       "        [-0.49723587,  0.36773412],\n",
       "        [ 0.81898854,  0.37516393]]])"
      ]
     },
     "metadata": {},
     "execution_count": 12
    }
   ],
   "source": []
  },
  {
   "cell_type": "code",
   "execution_count": null,
   "metadata": {},
   "outputs": [],
   "source": []
  }
 ],
 "metadata": {
  "kernelspec": {
   "display_name": "Python 3",
   "language": "python",
   "name": "python3"
  },
  "language_info": {
   "codemirror_mode": {
    "name": "ipython",
    "version": 3
   },
   "file_extension": ".py",
   "mimetype": "text/x-python",
   "name": "python",
   "nbconvert_exporter": "python",
   "pygments_lexer": "ipython3",
   "version": "3.7.4-final"
  }
 },
 "nbformat": 4,
 "nbformat_minor": 2
}