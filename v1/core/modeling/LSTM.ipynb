{
 "cells": [
  {
   "cell_type": "code",
   "execution_count": 1,
   "metadata": {},
   "outputs": [],
   "source": [
    "import matplotlib.pyplot as plt\n",
    "import pandas as pd\n",
    "import numpy as np\n",
    "from sklearn.utils import shuffle\n",
    "import sklearn\n",
    "import os\n",
    "%matplotlib inline\n",
    "from tensorflow.keras import Sequential\n",
    "from tensorflow.keras.layers import Conv2D, Flatten, Dense, LSTM, Bidirectional\n",
    "import tensorflow as tf"
   ]
  },
  {
   "cell_type": "code",
   "execution_count": 2,
   "metadata": {},
   "outputs": [
    {
     "name": "stderr",
     "output_type": "stream",
     "text": [
      "/Library/Frameworks/Python.framework/Versions/3.7/lib/python3.7/site-packages/IPython/core/interactiveshell.py:3146: DtypeWarning: Columns (2,6,7,12,13,14,15,16,17,18,19,20,21,22,23,24,25,26,27,28,29,30,31,32,33,34,35,36,37,38,39,40,41,42,43,44,45,46,47,48,49,50,51,52,53,54,55,56,57,58,59,60,61,62,63,64,65,66,67,68,69,70,71,72,73,74,75,76,77,78,79,80,81,82,83,84,85,86,87,88,89,90,91,92,93,94,95,96,97,98,99,100,101,102,103,104,105,106,107,108,109,110,111,112,113,114,115,116,117,118,119,120,121,122,123,124,125,126,127,128,129,130,131,132,133,134,135,136,137,138,139,140,141) have mixed types.Specify dtype option on import or set low_memory=False.\n",
      "  interactivity=interactivity, compiler=compiler, result=result)\n"
     ]
    }
   ],
   "source": [
    "df = pd.read_csv(\"dataset_v1.csv\")"
   ]
  },
  {
   "cell_type": "code",
   "execution_count": 3,
   "metadata": {},
   "outputs": [],
   "source": [
    "df = df[df['severity'].isin([\"medium\", \"small\", \"large\", \"very_large\", \"na\"])]\n",
    "df['severity'].value_counts()\n",
    "df = shuffle(df)\n",
    "df.reset_index(inplace=True, drop=True)"
   ]
  },
  {
   "cell_type": "code",
   "execution_count": 4,
   "metadata": {},
   "outputs": [],
   "source": [
    "def getX():\n",
    "    X = df.copy()\n",
    "\n",
    "    X.drop(X.columns[[i for i in range(0, 151)]], axis = 1, inplace = True)\n",
    "    # X.drop(X.columns[[i for i in range(20, 35)]], axis = 1, inplace = True)\n",
    "    X[\"severity\"] = df[\"severity\"]\n",
    "    X.drop(X.columns[[0]], axis = 1, inplace = True)\n",
    "\n",
    "    X = X.dropna()\n",
    "    for i in range(0, 8):\n",
    "        del X['air' + str(i)]\n",
    "        del X['temp' + str(i)]\n",
    "        del X['humidity' + str(i)]\n",
    "        \n",
    "    X.drop(X.columns[[i for i in range(len(X.columns)-8, len(X.columns)-2)]], axis = 1, inplace = True)\n",
    "    return X\n",
    "X = getX()"
   ]
  },
  {
   "cell_type": "code",
   "execution_count": 5,
   "metadata": {},
   "outputs": [],
   "source": [
    "def generate_labels(binary = False):\n",
    "    global X\n",
    "    X = getX()\n",
    "    y = []\n",
    "    idx_to_severity = [\"na\", \"small\", \"medium\", \"large\", \"very_large\"]\n",
    "    for severity in X.severity:\n",
    "        if not binary:\n",
    "            y.append(idx_to_severity.index(severity))\n",
    "        elif severity == \"na\":\n",
    "            y.append(0)\n",
    "        else:\n",
    "            y.append(1)\n",
    "    X.drop(X.columns[[-1,-2]], axis = 1, inplace = True)\n",
    "    print(y.count(1))\n",
    "    return y"
   ]
  },
  {
   "cell_type": "code",
   "execution_count": 6,
   "metadata": {},
   "outputs": [
    {
     "name": "stdout",
     "output_type": "stream",
     "text": [
      "4394\n"
     ]
    },
    {
     "data": {
      "text/html": [
       "<div>\n",
       "<style scoped>\n",
       "    .dataframe tbody tr th:only-of-type {\n",
       "        vertical-align: middle;\n",
       "    }\n",
       "\n",
       "    .dataframe tbody tr th {\n",
       "        vertical-align: top;\n",
       "    }\n",
       "\n",
       "    .dataframe thead th {\n",
       "        text-align: right;\n",
       "    }\n",
       "</style>\n",
       "<table border=\"1\" class=\"dataframe\">\n",
       "  <thead>\n",
       "    <tr style=\"text-align: right;\">\n",
       "      <th></th>\n",
       "      <th>precip7</th>\n",
       "      <th>wind7</th>\n",
       "      <th>precip6</th>\n",
       "      <th>wind6</th>\n",
       "      <th>precip5</th>\n",
       "      <th>wind5</th>\n",
       "      <th>precip4</th>\n",
       "      <th>wind4</th>\n",
       "      <th>precip3</th>\n",
       "      <th>wind3</th>\n",
       "    </tr>\n",
       "  </thead>\n",
       "  <tbody>\n",
       "    <tr>\n",
       "      <th>0</th>\n",
       "      <td>0.1</td>\n",
       "      <td>32</td>\n",
       "      <td>0.1</td>\n",
       "      <td>33</td>\n",
       "      <td>0.1</td>\n",
       "      <td>27</td>\n",
       "      <td>0.0</td>\n",
       "      <td>23</td>\n",
       "      <td>0.1</td>\n",
       "      <td>31</td>\n",
       "    </tr>\n",
       "    <tr>\n",
       "      <th>1</th>\n",
       "      <td>0.9</td>\n",
       "      <td>17</td>\n",
       "      <td>3.4</td>\n",
       "      <td>14</td>\n",
       "      <td>0.0</td>\n",
       "      <td>9</td>\n",
       "      <td>7.5</td>\n",
       "      <td>9</td>\n",
       "      <td>3.1</td>\n",
       "      <td>8</td>\n",
       "    </tr>\n",
       "    <tr>\n",
       "      <th>2</th>\n",
       "      <td>3.3</td>\n",
       "      <td>20</td>\n",
       "      <td>3.0</td>\n",
       "      <td>18</td>\n",
       "      <td>3.8</td>\n",
       "      <td>20</td>\n",
       "      <td>2.8</td>\n",
       "      <td>18</td>\n",
       "      <td>6.9</td>\n",
       "      <td>13</td>\n",
       "    </tr>\n",
       "    <tr>\n",
       "      <th>3</th>\n",
       "      <td>0.3</td>\n",
       "      <td>9</td>\n",
       "      <td>0.2</td>\n",
       "      <td>11</td>\n",
       "      <td>1.2</td>\n",
       "      <td>8</td>\n",
       "      <td>0.0</td>\n",
       "      <td>9</td>\n",
       "      <td>0.0</td>\n",
       "      <td>14</td>\n",
       "    </tr>\n",
       "    <tr>\n",
       "      <th>4</th>\n",
       "      <td>0.2</td>\n",
       "      <td>27</td>\n",
       "      <td>0.0</td>\n",
       "      <td>29</td>\n",
       "      <td>4.5</td>\n",
       "      <td>30</td>\n",
       "      <td>0.1</td>\n",
       "      <td>32</td>\n",
       "      <td>5.7</td>\n",
       "      <td>32</td>\n",
       "    </tr>\n",
       "  </tbody>\n",
       "</table>\n",
       "</div>"
      ],
      "text/plain": [
       "   precip7  wind7  precip6  wind6  precip5  wind5  precip4  wind4  precip3  \\\n",
       "0      0.1     32      0.1     33      0.1     27      0.0     23      0.1   \n",
       "1      0.9     17      3.4     14      0.0      9      7.5      9      3.1   \n",
       "2      3.3     20      3.0     18      3.8     20      2.8     18      6.9   \n",
       "3      0.3      9      0.2     11      1.2      8      0.0      9      0.0   \n",
       "4      0.2     27      0.0     29      4.5     30      0.1     32      5.7   \n",
       "\n",
       "   wind3  \n",
       "0     31  \n",
       "1      8  \n",
       "2     13  \n",
       "3     14  \n",
       "4     32  "
      ]
     },
     "execution_count": 6,
     "metadata": {},
     "output_type": "execute_result"
    }
   ],
   "source": [
    "binary = True\n",
    "y = generate_labels(binary)\n",
    "X.head()"
   ]
  },
  {
   "cell_type": "code",
   "execution_count": 7,
   "metadata": {},
   "outputs": [
    {
     "data": {
      "text/plain": [
       "array([ 2.73977313,  4.43049107,  0.46606758,  4.50900482,  0.54848729,\n",
       "        3.45024698,  0.06649168,  2.76014383, -0.14548434,  2.3531288 ])"
      ]
     },
     "execution_count": 7,
     "metadata": {},
     "output_type": "execute_result"
    }
   ],
   "source": [
    "from sklearn.model_selection import train_test_split\n",
    "from sklearn.preprocessing import StandardScaler\n",
    "X_train, X_test, y_train, y_test = train_test_split(X, y, test_size = 0.2)\n",
    "\n",
    "scaler = StandardScaler()\n",
    "scaler.fit(X_train)\n",
    "\n",
    "X_train = scaler.transform(X_train)\n",
    "X_test = scaler.transform(X_test)\n",
    "X_train[0]"
   ]
  },
  {
   "cell_type": "code",
   "execution_count": 8,
   "metadata": {},
   "outputs": [
    {
     "name": "stdout",
     "output_type": "stream",
     "text": [
      "(7096, 5, 2)\n"
     ]
    },
    {
     "data": {
      "text/plain": [
       "array([[ 2.73977313,  4.43049107],\n",
       "       [ 0.46606758,  4.50900482],\n",
       "       [ 0.54848729,  3.45024698],\n",
       "       [ 0.06649168,  2.76014383],\n",
       "       [-0.14548434,  2.3531288 ]])"
      ]
     },
     "execution_count": 8,
     "metadata": {},
     "output_type": "execute_result"
    }
   ],
   "source": [
    "y_train = np.array(y_train)\n",
    "y_test = np.array(y_test)\n",
    "# len(X_train) # of batches\n",
    "# 5 timesteps (days 7 - 3)\n",
    "# 2 features per timestep\n",
    "X_train=X_train.reshape((len(X_train), 5, 2))\n",
    "X_test=X_test.reshape((len(X_test), 5, 2))\n",
    "print(X_train.shape)\n",
    "X_train[0]"
   ]
  },
  {
   "cell_type": "code",
   "execution_count": 9,
   "metadata": {},
   "outputs": [
    {
     "name": "stdout",
     "output_type": "stream",
     "text": [
      "Epoch 1/20\n",
      "355/355 - 1s - loss: 1.2429 - accuracy: 0.4615\n",
      "Epoch 2/20\n",
      "355/355 - 1s - loss: 0.6914 - accuracy: 0.5390\n",
      "Epoch 3/20\n",
      "355/355 - 1s - loss: 0.6837 - accuracy: 0.5631\n",
      "Epoch 4/20\n",
      "355/355 - 1s - loss: 0.6800 - accuracy: 0.5695\n",
      "Epoch 5/20\n",
      "355/355 - 1s - loss: 0.6777 - accuracy: 0.5757\n",
      "Epoch 6/20\n",
      "355/355 - 1s - loss: 0.6769 - accuracy: 0.5757\n",
      "Epoch 7/20\n",
      "355/355 - 1s - loss: 0.6760 - accuracy: 0.5812\n",
      "Epoch 8/20\n",
      "355/355 - 1s - loss: 0.6758 - accuracy: 0.5853\n",
      "Epoch 9/20\n",
      "355/355 - 1s - loss: 0.6756 - accuracy: 0.5795\n",
      "Epoch 10/20\n",
      "355/355 - 1s - loss: 0.6748 - accuracy: 0.5815\n",
      "Epoch 11/20\n",
      "355/355 - 1s - loss: 0.6752 - accuracy: 0.5831\n",
      "Epoch 12/20\n",
      "355/355 - 1s - loss: 0.6735 - accuracy: 0.5837\n",
      "Epoch 13/20\n",
      "355/355 - 1s - loss: 0.6740 - accuracy: 0.5855\n",
      "Epoch 14/20\n",
      "355/355 - 1s - loss: 0.6743 - accuracy: 0.5800\n",
      "Epoch 15/20\n",
      "355/355 - 1s - loss: 0.6743 - accuracy: 0.5836\n",
      "Epoch 16/20\n",
      "355/355 - 1s - loss: 0.6739 - accuracy: 0.5854\n",
      "Epoch 17/20\n",
      "355/355 - 1s - loss: 0.6729 - accuracy: 0.5848\n",
      "Epoch 18/20\n",
      "355/355 - 1s - loss: 0.6724 - accuracy: 0.5833\n",
      "Epoch 19/20\n",
      "355/355 - 1s - loss: 0.6730 - accuracy: 0.5839\n",
      "Epoch 20/20\n",
      "355/355 - 1s - loss: 0.6729 - accuracy: 0.5799\n"
     ]
    },
    {
     "data": {
      "text/plain": [
       "<tensorflow.python.keras.callbacks.History at 0x7feb144bb050>"
      ]
     },
     "execution_count": 9,
     "metadata": {},
     "output_type": "execute_result"
    }
   ],
   "source": [
    "model = Sequential()\n",
    "model.add(Bidirectional(LSTM(11)))\n",
    "model.add(Dense(1))\n",
    "model.compile(loss='binary_crossentropy', optimizer='adam', metrics=[\"accuracy\"])\n",
    "model.fit(X_train, y_train, epochs = 20, batch_size = 20, verbose = 2)"
   ]
  },
  {
   "cell_type": "code",
   "execution_count": 10,
   "metadata": {},
   "outputs": [
    {
     "name": "stdout",
     "output_type": "stream",
     "text": [
      "56/56 [==============================] - 0s 1ms/step - loss: 0.6819 - accuracy: 0.5722\n"
     ]
    },
    {
     "data": {
      "text/plain": [
       "[0.6818662285804749, 0.5721533298492432]"
      ]
     },
     "execution_count": 10,
     "metadata": {},
     "output_type": "execute_result"
    }
   ],
   "source": [
    "model.evaluate(X_test, y_test)"
   ]
  }
 ],
 "metadata": {
  "kernelspec": {
   "display_name": "Python 3",
   "language": "python",
   "name": "python3"
  },
  "language_info": {
   "codemirror_mode": {
    "name": "ipython",
    "version": 3
   },
   "file_extension": ".py",
   "mimetype": "text/x-python",
   "name": "python",
   "nbconvert_exporter": "python",
   "pygments_lexer": "ipython3",
   "version": "3.7.4"
  }
 },
 "nbformat": 4,
 "nbformat_minor": 2
}
