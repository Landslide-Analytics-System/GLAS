{
 "cells": [
  {
   "cell_type": "code",
   "execution_count": 79,
   "metadata": {},
   "outputs": [],
   "source": [
    "import matplotlib.pyplot as plt\n",
    "import pandas as pd\n",
    "import numpy as np\n",
    "from sklearn.utils import shuffle\n",
    "import sklearn\n",
    "import os\n",
    "%matplotlib inline\n",
    "from tensorflow.keras import Sequential\n",
    "from tensorflow.keras.layers import Conv2D, Flatten, Dense, LSTM, Bidirectional\n",
    "import tensorflow as tf"
   ]
  },
  {
   "cell_type": "code",
   "execution_count": 6,
   "metadata": {},
   "outputs": [],
   "source": [
    "# df = pd.read_csv(\"full_dataset_v1.csv\")\n",
    "# df = pd.read_csv(\"/Users/ishaanjavali/Documents/Science Fair/2020/Code/API/full_dataset_v1.csv\")\n",
    "df = pd.read_csv(\"/Users/ishaanjavali/Documents/Science Fair/2020/Code/API/full_dataset_good.csv\")"
   ]
  },
  {
   "cell_type": "code",
   "execution_count": 7,
   "metadata": {},
   "outputs": [],
   "source": [
    "df = df[df['severity'].isin([\"medium\", \"small\", \"large\", \"very_large\", \"na\"])]\n",
    "df['severity'].value_counts()\n",
    "df = shuffle(df)\n",
    "df.reset_index(inplace=True, drop=True)"
   ]
  },
  {
   "cell_type": "code",
   "execution_count": 8,
   "metadata": {},
   "outputs": [],
   "source": [
    "def getX():\n",
    "    X = df.copy()\n",
    "\n",
    "    X.drop(X.columns[[i for i in range(0, 151)]], axis = 1, inplace = True)\n",
    "    # X.drop(X.columns[[i for i in range(20, 35)]], axis = 1, inplace = True)\n",
    "    X[\"severity\"] = df[\"severity\"]\n",
    "    X.drop(X.columns[[0]], axis = 1, inplace = True)\n",
    "\n",
    "    X = X.dropna()\n",
    "    for i in range(0, 8):\n",
    "        del X['air' + str(i)]\n",
    "        del X['temp' + str(i)]\n",
    "        del X['humidity' + str(i)]\n",
    "        \n",
    "    X.drop(X.columns[[i for i in range(len(X.columns)-8, len(X.columns)-2)]], axis = 1, inplace = True)\n",
    "    return X\n",
    "X = getX()"
   ]
  },
  {
   "cell_type": "code",
   "execution_count": 90,
   "metadata": {},
   "outputs": [],
   "source": [
    "def generate_labels(binary = False):\n",
    "    global X\n",
    "    X = getX()\n",
    "    y = []\n",
    "    idx_to_severity = [\"na\", \"small\", \"medium\", \"large\", \"very_large\"]\n",
    "    for severity in X.severity:\n",
    "        if not binary:\n",
    "            y.append(idx_to_severity.index(severity))\n",
    "        elif severity == \"na\":\n",
    "            y.append(0)\n",
    "        else:\n",
    "            y.append(1)\n",
    "    X.drop(X.columns[[-1,-2]], axis = 1, inplace = True)\n",
    "    print(y.count(1))\n",
    "    return y"
   ]
  },
  {
   "cell_type": "code",
   "execution_count": 95,
   "metadata": {},
   "outputs": [
    {
     "name": "stdout",
     "output_type": "stream",
     "text": [
      "4394\n"
     ]
    },
    {
     "data": {
      "text/html": [
       "<div>\n",
       "<style scoped>\n",
       "    .dataframe tbody tr th:only-of-type {\n",
       "        vertical-align: middle;\n",
       "    }\n",
       "\n",
       "    .dataframe tbody tr th {\n",
       "        vertical-align: top;\n",
       "    }\n",
       "\n",
       "    .dataframe thead th {\n",
       "        text-align: right;\n",
       "    }\n",
       "</style>\n",
       "<table border=\"1\" class=\"dataframe\">\n",
       "  <thead>\n",
       "    <tr style=\"text-align: right;\">\n",
       "      <th></th>\n",
       "      <th>precip7</th>\n",
       "      <th>wind7</th>\n",
       "      <th>precip6</th>\n",
       "      <th>wind6</th>\n",
       "      <th>precip5</th>\n",
       "      <th>wind5</th>\n",
       "      <th>precip4</th>\n",
       "      <th>wind4</th>\n",
       "      <th>precip3</th>\n",
       "      <th>wind3</th>\n",
       "    </tr>\n",
       "  </thead>\n",
       "  <tbody>\n",
       "    <tr>\n",
       "      <th>0</th>\n",
       "      <td>0.1</td>\n",
       "      <td>20</td>\n",
       "      <td>0.3</td>\n",
       "      <td>13</td>\n",
       "      <td>0.0</td>\n",
       "      <td>15</td>\n",
       "      <td>0.4</td>\n",
       "      <td>14</td>\n",
       "      <td>0.1</td>\n",
       "      <td>17</td>\n",
       "    </tr>\n",
       "    <tr>\n",
       "      <th>1</th>\n",
       "      <td>0.0</td>\n",
       "      <td>16</td>\n",
       "      <td>0.0</td>\n",
       "      <td>16</td>\n",
       "      <td>0.0</td>\n",
       "      <td>14</td>\n",
       "      <td>0.5</td>\n",
       "      <td>15</td>\n",
       "      <td>0.0</td>\n",
       "      <td>13</td>\n",
       "    </tr>\n",
       "    <tr>\n",
       "      <th>2</th>\n",
       "      <td>0.0</td>\n",
       "      <td>10</td>\n",
       "      <td>0.0</td>\n",
       "      <td>9</td>\n",
       "      <td>0.0</td>\n",
       "      <td>10</td>\n",
       "      <td>0.0</td>\n",
       "      <td>11</td>\n",
       "      <td>0.0</td>\n",
       "      <td>10</td>\n",
       "    </tr>\n",
       "    <tr>\n",
       "      <th>3</th>\n",
       "      <td>0.0</td>\n",
       "      <td>18</td>\n",
       "      <td>0.0</td>\n",
       "      <td>16</td>\n",
       "      <td>0.0</td>\n",
       "      <td>19</td>\n",
       "      <td>1.0</td>\n",
       "      <td>18</td>\n",
       "      <td>1.2</td>\n",
       "      <td>15</td>\n",
       "    </tr>\n",
       "    <tr>\n",
       "      <th>4</th>\n",
       "      <td>0.0</td>\n",
       "      <td>18</td>\n",
       "      <td>0.0</td>\n",
       "      <td>18</td>\n",
       "      <td>0.0</td>\n",
       "      <td>13</td>\n",
       "      <td>0.2</td>\n",
       "      <td>17</td>\n",
       "      <td>0.0</td>\n",
       "      <td>19</td>\n",
       "    </tr>\n",
       "  </tbody>\n",
       "</table>\n",
       "</div>"
      ],
      "text/plain": [
       "   precip7  wind7  precip6  wind6  precip5  wind5  precip4  wind4  precip3  \\\n",
       "0      0.1     20      0.3     13      0.0     15      0.4     14      0.1   \n",
       "1      0.0     16      0.0     16      0.0     14      0.5     15      0.0   \n",
       "2      0.0     10      0.0      9      0.0     10      0.0     11      0.0   \n",
       "3      0.0     18      0.0     16      0.0     19      1.0     18      1.2   \n",
       "4      0.0     18      0.0     18      0.0     13      0.2     17      0.0   \n",
       "\n",
       "   wind3  \n",
       "0     17  \n",
       "1     13  \n",
       "2     10  \n",
       "3     15  \n",
       "4     19  "
      ]
     },
     "execution_count": 95,
     "metadata": {},
     "output_type": "execute_result"
    }
   ],
   "source": [
    "binary = True\n",
    "y = generate_labels(binary)\n",
    "X.head()"
   ]
  },
  {
   "cell_type": "code",
   "execution_count": 96,
   "metadata": {},
   "outputs": [
    {
     "data": {
      "text/plain": [
       "array([ 6.55374823, -1.20714333,  0.93487281, -0.23135781,  1.65422362,\n",
       "       -1.17180488,  1.06072668, -1.1515248 ,  0.79474075, -1.16530559])"
      ]
     },
     "execution_count": 96,
     "metadata": {},
     "output_type": "execute_result"
    }
   ],
   "source": [
    "from sklearn.model_selection import train_test_split\n",
    "from sklearn.preprocessing import StandardScaler\n",
    "X_train, X_test, y_train, y_test = train_test_split(X, y, test_size = 0.2)\n",
    "\n",
    "scaler = StandardScaler()\n",
    "scaler.fit(X_train)\n",
    "\n",
    "X_train = scaler.transform(X_train)\n",
    "X_test = scaler.transform(X_test)\n",
    "X_train[0]"
   ]
  },
  {
   "cell_type": "code",
   "execution_count": 104,
   "metadata": {},
   "outputs": [
    {
     "name": "stdout",
     "output_type": "stream",
     "text": [
      "(7096, 5, 2)\n"
     ]
    },
    {
     "data": {
      "text/plain": [
       "array([[ 6.55374823, -1.20714333],\n",
       "       [ 0.93487281, -0.23135781],\n",
       "       [ 1.65422362, -1.17180488],\n",
       "       [ 1.06072668, -1.1515248 ],\n",
       "       [ 0.79474075, -1.16530559]])"
      ]
     },
     "execution_count": 104,
     "metadata": {},
     "output_type": "execute_result"
    }
   ],
   "source": [
    "y_train = np.array(y_train)\n",
    "y_test = np.array(y_test)\n",
    "# len(X_train) # of batches\n",
    "# 5 timesteps (days 7 - 3)\n",
    "# 2 features per timestep\n",
    "X_train=X_train.reshape((len(X_train), 5, 2))\n",
    "X_test=X_test.reshape((len(X_test), 5, 2))\n",
    "print(X_train.shape)\n",
    "X_train[0]"
   ]
  },
  {
   "cell_type": "code",
   "execution_count": 106,
   "metadata": {},
   "outputs": [
    {
     "name": "stdout",
     "output_type": "stream",
     "text": [
      "Epoch 1/10\n",
      "355/355 - 1s - loss: 0.5082\n",
      "Epoch 2/10\n",
      "355/355 - 1s - loss: 0.5082\n",
      "Epoch 3/10\n",
      "355/355 - 1s - loss: 0.5082\n",
      "Epoch 4/10\n",
      "355/355 - 1s - loss: 0.5082\n",
      "Epoch 5/10\n",
      "355/355 - 1s - loss: 0.5082\n",
      "Epoch 6/10\n",
      "355/355 - 1s - loss: 0.5082\n",
      "Epoch 7/10\n",
      "355/355 - 1s - loss: 0.5082\n",
      "Epoch 8/10\n",
      "355/355 - 1s - loss: 0.5082\n",
      "Epoch 9/10\n",
      "355/355 - 1s - loss: 0.5082\n",
      "Epoch 10/10\n",
      "355/355 - 1s - loss: 0.5082\n"
     ]
    },
    {
     "data": {
      "text/plain": [
       "<tensorflow.python.keras.callbacks.History at 0x7fba08ab4150>"
      ]
     },
     "execution_count": 106,
     "metadata": {},
     "output_type": "execute_result"
    }
   ],
   "source": [
    "model = Sequential()\n",
    "model.add(Bidirectional(LSTM(11)))\n",
    "model.add(Dense(1,activation='softmax'))\n",
    "model.compile(loss='mean_squared_error', optimizer='adam')\n",
    "model.fit(X_train, y_train, epochs = 10, batch_size = 20, verbose = 2)\n",
    "# res = LSTM(11)\n",
    "# out = res(X_train)\n",
    "# print(out.shape)"
   ]
  },
  {
   "cell_type": "code",
   "execution_count": 123,
   "metadata": {},
   "outputs": [
    {
     "name": "stdout",
     "output_type": "stream",
     "text": [
      "1/1 [==============================] - 0s 819us/step - loss: 0.0000e+00\n"
     ]
    },
    {
     "data": {
      "text/plain": [
       "0.0"
      ]
     },
     "execution_count": 123,
     "metadata": {},
     "output_type": "execute_result"
    }
   ],
   "source": [
    "# tx = X_test[0]\n",
    "# ty = np.array([y_test[0]])\n",
    "# tx = tx.reshape((1, 5, 2))\n",
    "# model.evaluate(tx,ty)\n",
    "model.evaluate(X_test, y_test)"
   ]
  },
  {
   "cell_type": "code",
   "execution_count": null,
   "metadata": {},
   "outputs": [],
   "source": []
  }
 ],
 "metadata": {
  "kernelspec": {
   "display_name": "Python 3",
   "language": "python",
   "name": "python3"
  },
  "language_info": {
   "codemirror_mode": {
    "name": "ipython",
    "version": 3
   },
   "file_extension": ".py",
   "mimetype": "text/x-python",
   "name": "python",
   "nbconvert_exporter": "python",
   "pygments_lexer": "ipython3",
   "version": "3.7.4"
  }
 },
 "nbformat": 4,
 "nbformat_minor": 2
}
