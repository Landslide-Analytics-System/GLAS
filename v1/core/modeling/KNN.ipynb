{
 "cells": [
  {
   "cell_type": "markdown",
   "metadata": {},
   "source": [
    "## KNN Classifier\n",
    "The model predicts the severity of the landslide (or if there will even be one) within the next 2 days, based on weather data from the past 5 days.\n",
    "Binary Classification yielded a maximum accuracy of 77.53%. Severity Classification (multiple classes) was around 56%."
   ]
  },
  {
   "cell_type": "code",
   "execution_count": 1,
   "metadata": {},
   "outputs": [],
   "source": [
    "import pandas as pd\n",
    "import numpy as np\n",
    "import matplotlib.pyplot as plt\n",
    "%matplotlib inline\n",
    "import sklearn\n",
    "from sklearn.utils import shuffle\n",
    "import pickle"
   ]
  },
  {
   "cell_type": "code",
   "execution_count": 2,
   "metadata": {},
   "outputs": [
    {
     "name": "stderr",
     "output_type": "stream",
     "text": [
      "/Library/Frameworks/Python.framework/Versions/3.7/lib/python3.7/site-packages/IPython/core/interactiveshell.py:3146: DtypeWarning: Columns (2,6,7,12,13,14,15,16,17,18,19,20,21,22,23,24,25,26,27,28,29,30,31,32,33,34,35,36,37,38,39,40,41,42,43,44,45,46,47,48,49,50,51,52,53,54,55,56,57,58,59,60,61,62,63,64,65,66,67,68,69,70,71,72,73,74,75,76,77,78,79,80,81,82,83,84,85,86,87,88,89,90,91,92,93,94,95,96,97,98,99,100,101,102,103,104,105,106,107,108,109,110,111,112,113,114,115,116,117,118,119,120,121,122,123,124,125,126,127,128,129,130,131,132,133,134,135,136,137,138,139,140,141) have mixed types.Specify dtype option on import or set low_memory=False.\n",
      "  interactivity=interactivity, compiler=compiler, result=result)\n"
     ]
    }
   ],
   "source": [
    "# df = pd.read_csv(\"full_dataset_v1.csv\")\n",
    "# df = pd.read_csv(\"/Users/ishaanjavali/Documents/Science Fair/2020/Code/API/full_dataset_v1.csv\")\n",
    "df = pd.read_csv(\"/Users/ishaanjavali/Documents/Science Fair/2020/Code/API/full_dataset_good.csv\")"
   ]
  },
  {
   "cell_type": "code",
   "execution_count": 3,
   "metadata": {},
   "outputs": [
    {
     "data": {
      "text/plain": [
       "na              4476\n",
       "medium          3300\n",
       "small            612\n",
       "large            426\n",
       "unknown           75\n",
       "very_large        56\n",
       "...                5\n",
       "landslide          2\n",
       "catastrophic       1\n",
       "Name: severity, dtype: int64"
      ]
     },
     "execution_count": 3,
     "metadata": {},
     "output_type": "execute_result"
    }
   ],
   "source": [
    "df['severity'].value_counts()"
   ]
  },
  {
   "cell_type": "code",
   "execution_count": 4,
   "metadata": {},
   "outputs": [],
   "source": [
    "# filter by severity. na is for non-landslide data\n",
    "df = df[df['severity'].isin([\"medium\", \"small\", \"large\", \"very_large\", \"na\"])]\n",
    "# Remove -1 slopes\n",
    "df = df.loc[~(df.slope == -1)]"
   ]
  },
  {
   "cell_type": "code",
   "execution_count": 5,
   "metadata": {},
   "outputs": [
    {
     "name": "stdout",
     "output_type": "stream",
     "text": [
      "8696\n"
     ]
    }
   ],
   "source": [
    "df['severity'].value_counts()\n",
    "df = shuffle(df)\n",
    "df.reset_index(inplace=True, drop=True)\n",
    "print(len(df))"
   ]
  },
  {
   "cell_type": "code",
   "execution_count": 6,
   "metadata": {},
   "outputs": [
    {
     "data": {
      "text/html": [
       "<div>\n",
       "<style scoped>\n",
       "    .dataframe tbody tr th:only-of-type {\n",
       "        vertical-align: middle;\n",
       "    }\n",
       "\n",
       "    .dataframe tbody tr th {\n",
       "        vertical-align: top;\n",
       "    }\n",
       "\n",
       "    .dataframe thead th {\n",
       "        text-align: right;\n",
       "    }\n",
       "</style>\n",
       "<table border=\"1\" class=\"dataframe\">\n",
       "  <thead>\n",
       "    <tr style=\"text-align: right;\">\n",
       "      <th></th>\n",
       "      <th>precip7</th>\n",
       "      <th>wind7</th>\n",
       "      <th>precip6</th>\n",
       "      <th>wind6</th>\n",
       "      <th>precip5</th>\n",
       "      <th>wind5</th>\n",
       "      <th>precip4</th>\n",
       "      <th>wind4</th>\n",
       "      <th>precip3</th>\n",
       "      <th>wind3</th>\n",
       "      <th>slope</th>\n",
       "      <th>severity</th>\n",
       "    </tr>\n",
       "  </thead>\n",
       "  <tbody>\n",
       "    <tr>\n",
       "      <th>0</th>\n",
       "      <td>0.0</td>\n",
       "      <td>6</td>\n",
       "      <td>0.0</td>\n",
       "      <td>8</td>\n",
       "      <td>0.0</td>\n",
       "      <td>8</td>\n",
       "      <td>0.1</td>\n",
       "      <td>6</td>\n",
       "      <td>0.7</td>\n",
       "      <td>9</td>\n",
       "      <td>93</td>\n",
       "      <td>medium</td>\n",
       "    </tr>\n",
       "    <tr>\n",
       "      <th>1</th>\n",
       "      <td>0.0</td>\n",
       "      <td>11</td>\n",
       "      <td>0.1</td>\n",
       "      <td>10</td>\n",
       "      <td>0.3</td>\n",
       "      <td>14</td>\n",
       "      <td>0.2</td>\n",
       "      <td>14</td>\n",
       "      <td>0.1</td>\n",
       "      <td>17</td>\n",
       "      <td>82</td>\n",
       "      <td>na</td>\n",
       "    </tr>\n",
       "    <tr>\n",
       "      <th>2</th>\n",
       "      <td>1.8</td>\n",
       "      <td>9</td>\n",
       "      <td>0.7</td>\n",
       "      <td>10</td>\n",
       "      <td>0.0</td>\n",
       "      <td>9</td>\n",
       "      <td>0.0</td>\n",
       "      <td>12</td>\n",
       "      <td>1.0</td>\n",
       "      <td>16</td>\n",
       "      <td>46</td>\n",
       "      <td>na</td>\n",
       "    </tr>\n",
       "    <tr>\n",
       "      <th>3</th>\n",
       "      <td>0.4</td>\n",
       "      <td>9</td>\n",
       "      <td>0.0</td>\n",
       "      <td>9</td>\n",
       "      <td>1.4</td>\n",
       "      <td>12</td>\n",
       "      <td>5.6</td>\n",
       "      <td>21</td>\n",
       "      <td>3.3</td>\n",
       "      <td>24</td>\n",
       "      <td>32</td>\n",
       "      <td>medium</td>\n",
       "    </tr>\n",
       "    <tr>\n",
       "      <th>4</th>\n",
       "      <td>1.2</td>\n",
       "      <td>10</td>\n",
       "      <td>11.4</td>\n",
       "      <td>5</td>\n",
       "      <td>6.7</td>\n",
       "      <td>5</td>\n",
       "      <td>5.6</td>\n",
       "      <td>7</td>\n",
       "      <td>1.8</td>\n",
       "      <td>8</td>\n",
       "      <td>43</td>\n",
       "      <td>na</td>\n",
       "    </tr>\n",
       "    <tr>\n",
       "      <th>...</th>\n",
       "      <td>...</td>\n",
       "      <td>...</td>\n",
       "      <td>...</td>\n",
       "      <td>...</td>\n",
       "      <td>...</td>\n",
       "      <td>...</td>\n",
       "      <td>...</td>\n",
       "      <td>...</td>\n",
       "      <td>...</td>\n",
       "      <td>...</td>\n",
       "      <td>...</td>\n",
       "      <td>...</td>\n",
       "    </tr>\n",
       "    <tr>\n",
       "      <th>8691</th>\n",
       "      <td>2.0</td>\n",
       "      <td>5</td>\n",
       "      <td>1.1</td>\n",
       "      <td>5</td>\n",
       "      <td>0.8</td>\n",
       "      <td>5</td>\n",
       "      <td>2.8</td>\n",
       "      <td>7</td>\n",
       "      <td>0.7</td>\n",
       "      <td>7</td>\n",
       "      <td>8</td>\n",
       "      <td>large</td>\n",
       "    </tr>\n",
       "    <tr>\n",
       "      <th>8692</th>\n",
       "      <td>0.0</td>\n",
       "      <td>5</td>\n",
       "      <td>0.5</td>\n",
       "      <td>10</td>\n",
       "      <td>0.9</td>\n",
       "      <td>8</td>\n",
       "      <td>0.0</td>\n",
       "      <td>10</td>\n",
       "      <td>0.7</td>\n",
       "      <td>9</td>\n",
       "      <td>118</td>\n",
       "      <td>na</td>\n",
       "    </tr>\n",
       "    <tr>\n",
       "      <th>8693</th>\n",
       "      <td>3.3</td>\n",
       "      <td>10</td>\n",
       "      <td>5.1</td>\n",
       "      <td>6</td>\n",
       "      <td>3.2</td>\n",
       "      <td>10</td>\n",
       "      <td>0.9</td>\n",
       "      <td>9</td>\n",
       "      <td>0.9</td>\n",
       "      <td>10</td>\n",
       "      <td>163</td>\n",
       "      <td>na</td>\n",
       "    </tr>\n",
       "    <tr>\n",
       "      <th>8694</th>\n",
       "      <td>0.7</td>\n",
       "      <td>16</td>\n",
       "      <td>4.2</td>\n",
       "      <td>23</td>\n",
       "      <td>0.9</td>\n",
       "      <td>15</td>\n",
       "      <td>0.3</td>\n",
       "      <td>18</td>\n",
       "      <td>0.9</td>\n",
       "      <td>15</td>\n",
       "      <td>22</td>\n",
       "      <td>na</td>\n",
       "    </tr>\n",
       "    <tr>\n",
       "      <th>8695</th>\n",
       "      <td>2.5</td>\n",
       "      <td>18</td>\n",
       "      <td>1.7</td>\n",
       "      <td>15</td>\n",
       "      <td>4.0</td>\n",
       "      <td>12</td>\n",
       "      <td>3.7</td>\n",
       "      <td>21</td>\n",
       "      <td>12.2</td>\n",
       "      <td>27</td>\n",
       "      <td>27</td>\n",
       "      <td>na</td>\n",
       "    </tr>\n",
       "  </tbody>\n",
       "</table>\n",
       "<p>8696 rows × 12 columns</p>\n",
       "</div>"
      ],
      "text/plain": [
       "      precip7  wind7  precip6  wind6  precip5  wind5  precip4  wind4  precip3  \\\n",
       "0         0.0      6      0.0      8      0.0      8      0.1      6      0.7   \n",
       "1         0.0     11      0.1     10      0.3     14      0.2     14      0.1   \n",
       "2         1.8      9      0.7     10      0.0      9      0.0     12      1.0   \n",
       "3         0.4      9      0.0      9      1.4     12      5.6     21      3.3   \n",
       "4         1.2     10     11.4      5      6.7      5      5.6      7      1.8   \n",
       "...       ...    ...      ...    ...      ...    ...      ...    ...      ...   \n",
       "8691      2.0      5      1.1      5      0.8      5      2.8      7      0.7   \n",
       "8692      0.0      5      0.5     10      0.9      8      0.0     10      0.7   \n",
       "8693      3.3     10      5.1      6      3.2     10      0.9      9      0.9   \n",
       "8694      0.7     16      4.2     23      0.9     15      0.3     18      0.9   \n",
       "8695      2.5     18      1.7     15      4.0     12      3.7     21     12.2   \n",
       "\n",
       "      wind3  slope severity  \n",
       "0         9     93   medium  \n",
       "1        17     82       na  \n",
       "2        16     46       na  \n",
       "3        24     32   medium  \n",
       "4         8     43       na  \n",
       "...     ...    ...      ...  \n",
       "8691      7      8    large  \n",
       "8692      9    118       na  \n",
       "8693     10    163       na  \n",
       "8694     15     22       na  \n",
       "8695     27     27       na  \n",
       "\n",
       "[8696 rows x 12 columns]"
      ]
     },
     "execution_count": 6,
     "metadata": {},
     "output_type": "execute_result"
    }
   ],
   "source": [
    "def getX():\n",
    "    X = df.copy()\n",
    "\n",
    "    X.drop(X.columns[[i for i in range(0, 151)]], axis = 1, inplace = True)\n",
    "    # X.drop(X.columns[[i for i in range(20, 35)]], axis = 1, inplace = True)\n",
    "    X[\"severity\"] = df[\"severity\"]\n",
    "    X.drop(X.columns[[0]], axis = 1, inplace = True)\n",
    "\n",
    "    X = X.dropna()\n",
    "    for i in range(0, 8):\n",
    "        del X['air' + str(i)]\n",
    "        del X['temp' + str(i)]\n",
    "        del X['humidity' + str(i)]\n",
    "        \n",
    "    X.drop(X.columns[[i for i in range(len(X.columns)-8, len(X.columns)-2)]], axis = 1, inplace = True)\n",
    "    return X\n",
    "X = getX()\n",
    "X"
   ]
  },
  {
   "cell_type": "markdown",
   "metadata": {},
   "source": [
    "### Generate Labels\n",
    "For binary classification, pass `True` into the function call"
   ]
  },
  {
   "cell_type": "code",
   "execution_count": 7,
   "metadata": {},
   "outputs": [],
   "source": [
    "def generate_labels(binary = False):\n",
    "    global X\n",
    "    X = getX()\n",
    "    y = []\n",
    "    idx_to_severity = [\"na\", \"small\", \"medium\", \"large\", \"very_large\"]\n",
    "    for severity in X.severity:\n",
    "        if not binary:\n",
    "            y.append(idx_to_severity.index(severity))\n",
    "        elif severity == \"na\":\n",
    "            y.append(0)\n",
    "        else:\n",
    "            y.append(1)\n",
    "    X.drop(X.columns[[-1]], axis = 1, inplace = True)\n",
    "    print(y.count(1))\n",
    "    return y"
   ]
  },
  {
   "cell_type": "code",
   "execution_count": 8,
   "metadata": {},
   "outputs": [
    {
     "name": "stdout",
     "output_type": "stream",
     "text": [
      "4311\n"
     ]
    }
   ],
   "source": [
    "binary = True\n",
    "y = generate_labels(binary)"
   ]
  },
  {
   "cell_type": "markdown",
   "metadata": {},
   "source": [
    "## Scaling"
   ]
  },
  {
   "cell_type": "code",
   "execution_count": 9,
   "metadata": {},
   "outputs": [],
   "source": [
    "from sklearn.model_selection import train_test_split\n",
    "from sklearn.preprocessing import StandardScaler\n",
    "X_train, X_test, y_train, y_test = train_test_split(X, y, test_size = 0.2)\n",
    "\n",
    "scaler = StandardScaler()\n",
    "scaler.fit(X_train)\n",
    "\n",
    "X_train = scaler.transform(X_train)\n",
    "X_test = scaler.transform(X_test)"
   ]
  },
  {
   "cell_type": "markdown",
   "metadata": {},
   "source": [
    "## Prediction"
   ]
  },
  {
   "cell_type": "code",
   "execution_count": 10,
   "metadata": {},
   "outputs": [
    {
     "data": {
      "text/plain": [
       "KNeighborsClassifier(n_neighbors=17)"
      ]
     },
     "execution_count": 10,
     "metadata": {},
     "output_type": "execute_result"
    }
   ],
   "source": [
    "from sklearn.neighbors import KNeighborsClassifier\n",
    "knn = KNeighborsClassifier(n_neighbors=17)\n",
    "knn.fit(X_train, y_train)"
   ]
  },
  {
   "cell_type": "code",
   "execution_count": 11,
   "metadata": {},
   "outputs": [
    {
     "name": "stdout",
     "output_type": "stream",
     "text": [
      "ACCURACY: 0.5816091954022988\n"
     ]
    }
   ],
   "source": [
    "from sklearn.metrics import accuracy_score\n",
    "pred = knn.predict(X_test)\n",
    "class_probabilities = knn.predict_proba(X_test)\n",
    "print(\"ACCURACY:\", accuracy_score(pred, y_test))"
   ]
  },
  {
   "cell_type": "code",
   "execution_count": 12,
   "metadata": {},
   "outputs": [
    {
     "name": "stdout",
     "output_type": "stream",
     "text": [
      "k = 1   ACCURACY: 60.17\n",
      "k = 2   ACCURACY: 57.41\n",
      "k = 3   ACCURACY: 58.33\n",
      "k = 4   ACCURACY: 58.74\n",
      "k = 5   ACCURACY: 58.39\n",
      "k = 6   ACCURACY: 57.76\n",
      "k = 7   ACCURACY: 58.91\n",
      "k = 8   ACCURACY: 57.13\n",
      "k = 9   ACCURACY: 58.45\n",
      "k = 10   ACCURACY: 57.18\n",
      "k = 11   ACCURACY: 56.61\n",
      "k = 12   ACCURACY: 56.15\n",
      "k = 13   ACCURACY: 56.61\n",
      "k = 14   ACCURACY: 56.21\n",
      "k = 15   ACCURACY: 56.72\n",
      "k = 16   ACCURACY: 58.05\n",
      "k = 17   ACCURACY: 58.16\n",
      "k = 18   ACCURACY: 57.01\n",
      "k = 19   ACCURACY: 56.9\n",
      "k = 20   ACCURACY: 56.49\n",
      "k = 21   ACCURACY: 57.18\n",
      "k = 22   ACCURACY: 56.72\n",
      "k = 23   ACCURACY: 57.13\n",
      "k = 24   ACCURACY: 56.49\n",
      "k = 25   ACCURACY: 57.13\n",
      "k = 26   ACCURACY: 56.44\n",
      "k = 27   ACCURACY: 55.92\n",
      "k = 28   ACCURACY: 56.03\n",
      "k = 29   ACCURACY: 56.15\n",
      "k = 30   ACCURACY: 56.26\n",
      "k = 31   ACCURACY: 56.32\n",
      "k = 32   ACCURACY: 56.9\n",
      "k = 33   ACCURACY: 56.49\n",
      "k = 34   ACCURACY: 56.21\n",
      "k = 35   ACCURACY: 56.26\n",
      "k = 36   ACCURACY: 55.86\n",
      "k = 37   ACCURACY: 56.61\n",
      "k = 38   ACCURACY: 56.03\n",
      "k = 39   ACCURACY: 56.09\n",
      "k = 40   ACCURACY: 55.86\n",
      "k = 41   ACCURACY: 56.61\n",
      "k = 42   ACCURACY: 55.57\n",
      "k = 43   ACCURACY: 56.44\n",
      "k = 44   ACCURACY: 55.98\n",
      "k = 45   ACCURACY: 55.8\n",
      "k = 46   ACCURACY: 55.8\n",
      "k = 47   ACCURACY: 55.69\n",
      "k = 48   ACCURACY: 55.86\n",
      "k = 49   ACCURACY: 56.03\n",
      "k = 50   ACCURACY: 55.86\n",
      "k = 51   ACCURACY: 55.98\n",
      "k = 52   ACCURACY: 55.8\n",
      "k = 53   ACCURACY: 55.98\n",
      "k = 54   ACCURACY: 55.92\n",
      "k = 55   ACCURACY: 56.15\n",
      "k = 56   ACCURACY: 56.03\n",
      "k = 57   ACCURACY: 56.32\n",
      "k = 58   ACCURACY: 56.38\n",
      "k = 59   ACCURACY: 56.09\n",
      "k = 60   ACCURACY: 56.78\n",
      "k = 61   ACCURACY: 56.9\n",
      "k = 62   ACCURACY: 57.13\n",
      "k = 63   ACCURACY: 56.84\n",
      "k = 64   ACCURACY: 57.13\n",
      "k = 65   ACCURACY: 57.3\n",
      "k = 66   ACCURACY: 56.9\n",
      "k = 67   ACCURACY: 57.01\n",
      "k = 68   ACCURACY: 57.13\n",
      "k = 69   ACCURACY: 56.49\n",
      "k = 70   ACCURACY: 56.84\n",
      "k = 71   ACCURACY: 57.07\n",
      "k = 72   ACCURACY: 57.36\n",
      "k = 73   ACCURACY: 57.18\n",
      "k = 74   ACCURACY: 57.3\n",
      "k = 75   ACCURACY: 57.07\n",
      "k = 76   ACCURACY: 57.13\n",
      "k = 77   ACCURACY: 56.78\n",
      "k = 78   ACCURACY: 56.67\n",
      "k = 79   ACCURACY: 56.32\n",
      "k = 80   ACCURACY: 56.15\n",
      "k = 81   ACCURACY: 56.49\n",
      "k = 82   ACCURACY: 56.38\n",
      "k = 83   ACCURACY: 56.67\n",
      "k = 84   ACCURACY: 56.32\n",
      "k = 85   ACCURACY: 56.95\n",
      "k = 86   ACCURACY: 56.84\n",
      "k = 87   ACCURACY: 56.38\n",
      "k = 88   ACCURACY: 56.26\n",
      "k = 89   ACCURACY: 56.32\n",
      "k = 90   ACCURACY: 56.49\n",
      "k = 91   ACCURACY: 55.98\n",
      "k = 92   ACCURACY: 55.98\n",
      "k = 93   ACCURACY: 56.21\n",
      "k = 94   ACCURACY: 55.52\n",
      "k = 95   ACCURACY: 55.92\n",
      "k = 96   ACCURACY: 56.09\n",
      "k = 97   ACCURACY: 56.15\n",
      "k = 98   ACCURACY: 56.15\n",
      "k = 99   ACCURACY: 56.09\n",
      "k = 100   ACCURACY: 55.98\n",
      "k = 101   ACCURACY: 55.52\n",
      "k = 102   ACCURACY: 55.92\n",
      "k = 103   ACCURACY: 55.8\n",
      "k = 104   ACCURACY: 55.86\n",
      "k = 105   ACCURACY: 55.92\n",
      "k = 106   ACCURACY: 56.49\n",
      "k = 107   ACCURACY: 56.61\n",
      "k = 108   ACCURACY: 56.55\n",
      "k = 109   ACCURACY: 56.84\n",
      "k = 110   ACCURACY: 56.03\n",
      "k = 111   ACCURACY: 56.32\n",
      "k = 112   ACCURACY: 56.03\n",
      "k = 113   ACCURACY: 56.38\n",
      "k = 114   ACCURACY: 56.61\n",
      "k = 115   ACCURACY: 56.38\n",
      "k = 116   ACCURACY: 56.49\n",
      "k = 117   ACCURACY: 56.21\n",
      "k = 118   ACCURACY: 56.21\n",
      "k = 119   ACCURACY: 56.21\n",
      "k = 120   ACCURACY: 56.15\n",
      "k = 121   ACCURACY: 56.15\n",
      "k = 122   ACCURACY: 56.32\n",
      "k = 123   ACCURACY: 56.26\n",
      "k = 124   ACCURACY: 56.15\n",
      "k = 125   ACCURACY: 56.21\n",
      "k = 126   ACCURACY: 55.98\n",
      "k = 127   ACCURACY: 56.21\n",
      "k = 128   ACCURACY: 56.26\n",
      "k = 129   ACCURACY: 56.26\n",
      "Best k: 1 60.17\n"
     ]
    }
   ],
   "source": [
    "best = 1\n",
    "highest = 0\n",
    "\n",
    "for i in range(1, 130):\n",
    "    knn = KNeighborsClassifier(n_neighbors=i)\n",
    "    knn.fit(X_train, y_train)\n",
    "    pred = knn.predict(X_test)\n",
    "    score = round(accuracy_score(pred, y_test)*10000)/100\n",
    "    print(\"k =\", i, \"  ACCURACY:\", score)\n",
    "    if score > highest:\n",
    "        highest = score\n",
    "        best = i\n",
    "# Binary: k = 87, 58.9\n",
    "# 62.4 na/landslide\n",
    "print(\"Best k:\", best, highest)"
   ]
  },
  {
   "cell_type": "markdown",
   "metadata": {},
   "source": [
    "## Confusion Matrix"
   ]
  },
  {
   "cell_type": "code",
   "execution_count": 13,
   "metadata": {},
   "outputs": [
    {
     "data": {
      "text/plain": [
       "0.5637931034482758"
      ]
     },
     "execution_count": 13,
     "metadata": {},
     "output_type": "execute_result"
    }
   ],
   "source": [
    "knn = KNeighborsClassifier(n_neighbors=87)\n",
    "knn.fit(X_train, y_train)\n",
    "pred = knn.predict(X_test)\n",
    "accuracy_score(pred, y_test)"
   ]
  },
  {
   "cell_type": "code",
   "execution_count": 14,
   "metadata": {},
   "outputs": [
    {
     "data": {
      "text/plain": [
       "array([[563, 284],\n",
       "       [475, 418]])"
      ]
     },
     "execution_count": 14,
     "metadata": {},
     "output_type": "execute_result"
    }
   ],
   "source": [
    "from sklearn.metrics import confusion_matrix\n",
    "array = confusion_matrix(y_test, pred)\n",
    "array"
   ]
  },
  {
   "cell_type": "code",
   "execution_count": 15,
   "metadata": {},
   "outputs": [
    {
     "data": {
      "image/png": "[encoded data removed]",
      "text/plain": [
       "<Figure size 720x504 with 2 Axes>"
      ]
     },
     "metadata": {
      "needs_background": "light"
     },
     "output_type": "display_data"
    }
   ],
   "source": [
    "import seaborn as sn\n",
    "import pandas as pd\n",
    "import matplotlib.pyplot as plt\n",
    "\n",
    "if binary:\n",
    "    df_cm = pd.DataFrame(array, index = [i for i in [\"No\", \"Yes\"]],\n",
    "                    columns = [i for i in [\"No\", \"Yes\"]])\n",
    "else:\n",
    "    df_cm = pd.DataFrame(array, index = [i for i in [\"None\", \"Small\", \"Medium\", \"Large\", \"Very Large\"]],\n",
    "                  columns = [i for i in [\"None\", \"Small\", \"Medium\", \"Large\", \"Very Large\"]])\n",
    "\n",
    "plt.figure(figsize = (10,7))\n",
    "\n",
    "ax = sn.heatmap(df_cm, cmap=\"Blues\", annot=True, annot_kws={\"size\":50}, fmt='g')\n",
    "ax.tick_params(axis='both', which='major', labelsize=27)\n",
    "plt.xlabel('Predicted', fontsize = 40) \n",
    "# plt.title(\"KNN Confusion Matrix\", fontsize = 50)\n",
    "plt.ylabel('Actual', fontsize = 40) \n",
    "\n",
    "plt.show()"
   ]
  },
  {
   "cell_type": "code",
   "execution_count": null,
   "metadata": {},
   "outputs": [],
   "source": []
  }
 ],
 "metadata": {
  "kernelspec": {
   "display_name": "Python 3",
   "language": "python",
   "name": "python3"
  },
  "language_info": {
   "codemirror_mode": {
    "name": "ipython",
    "version": 3
   },
   "file_extension": ".py",
   "mimetype": "text/x-python",
   "name": "python",
   "nbconvert_exporter": "python",
   "pygments_lexer": "ipython3",
   "version": "3.7.4"
  }
 },
 "nbformat": 4,
 "nbformat_minor": 4
}
