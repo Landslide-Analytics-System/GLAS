{
 "cells": [
  {
   "cell_type": "markdown",
   "metadata": {},
   "source": [
    "## KNN Classifier\n",
    "The model predicts the severity of the landslide (or if there will even be one) within the next 2 days, based on weather data from the past 5 days.\n",
    "Binary Classification yielded a maximum accuracy of 77.53%. Severity Classification (multiple classes) was around 56%."
   ]
  },
  {
   "cell_type": "code",
   "execution_count": 185,
   "metadata": {},
   "outputs": [],
   "source": [
    "import pandas as pd\n",
    "import numpy as np\n",
    "import matplotlib.pyplot as plt\n",
    "%matplotlib inline\n",
    "import sklearn\n",
    "from sklearn.utils import shuffle\n",
    "import pickle"
   ]
  },
  {
   "cell_type": "code",
   "execution_count": 186,
   "metadata": {},
   "outputs": [],
   "source": [
    "# df = pd.read_csv(\"full_dataset_v1.csv\")\n",
    "# df = pd.read_csv(\"/Users/ishaanjavali/Documents/Science Fair/2020/Code/API/full_dataset_v1.csv\")\n",
    "df = pd.read_csv(\"/Users/ishaanjavali/Documents/Science Fair/2020/Code/API/full_dataset_good.csv\")"
   ]
  },
  {
   "cell_type": "code",
   "execution_count": 187,
   "metadata": {},
   "outputs": [
    {
     "output_type": "execute_result",
     "data": {
      "text/plain": [
       "na              4476\n",
       "medium          3300\n",
       "small            612\n",
       "large            426\n",
       "unknown           75\n",
       "very_large        56\n",
       "...                5\n",
       "landslide          2\n",
       "catastrophic       1\n",
       "Name: severity, dtype: int64"
      ]
     },
     "metadata": {},
     "execution_count": 187
    }
   ],
   "source": [
    "df['severity'].value_counts()"
   ]
  },
  {
   "cell_type": "code",
   "execution_count": 188,
   "metadata": {},
   "outputs": [
    {
     "output_type": "stream",
     "name": "stdout",
     "text": [
      "na                     4476\nlandslide              3681\nmudslide                371\nrock_fall               150\ncomplex                  75\ndebris_flow              39\nother                    24\nriverbank_collapse       23\nunknown                   9\ntranslational_slide       7\nsnow_avalanche            6\nlahar                     3\nearth_flow                3\nrotational_slide          2\n...                       1\nName: type, dtype: int64\n"
     ]
    }
   ],
   "source": [
    "# filter by severity. na is for non-landslide data\n",
    "df = df[df['severity'].isin([\"medium\", \"small\", \"large\", \"very_large\", \"na\"])]\n",
    "# Remove -1 slopes\n",
    "df = df.loc[~(df.slope == -1)]"
   ]
  },
  {
   "cell_type": "code",
   "execution_count": 189,
   "metadata": {},
   "outputs": [
    {
     "output_type": "stream",
     "name": "stdout",
     "text": [
      "8870\n"
     ]
    }
   ],
   "source": [
    "df['severity'].value_counts()\n",
    "df = shuffle(df)\n",
    "df.reset_index(inplace=True, drop=True)\n",
    "print(len(df))"
   ]
  },
  {
   "cell_type": "code",
   "execution_count": 190,
   "metadata": {},
   "outputs": [
    {
     "output_type": "execute_result",
     "data": {
      "text/plain": [
       "      precip7  wind7  precip6  wind6  precip5  wind5  precip4  wind4  precip3  \\\n",
       "0         8.7     14      5.9     11      3.9     12      7.0     10     13.8   \n",
       "1         0.1      3      0.1      5      0.1      4      0.2      3      1.3   \n",
       "2         2.7      9      0.0      5     16.1      6      1.8      6      1.8   \n",
       "3         0.0      5      0.2      5      0.0      8      0.0      7      0.3   \n",
       "4         0.0     21      0.0     21      0.0     21      0.0     14      0.0   \n",
       "...       ...    ...      ...    ...      ...    ...      ...    ...      ...   \n",
       "8865      0.0      6      4.5      6     15.2      8      2.4     13      0.3   \n",
       "8866      0.9     35      0.1     35      0.0     31      0.0     19      0.0   \n",
       "8867      0.0     14      1.9     11      0.4     13      0.2     14      0.3   \n",
       "8868      0.0     14      0.1     13      0.0     10      0.0     12      0.0   \n",
       "8869      0.6     14      0.3      8      0.0     12      1.3     12      0.3   \n",
       "\n",
       "      wind3  slope severity  \n",
       "0        17     25       na  \n",
       "1         3     36       na  \n",
       "2        12    125    large  \n",
       "3         6     72       na  \n",
       "4        17     13       na  \n",
       "...     ...    ...      ...  \n",
       "8865     13    132   medium  \n",
       "8866     15     43       na  \n",
       "8867     14    116       na  \n",
       "8868     10     60   medium  \n",
       "8869     13    123   medium  \n",
       "\n",
       "[8870 rows x 12 columns]"
      ],
      "text/html": "<div>\n<style scoped>\n    .dataframe tbody tr th:only-of-type {\n        vertical-align: middle;\n    }\n\n    .dataframe tbody tr th {\n        vertical-align: top;\n    }\n\n    .dataframe thead th {\n        text-align: right;\n    }\n</style>\n<table border=\"1\" class=\"dataframe\">\n  <thead>\n    <tr style=\"text-align: right;\">\n      <th></th>\n      <th>precip7</th>\n      <th>wind7</th>\n      <th>precip6</th>\n      <th>wind6</th>\n      <th>precip5</th>\n      <th>wind5</th>\n      <th>precip4</th>\n      <th>wind4</th>\n      <th>precip3</th>\n      <th>wind3</th>\n      <th>slope</th>\n      <th>severity</th>\n    </tr>\n  </thead>\n  <tbody>\n    <tr>\n      <th>0</th>\n      <td>8.7</td>\n      <td>14</td>\n      <td>5.9</td>\n      <td>11</td>\n      <td>3.9</td>\n      <td>12</td>\n      <td>7.0</td>\n      <td>10</td>\n      <td>13.8</td>\n      <td>17</td>\n      <td>25</td>\n      <td>na</td>\n    </tr>\n    <tr>\n      <th>1</th>\n      <td>0.1</td>\n      <td>3</td>\n      <td>0.1</td>\n      <td>5</td>\n      <td>0.1</td>\n      <td>4</td>\n      <td>0.2</td>\n      <td>3</td>\n      <td>1.3</td>\n      <td>3</td>\n      <td>36</td>\n      <td>na</td>\n    </tr>\n    <tr>\n      <th>2</th>\n      <td>2.7</td>\n      <td>9</td>\n      <td>0.0</td>\n      <td>5</td>\n      <td>16.1</td>\n      <td>6</td>\n      <td>1.8</td>\n      <td>6</td>\n      <td>1.8</td>\n      <td>12</td>\n      <td>125</td>\n      <td>large</td>\n    </tr>\n    <tr>\n      <th>3</th>\n      <td>0.0</td>\n      <td>5</td>\n      <td>0.2</td>\n      <td>5</td>\n      <td>0.0</td>\n      <td>8</td>\n      <td>0.0</td>\n      <td>7</td>\n      <td>0.3</td>\n      <td>6</td>\n      <td>72</td>\n      <td>na</td>\n    </tr>\n    <tr>\n      <th>4</th>\n      <td>0.0</td>\n      <td>21</td>\n      <td>0.0</td>\n      <td>21</td>\n      <td>0.0</td>\n      <td>21</td>\n      <td>0.0</td>\n      <td>14</td>\n      <td>0.0</td>\n      <td>17</td>\n      <td>13</td>\n      <td>na</td>\n    </tr>\n    <tr>\n      <th>...</th>\n      <td>...</td>\n      <td>...</td>\n      <td>...</td>\n      <td>...</td>\n      <td>...</td>\n      <td>...</td>\n      <td>...</td>\n      <td>...</td>\n      <td>...</td>\n      <td>...</td>\n      <td>...</td>\n      <td>...</td>\n    </tr>\n    <tr>\n      <th>8865</th>\n      <td>0.0</td>\n      <td>6</td>\n      <td>4.5</td>\n      <td>6</td>\n      <td>15.2</td>\n      <td>8</td>\n      <td>2.4</td>\n      <td>13</td>\n      <td>0.3</td>\n      <td>13</td>\n      <td>132</td>\n      <td>medium</td>\n    </tr>\n    <tr>\n      <th>8866</th>\n      <td>0.9</td>\n      <td>35</td>\n      <td>0.1</td>\n      <td>35</td>\n      <td>0.0</td>\n      <td>31</td>\n      <td>0.0</td>\n      <td>19</td>\n      <td>0.0</td>\n      <td>15</td>\n      <td>43</td>\n      <td>na</td>\n    </tr>\n    <tr>\n      <th>8867</th>\n      <td>0.0</td>\n      <td>14</td>\n      <td>1.9</td>\n      <td>11</td>\n      <td>0.4</td>\n      <td>13</td>\n      <td>0.2</td>\n      <td>14</td>\n      <td>0.3</td>\n      <td>14</td>\n      <td>116</td>\n      <td>na</td>\n    </tr>\n    <tr>\n      <th>8868</th>\n      <td>0.0</td>\n      <td>14</td>\n      <td>0.1</td>\n      <td>13</td>\n      <td>0.0</td>\n      <td>10</td>\n      <td>0.0</td>\n      <td>12</td>\n      <td>0.0</td>\n      <td>10</td>\n      <td>60</td>\n      <td>medium</td>\n    </tr>\n    <tr>\n      <th>8869</th>\n      <td>0.6</td>\n      <td>14</td>\n      <td>0.3</td>\n      <td>8</td>\n      <td>0.0</td>\n      <td>12</td>\n      <td>1.3</td>\n      <td>12</td>\n      <td>0.3</td>\n      <td>13</td>\n      <td>123</td>\n      <td>medium</td>\n    </tr>\n  </tbody>\n</table>\n<p>8870 rows × 12 columns</p>\n</div>"
     },
     "metadata": {},
     "execution_count": 190
    }
   ],
   "source": [
    "def getX():\n",
    "    X = df.copy()\n",
    "\n",
    "    X.drop(X.columns[[i for i in range(0, 151)]], axis = 1, inplace = True)\n",
    "    # X.drop(X.columns[[i for i in range(20, 35)]], axis = 1, inplace = True)\n",
    "    X[\"severity\"] = df[\"severity\"]\n",
    "    X.drop(X.columns[[0]], axis = 1, inplace = True)\n",
    "\n",
    "    X = X.dropna()\n",
    "    for i in range(0, 8):\n",
    "        del X['air' + str(i)]\n",
    "        del X['temp' + str(i)]\n",
    "        del X['humidity' + str(i)]\n",
    "        \n",
    "    X.drop(X.columns[[i for i in range(len(X.columns)-8, len(X.columns)-2)]], axis = 1, inplace = True)\n",
    "    return X\n",
    "X = getX()\n",
    "X"
   ]
  },
  {
   "cell_type": "markdown",
   "metadata": {},
   "source": [
    "### Generate Labels\n",
    "For binary classification, pass `True` into the function call"
   ]
  },
  {
   "cell_type": "code",
   "execution_count": 191,
   "metadata": {},
   "outputs": [],
   "source": [
    "def generate_labels(binary = False):\n",
    "    global X\n",
    "    X = getX()\n",
    "    y = []\n",
    "    idx_to_severity = [\"na\", \"small\", \"medium\", \"large\", \"very_large\"]\n",
    "    for severity in X.severity:\n",
    "        if not binary:\n",
    "            y.append(idx_to_severity.index(severity))\n",
    "        elif severity == \"na\":\n",
    "            y.append(0)\n",
    "        else:\n",
    "            y.append(1)\n",
    "    X.drop(X.columns[[-1]], axis = 1, inplace = True)\n",
    "    print(y.count(1))\n",
    "    return y"
   ]
  },
  {
   "cell_type": "code",
   "execution_count": 192,
   "metadata": {},
   "outputs": [
    {
     "output_type": "stream",
     "name": "stdout",
     "text": [
      "4394\n"
     ]
    }
   ],
   "source": [
    "binary = True\n",
    "y = generate_labels(binary)"
   ]
  },
  {
   "cell_type": "markdown",
   "metadata": {},
   "source": [
    "## Scaling"
   ]
  },
  {
   "cell_type": "code",
   "execution_count": 193,
   "metadata": {},
   "outputs": [],
   "source": [
    "from sklearn.model_selection import train_test_split\n",
    "from sklearn.preprocessing import StandardScaler\n",
    "X_train, X_test, y_train, y_test = train_test_split(X, y, test_size = 0.2)\n",
    "\n",
    "scaler = StandardScaler()\n",
    "scaler.fit(X_train)\n",
    "\n",
    "X_train = scaler.transform(X_train)\n",
    "X_test = scaler.transform(X_test)"
   ]
  },
  {
   "cell_type": "markdown",
   "metadata": {},
   "source": [
    "## Prediction"
   ]
  },
  {
   "cell_type": "code",
   "execution_count": 194,
   "metadata": {},
   "outputs": [
    {
     "output_type": "execute_result",
     "data": {
      "text/plain": [
       "KNeighborsClassifier(n_neighbors=17)"
      ]
     },
     "metadata": {},
     "execution_count": 194
    }
   ],
   "source": [
    "from sklearn.neighbors import KNeighborsClassifier\n",
    "knn = KNeighborsClassifier(n_neighbors=17)\n",
    "knn.fit(X_train, y_train)"
   ]
  },
  {
   "cell_type": "code",
   "execution_count": 195,
   "metadata": {},
   "outputs": [
    {
     "output_type": "stream",
     "name": "stdout",
     "text": [
      "ACCURACY: 0.5620067643742954\n"
     ]
    }
   ],
   "source": [
    "from sklearn.metrics import accuracy_score\n",
    "pred = knn.predict(X_test)\n",
    "class_probabilities = knn.predict_proba(X_test)\n",
    "print(\"ACCURACY:\", accuracy_score(pred, y_test))"
   ]
  },
  {
   "cell_type": "code",
   "execution_count": 196,
   "metadata": {},
   "outputs": [
    {
     "output_type": "stream",
     "name": "stdout",
     "text": [
      "k = 1   ACCURACY: 60.48\n",
      "k = 2   ACCURACY: 58.85\n",
      "k = 3   ACCURACY: 58.57\n",
      "k = 4   ACCURACY: 56.99\n",
      "k = 5   ACCURACY: 58.62\n",
      "k = 6   ACCURACY: 56.71\n",
      "k = 7   ACCURACY: 57.55\n",
      "k = 8   ACCURACY: 56.93\n",
      "k = 9   ACCURACY: 57.16\n",
      "k = 10   ACCURACY: 56.14\n",
      "k = 11   ACCURACY: 55.98\n",
      "k = 12   ACCURACY: 55.64\n",
      "k = 13   ACCURACY: 56.99\n",
      "k = 14   ACCURACY: 56.48\n",
      "k = 15   ACCURACY: 57.5\n",
      "k = 16   ACCURACY: 55.81\n",
      "k = 17   ACCURACY: 56.2\n",
      "k = 18   ACCURACY: 55.07\n",
      "k = 19   ACCURACY: 55.19\n",
      "k = 20   ACCURACY: 54.4\n",
      "k = 21   ACCURACY: 55.3\n",
      "k = 22   ACCURACY: 54.51\n",
      "k = 23   ACCURACY: 55.24\n",
      "k = 24   ACCURACY: 54.9\n",
      "k = 25   ACCURACY: 55.13\n",
      "k = 26   ACCURACY: 54.45\n",
      "k = 27   ACCURACY: 55.19\n",
      "k = 28   ACCURACY: 54.9\n",
      "k = 29   ACCURACY: 55.24\n",
      "k = 30   ACCURACY: 55.13\n",
      "k = 31   ACCURACY: 55.02\n",
      "k = 32   ACCURACY: 55.13\n",
      "k = 33   ACCURACY: 54.68\n",
      "k = 34   ACCURACY: 54.85\n",
      "k = 35   ACCURACY: 55.69\n",
      "k = 36   ACCURACY: 55.19\n",
      "k = 37   ACCURACY: 56.14\n",
      "k = 38   ACCURACY: 55.86\n",
      "k = 39   ACCURACY: 55.98\n",
      "k = 40   ACCURACY: 56.03\n",
      "k = 41   ACCURACY: 56.09\n",
      "k = 42   ACCURACY: 56.14\n",
      "k = 43   ACCURACY: 55.98\n",
      "k = 44   ACCURACY: 55.81\n",
      "k = 45   ACCURACY: 56.14\n",
      "k = 46   ACCURACY: 56.43\n",
      "k = 47   ACCURACY: 55.81\n",
      "k = 48   ACCURACY: 56.31\n",
      "k = 49   ACCURACY: 56.54\n",
      "k = 50   ACCURACY: 56.6\n",
      "k = 51   ACCURACY: 57.22\n",
      "k = 52   ACCURACY: 56.76\n",
      "k = 53   ACCURACY: 57.05\n",
      "k = 54   ACCURACY: 56.65\n",
      "k = 55   ACCURACY: 56.88\n",
      "k = 56   ACCURACY: 56.88\n",
      "k = 57   ACCURACY: 56.76\n",
      "k = 58   ACCURACY: 56.6\n",
      "k = 59   ACCURACY: 56.99\n",
      "k = 60   ACCURACY: 57.05\n",
      "k = 61   ACCURACY: 56.93\n",
      "k = 62   ACCURACY: 57.05\n",
      "k = 63   ACCURACY: 57.22\n",
      "k = 64   ACCURACY: 56.48\n",
      "k = 65   ACCURACY: 57.05\n",
      "k = 66   ACCURACY: 56.99\n",
      "k = 67   ACCURACY: 57.1\n",
      "k = 68   ACCURACY: 56.71\n",
      "k = 69   ACCURACY: 57.16\n",
      "k = 70   ACCURACY: 56.93\n",
      "k = 71   ACCURACY: 57.38\n",
      "k = 72   ACCURACY: 57.05\n",
      "k = 73   ACCURACY: 57.27\n",
      "k = 74   ACCURACY: 57.33\n",
      "k = 75   ACCURACY: 57.5\n",
      "k = 76   ACCURACY: 56.99\n",
      "k = 77   ACCURACY: 57.67\n",
      "k = 78   ACCURACY: 57.05\n",
      "k = 79   ACCURACY: 57.16\n",
      "k = 80   ACCURACY: 56.99\n",
      "k = 81   ACCURACY: 57.33\n",
      "k = 82   ACCURACY: 56.99\n",
      "k = 83   ACCURACY: 57.22\n",
      "k = 84   ACCURACY: 57.55\n",
      "k = 85   ACCURACY: 57.55\n",
      "k = 86   ACCURACY: 57.5\n",
      "k = 87   ACCURACY: 57.44\n",
      "k = 88   ACCURACY: 57.16\n",
      "k = 89   ACCURACY: 57.38\n",
      "k = 90   ACCURACY: 56.88\n",
      "k = 91   ACCURACY: 57.33\n",
      "k = 92   ACCURACY: 56.65\n",
      "k = 93   ACCURACY: 56.99\n",
      "k = 94   ACCURACY: 56.48\n",
      "k = 95   ACCURACY: 57.16\n",
      "k = 96   ACCURACY: 57.27\n",
      "k = 97   ACCURACY: 57.38\n",
      "k = 98   ACCURACY: 57.05\n",
      "k = 99   ACCURACY: 56.93\n",
      "k = 100   ACCURACY: 56.71\n",
      "k = 101   ACCURACY: 57.1\n",
      "k = 102   ACCURACY: 57.27\n",
      "k = 103   ACCURACY: 57.84\n",
      "k = 104   ACCURACY: 57.72\n",
      "k = 105   ACCURACY: 57.78\n",
      "k = 106   ACCURACY: 57.55\n",
      "k = 107   ACCURACY: 57.67\n",
      "k = 108   ACCURACY: 57.55\n",
      "k = 109   ACCURACY: 57.38\n",
      "k = 110   ACCURACY: 57.16\n",
      "k = 111   ACCURACY: 57.95\n",
      "k = 112   ACCURACY: 57.95\n",
      "k = 113   ACCURACY: 57.89\n",
      "k = 114   ACCURACY: 58.17\n",
      "k = 115   ACCURACY: 58.4\n",
      "k = 116   ACCURACY: 58.12\n",
      "k = 117   ACCURACY: 58.12\n",
      "k = 118   ACCURACY: 57.78\n",
      "k = 119   ACCURACY: 57.84\n",
      "k = 120   ACCURACY: 57.44\n",
      "k = 121   ACCURACY: 57.67\n",
      "k = 122   ACCURACY: 57.27\n",
      "k = 123   ACCURACY: 57.67\n",
      "k = 124   ACCURACY: 57.38\n",
      "k = 125   ACCURACY: 57.33\n",
      "k = 126   ACCURACY: 57.44\n",
      "k = 127   ACCURACY: 57.55\n",
      "k = 128   ACCURACY: 57.72\n",
      "k = 129   ACCURACY: 57.72\n",
      "Best k: 1 60.48\n"
     ]
    }
   ],
   "source": [
    "best = 1\n",
    "highest = 0\n",
    "\n",
    "for i in range(1, 130):\n",
    "    knn = KNeighborsClassifier(n_neighbors=i)\n",
    "    knn.fit(X_train, y_train)\n",
    "    pred = knn.predict(X_test)\n",
    "    score = round(accuracy_score(pred, y_test)*10000)/100\n",
    "    print(\"k =\", i, \"  ACCURACY:\", score)\n",
    "    if score > highest:\n",
    "        highest = score\n",
    "        best = i\n",
    "# Binary: k = 87, 58.9\n",
    "# 62.4 na/landslide\n",
    "print(\"Best k:\", best, highest)"
   ]
  },
  {
   "source": [
    "## Confusion Matrix"
   ],
   "cell_type": "markdown",
   "metadata": {}
  },
  {
   "cell_type": "code",
   "execution_count": 197,
   "metadata": {},
   "outputs": [
    {
     "output_type": "execute_result",
     "data": {
      "text/plain": [
       "0.5744081172491544"
      ]
     },
     "metadata": {},
     "execution_count": 197
    }
   ],
   "source": [
    "knn = KNeighborsClassifier(n_neighbors=87)\n",
    "knn.fit(X_train, y_train)\n",
    "pred = knn.predict(X_test)\n",
    "accuracy_score(pred, y_test)"
   ]
  },
  {
   "cell_type": "code",
   "execution_count": 198,
   "metadata": {},
   "outputs": [
    {
     "output_type": "execute_result",
     "data": {
      "text/plain": [
       "array([[591, 294],\n",
       "       [461, 428]])"
      ]
     },
     "metadata": {},
     "execution_count": 198
    }
   ],
   "source": [
    "from sklearn.metrics import confusion_matrix\n",
    "array = confusion_matrix(y_test, pred)\n",
    "array"
   ]
  },
  {
   "cell_type": "code",
   "execution_count": 199,
   "metadata": {},
   "outputs": [
    {
     "output_type": "display_data",
     "data": {
      "text/plain": "<Figure size 720x504 with 2 Axes>",
      "image/svg+xml": "<?xml version=\"1.0\" encoding=\"utf-8\" standalone=\"no\"?>\n<!DOCTYPE svg PUBLIC \"-//W3C//DTD SVG 1.1//EN\"\n  \"http://www.w3.org/Graphics/SVG/1.1/DTD/svg11.dtd\">\n<!-- Created with matplotlib (https://matplotlib.org/) -->\n<svg height=\"470.763437pt\" version=\"1.1\" viewBox=\"0 0 609.656938 470.763437\" width=\"609.656938pt\" xmlns=\"http://www.w3.org/2000/svg\" xmlns:xlink=\"http://www.w3.org/1999/xlink\">\n <metadata>\n  <rdf:RDF xmlns:cc=\"http://creativecommons.org/ns#\" xmlns:dc=\"http://purl.org/dc/elements/1.1/\" xmlns:rdf=\"http://www.w3.org/1999/02/22-rdf-syntax-ns#\">\n   <cc:Work>\n    <dc:type rdf:resource=\"http://purl.org/dc/dcmitype/StillImage\"/>\n    <dc:date>2020-12-03T14:54:35.257275</dc:date>\n    <dc:format>image/svg+xml</dc:format>\n    <dc:creator>\n     <cc:Agent>\n      <dc:title>Matplotlib v3.3.1, https://matplotlib.org/</dc:title>\n     </cc:Agent>\n    </dc:creator>\n   </cc:Work>\n  </rdf:RDF>\n </metadata>\n <defs>\n  <style type=\"text/css\">*{stroke-linecap:butt;stroke-linejoin:round;}</style>\n </defs>\n <g id=\"figure_1\">\n  <g id=\"patch_1\">\n   <path d=\"M 0 470.763437 \nL 609.656938 470.763437 \nL 609.656938 0 \nL 0 0 \nz\n\" style=\"fill:none;\"/>\n  </g>\n  <g id=\"axes_1\">\n   <g id=\"patch_2\">\n    <path d=\"M 83.043438 387.72 \nL 529.443438 387.72 \nL 529.443438 7.2 \nL 83.043438 7.2 \nz\n\" style=\"fill:#ffffff;\"/>\n   </g>\n   <g id=\"QuadMesh_1\">\n    <path clip-path=\"url(#pe2221ab4d7)\" d=\"M 83.043438 7.2 \nL 306.243438 7.2 \nL 306.243438 197.46 \nL 83.043438 197.46 \nL 83.043438 7.2 \n\" style=\"fill:#08306b;\"/>\n    <path clip-path=\"url(#pe2221ab4d7)\" d=\"M 306.243438 7.2 \nL 529.443438 7.2 \nL 529.443438 197.46 \nL 306.243438 197.46 \nL 306.243438 7.2 \n\" style=\"fill:#f7fbff;\"/>\n    <path clip-path=\"url(#pe2221ab4d7)\" d=\"M 83.043438 197.46 \nL 306.243438 197.46 \nL 306.243438 387.72 \nL 83.043438 387.72 \nL 83.043438 197.46 \n\" style=\"fill:#57a0ce;\"/>\n    <path clip-path=\"url(#pe2221ab4d7)\" d=\"M 306.243438 197.46 \nL 529.443438 197.46 \nL 529.443438 387.72 \nL 306.243438 387.72 \nL 306.243438 197.46 \n\" style=\"fill:#7fb9da;\"/>\n   </g>\n   <g id=\"matplotlib.axis_1\">\n    <g id=\"xtick_1\">\n     <g id=\"line2d_1\">\n      <defs>\n       <path d=\"M 0 0 \nL 0 3.5 \n\" id=\"m69126df3fe\" style=\"stroke:#000000;stroke-width:0.8;\"/>\n      </defs>\n      <g>\n       <use style=\"stroke:#000000;stroke-width:0.8;\" x=\"194.643438\" xlink:href=\"#m69126df3fe\" y=\"387.72\"/>\n      </g>\n     </g>\n     <g id=\"text_1\">\n      <!-- No -->\n      <g transform=\"translate(176.283438 415.235781)scale(0.27 -0.27)\">\n       <defs>\n        <path d=\"M 9.8125 72.90625 \nL 23.09375 72.90625 \nL 55.421875 11.921875 \nL 55.421875 72.90625 \nL 64.984375 72.90625 \nL 64.984375 0 \nL 51.703125 0 \nL 19.390625 60.984375 \nL 19.390625 0 \nL 9.8125 0 \nz\n\" id=\"DejaVuSans-78\"/>\n        <path d=\"M 30.609375 48.390625 \nQ 23.390625 48.390625 19.1875 42.75 \nQ 14.984375 37.109375 14.984375 27.296875 \nQ 14.984375 17.484375 19.15625 11.84375 \nQ 23.34375 6.203125 30.609375 6.203125 \nQ 37.796875 6.203125 41.984375 11.859375 \nQ 46.1875 17.53125 46.1875 27.296875 \nQ 46.1875 37.015625 41.984375 42.703125 \nQ 37.796875 48.390625 30.609375 48.390625 \nz\nM 30.609375 56 \nQ 42.328125 56 49.015625 48.375 \nQ 55.71875 40.765625 55.71875 27.296875 \nQ 55.71875 13.875 49.015625 6.21875 \nQ 42.328125 -1.421875 30.609375 -1.421875 \nQ 18.84375 -1.421875 12.171875 6.21875 \nQ 5.515625 13.875 5.515625 27.296875 \nQ 5.515625 40.765625 12.171875 48.375 \nQ 18.84375 56 30.609375 56 \nz\n\" id=\"DejaVuSans-111\"/>\n       </defs>\n       <use xlink:href=\"#DejaVuSans-78\"/>\n       <use x=\"74.804688\" xlink:href=\"#DejaVuSans-111\"/>\n      </g>\n     </g>\n    </g>\n    <g id=\"xtick_2\">\n     <g id=\"line2d_2\">\n      <g>\n       <use style=\"stroke:#000000;stroke-width:0.8;\" x=\"417.843438\" xlink:href=\"#m69126df3fe\" y=\"387.72\"/>\n      </g>\n     </g>\n     <g id=\"text_2\">\n      <!-- Yes -->\n      <g transform=\"translate(396.047266 415.235781)scale(0.27 -0.27)\">\n       <defs>\n        <path d=\"M -0.203125 72.90625 \nL 10.40625 72.90625 \nL 30.609375 42.921875 \nL 50.6875 72.90625 \nL 61.28125 72.90625 \nL 35.5 34.71875 \nL 35.5 0 \nL 25.59375 0 \nL 25.59375 34.71875 \nz\n\" id=\"DejaVuSans-89\"/>\n        <path d=\"M 56.203125 29.59375 \nL 56.203125 25.203125 \nL 14.890625 25.203125 \nQ 15.484375 15.921875 20.484375 11.0625 \nQ 25.484375 6.203125 34.421875 6.203125 \nQ 39.59375 6.203125 44.453125 7.46875 \nQ 49.3125 8.734375 54.109375 11.28125 \nL 54.109375 2.78125 \nQ 49.265625 0.734375 44.1875 -0.34375 \nQ 39.109375 -1.421875 33.890625 -1.421875 \nQ 20.796875 -1.421875 13.15625 6.1875 \nQ 5.515625 13.8125 5.515625 26.8125 \nQ 5.515625 40.234375 12.765625 48.109375 \nQ 20.015625 56 32.328125 56 \nQ 43.359375 56 49.78125 48.890625 \nQ 56.203125 41.796875 56.203125 29.59375 \nz\nM 47.21875 32.234375 \nQ 47.125 39.59375 43.09375 43.984375 \nQ 39.0625 48.390625 32.421875 48.390625 \nQ 24.90625 48.390625 20.390625 44.140625 \nQ 15.875 39.890625 15.1875 32.171875 \nz\n\" id=\"DejaVuSans-101\"/>\n        <path d=\"M 44.28125 53.078125 \nL 44.28125 44.578125 \nQ 40.484375 46.53125 36.375 47.5 \nQ 32.28125 48.484375 27.875 48.484375 \nQ 21.1875 48.484375 17.84375 46.4375 \nQ 14.5 44.390625 14.5 40.28125 \nQ 14.5 37.15625 16.890625 35.375 \nQ 19.28125 33.59375 26.515625 31.984375 \nL 29.59375 31.296875 \nQ 39.15625 29.25 43.1875 25.515625 \nQ 47.21875 21.78125 47.21875 15.09375 \nQ 47.21875 7.46875 41.1875 3.015625 \nQ 35.15625 -1.421875 24.609375 -1.421875 \nQ 20.21875 -1.421875 15.453125 -0.5625 \nQ 10.6875 0.296875 5.421875 2 \nL 5.421875 11.28125 \nQ 10.40625 8.6875 15.234375 7.390625 \nQ 20.0625 6.109375 24.8125 6.109375 \nQ 31.15625 6.109375 34.5625 8.28125 \nQ 37.984375 10.453125 37.984375 14.40625 \nQ 37.984375 18.0625 35.515625 20.015625 \nQ 33.0625 21.96875 24.703125 23.78125 \nL 21.578125 24.515625 \nQ 13.234375 26.265625 9.515625 29.90625 \nQ 5.8125 33.546875 5.8125 39.890625 \nQ 5.8125 47.609375 11.28125 51.796875 \nQ 16.75 56 26.8125 56 \nQ 31.78125 56 36.171875 55.265625 \nQ 40.578125 54.546875 44.28125 53.078125 \nz\n\" id=\"DejaVuSans-115\"/>\n       </defs>\n       <use xlink:href=\"#DejaVuSans-89\"/>\n       <use x=\"47.833984\" xlink:href=\"#DejaVuSans-101\"/>\n       <use x=\"109.357422\" xlink:href=\"#DejaVuSans-115\"/>\n      </g>\n     </g>\n    </g>\n    <g id=\"text_3\">\n     <!-- Predicted -->\n     <g transform=\"translate(212.362188 455.244687)scale(0.4 -0.4)\">\n      <defs>\n       <path d=\"M 19.671875 64.796875 \nL 19.671875 37.40625 \nL 32.078125 37.40625 \nQ 38.96875 37.40625 42.71875 40.96875 \nQ 46.484375 44.53125 46.484375 51.125 \nQ 46.484375 57.671875 42.71875 61.234375 \nQ 38.96875 64.796875 32.078125 64.796875 \nz\nM 9.8125 72.90625 \nL 32.078125 72.90625 \nQ 44.34375 72.90625 50.609375 67.359375 \nQ 56.890625 61.8125 56.890625 51.125 \nQ 56.890625 40.328125 50.609375 34.8125 \nQ 44.34375 29.296875 32.078125 29.296875 \nL 19.671875 29.296875 \nL 19.671875 0 \nL 9.8125 0 \nz\n\" id=\"DejaVuSans-80\"/>\n       <path d=\"M 41.109375 46.296875 \nQ 39.59375 47.171875 37.8125 47.578125 \nQ 36.03125 48 33.890625 48 \nQ 26.265625 48 22.1875 43.046875 \nQ 18.109375 38.09375 18.109375 28.8125 \nL 18.109375 0 \nL 9.078125 0 \nL 9.078125 54.6875 \nL 18.109375 54.6875 \nL 18.109375 46.1875 \nQ 20.953125 51.171875 25.484375 53.578125 \nQ 30.03125 56 36.53125 56 \nQ 37.453125 56 38.578125 55.875 \nQ 39.703125 55.765625 41.0625 55.515625 \nz\n\" id=\"DejaVuSans-114\"/>\n       <path d=\"M 45.40625 46.390625 \nL 45.40625 75.984375 \nL 54.390625 75.984375 \nL 54.390625 0 \nL 45.40625 0 \nL 45.40625 8.203125 \nQ 42.578125 3.328125 38.25 0.953125 \nQ 33.9375 -1.421875 27.875 -1.421875 \nQ 17.96875 -1.421875 11.734375 6.484375 \nQ 5.515625 14.40625 5.515625 27.296875 \nQ 5.515625 40.1875 11.734375 48.09375 \nQ 17.96875 56 27.875 56 \nQ 33.9375 56 38.25 53.625 \nQ 42.578125 51.265625 45.40625 46.390625 \nz\nM 14.796875 27.296875 \nQ 14.796875 17.390625 18.875 11.75 \nQ 22.953125 6.109375 30.078125 6.109375 \nQ 37.203125 6.109375 41.296875 11.75 \nQ 45.40625 17.390625 45.40625 27.296875 \nQ 45.40625 37.203125 41.296875 42.84375 \nQ 37.203125 48.484375 30.078125 48.484375 \nQ 22.953125 48.484375 18.875 42.84375 \nQ 14.796875 37.203125 14.796875 27.296875 \nz\n\" id=\"DejaVuSans-100\"/>\n       <path d=\"M 9.421875 54.6875 \nL 18.40625 54.6875 \nL 18.40625 0 \nL 9.421875 0 \nz\nM 9.421875 75.984375 \nL 18.40625 75.984375 \nL 18.40625 64.59375 \nL 9.421875 64.59375 \nz\n\" id=\"DejaVuSans-105\"/>\n       <path d=\"M 48.78125 52.59375 \nL 48.78125 44.1875 \nQ 44.96875 46.296875 41.140625 47.34375 \nQ 37.3125 48.390625 33.40625 48.390625 \nQ 24.65625 48.390625 19.8125 42.84375 \nQ 14.984375 37.3125 14.984375 27.296875 \nQ 14.984375 17.28125 19.8125 11.734375 \nQ 24.65625 6.203125 33.40625 6.203125 \nQ 37.3125 6.203125 41.140625 7.25 \nQ 44.96875 8.296875 48.78125 10.40625 \nL 48.78125 2.09375 \nQ 45.015625 0.34375 40.984375 -0.53125 \nQ 36.96875 -1.421875 32.421875 -1.421875 \nQ 20.0625 -1.421875 12.78125 6.34375 \nQ 5.515625 14.109375 5.515625 27.296875 \nQ 5.515625 40.671875 12.859375 48.328125 \nQ 20.21875 56 33.015625 56 \nQ 37.15625 56 41.109375 55.140625 \nQ 45.0625 54.296875 48.78125 52.59375 \nz\n\" id=\"DejaVuSans-99\"/>\n       <path d=\"M 18.3125 70.21875 \nL 18.3125 54.6875 \nL 36.8125 54.6875 \nL 36.8125 47.703125 \nL 18.3125 47.703125 \nL 18.3125 18.015625 \nQ 18.3125 11.328125 20.140625 9.421875 \nQ 21.96875 7.515625 27.59375 7.515625 \nL 36.8125 7.515625 \nL 36.8125 0 \nL 27.59375 0 \nQ 17.1875 0 13.234375 3.875 \nQ 9.28125 7.765625 9.28125 18.015625 \nL 9.28125 47.703125 \nL 2.6875 47.703125 \nL 2.6875 54.6875 \nL 9.28125 54.6875 \nL 9.28125 70.21875 \nz\n\" id=\"DejaVuSans-116\"/>\n      </defs>\n      <use xlink:href=\"#DejaVuSans-80\"/>\n      <use x=\"58.552734\" xlink:href=\"#DejaVuSans-114\"/>\n      <use x=\"97.416016\" xlink:href=\"#DejaVuSans-101\"/>\n      <use x=\"158.939453\" xlink:href=\"#DejaVuSans-100\"/>\n      <use x=\"222.416016\" xlink:href=\"#DejaVuSans-105\"/>\n      <use x=\"250.199219\" xlink:href=\"#DejaVuSans-99\"/>\n      <use x=\"305.179688\" xlink:href=\"#DejaVuSans-116\"/>\n      <use x=\"344.388672\" xlink:href=\"#DejaVuSans-101\"/>\n      <use x=\"405.912109\" xlink:href=\"#DejaVuSans-100\"/>\n     </g>\n    </g>\n   </g>\n   <g id=\"matplotlib.axis_2\">\n    <g id=\"ytick_1\">\n     <g id=\"line2d_3\">\n      <defs>\n       <path d=\"M 0 0 \nL -3.5 0 \n\" id=\"m97f370c31e\" style=\"stroke:#000000;stroke-width:0.8;\"/>\n      </defs>\n      <g>\n       <use style=\"stroke:#000000;stroke-width:0.8;\" x=\"83.043438\" xlink:href=\"#m97f370c31e\" y=\"102.33\"/>\n      </g>\n     </g>\n     <g id=\"text_4\">\n      <!-- No -->\n      <g transform=\"translate(70.428281 128.792109)rotate(-90)scale(0.27 -0.27)\">\n       <use xlink:href=\"#DejaVuSans-78\"/>\n       <use x=\"74.804688\" xlink:href=\"#DejaVuSans-111\"/>\n      </g>\n     </g>\n    </g>\n    <g id=\"ytick_2\">\n     <g id=\"line2d_4\">\n      <g>\n       <use style=\"stroke:#000000;stroke-width:0.8;\" x=\"83.043438\" xlink:href=\"#m97f370c31e\" y=\"292.59\"/>\n      </g>\n     </g>\n     <g id=\"text_5\">\n      <!-- Yes -->\n      <g transform=\"translate(70.428281 325.924453)rotate(-90)scale(0.27 -0.27)\">\n       <use xlink:href=\"#DejaVuSans-89\"/>\n       <use x=\"47.833984\" xlink:href=\"#DejaVuSans-101\"/>\n       <use x=\"109.357422\" xlink:href=\"#DejaVuSans-115\"/>\n      </g>\n     </g>\n    </g>\n    <g id=\"text_6\">\n     <!-- Actual -->\n     <g transform=\"translate(37.59375 260.11625)rotate(-90)scale(0.4 -0.4)\">\n      <defs>\n       <path d=\"M 34.1875 63.1875 \nL 20.796875 26.90625 \nL 47.609375 26.90625 \nz\nM 28.609375 72.90625 \nL 39.796875 72.90625 \nL 67.578125 0 \nL 57.328125 0 \nL 50.6875 18.703125 \nL 17.828125 18.703125 \nL 11.1875 0 \nL 0.78125 0 \nz\n\" id=\"DejaVuSans-65\"/>\n       <path d=\"M 8.5 21.578125 \nL 8.5 54.6875 \nL 17.484375 54.6875 \nL 17.484375 21.921875 \nQ 17.484375 14.15625 20.5 10.265625 \nQ 23.53125 6.390625 29.59375 6.390625 \nQ 36.859375 6.390625 41.078125 11.03125 \nQ 45.3125 15.671875 45.3125 23.6875 \nL 45.3125 54.6875 \nL 54.296875 54.6875 \nL 54.296875 0 \nL 45.3125 0 \nL 45.3125 8.40625 \nQ 42.046875 3.421875 37.71875 1 \nQ 33.40625 -1.421875 27.6875 -1.421875 \nQ 18.265625 -1.421875 13.375 4.4375 \nQ 8.5 10.296875 8.5 21.578125 \nz\nM 31.109375 56 \nz\n\" id=\"DejaVuSans-117\"/>\n       <path d=\"M 34.28125 27.484375 \nQ 23.390625 27.484375 19.1875 25 \nQ 14.984375 22.515625 14.984375 16.5 \nQ 14.984375 11.71875 18.140625 8.90625 \nQ 21.296875 6.109375 26.703125 6.109375 \nQ 34.1875 6.109375 38.703125 11.40625 \nQ 43.21875 16.703125 43.21875 25.484375 \nL 43.21875 27.484375 \nz\nM 52.203125 31.203125 \nL 52.203125 0 \nL 43.21875 0 \nL 43.21875 8.296875 \nQ 40.140625 3.328125 35.546875 0.953125 \nQ 30.953125 -1.421875 24.3125 -1.421875 \nQ 15.921875 -1.421875 10.953125 3.296875 \nQ 6 8.015625 6 15.921875 \nQ 6 25.140625 12.171875 29.828125 \nQ 18.359375 34.515625 30.609375 34.515625 \nL 43.21875 34.515625 \nL 43.21875 35.40625 \nQ 43.21875 41.609375 39.140625 45 \nQ 35.0625 48.390625 27.6875 48.390625 \nQ 23 48.390625 18.546875 47.265625 \nQ 14.109375 46.140625 10.015625 43.890625 \nL 10.015625 52.203125 \nQ 14.9375 54.109375 19.578125 55.046875 \nQ 24.21875 56 28.609375 56 \nQ 40.484375 56 46.34375 49.84375 \nQ 52.203125 43.703125 52.203125 31.203125 \nz\n\" id=\"DejaVuSans-97\"/>\n       <path d=\"M 9.421875 75.984375 \nL 18.40625 75.984375 \nL 18.40625 0 \nL 9.421875 0 \nz\n\" id=\"DejaVuSans-108\"/>\n      </defs>\n      <use xlink:href=\"#DejaVuSans-65\"/>\n      <use x=\"66.658203\" xlink:href=\"#DejaVuSans-99\"/>\n      <use x=\"121.638672\" xlink:href=\"#DejaVuSans-116\"/>\n      <use x=\"160.847656\" xlink:href=\"#DejaVuSans-117\"/>\n      <use x=\"224.226562\" xlink:href=\"#DejaVuSans-97\"/>\n      <use x=\"285.505859\" xlink:href=\"#DejaVuSans-108\"/>\n     </g>\n    </g>\n   </g>\n   <g id=\"text_7\">\n    <!-- 591 -->\n    <g style=\"fill:#ffffff;\" transform=\"translate(146.924688 116.126875)scale(0.5 -0.5)\">\n     <defs>\n      <path d=\"M 10.796875 72.90625 \nL 49.515625 72.90625 \nL 49.515625 64.59375 \nL 19.828125 64.59375 \nL 19.828125 46.734375 \nQ 21.96875 47.46875 24.109375 47.828125 \nQ 26.265625 48.1875 28.421875 48.1875 \nQ 40.625 48.1875 47.75 41.5 \nQ 54.890625 34.8125 54.890625 23.390625 \nQ 54.890625 11.625 47.5625 5.09375 \nQ 40.234375 -1.421875 26.90625 -1.421875 \nQ 22.3125 -1.421875 17.546875 -0.640625 \nQ 12.796875 0.140625 7.71875 1.703125 \nL 7.71875 11.625 \nQ 12.109375 9.234375 16.796875 8.0625 \nQ 21.484375 6.890625 26.703125 6.890625 \nQ 35.15625 6.890625 40.078125 11.328125 \nQ 45.015625 15.765625 45.015625 23.390625 \nQ 45.015625 31 40.078125 35.4375 \nQ 35.15625 39.890625 26.703125 39.890625 \nQ 22.75 39.890625 18.8125 39.015625 \nQ 14.890625 38.140625 10.796875 36.28125 \nz\n\" id=\"DejaVuSans-53\"/>\n      <path d=\"M 10.984375 1.515625 \nL 10.984375 10.5 \nQ 14.703125 8.734375 18.5 7.8125 \nQ 22.3125 6.890625 25.984375 6.890625 \nQ 35.75 6.890625 40.890625 13.453125 \nQ 46.046875 20.015625 46.78125 33.40625 \nQ 43.953125 29.203125 39.59375 26.953125 \nQ 35.25 24.703125 29.984375 24.703125 \nQ 19.046875 24.703125 12.671875 31.3125 \nQ 6.296875 37.9375 6.296875 49.421875 \nQ 6.296875 60.640625 12.9375 67.421875 \nQ 19.578125 74.21875 30.609375 74.21875 \nQ 43.265625 74.21875 49.921875 64.515625 \nQ 56.59375 54.828125 56.59375 36.375 \nQ 56.59375 19.140625 48.40625 8.859375 \nQ 40.234375 -1.421875 26.421875 -1.421875 \nQ 22.703125 -1.421875 18.890625 -0.6875 \nQ 15.09375 0.046875 10.984375 1.515625 \nz\nM 30.609375 32.421875 \nQ 37.25 32.421875 41.125 36.953125 \nQ 45.015625 41.5 45.015625 49.421875 \nQ 45.015625 57.28125 41.125 61.84375 \nQ 37.25 66.40625 30.609375 66.40625 \nQ 23.96875 66.40625 20.09375 61.84375 \nQ 16.21875 57.28125 16.21875 49.421875 \nQ 16.21875 41.5 20.09375 36.953125 \nQ 23.96875 32.421875 30.609375 32.421875 \nz\n\" id=\"DejaVuSans-57\"/>\n      <path d=\"M 12.40625 8.296875 \nL 28.515625 8.296875 \nL 28.515625 63.921875 \nL 10.984375 60.40625 \nL 10.984375 69.390625 \nL 28.421875 72.90625 \nL 38.28125 72.90625 \nL 38.28125 8.296875 \nL 54.390625 8.296875 \nL 54.390625 0 \nL 12.40625 0 \nz\n\" id=\"DejaVuSans-49\"/>\n     </defs>\n     <use xlink:href=\"#DejaVuSans-53\"/>\n     <use x=\"63.623047\" xlink:href=\"#DejaVuSans-57\"/>\n     <use x=\"127.246094\" xlink:href=\"#DejaVuSans-49\"/>\n    </g>\n   </g>\n   <g id=\"text_8\">\n    <!-- 294 -->\n    <g style=\"fill:#262626;\" transform=\"translate(370.124688 116.126875)scale(0.5 -0.5)\">\n     <defs>\n      <path d=\"M 19.1875 8.296875 \nL 53.609375 8.296875 \nL 53.609375 0 \nL 7.328125 0 \nL 7.328125 8.296875 \nQ 12.9375 14.109375 22.625 23.890625 \nQ 32.328125 33.6875 34.8125 36.53125 \nQ 39.546875 41.84375 41.421875 45.53125 \nQ 43.3125 49.21875 43.3125 52.78125 \nQ 43.3125 58.59375 39.234375 62.25 \nQ 35.15625 65.921875 28.609375 65.921875 \nQ 23.96875 65.921875 18.8125 64.3125 \nQ 13.671875 62.703125 7.8125 59.421875 \nL 7.8125 69.390625 \nQ 13.765625 71.78125 18.9375 73 \nQ 24.125 74.21875 28.421875 74.21875 \nQ 39.75 74.21875 46.484375 68.546875 \nQ 53.21875 62.890625 53.21875 53.421875 \nQ 53.21875 48.921875 51.53125 44.890625 \nQ 49.859375 40.875 45.40625 35.40625 \nQ 44.1875 33.984375 37.640625 27.21875 \nQ 31.109375 20.453125 19.1875 8.296875 \nz\n\" id=\"DejaVuSans-50\"/>\n      <path d=\"M 37.796875 64.3125 \nL 12.890625 25.390625 \nL 37.796875 25.390625 \nz\nM 35.203125 72.90625 \nL 47.609375 72.90625 \nL 47.609375 25.390625 \nL 58.015625 25.390625 \nL 58.015625 17.1875 \nL 47.609375 17.1875 \nL 47.609375 0 \nL 37.796875 0 \nL 37.796875 17.1875 \nL 4.890625 17.1875 \nL 4.890625 26.703125 \nz\n\" id=\"DejaVuSans-52\"/>\n     </defs>\n     <use xlink:href=\"#DejaVuSans-50\"/>\n     <use x=\"63.623047\" xlink:href=\"#DejaVuSans-57\"/>\n     <use x=\"127.246094\" xlink:href=\"#DejaVuSans-52\"/>\n    </g>\n   </g>\n   <g id=\"text_9\">\n    <!-- 461 -->\n    <g style=\"fill:#ffffff;\" transform=\"translate(146.924688 306.386875)scale(0.5 -0.5)\">\n     <defs>\n      <path d=\"M 33.015625 40.375 \nQ 26.375 40.375 22.484375 35.828125 \nQ 18.609375 31.296875 18.609375 23.390625 \nQ 18.609375 15.53125 22.484375 10.953125 \nQ 26.375 6.390625 33.015625 6.390625 \nQ 39.65625 6.390625 43.53125 10.953125 \nQ 47.40625 15.53125 47.40625 23.390625 \nQ 47.40625 31.296875 43.53125 35.828125 \nQ 39.65625 40.375 33.015625 40.375 \nz\nM 52.59375 71.296875 \nL 52.59375 62.3125 \nQ 48.875 64.0625 45.09375 64.984375 \nQ 41.3125 65.921875 37.59375 65.921875 \nQ 27.828125 65.921875 22.671875 59.328125 \nQ 17.53125 52.734375 16.796875 39.40625 \nQ 19.671875 43.65625 24.015625 45.921875 \nQ 28.375 48.1875 33.59375 48.1875 \nQ 44.578125 48.1875 50.953125 41.515625 \nQ 57.328125 34.859375 57.328125 23.390625 \nQ 57.328125 12.15625 50.6875 5.359375 \nQ 44.046875 -1.421875 33.015625 -1.421875 \nQ 20.359375 -1.421875 13.671875 8.265625 \nQ 6.984375 17.96875 6.984375 36.375 \nQ 6.984375 53.65625 15.1875 63.9375 \nQ 23.390625 74.21875 37.203125 74.21875 \nQ 40.921875 74.21875 44.703125 73.484375 \nQ 48.484375 72.75 52.59375 71.296875 \nz\n\" id=\"DejaVuSans-54\"/>\n     </defs>\n     <use xlink:href=\"#DejaVuSans-52\"/>\n     <use x=\"63.623047\" xlink:href=\"#DejaVuSans-54\"/>\n     <use x=\"127.246094\" xlink:href=\"#DejaVuSans-49\"/>\n    </g>\n   </g>\n   <g id=\"text_10\">\n    <!-- 428 -->\n    <g style=\"fill:#262626;\" transform=\"translate(370.124688 306.386875)scale(0.5 -0.5)\">\n     <defs>\n      <path d=\"M 31.78125 34.625 \nQ 24.75 34.625 20.71875 30.859375 \nQ 16.703125 27.09375 16.703125 20.515625 \nQ 16.703125 13.921875 20.71875 10.15625 \nQ 24.75 6.390625 31.78125 6.390625 \nQ 38.8125 6.390625 42.859375 10.171875 \nQ 46.921875 13.96875 46.921875 20.515625 \nQ 46.921875 27.09375 42.890625 30.859375 \nQ 38.875 34.625 31.78125 34.625 \nz\nM 21.921875 38.8125 \nQ 15.578125 40.375 12.03125 44.71875 \nQ 8.5 49.078125 8.5 55.328125 \nQ 8.5 64.0625 14.71875 69.140625 \nQ 20.953125 74.21875 31.78125 74.21875 \nQ 42.671875 74.21875 48.875 69.140625 \nQ 55.078125 64.0625 55.078125 55.328125 \nQ 55.078125 49.078125 51.53125 44.71875 \nQ 48 40.375 41.703125 38.8125 \nQ 48.828125 37.15625 52.796875 32.3125 \nQ 56.78125 27.484375 56.78125 20.515625 \nQ 56.78125 9.90625 50.3125 4.234375 \nQ 43.84375 -1.421875 31.78125 -1.421875 \nQ 19.734375 -1.421875 13.25 4.234375 \nQ 6.78125 9.90625 6.78125 20.515625 \nQ 6.78125 27.484375 10.78125 32.3125 \nQ 14.796875 37.15625 21.921875 38.8125 \nz\nM 18.3125 54.390625 \nQ 18.3125 48.734375 21.84375 45.5625 \nQ 25.390625 42.390625 31.78125 42.390625 \nQ 38.140625 42.390625 41.71875 45.5625 \nQ 45.3125 48.734375 45.3125 54.390625 \nQ 45.3125 60.0625 41.71875 63.234375 \nQ 38.140625 66.40625 31.78125 66.40625 \nQ 25.390625 66.40625 21.84375 63.234375 \nQ 18.3125 60.0625 18.3125 54.390625 \nz\n\" id=\"DejaVuSans-56\"/>\n     </defs>\n     <use xlink:href=\"#DejaVuSans-52\"/>\n     <use x=\"63.623047\" xlink:href=\"#DejaVuSans-50\"/>\n     <use x=\"127.246094\" xlink:href=\"#DejaVuSans-56\"/>\n    </g>\n   </g>\n  </g>\n  <g id=\"axes_2\">\n   <g id=\"patch_3\">\n    <path clip-path=\"url(#p48b99a16d5)\" d=\"M 557.343438 387.72 \nL 557.343438 386.233594 \nL 557.343438 8.686406 \nL 557.343438 7.2 \nL 576.369438 7.2 \nL 576.369438 8.686406 \nL 576.369438 386.233594 \nL 576.369438 387.72 \nz\n\" style=\"fill:#ffffff;stroke:#ffffff;stroke-linejoin:miter;stroke-width:0.01;\"/>\n   </g>\n   <image height=\"381\" id=\"image0820b4b362\" transform=\"scale(1 -1)translate(0 -381)\" width=\"19\" x=\"557\" xlink:href=\"data:image/png;base64,\niVBORw0KGgoAAAANSUhEUgAAABMAAAF9CAYAAADm2VNSAAABvUlEQVR4nO2cW2rEQBADJ8H3v24+At49g0yBCyQdQLhG0z0Pe/fn7//zOZAuzuqcX87qnOtzuEe7QK9zgV70mLGYnBuLuTQfmGnT1LYgL2ZJmuLahFvQ0gy1NHO1pIlinqWZSo1pTXN72gdmSzPV0szlTdN7dvJe39CYpJkYc2nGZmLMpRmbiTGXZmwmxlyasZkYc2mmZjcYpxizZNLeHZhLM5YYU5wmeRVxl4xZB2ZNmqSZdq9xk2ZezKWZm3kxS15JkicUMSY5z9AKEE9a8eG1A5M8oYh3QSWbPTRN76SFa5MzMy8oWky2BWm/itB2WnGha8fMvEH2YqJm2km71Sk382LCLcg6aXfjkpuVtKClGWuXvrlaOm1JbbakSZqJW1BJmiULijVN8Tmg5KuIljRLblw6MEvSHOa7ZiWL8DBzDfOR2TBDDTNXD+a2B7kZ5kVv3cHDkxhTm6a60FEzL2bHj0FbjjsVmOx/32gxl2Zu5sUsSXMLyrtmYsylGWuYubagvGwmxlwLikXXJpom90Ut+mT0mA3zTbOSChhmrmE+MhtmKBiTfO0hxty6+cBsmKGGmWuYj8waMNEn+wKPjhu2ltzyawAAAABJRU5ErkJggg==\" y=\"-6\"/>\n   <g id=\"matplotlib.axis_3\"/>\n   <g id=\"matplotlib.axis_4\">\n    <g id=\"ytick_3\">\n     <g id=\"line2d_5\">\n      <defs>\n       <path d=\"M 0 0 \nL 3.5 0 \n\" id=\"m6a2f2e1ae8\" style=\"stroke:#000000;stroke-width:0.8;\"/>\n      </defs>\n      <g>\n       <use style=\"stroke:#000000;stroke-width:0.8;\" x=\"576.369438\" xlink:href=\"#m6a2f2e1ae8\" y=\"380.032727\"/>\n      </g>\n     </g>\n     <g id=\"text_11\">\n      <!-- 300 -->\n      <g transform=\"translate(583.369438 383.831946)scale(0.1 -0.1)\">\n       <defs>\n        <path d=\"M 40.578125 39.3125 \nQ 47.65625 37.796875 51.625 33 \nQ 55.609375 28.21875 55.609375 21.1875 \nQ 55.609375 10.40625 48.1875 4.484375 \nQ 40.765625 -1.421875 27.09375 -1.421875 \nQ 22.515625 -1.421875 17.65625 -0.515625 \nQ 12.796875 0.390625 7.625 2.203125 \nL 7.625 11.71875 \nQ 11.71875 9.328125 16.59375 8.109375 \nQ 21.484375 6.890625 26.8125 6.890625 \nQ 36.078125 6.890625 40.9375 10.546875 \nQ 45.796875 14.203125 45.796875 21.1875 \nQ 45.796875 27.640625 41.28125 31.265625 \nQ 36.765625 34.90625 28.71875 34.90625 \nL 20.21875 34.90625 \nL 20.21875 43.015625 \nL 29.109375 43.015625 \nQ 36.375 43.015625 40.234375 45.921875 \nQ 44.09375 48.828125 44.09375 54.296875 \nQ 44.09375 59.90625 40.109375 62.90625 \nQ 36.140625 65.921875 28.71875 65.921875 \nQ 24.65625 65.921875 20.015625 65.03125 \nQ 15.375 64.15625 9.8125 62.3125 \nL 9.8125 71.09375 \nQ 15.4375 72.65625 20.34375 73.4375 \nQ 25.25 74.21875 29.59375 74.21875 \nQ 40.828125 74.21875 47.359375 69.109375 \nQ 53.90625 64.015625 53.90625 55.328125 \nQ 53.90625 49.265625 50.4375 45.09375 \nQ 46.96875 40.921875 40.578125 39.3125 \nz\n\" id=\"DejaVuSans-51\"/>\n        <path d=\"M 31.78125 66.40625 \nQ 24.171875 66.40625 20.328125 58.90625 \nQ 16.5 51.421875 16.5 36.375 \nQ 16.5 21.390625 20.328125 13.890625 \nQ 24.171875 6.390625 31.78125 6.390625 \nQ 39.453125 6.390625 43.28125 13.890625 \nQ 47.125 21.390625 47.125 36.375 \nQ 47.125 51.421875 43.28125 58.90625 \nQ 39.453125 66.40625 31.78125 66.40625 \nz\nM 31.78125 74.21875 \nQ 44.046875 74.21875 50.515625 64.515625 \nQ 56.984375 54.828125 56.984375 36.375 \nQ 56.984375 17.96875 50.515625 8.265625 \nQ 44.046875 -1.421875 31.78125 -1.421875 \nQ 19.53125 -1.421875 13.0625 8.265625 \nQ 6.59375 17.96875 6.59375 36.375 \nQ 6.59375 54.828125 13.0625 64.515625 \nQ 19.53125 74.21875 31.78125 74.21875 \nz\n\" id=\"DejaVuSans-48\"/>\n       </defs>\n       <use xlink:href=\"#DejaVuSans-51\"/>\n       <use x=\"63.623047\" xlink:href=\"#DejaVuSans-48\"/>\n       <use x=\"127.246094\" xlink:href=\"#DejaVuSans-48\"/>\n      </g>\n     </g>\n    </g>\n    <g id=\"ytick_4\">\n     <g id=\"line2d_6\">\n      <g>\n       <use style=\"stroke:#000000;stroke-width:0.8;\" x=\"576.369438\" xlink:href=\"#m6a2f2e1ae8\" y=\"315.972121\"/>\n      </g>\n     </g>\n     <g id=\"text_12\">\n      <!-- 350 -->\n      <g transform=\"translate(583.369438 319.77134)scale(0.1 -0.1)\">\n       <use xlink:href=\"#DejaVuSans-51\"/>\n       <use x=\"63.623047\" xlink:href=\"#DejaVuSans-53\"/>\n       <use x=\"127.246094\" xlink:href=\"#DejaVuSans-48\"/>\n      </g>\n     </g>\n    </g>\n    <g id=\"ytick_5\">\n     <g id=\"line2d_7\">\n      <g>\n       <use style=\"stroke:#000000;stroke-width:0.8;\" x=\"576.369438\" xlink:href=\"#m6a2f2e1ae8\" y=\"251.911515\"/>\n      </g>\n     </g>\n     <g id=\"text_13\">\n      <!-- 400 -->\n      <g transform=\"translate(583.369438 255.710734)scale(0.1 -0.1)\">\n       <use xlink:href=\"#DejaVuSans-52\"/>\n       <use x=\"63.623047\" xlink:href=\"#DejaVuSans-48\"/>\n       <use x=\"127.246094\" xlink:href=\"#DejaVuSans-48\"/>\n      </g>\n     </g>\n    </g>\n    <g id=\"ytick_6\">\n     <g id=\"line2d_8\">\n      <g>\n       <use style=\"stroke:#000000;stroke-width:0.8;\" x=\"576.369438\" xlink:href=\"#m6a2f2e1ae8\" y=\"187.850909\"/>\n      </g>\n     </g>\n     <g id=\"text_14\">\n      <!-- 450 -->\n      <g transform=\"translate(583.369438 191.650128)scale(0.1 -0.1)\">\n       <use xlink:href=\"#DejaVuSans-52\"/>\n       <use x=\"63.623047\" xlink:href=\"#DejaVuSans-53\"/>\n       <use x=\"127.246094\" xlink:href=\"#DejaVuSans-48\"/>\n      </g>\n     </g>\n    </g>\n    <g id=\"ytick_7\">\n     <g id=\"line2d_9\">\n      <g>\n       <use style=\"stroke:#000000;stroke-width:0.8;\" x=\"576.369438\" xlink:href=\"#m6a2f2e1ae8\" y=\"123.790303\"/>\n      </g>\n     </g>\n     <g id=\"text_15\">\n      <!-- 500 -->\n      <g transform=\"translate(583.369438 127.589522)scale(0.1 -0.1)\">\n       <use xlink:href=\"#DejaVuSans-53\"/>\n       <use x=\"63.623047\" xlink:href=\"#DejaVuSans-48\"/>\n       <use x=\"127.246094\" xlink:href=\"#DejaVuSans-48\"/>\n      </g>\n     </g>\n    </g>\n    <g id=\"ytick_8\">\n     <g id=\"line2d_10\">\n      <g>\n       <use style=\"stroke:#000000;stroke-width:0.8;\" x=\"576.369438\" xlink:href=\"#m6a2f2e1ae8\" y=\"59.729697\"/>\n      </g>\n     </g>\n     <g id=\"text_16\">\n      <!-- 550 -->\n      <g transform=\"translate(583.369438 63.528916)scale(0.1 -0.1)\">\n       <use xlink:href=\"#DejaVuSans-53\"/>\n       <use x=\"63.623047\" xlink:href=\"#DejaVuSans-53\"/>\n       <use x=\"127.246094\" xlink:href=\"#DejaVuSans-48\"/>\n      </g>\n     </g>\n    </g>\n   </g>\n   <g id=\"patch_4\">\n    <path d=\"M 557.343438 387.72 \nL 557.343438 386.233594 \nL 557.343438 8.686406 \nL 557.343438 7.2 \nL 576.369438 7.2 \nL 576.369438 8.686406 \nL 576.369438 386.233594 \nL 576.369438 387.72 \nz\n\" style=\"fill:none;\"/>\n   </g>\n  </g>\n </g>\n <defs>\n  <clipPath id=\"pe2221ab4d7\">\n   <rect height=\"380.52\" width=\"446.4\" x=\"83.043438\" y=\"7.2\"/>\n  </clipPath>\n  <clipPath id=\"p48b99a16d5\">\n   <rect height=\"380.52\" width=\"19.026\" x=\"557.343438\" y=\"7.2\"/>\n  </clipPath>\n </defs>\n</svg>\n",
      "image/png": "[encoded data removed]"
     },
     "metadata": {
      "needs_background": "light"
     }
    }
   ],
   "source": [
    "import seaborn as sn\n",
    "import pandas as pd\n",
    "import matplotlib.pyplot as plt\n",
    "\n",
    "if binary:\n",
    "    df_cm = pd.DataFrame(array, index = [i for i in [\"No\", \"Yes\"]],\n",
    "                    columns = [i for i in [\"No\", \"Yes\"]])\n",
    "else:\n",
    "    df_cm = pd.DataFrame(array, index = [i for i in [\"None\", \"Small\", \"Medium\", \"Large\", \"Very Large\"]],\n",
    "                  columns = [i for i in [\"None\", \"Small\", \"Medium\", \"Large\", \"Very Large\"]])\n",
    "\n",
    "plt.figure(figsize = (10,7))\n",
    "\n",
    "ax = sn.heatmap(df_cm, cmap=\"Blues\", annot=True, annot_kws={\"size\":50}, fmt='g')\n",
    "ax.tick_params(axis='both', which='major', labelsize=27)\n",
    "plt.xlabel('Predicted', fontsize = 40) \n",
    "# plt.title(\"KNN Confusion Matrix\", fontsize = 50)\n",
    "plt.ylabel('Actual', fontsize = 40) \n",
    "\n",
    "plt.show()"
   ]
  },
  {
   "cell_type": "code",
   "execution_count": null,
   "metadata": {},
   "outputs": [],
   "source": []
  }
 ],
 "metadata": {
  "kernelspec": {
   "display_name": "Python 3",
   "language": "python",
   "name": "python3"
  },
  "language_info": {
   "codemirror_mode": {
    "name": "ipython",
    "version": 3
   },
   "file_extension": ".py",
   "mimetype": "text/x-python",
   "name": "python",
   "nbconvert_exporter": "python",
   "pygments_lexer": "ipython3",
   "version": "3.7.4-final"
  }
 },
 "nbformat": 4,
 "nbformat_minor": 4
}