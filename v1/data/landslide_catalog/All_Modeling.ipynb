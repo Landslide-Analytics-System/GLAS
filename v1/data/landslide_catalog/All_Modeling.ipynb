{
 "cells": [
  {
   "cell_type": "markdown",
   "metadata": {},
   "source": [
    "## All modeling"
   ]
  },
  {
   "cell_type": "code",
   "execution_count": 252,
   "metadata": {},
   "outputs": [],
   "source": [
    "import pandas as pd\n",
    "import numpy as np\n",
    "import matplotlib.pyplot as plt\n",
    "%matplotlib inline\n",
    "import sklearn\n",
    "from sklearn.utils import shuffle\n",
    "import pickle"
   ]
  },
  {
   "cell_type": "code",
   "execution_count": 253,
   "metadata": {},
   "outputs": [
    {
     "data": {
      "text/plain": [
       "(8953, 194)"
      ]
     },
     "execution_count": 253,
     "metadata": {},
     "output_type": "execute_result"
    }
   ],
   "source": [
    "df = pd.read_csv(\"full_dataset_v1.csv\", low_memory='false')\n",
    "df.shape"
   ]
  },
  {
   "cell_type": "code",
   "execution_count": 254,
   "metadata": {},
   "outputs": [
    {
     "data": {
      "text/plain": [
       "na              3755\n",
       "medium          2803\n",
       "small            497\n",
       "large            339\n",
       "unknown           67\n",
       "very_large        43\n",
       "...                5\n",
       "catastrophic       1\n",
       "Name: severity, dtype: int64"
      ]
     },
     "execution_count": 254,
     "metadata": {},
     "output_type": "execute_result"
    }
   ],
   "source": [
    "df = df[df['type']=='landslide']\n",
    "df['severity'].value_counts()"
   ]
  },
  {
   "cell_type": "code",
   "execution_count": 255,
   "metadata": {},
   "outputs": [],
   "source": [
    "# filter by severity. na is for non-landslide data\n",
    "df = df[df['severity'].isin([\"medium\", \"small\", \"large\", \"very_large\", \"na\"])]"
   ]
  },
  {
   "cell_type": "code",
   "execution_count": 256,
   "metadata": {},
   "outputs": [
    {
     "name": "stdout",
     "output_type": "stream",
     "text": [
      "7437\n"
     ]
    }
   ],
   "source": [
    "df['severity'].value_counts()\n",
    "df = shuffle(df)\n",
    "df.reset_index(inplace=True, drop=True)\n",
    "print(len(df))"
   ]
  },
  {
   "cell_type": "code",
   "execution_count": 257,
   "metadata": {},
   "outputs": [
    {
     "data": {
      "text/html": [
       "<div>\n",
       "<style scoped>\n",
       "    .dataframe tbody tr th:only-of-type {\n",
       "        vertical-align: middle;\n",
       "    }\n",
       "\n",
       "    .dataframe tbody tr th {\n",
       "        vertical-align: top;\n",
       "    }\n",
       "\n",
       "    .dataframe thead th {\n",
       "        text-align: right;\n",
       "    }\n",
       "</style>\n",
       "<table border=\"1\" class=\"dataframe\">\n",
       "  <thead>\n",
       "    <tr style=\"text-align: right;\">\n",
       "      <th></th>\n",
       "      <th>precip7</th>\n",
       "      <th>wind7</th>\n",
       "      <th>precip6</th>\n",
       "      <th>wind6</th>\n",
       "      <th>precip5</th>\n",
       "      <th>wind5</th>\n",
       "      <th>precip4</th>\n",
       "      <th>wind4</th>\n",
       "      <th>precip3</th>\n",
       "      <th>wind3</th>\n",
       "      <th>severity</th>\n",
       "      <th>slope</th>\n",
       "    </tr>\n",
       "  </thead>\n",
       "  <tbody>\n",
       "    <tr>\n",
       "      <th>0</th>\n",
       "      <td>0.2</td>\n",
       "      <td>7</td>\n",
       "      <td>1.4</td>\n",
       "      <td>9</td>\n",
       "      <td>1.3</td>\n",
       "      <td>9</td>\n",
       "      <td>4.6</td>\n",
       "      <td>10</td>\n",
       "      <td>2.9</td>\n",
       "      <td>15</td>\n",
       "      <td>medium</td>\n",
       "      <td>22</td>\n",
       "    </tr>\n",
       "    <tr>\n",
       "      <th>1</th>\n",
       "      <td>4.6</td>\n",
       "      <td>9</td>\n",
       "      <td>3.3</td>\n",
       "      <td>10</td>\n",
       "      <td>2.9</td>\n",
       "      <td>7</td>\n",
       "      <td>1.5</td>\n",
       "      <td>10</td>\n",
       "      <td>1.5</td>\n",
       "      <td>10</td>\n",
       "      <td>small</td>\n",
       "      <td>108</td>\n",
       "    </tr>\n",
       "    <tr>\n",
       "      <th>2</th>\n",
       "      <td>2.4</td>\n",
       "      <td>12</td>\n",
       "      <td>3.6</td>\n",
       "      <td>11</td>\n",
       "      <td>2.4</td>\n",
       "      <td>11</td>\n",
       "      <td>0.2</td>\n",
       "      <td>9</td>\n",
       "      <td>0.1</td>\n",
       "      <td>9</td>\n",
       "      <td>na</td>\n",
       "      <td>17576</td>\n",
       "    </tr>\n",
       "    <tr>\n",
       "      <th>3</th>\n",
       "      <td>0.0</td>\n",
       "      <td>9</td>\n",
       "      <td>0.4</td>\n",
       "      <td>12</td>\n",
       "      <td>0.7</td>\n",
       "      <td>17</td>\n",
       "      <td>1.1</td>\n",
       "      <td>16</td>\n",
       "      <td>7.4</td>\n",
       "      <td>16</td>\n",
       "      <td>small</td>\n",
       "      <td>99</td>\n",
       "    </tr>\n",
       "    <tr>\n",
       "      <th>4</th>\n",
       "      <td>10.0</td>\n",
       "      <td>10</td>\n",
       "      <td>11.4</td>\n",
       "      <td>9</td>\n",
       "      <td>5.6</td>\n",
       "      <td>9</td>\n",
       "      <td>5.5</td>\n",
       "      <td>6</td>\n",
       "      <td>0.7</td>\n",
       "      <td>9</td>\n",
       "      <td>na</td>\n",
       "      <td>53</td>\n",
       "    </tr>\n",
       "    <tr>\n",
       "      <th>...</th>\n",
       "      <td>...</td>\n",
       "      <td>...</td>\n",
       "      <td>...</td>\n",
       "      <td>...</td>\n",
       "      <td>...</td>\n",
       "      <td>...</td>\n",
       "      <td>...</td>\n",
       "      <td>...</td>\n",
       "      <td>...</td>\n",
       "      <td>...</td>\n",
       "      <td>...</td>\n",
       "      <td>...</td>\n",
       "    </tr>\n",
       "    <tr>\n",
       "      <th>7432</th>\n",
       "      <td>0.0</td>\n",
       "      <td>0</td>\n",
       "      <td>0.0</td>\n",
       "      <td>0</td>\n",
       "      <td>0.0</td>\n",
       "      <td>0</td>\n",
       "      <td>0.0</td>\n",
       "      <td>0</td>\n",
       "      <td>0.0</td>\n",
       "      <td>0</td>\n",
       "      <td>na</td>\n",
       "      <td>118</td>\n",
       "    </tr>\n",
       "    <tr>\n",
       "      <th>7433</th>\n",
       "      <td>2.4</td>\n",
       "      <td>7</td>\n",
       "      <td>2.7</td>\n",
       "      <td>7</td>\n",
       "      <td>4.4</td>\n",
       "      <td>8</td>\n",
       "      <td>2.3</td>\n",
       "      <td>4</td>\n",
       "      <td>1.4</td>\n",
       "      <td>7</td>\n",
       "      <td>medium</td>\n",
       "      <td>103</td>\n",
       "    </tr>\n",
       "    <tr>\n",
       "      <th>7434</th>\n",
       "      <td>1.9</td>\n",
       "      <td>14</td>\n",
       "      <td>1.1</td>\n",
       "      <td>11</td>\n",
       "      <td>1.2</td>\n",
       "      <td>16</td>\n",
       "      <td>6.0</td>\n",
       "      <td>13</td>\n",
       "      <td>6.5</td>\n",
       "      <td>11</td>\n",
       "      <td>medium</td>\n",
       "      <td>141</td>\n",
       "    </tr>\n",
       "    <tr>\n",
       "      <th>7435</th>\n",
       "      <td>0.0</td>\n",
       "      <td>11</td>\n",
       "      <td>0.2</td>\n",
       "      <td>9</td>\n",
       "      <td>0.2</td>\n",
       "      <td>4</td>\n",
       "      <td>3.1</td>\n",
       "      <td>6</td>\n",
       "      <td>7.3</td>\n",
       "      <td>7</td>\n",
       "      <td>na</td>\n",
       "      <td>40</td>\n",
       "    </tr>\n",
       "    <tr>\n",
       "      <th>7436</th>\n",
       "      <td>2.4</td>\n",
       "      <td>5</td>\n",
       "      <td>5.4</td>\n",
       "      <td>5</td>\n",
       "      <td>11.1</td>\n",
       "      <td>3</td>\n",
       "      <td>5.4</td>\n",
       "      <td>3</td>\n",
       "      <td>2.1</td>\n",
       "      <td>7</td>\n",
       "      <td>medium</td>\n",
       "      <td>46</td>\n",
       "    </tr>\n",
       "  </tbody>\n",
       "</table>\n",
       "<p>7437 rows × 12 columns</p>\n",
       "</div>"
      ],
      "text/plain": [
       "      precip7  wind7  precip6  wind6  precip5  wind5  precip4  wind4  precip3  \\\n",
       "0         0.2      7      1.4      9      1.3      9      4.6     10      2.9   \n",
       "1         4.6      9      3.3     10      2.9      7      1.5     10      1.5   \n",
       "2         2.4     12      3.6     11      2.4     11      0.2      9      0.1   \n",
       "3         0.0      9      0.4     12      0.7     17      1.1     16      7.4   \n",
       "4        10.0     10     11.4      9      5.6      9      5.5      6      0.7   \n",
       "...       ...    ...      ...    ...      ...    ...      ...    ...      ...   \n",
       "7432      0.0      0      0.0      0      0.0      0      0.0      0      0.0   \n",
       "7433      2.4      7      2.7      7      4.4      8      2.3      4      1.4   \n",
       "7434      1.9     14      1.1     11      1.2     16      6.0     13      6.5   \n",
       "7435      0.0     11      0.2      9      0.2      4      3.1      6      7.3   \n",
       "7436      2.4      5      5.4      5     11.1      3      5.4      3      2.1   \n",
       "\n",
       "      wind3 severity  slope  \n",
       "0        15   medium     22  \n",
       "1        10    small    108  \n",
       "2         9       na  17576  \n",
       "3        16    small     99  \n",
       "4         9       na     53  \n",
       "...     ...      ...    ...  \n",
       "7432      0       na    118  \n",
       "7433      7   medium    103  \n",
       "7434     11   medium    141  \n",
       "7435      7       na     40  \n",
       "7436      7   medium     46  \n",
       "\n",
       "[7437 rows x 12 columns]"
      ]
     },
     "execution_count": 257,
     "metadata": {},
     "output_type": "execute_result"
    }
   ],
   "source": [
    "X = df.copy()\n",
    "X.drop(X.columns[[i for i in range(0, 151)]], axis = 1, inplace = True)\n",
    "# X.drop(X.columns[[i for i in range(20, 35)]], axis = 1, inplace = True)\n",
    "X[\"severity\"] = df[\"severity\"]\n",
    "X.drop(X.columns[[0]], axis = 1, inplace = True)\n",
    "\n",
    "X = X.dropna()\n",
    "for i in range(0, 8):\n",
    "    del X['air' + str(i)]\n",
    "    del X['temp' + str(i)]\n",
    "    del X['humidity' + str(i)]\n",
    "    \n",
    "X.drop(X.columns[[i for i in range(len(X.columns)-9, len(X.columns)-1)]], axis = 1, inplace = True)\n",
    "X[\"slope\"] = df[\"slope\"]\n",
    "# X.drop(columns=['severity'], inplace=True)\n",
    "X"
   ]
  },
  {
   "cell_type": "markdown",
   "metadata": {},
   "source": [
    "### Generate Labels\n",
    "For binary classification, pass `True` into the function call"
   ]
  },
  {
   "cell_type": "code",
   "execution_count": 258,
   "metadata": {},
   "outputs": [],
   "source": [
    "def generate_labels(binary = False):\n",
    "    y = []\n",
    "    idx_to_severity = [\"na\", \"small\", \"medium\", \"large\", \"very_large\"]\n",
    "    for severity in X.severity:\n",
    "        if binary:\n",
    "            y.append(idx_to_severity.index(severity))\n",
    "        elif severity == \"na\":\n",
    "            y.append(0)\n",
    "        else:\n",
    "            y.append(1)\n",
    "    X.drop(X.columns[[-1]], axis = 1, inplace = True)\n",
    "    print(y.count(1))\n",
    "    return y"
   ]
  },
  {
   "cell_type": "code",
   "execution_count": 259,
   "metadata": {},
   "outputs": [
    {
     "name": "stdout",
     "output_type": "stream",
     "text": [
      "497\n",
      "7292\n",
      "7437\n"
     ]
    }
   ],
   "source": [
    "y = generate_labels(True)\n",
    "print(sum(y))\n",
    "print(len(y))"
   ]
  },
  {
   "cell_type": "markdown",
   "metadata": {},
   "source": [
    "## Scaling"
   ]
  },
  {
   "cell_type": "code",
   "execution_count": 261,
   "metadata": {},
   "outputs": [],
   "source": [
    "from sklearn.model_selection import train_test_split\n",
    "from sklearn.preprocessing import StandardScaler\n",
    "\n",
    "X.drop(['severity'], axis=1, inplace=True)\n",
    "X_train, X_test, y_train, y_test = train_test_split(X, y, test_size = 0.2)\n",
    "\n",
    "scaler = StandardScaler()\n",
    "scaler.fit(X_train)\n",
    "\n",
    "X_train = scaler.transform(X_train)\n",
    "X_test = scaler.transform(X_test)"
   ]
  },
  {
   "cell_type": "markdown",
   "metadata": {},
   "source": [
    "## Prediction"
   ]
  },
  {
   "cell_type": "code",
   "execution_count": 262,
   "metadata": {},
   "outputs": [],
   "source": [
    "from sklearn.ensemble import RandomForestClassifier\n",
    "from sklearn.neighbors import KNeighborsClassifier\n",
    "from sklearn.svm import SVC\n",
    "from sklearn.metrics import accuracy_score, confusion_matrix"
   ]
  },
  {
   "cell_type": "code",
   "execution_count": 263,
   "metadata": {
    "scrolled": true
   },
   "outputs": [
    {
     "name": "stdout",
     "output_type": "stream",
     "text": [
      "n_estimators = 85   ACCURACY: 59.54\n",
      "n_estimators = 87   ACCURACY: 59.34\n",
      "n_estimators = 89   ACCURACY: 60.28\n",
      "n_estimators = 91   ACCURACY: 59.68\n",
      "n_estimators = 93   ACCURACY: 59.27\n",
      "n_estimators = 95   ACCURACY: 58.74\n",
      "n_estimators = 97   ACCURACY: 59.27\n",
      "n_estimators = 99   ACCURACY: 59.95\n",
      "n_estimators = 101   ACCURACY: 59.81\n",
      "n_estimators = 103   ACCURACY: 59.61\n",
      "n_estimators = 105   ACCURACY: 60.48\n",
      "n_estimators = 107   ACCURACY: 59.54\n",
      "n_estimators = 109   ACCURACY: 59.74\n",
      "n_estimators = 111   ACCURACY: 60.08\n",
      "n_estimators = 113   ACCURACY: 59.21\n",
      "n_estimators = 115   ACCURACY: 60.55\n",
      "n_estimators = 117   ACCURACY: 60.15\n",
      "n_estimators = 119   ACCURACY: 59.14\n",
      "n_estimators = 121   ACCURACY: 60.28\n",
      "n_estimators = 123   ACCURACY: 59.95\n",
      "n_estimators = 125   ACCURACY: 60.08\n",
      "n_estimators = 127   ACCURACY: 59.54\n",
      "n_estimators = 129   ACCURACY: 59.68\n",
      "n_estimators = 131   ACCURACY: 60.62\n",
      "n_estimators = 133   ACCURACY: 60.48\n",
      "n_estimators = 135   ACCURACY: 60.15\n",
      "n_estimators = 137   ACCURACY: 60.15\n",
      "n_estimators = 139   ACCURACY: 59.88\n",
      "n_estimators = 141   ACCURACY: 59.68\n",
      "n_estimators = 143   ACCURACY: 59.68\n",
      "n_estimators = 145   ACCURACY: 60.42\n",
      "n_estimators = 147   ACCURACY: 59.95\n",
      "n_estimators = 149   ACCURACY: 60.95\n",
      "# of trees: 149 60.95\n"
     ]
    }
   ],
   "source": [
    "# Testing random forest\n",
    "best = 1\n",
    "highest = 0\n",
    "best_rf = 0\n",
    "\n",
    "for i in range(85, 150, 2):\n",
    "    rf = RandomForestClassifier(n_estimators = i)\n",
    "    rf.fit(X_train, y_train)\n",
    "    pred = rf.predict(X_test)\n",
    "    score = round(accuracy_score(pred, y_test)*10000)/100\n",
    "    print(\"n_estimators =\", i, \"  ACCURACY:\", score)\n",
    "    if score > highest:\n",
    "        highest = score\n",
    "        best = i\n",
    "        best_rf = rf\n",
    "        \n",
    "print(\"# of trees:\", best, highest)"
   ]
  },
  {
   "cell_type": "code",
   "execution_count": 264,
   "metadata": {},
   "outputs": [
    {
     "name": "stdout",
     "output_type": "stream",
     "text": [
      "ACCURACY: 0.6095430107526881\n"
     ]
    },
    {
     "data": {
      "text/plain": [
       "array([[594,  52, 252,  30,   5],\n",
       "       [  0,  16,   7,   0,   0],\n",
       "       [158,  29, 291,  33,   5],\n",
       "       [  0,   0,   8,   6,   1],\n",
       "       [  0,   0,   0,   1,   0]], dtype=int64)"
      ]
     },
     "execution_count": 264,
     "metadata": {},
     "output_type": "execute_result"
    }
   ],
   "source": [
    "# import seaborn as sns\n",
    "\n",
    "pred = best_rf.predict(X_test)\n",
    "print(\"ACCURACY:\", accuracy_score(pred, y_test))\n",
    "matrix = confusion_matrix(pred, y_test)\n",
    "matrix"
   ]
  },
  {
   "cell_type": "code",
   "execution_count": 124,
   "metadata": {},
   "outputs": [
    {
     "name": "stdout",
     "output_type": "stream",
     "text": [
      "[LibSVM]1 0.1 : 0.603943661971831\n",
      "[LibSVM]1 1 : 0.624225352112676\n",
      "[LibSVM]1 10 : 0.6495774647887324\n",
      "[LibSVM]1 100 : 0.5954929577464789\n",
      "[LibSVM]10 0.1 : 0.5994366197183099\n",
      "[LibSVM]10 1 : 0.6332394366197183\n",
      "[LibSVM]10 10 : 0.6428169014084507\n",
      "[LibSVM]10 100 : 0.5949295774647887\n",
      "[LibSVM]"
     ]
    },
    {
     "ename": "KeyboardInterrupt",
     "evalue": "",
     "output_type": "error",
     "traceback": [
      "\u001b[1;31m---------------------------------------------------------------------------\u001b[0m",
      "\u001b[1;31mKeyboardInterrupt\u001b[0m                         Traceback (most recent call last)",
      "\u001b[1;32m<ipython-input-124-d1e7aaacbfd1>\u001b[0m in \u001b[0;36m<module>\u001b[1;34m\u001b[0m\n\u001b[0;32m      7\u001b[0m     \u001b[1;32mfor\u001b[0m \u001b[0mg\u001b[0m \u001b[1;32min\u001b[0m \u001b[0mgamma_range\u001b[0m\u001b[1;33m:\u001b[0m\u001b[1;33m\u001b[0m\u001b[1;33m\u001b[0m\u001b[0m\n\u001b[0;32m      8\u001b[0m         \u001b[0msvc\u001b[0m \u001b[1;33m=\u001b[0m \u001b[0mSVC\u001b[0m\u001b[1;33m(\u001b[0m\u001b[0mkernel\u001b[0m\u001b[1;33m=\u001b[0m\u001b[1;34m'rbf'\u001b[0m\u001b[1;33m,\u001b[0m \u001b[0mgamma\u001b[0m\u001b[1;33m=\u001b[0m\u001b[0mg\u001b[0m\u001b[1;33m,\u001b[0m\u001b[0mC\u001b[0m\u001b[1;33m=\u001b[0m\u001b[0mc\u001b[0m\u001b[1;33m,\u001b[0m \u001b[0mverbose\u001b[0m \u001b[1;33m=\u001b[0m \u001b[1;32mTrue\u001b[0m\u001b[1;33m)\u001b[0m\u001b[1;33m\u001b[0m\u001b[1;33m\u001b[0m\u001b[0m\n\u001b[1;32m----> 9\u001b[1;33m         \u001b[0msvc\u001b[0m\u001b[1;33m.\u001b[0m\u001b[0mfit\u001b[0m\u001b[1;33m(\u001b[0m\u001b[0mX_train\u001b[0m\u001b[1;33m,\u001b[0m \u001b[0my_train\u001b[0m\u001b[1;33m)\u001b[0m\u001b[1;33m\u001b[0m\u001b[1;33m\u001b[0m\u001b[0m\n\u001b[0m\u001b[0;32m     10\u001b[0m         \u001b[0mscore\u001b[0m \u001b[1;33m=\u001b[0m \u001b[0maccuracy_score\u001b[0m\u001b[1;33m(\u001b[0m\u001b[0my_test\u001b[0m\u001b[1;33m,\u001b[0m \u001b[0msvc\u001b[0m\u001b[1;33m.\u001b[0m\u001b[0mpredict\u001b[0m\u001b[1;33m(\u001b[0m\u001b[0mX_test\u001b[0m\u001b[1;33m)\u001b[0m\u001b[1;33m)\u001b[0m\u001b[1;33m\u001b[0m\u001b[1;33m\u001b[0m\u001b[0m\n\u001b[0;32m     11\u001b[0m         \u001b[0mprint\u001b[0m\u001b[1;33m(\u001b[0m\u001b[0mc\u001b[0m\u001b[1;33m,\u001b[0m \u001b[0mg\u001b[0m\u001b[1;33m,\u001b[0m \u001b[1;34m\":\"\u001b[0m\u001b[1;33m,\u001b[0m\u001b[0mscore\u001b[0m\u001b[1;33m)\u001b[0m\u001b[1;33m\u001b[0m\u001b[1;33m\u001b[0m\u001b[0m\n",
      "\u001b[1;32mc:\\users\\shrey\\appdata\\local\\programs\\python\\python36\\lib\\site-packages\\sklearn\\svm\\base.py\u001b[0m in \u001b[0;36mfit\u001b[1;34m(self, X, y, sample_weight)\u001b[0m\n\u001b[0;32m    207\u001b[0m \u001b[1;33m\u001b[0m\u001b[0m\n\u001b[0;32m    208\u001b[0m         \u001b[0mseed\u001b[0m \u001b[1;33m=\u001b[0m \u001b[0mrnd\u001b[0m\u001b[1;33m.\u001b[0m\u001b[0mrandint\u001b[0m\u001b[1;33m(\u001b[0m\u001b[0mnp\u001b[0m\u001b[1;33m.\u001b[0m\u001b[0miinfo\u001b[0m\u001b[1;33m(\u001b[0m\u001b[1;34m'i'\u001b[0m\u001b[1;33m)\u001b[0m\u001b[1;33m.\u001b[0m\u001b[0mmax\u001b[0m\u001b[1;33m)\u001b[0m\u001b[1;33m\u001b[0m\u001b[1;33m\u001b[0m\u001b[0m\n\u001b[1;32m--> 209\u001b[1;33m         \u001b[0mfit\u001b[0m\u001b[1;33m(\u001b[0m\u001b[0mX\u001b[0m\u001b[1;33m,\u001b[0m \u001b[0my\u001b[0m\u001b[1;33m,\u001b[0m \u001b[0msample_weight\u001b[0m\u001b[1;33m,\u001b[0m \u001b[0msolver_type\u001b[0m\u001b[1;33m,\u001b[0m \u001b[0mkernel\u001b[0m\u001b[1;33m,\u001b[0m \u001b[0mrandom_seed\u001b[0m\u001b[1;33m=\u001b[0m\u001b[0mseed\u001b[0m\u001b[1;33m)\u001b[0m\u001b[1;33m\u001b[0m\u001b[1;33m\u001b[0m\u001b[0m\n\u001b[0m\u001b[0;32m    210\u001b[0m         \u001b[1;31m# see comment on the other call to np.iinfo in this file\u001b[0m\u001b[1;33m\u001b[0m\u001b[1;33m\u001b[0m\u001b[1;33m\u001b[0m\u001b[0m\n\u001b[0;32m    211\u001b[0m \u001b[1;33m\u001b[0m\u001b[0m\n",
      "\u001b[1;32mc:\\users\\shrey\\appdata\\local\\programs\\python\\python36\\lib\\site-packages\\sklearn\\svm\\base.py\u001b[0m in \u001b[0;36m_dense_fit\u001b[1;34m(self, X, y, sample_weight, solver_type, kernel, random_seed)\u001b[0m\n\u001b[0;32m    266\u001b[0m                 \u001b[0mcache_size\u001b[0m\u001b[1;33m=\u001b[0m\u001b[0mself\u001b[0m\u001b[1;33m.\u001b[0m\u001b[0mcache_size\u001b[0m\u001b[1;33m,\u001b[0m \u001b[0mcoef0\u001b[0m\u001b[1;33m=\u001b[0m\u001b[0mself\u001b[0m\u001b[1;33m.\u001b[0m\u001b[0mcoef0\u001b[0m\u001b[1;33m,\u001b[0m\u001b[1;33m\u001b[0m\u001b[1;33m\u001b[0m\u001b[0m\n\u001b[0;32m    267\u001b[0m                 \u001b[0mgamma\u001b[0m\u001b[1;33m=\u001b[0m\u001b[0mself\u001b[0m\u001b[1;33m.\u001b[0m\u001b[0m_gamma\u001b[0m\u001b[1;33m,\u001b[0m \u001b[0mepsilon\u001b[0m\u001b[1;33m=\u001b[0m\u001b[0mself\u001b[0m\u001b[1;33m.\u001b[0m\u001b[0mepsilon\u001b[0m\u001b[1;33m,\u001b[0m\u001b[1;33m\u001b[0m\u001b[1;33m\u001b[0m\u001b[0m\n\u001b[1;32m--> 268\u001b[1;33m                 max_iter=self.max_iter, random_seed=random_seed)\n\u001b[0m\u001b[0;32m    269\u001b[0m \u001b[1;33m\u001b[0m\u001b[0m\n\u001b[0;32m    270\u001b[0m         \u001b[0mself\u001b[0m\u001b[1;33m.\u001b[0m\u001b[0m_warn_from_fit_status\u001b[0m\u001b[1;33m(\u001b[0m\u001b[1;33m)\u001b[0m\u001b[1;33m\u001b[0m\u001b[1;33m\u001b[0m\u001b[0m\n",
      "\u001b[1;31mKeyboardInterrupt\u001b[0m: "
     ]
    }
   ],
   "source": [
    "best_svc = 0\n",
    "best_score = 0\n",
    "\n",
    "C_range =[1, 10, 100]\n",
    "gamma_range = [0.1, 1, 10, 100]\n",
    "for c in C_range:\n",
    "    for g in gamma_range:\n",
    "        svc = SVC(kernel='rbf', gamma=g,C=c, verbose = True)\n",
    "        svc.fit(X_train, y_train)\n",
    "        score = accuracy_score(y_test, svc.predict(X_test))\n",
    "        print(c, g, \":\",score)\n",
    "        if score > best_score:\n",
    "            best_score = score\n",
    "            best_svc = svc"
   ]
  },
  {
   "cell_type": "code",
   "execution_count": 125,
   "metadata": {},
   "outputs": [
    {
     "name": "stdout",
     "output_type": "stream",
     "text": [
      "ACCURACY: 0.6495774647887324\n"
     ]
    },
    {
     "data": {
      "text/plain": [
       "array([[380, 121],\n",
       "       [501, 773]], dtype=int64)"
      ]
     },
     "execution_count": 125,
     "metadata": {},
     "output_type": "execute_result"
    }
   ],
   "source": [
    "# import seaborn as sns\n",
    "\n",
    "pred = best_svc.predict(X_test)\n",
    "print(\"ACCURACY:\", accuracy_score(pred, y_test))\n",
    "matrix = confusion_matrix(pred, y_test)\n",
    "matrix"
   ]
  },
  {
   "cell_type": "code",
   "execution_count": 126,
   "metadata": {},
   "outputs": [
    {
     "name": "stdout",
     "output_type": "stream",
     "text": [
      "k = 1   ACCURACY: 62.03\n",
      "k = 2   ACCURACY: 59.83\n",
      "k = 3   ACCURACY: 59.1\n",
      "k = 4   ACCURACY: 59.38\n",
      "k = 5   ACCURACY: 60.23\n",
      "k = 6   ACCURACY: 57.35\n",
      "k = 7   ACCURACY: 58.37\n",
      "k = 8   ACCURACY: 57.52\n",
      "k = 9   ACCURACY: 58.87\n",
      "k = 10   ACCURACY: 58.54\n",
      "k = 11   ACCURACY: 58.54\n",
      "k = 12   ACCURACY: 57.69\n",
      "k = 13   ACCURACY: 58.65\n",
      "k = 14   ACCURACY: 58.42\n",
      "Best k: 1 62.03\n"
     ]
    }
   ],
   "source": [
    "best = 1\n",
    "highest = 0\n",
    "best_knn = 0\n",
    "\n",
    "for i in range(1, 15):\n",
    "    knn = KNeighborsClassifier(n_neighbors=i)\n",
    "    knn.fit(X_train, y_train)\n",
    "    pred = knn.predict(X_test)\n",
    "    score = round(accuracy_score(pred, y_test)*10000)/100\n",
    "    print(\"k =\", i, \"  ACCURACY:\", score)\n",
    "    if score > highest:\n",
    "        highest = score\n",
    "        best = i\n",
    "        best_knn = knn\n",
    "print(\"Best k:\", best, highest)"
   ]
  },
  {
   "cell_type": "code",
   "execution_count": 127,
   "metadata": {},
   "outputs": [
    {
     "name": "stdout",
     "output_type": "stream",
     "text": [
      "ACCURACY: 0.6202816901408451\n"
     ]
    },
    {
     "data": {
      "text/plain": [
       "array([[592, 385],\n",
       "       [289, 509]], dtype=int64)"
      ]
     },
     "execution_count": 127,
     "metadata": {},
     "output_type": "execute_result"
    }
   ],
   "source": [
    "# import seaborn as sns\n",
    "\n",
    "pred = best_knn.predict(X_test)\n",
    "print(\"ACCURACY:\", accuracy_score(pred, y_test))\n",
    "matrix = confusion_matrix(pred, y_test)\n",
    "matrix"
   ]
  },
  {
   "cell_type": "code",
   "execution_count": 128,
   "metadata": {},
   "outputs": [
    {
     "data": {
      "text/plain": [
       "MLPClassifier(activation='relu', alpha=1e-05, batch_size='auto', beta_1=0.9,\n",
       "              beta_2=0.999, early_stopping=False, epsilon=1e-08,\n",
       "              hidden_layer_sizes=(15, 10), learning_rate='constant',\n",
       "              learning_rate_init=0.001, max_iter=200, momentum=0.9,\n",
       "              n_iter_no_change=10, nesterovs_momentum=True, power_t=0.5,\n",
       "              random_state=42, shuffle=True, solver='lbfgs', tol=0.0001,\n",
       "              validation_fraction=0.1, verbose=False, warm_start=False)"
      ]
     },
     "execution_count": 128,
     "metadata": {},
     "output_type": "execute_result"
    }
   ],
   "source": [
    "# neural network\n",
    "from sklearn.neural_network import MLPClassifier\n",
    "nn = MLPClassifier(alpha=1e-05, hidden_layer_sizes=(15, 10), random_state=42,\n",
    "              solver='lbfgs')\n",
    "\n",
    "nn.fit(X_train, y_train)"
   ]
  },
  {
   "cell_type": "code",
   "execution_count": 129,
   "metadata": {},
   "outputs": [
    {
     "name": "stdout",
     "output_type": "stream",
     "text": [
      "ACCURACY: 0.5971830985915493\n"
     ]
    },
    {
     "data": {
      "text/plain": [
       "array([[550, 384],\n",
       "       [331, 510]], dtype=int64)"
      ]
     },
     "execution_count": 129,
     "metadata": {},
     "output_type": "execute_result"
    }
   ],
   "source": [
    "pred = nn.predict(X_test)\n",
    "print(\"ACCURACY:\", accuracy_score(pred, y_test))\n",
    "matrix = confusion_matrix(pred, y_test)\n",
    "matrix"
   ]
  },
  {
   "cell_type": "code",
   "execution_count": null,
   "metadata": {},
   "outputs": [],
   "source": []
  }
 ],
 "metadata": {
  "kernelspec": {
   "display_name": "Python 3",
   "language": "python",
   "name": "python3"
  },
  "language_info": {
   "codemirror_mode": {
    "name": "ipython",
    "version": 3
   },
   "file_extension": ".py",
   "mimetype": "text/x-python",
   "name": "python",
   "nbconvert_exporter": "python",
   "pygments_lexer": "ipython3",
   "version": "3.6.8"
  }
 },
 "nbformat": 4,
 "nbformat_minor": 4
}
