{
 "cells": [
  {
   "cell_type": "code",
   "execution_count": 6,
   "metadata": {},
   "outputs": [
    {
     "data": {
      "image/png": "[encoded data removed]",
      "text/plain": [
       "<matplotlib.figure.Figure at 0x26985472f60>"
      ]
     },
     "metadata": {
      "needs_background": "light"
     },
     "output_type": "display_data"
    }
   ],
   "source": [
    "import numpy as np\n",
    "import matplotlib.cm as cm\n",
    "import matplotlib.pyplot as plt\n",
    "\n",
    "import struct\n",
    "class srtmParser(object):\n",
    " \n",
    "    def parseFile(self,filename):\n",
    "        # (1201x1201) big-endian numbers (signed 16-bit ints) into self.z\n",
    "        fi=open(filename,\"rb\")\n",
    "        contents=fi.read()\n",
    "        fi.close()\n",
    "        self.z=struct.unpack(\">1442401H\", contents)\n",
    " \n",
    "    def writeCSV(self,filename):\n",
    "        if self.z :\n",
    "            fo=open(filename,\"w\")\n",
    "            for row in range(0,1201):\n",
    "                offset=row*1201\n",
    "                thisrow=self.z[offset:offset+1201]\n",
    "                rowdump = \",\".join([str(z) for z in thisrow])\n",
    "                fo.write(\"%s\\n\" % rowdump)\n",
    "            fo.close()\n",
    "        else:\n",
    "            return None\n",
    "\n",
    "\n",
    "f = srtmParser()\n",
    "f.parseFile(\"./elevation_data/N10E123.hgt\")\n",
    "arr = np.zeros((1201,1201))\n",
    "for r in range(0,1201):\n",
    "    for c in range(0,1201):\n",
    "        va=f.z[(1201*r)+c]\n",
    "\n",
    "        arr[r][c]=float(va)\n",
    "\n",
    "plt.imshow(arr, interpolation='bilinear',alpha=1.0)\n",
    "plt.grid(False)\n",
    "plt.show()"
   ]
  },
  {
   "cell_type": "code",
   "execution_count": 15,
   "metadata": {},
   "outputs": [
    {
     "data": {
      "text/plain": [
       "7805.0"
      ]
     },
     "execution_count": 15,
     "metadata": {},
     "output_type": "execute_result"
    }
   ],
   "source": [
    "# sanity check --> average himalayas elevation is ~8800 meters and this region is a little under the humalayas\n",
    "max( [max([i for i in j]) for j in arr] )"
   ]
  },
  {
   "cell_type": "code",
   "execution_count": 16,
   "metadata": {},
   "outputs": [
    {
     "data": {
      "text/plain": [
       "(1201, 1201)"
      ]
     },
     "execution_count": 16,
     "metadata": {},
     "output_type": "execute_result"
    }
   ],
   "source": [
    "arr.shape"
   ]
  },
  {
   "cell_type": "code",
   "execution_count": 17,
   "metadata": {},
   "outputs": [
    {
     "data": {
      "text/plain": [
       "array([[4235., 4285., 4300., ..., 4725., 4724., 4726.],\n",
       "       [4205., 4235., 4270., ..., 4732., 4732., 4729.],\n",
       "       [4160., 4170., 4180., ..., 4747., 4745., 4733.],\n",
       "       ...,\n",
       "       [1846., 1839., 1837., ..., 2089., 2054., 1993.],\n",
       "       [1808., 1824., 1869., ..., 2122., 2056., 2029.],\n",
       "       [1798., 1843., 1887., ..., 2133., 2076., 2051.]])"
      ]
     },
     "execution_count": 17,
     "metadata": {},
     "output_type": "execute_result"
    }
   ],
   "source": [
    "arr"
   ]
  },
  {
   "cell_type": "code",
   "execution_count": 18,
   "metadata": {},
   "outputs": [
    {
     "data": {
      "text/plain": [
       "array([[0., 0., 0., ..., 0., 0., 0.],\n",
       "       [0., 0., 0., ..., 0., 0., 0.],\n",
       "       [0., 0., 0., ..., 0., 0., 0.],\n",
       "       ...,\n",
       "       [0., 0., 0., ..., 0., 0., 0.],\n",
       "       [0., 0., 0., ..., 0., 0., 0.],\n",
       "       [0., 0., 0., ..., 0., 0., 0.]])"
      ]
     },
     "execution_count": 18,
     "metadata": {},
     "output_type": "execute_result"
    }
   ],
   "source": [
    "slopes = np.zeros((1201, 1201))\n",
    "slopes"
   ]
  },
  {
   "cell_type": "code",
   "execution_count": 5,
   "metadata": {},
   "outputs": [],
   "source": [
    "# latitude remains fairly constant from the equator to the poles\n",
    "# longitude can vary greatly\n",
    "# use library to get slope"
   ]
  },
  {
   "cell_type": "code",
   "execution_count": null,
   "metadata": {},
   "outputs": [],
   "source": []
  }
 ],
 "metadata": {
  "kernelspec": {
   "display_name": "Python 3",
   "language": "python",
   "name": "python3"
  },
  "language_info": {
   "codemirror_mode": {
    "name": "ipython",
    "version": 3
   },
   "file_extension": ".py",
   "mimetype": "text/x-python",
   "name": "python",
   "nbconvert_exporter": "python",
   "pygments_lexer": "ipython3",
   "version": "3.6.8"
  }
 },
 "nbformat": 4,
 "nbformat_minor": 4
}
