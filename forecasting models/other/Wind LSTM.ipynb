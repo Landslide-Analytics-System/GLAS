{
 "cells": [
  {
   "cell_type": "code",
   "execution_count": 49,
   "metadata": {},
   "outputs": [],
   "source": [
    "import matplotlib.pyplot as plt\n",
    "import pandas as pd\n",
    "import numpy as np\n",
    "from sklearn.utils import shuffle\n",
    "import sklearn\n",
    "import os\n",
    "%matplotlib inline\n",
    "from tensorflow.keras import Sequential\n",
    "import tensorflow as tf\n",
    "import tensorflow.keras.layers\n",
    "from tensorflow.keras.layers import Bidirectional, LSTM, Dense, Dropout\n",
    "import tensorflow.keras.losses"
   ]
  },
  {
   "cell_type": "code",
   "execution_count": 26,
   "metadata": {},
   "outputs": [
    {
     "name": "stderr",
     "output_type": "stream",
     "text": [
      "/Library/Frameworks/Python.framework/Versions/3.7/lib/python3.7/site-packages/IPython/core/interactiveshell.py:3146: DtypeWarning: Columns (5,8,9,10,11) have mixed types.Specify dtype option on import or set low_memory=False.\n",
      "  interactivity=interactivity, compiler=compiler, result=result)\n"
     ]
    }
   ],
   "source": [
    "df = pd.read_csv(\"dataset.csv\")"
   ]
  },
  {
   "cell_type": "code",
   "execution_count": 27,
   "metadata": {},
   "outputs": [],
   "source": [
    "# df = df[df['severity'].isin([\"medium\", \"small\", \"large\", \"very_large\", \"na\"])]\n",
    "df['severity'].value_counts()\n",
    "df = shuffle(df)\n",
    "df.reset_index(inplace=True, drop=True)"
   ]
  },
  {
   "cell_type": "code",
   "execution_count": 28,
   "metadata": {},
   "outputs": [],
   "source": [
    "def convert(field, func):\n",
    "\tglobal df\n",
    "\tdf[field] = df[field].apply(func)"
   ]
  },
  {
   "cell_type": "code",
   "execution_count": 29,
   "metadata": {},
   "outputs": [
    {
     "data": {
      "text/html": [
       "<div>\n",
       "<style scoped>\n",
       "    .dataframe tbody tr th:only-of-type {\n",
       "        vertical-align: middle;\n",
       "    }\n",
       "\n",
       "    .dataframe tbody tr th {\n",
       "        vertical-align: top;\n",
       "    }\n",
       "\n",
       "    .dataframe thead th {\n",
       "        text-align: right;\n",
       "    }\n",
       "</style>\n",
       "<table border=\"1\" class=\"dataframe\">\n",
       "  <thead>\n",
       "    <tr style=\"text-align: right;\">\n",
       "      <th></th>\n",
       "      <th>humidity9</th>\n",
       "      <th>ARI9</th>\n",
       "      <th>wind9</th>\n",
       "      <th>humidity8</th>\n",
       "      <th>ARI8</th>\n",
       "      <th>wind8</th>\n",
       "      <th>humidity7</th>\n",
       "      <th>ARI7</th>\n",
       "      <th>wind7</th>\n",
       "      <th>humidity6</th>\n",
       "      <th>...</th>\n",
       "      <th>wind6</th>\n",
       "      <th>humidity5</th>\n",
       "      <th>ARI5</th>\n",
       "      <th>wind5</th>\n",
       "      <th>humidity4</th>\n",
       "      <th>ARI4</th>\n",
       "      <th>wind4</th>\n",
       "      <th>humidity3</th>\n",
       "      <th>ARI3</th>\n",
       "      <th>wind3</th>\n",
       "    </tr>\n",
       "  </thead>\n",
       "  <tbody>\n",
       "    <tr>\n",
       "      <th>0</th>\n",
       "      <td>72</td>\n",
       "      <td>0.556880</td>\n",
       "      <td>22</td>\n",
       "      <td>75</td>\n",
       "      <td>2.201197</td>\n",
       "      <td>26</td>\n",
       "      <td>83</td>\n",
       "      <td>0.677670</td>\n",
       "      <td>21</td>\n",
       "      <td>74</td>\n",
       "      <td>...</td>\n",
       "      <td>17</td>\n",
       "      <td>70</td>\n",
       "      <td>1.836522</td>\n",
       "      <td>23</td>\n",
       "      <td>71</td>\n",
       "      <td>0.511386</td>\n",
       "      <td>16</td>\n",
       "      <td>79</td>\n",
       "      <td>4.283873</td>\n",
       "      <td>25</td>\n",
       "    </tr>\n",
       "    <tr>\n",
       "      <th>1</th>\n",
       "      <td>80</td>\n",
       "      <td>0.085825</td>\n",
       "      <td>16</td>\n",
       "      <td>84</td>\n",
       "      <td>0.050057</td>\n",
       "      <td>14</td>\n",
       "      <td>71</td>\n",
       "      <td>0.028576</td>\n",
       "      <td>14</td>\n",
       "      <td>82</td>\n",
       "      <td>...</td>\n",
       "      <td>26</td>\n",
       "      <td>85</td>\n",
       "      <td>0.153854</td>\n",
       "      <td>30</td>\n",
       "      <td>85</td>\n",
       "      <td>0.386717</td>\n",
       "      <td>22</td>\n",
       "      <td>82</td>\n",
       "      <td>0.309143</td>\n",
       "      <td>24</td>\n",
       "    </tr>\n",
       "    <tr>\n",
       "      <th>2</th>\n",
       "      <td>90</td>\n",
       "      <td>0.640841</td>\n",
       "      <td>16</td>\n",
       "      <td>92</td>\n",
       "      <td>0.548408</td>\n",
       "      <td>16</td>\n",
       "      <td>94</td>\n",
       "      <td>1.157563</td>\n",
       "      <td>14</td>\n",
       "      <td>85</td>\n",
       "      <td>...</td>\n",
       "      <td>13</td>\n",
       "      <td>84</td>\n",
       "      <td>0.158862</td>\n",
       "      <td>11</td>\n",
       "      <td>87</td>\n",
       "      <td>2.078817</td>\n",
       "      <td>15</td>\n",
       "      <td>88</td>\n",
       "      <td>1.352717</td>\n",
       "      <td>18</td>\n",
       "    </tr>\n",
       "    <tr>\n",
       "      <th>3</th>\n",
       "      <td>71</td>\n",
       "      <td>0.270180</td>\n",
       "      <td>19</td>\n",
       "      <td>73</td>\n",
       "      <td>0.232671</td>\n",
       "      <td>17</td>\n",
       "      <td>77</td>\n",
       "      <td>0.182073</td>\n",
       "      <td>21</td>\n",
       "      <td>83</td>\n",
       "      <td>...</td>\n",
       "      <td>33</td>\n",
       "      <td>67</td>\n",
       "      <td>0.606089</td>\n",
       "      <td>30</td>\n",
       "      <td>66</td>\n",
       "      <td>0.266716</td>\n",
       "      <td>19</td>\n",
       "      <td>77</td>\n",
       "      <td>1.405961</td>\n",
       "      <td>21</td>\n",
       "    </tr>\n",
       "    <tr>\n",
       "      <th>4</th>\n",
       "      <td>46</td>\n",
       "      <td>0.007992</td>\n",
       "      <td>30</td>\n",
       "      <td>25</td>\n",
       "      <td>0.003675</td>\n",
       "      <td>36</td>\n",
       "      <td>42</td>\n",
       "      <td>0.002700</td>\n",
       "      <td>24</td>\n",
       "      <td>44</td>\n",
       "      <td>...</td>\n",
       "      <td>41</td>\n",
       "      <td>41</td>\n",
       "      <td>0.000000</td>\n",
       "      <td>35</td>\n",
       "      <td>56</td>\n",
       "      <td>2.050540</td>\n",
       "      <td>25</td>\n",
       "      <td>73</td>\n",
       "      <td>1.637125</td>\n",
       "      <td>26</td>\n",
       "    </tr>\n",
       "    <tr>\n",
       "      <th>...</th>\n",
       "      <td>...</td>\n",
       "      <td>...</td>\n",
       "      <td>...</td>\n",
       "      <td>...</td>\n",
       "      <td>...</td>\n",
       "      <td>...</td>\n",
       "      <td>...</td>\n",
       "      <td>...</td>\n",
       "      <td>...</td>\n",
       "      <td>...</td>\n",
       "      <td>...</td>\n",
       "      <td>...</td>\n",
       "      <td>...</td>\n",
       "      <td>...</td>\n",
       "      <td>...</td>\n",
       "      <td>...</td>\n",
       "      <td>...</td>\n",
       "      <td>...</td>\n",
       "      <td>...</td>\n",
       "      <td>...</td>\n",
       "      <td>...</td>\n",
       "    </tr>\n",
       "    <tr>\n",
       "      <th>17803</th>\n",
       "      <td>94</td>\n",
       "      <td>2.382064</td>\n",
       "      <td>13</td>\n",
       "      <td>98</td>\n",
       "      <td>5.932884</td>\n",
       "      <td>10</td>\n",
       "      <td>96</td>\n",
       "      <td>1.879734</td>\n",
       "      <td>11</td>\n",
       "      <td>89</td>\n",
       "      <td>...</td>\n",
       "      <td>9</td>\n",
       "      <td>90</td>\n",
       "      <td>1.165618</td>\n",
       "      <td>10</td>\n",
       "      <td>88</td>\n",
       "      <td>2.939858</td>\n",
       "      <td>12</td>\n",
       "      <td>95</td>\n",
       "      <td>0.925101</td>\n",
       "      <td>9</td>\n",
       "    </tr>\n",
       "    <tr>\n",
       "      <th>17804</th>\n",
       "      <td>91</td>\n",
       "      <td>3.181230</td>\n",
       "      <td>17</td>\n",
       "      <td>87</td>\n",
       "      <td>0.895018</td>\n",
       "      <td>14</td>\n",
       "      <td>87</td>\n",
       "      <td>1.929670</td>\n",
       "      <td>6</td>\n",
       "      <td>92</td>\n",
       "      <td>...</td>\n",
       "      <td>10</td>\n",
       "      <td>87</td>\n",
       "      <td>5.363040</td>\n",
       "      <td>7</td>\n",
       "      <td>89</td>\n",
       "      <td>3.976052</td>\n",
       "      <td>8</td>\n",
       "      <td>92</td>\n",
       "      <td>4.062424</td>\n",
       "      <td>13</td>\n",
       "    </tr>\n",
       "    <tr>\n",
       "      <th>17805</th>\n",
       "      <td>97</td>\n",
       "      <td>2.002024</td>\n",
       "      <td>13</td>\n",
       "      <td>97</td>\n",
       "      <td>6.466107</td>\n",
       "      <td>9</td>\n",
       "      <td>100</td>\n",
       "      <td>9.851931</td>\n",
       "      <td>10</td>\n",
       "      <td>98</td>\n",
       "      <td>...</td>\n",
       "      <td>8</td>\n",
       "      <td>96</td>\n",
       "      <td>4.772888</td>\n",
       "      <td>6</td>\n",
       "      <td>97</td>\n",
       "      <td>4.668184</td>\n",
       "      <td>8</td>\n",
       "      <td>97</td>\n",
       "      <td>2.143599</td>\n",
       "      <td>6</td>\n",
       "    </tr>\n",
       "    <tr>\n",
       "      <th>17806</th>\n",
       "      <td>88</td>\n",
       "      <td>0.765353</td>\n",
       "      <td>17</td>\n",
       "      <td>89</td>\n",
       "      <td>0.392524</td>\n",
       "      <td>17</td>\n",
       "      <td>87</td>\n",
       "      <td>0.400223</td>\n",
       "      <td>16</td>\n",
       "      <td>86</td>\n",
       "      <td>...</td>\n",
       "      <td>15</td>\n",
       "      <td>79</td>\n",
       "      <td>0.107404</td>\n",
       "      <td>17</td>\n",
       "      <td>89</td>\n",
       "      <td>1.593113</td>\n",
       "      <td>14</td>\n",
       "      <td>92</td>\n",
       "      <td>1.051581</td>\n",
       "      <td>15</td>\n",
       "    </tr>\n",
       "    <tr>\n",
       "      <th>17807</th>\n",
       "      <td>54</td>\n",
       "      <td>0.000000</td>\n",
       "      <td>15</td>\n",
       "      <td>78</td>\n",
       "      <td>0.000000</td>\n",
       "      <td>15</td>\n",
       "      <td>96</td>\n",
       "      <td>0.000000</td>\n",
       "      <td>11</td>\n",
       "      <td>66</td>\n",
       "      <td>...</td>\n",
       "      <td>14</td>\n",
       "      <td>68</td>\n",
       "      <td>0.661464</td>\n",
       "      <td>8</td>\n",
       "      <td>72</td>\n",
       "      <td>0.231513</td>\n",
       "      <td>10</td>\n",
       "      <td>59</td>\n",
       "      <td>0.090033</td>\n",
       "      <td>9</td>\n",
       "    </tr>\n",
       "  </tbody>\n",
       "</table>\n",
       "<p>17808 rows × 21 columns</p>\n",
       "</div>"
      ],
      "text/plain": [
       "       humidity9      ARI9  wind9  humidity8      ARI8  wind8  humidity7  \\\n",
       "0             72  0.556880     22         75  2.201197     26         83   \n",
       "1             80  0.085825     16         84  0.050057     14         71   \n",
       "2             90  0.640841     16         92  0.548408     16         94   \n",
       "3             71  0.270180     19         73  0.232671     17         77   \n",
       "4             46  0.007992     30         25  0.003675     36         42   \n",
       "...          ...       ...    ...        ...       ...    ...        ...   \n",
       "17803         94  2.382064     13         98  5.932884     10         96   \n",
       "17804         91  3.181230     17         87  0.895018     14         87   \n",
       "17805         97  2.002024     13         97  6.466107      9        100   \n",
       "17806         88  0.765353     17         89  0.392524     17         87   \n",
       "17807         54  0.000000     15         78  0.000000     15         96   \n",
       "\n",
       "           ARI7  wind7  humidity6  ...  wind6  humidity5      ARI5  wind5  \\\n",
       "0      0.677670     21         74  ...     17         70  1.836522     23   \n",
       "1      0.028576     14         82  ...     26         85  0.153854     30   \n",
       "2      1.157563     14         85  ...     13         84  0.158862     11   \n",
       "3      0.182073     21         83  ...     33         67  0.606089     30   \n",
       "4      0.002700     24         44  ...     41         41  0.000000     35   \n",
       "...         ...    ...        ...  ...    ...        ...       ...    ...   \n",
       "17803  1.879734     11         89  ...      9         90  1.165618     10   \n",
       "17804  1.929670      6         92  ...     10         87  5.363040      7   \n",
       "17805  9.851931     10         98  ...      8         96  4.772888      6   \n",
       "17806  0.400223     16         86  ...     15         79  0.107404     17   \n",
       "17807  0.000000     11         66  ...     14         68  0.661464      8   \n",
       "\n",
       "       humidity4      ARI4  wind4  humidity3      ARI3  wind3  \n",
       "0             71  0.511386     16         79  4.283873     25  \n",
       "1             85  0.386717     22         82  0.309143     24  \n",
       "2             87  2.078817     15         88  1.352717     18  \n",
       "3             66  0.266716     19         77  1.405961     21  \n",
       "4             56  2.050540     25         73  1.637125     26  \n",
       "...          ...       ...    ...        ...       ...    ...  \n",
       "17803         88  2.939858     12         95  0.925101      9  \n",
       "17804         89  3.976052      8         92  4.062424     13  \n",
       "17805         97  4.668184      8         97  2.143599      6  \n",
       "17806         89  1.593113     14         92  1.051581     15  \n",
       "17807         72  0.231513     10         59  0.090033      9  \n",
       "\n",
       "[17808 rows x 21 columns]"
      ]
     },
     "execution_count": 29,
     "metadata": {},
     "output_type": "execute_result"
    }
   ],
   "source": [
    "X = df.copy()\n",
    "y = X.landslide\n",
    "columns=[]\n",
    "for i in range(9, 2, -1):\n",
    "    columns.append('humidity' + str(i))\n",
    "    columns.append('ARI' + str(i))\n",
    "    columns.append('wind' + str(i))\n",
    "X = X[columns]\n",
    "for i in range(9, 2, -1):\n",
    "    X['ARI' + str(i)] = X['ARI' + str(i)].apply(float)\n",
    "X"
   ]
  },
  {
   "cell_type": "code",
   "execution_count": 30,
   "metadata": {},
   "outputs": [
    {
     "data": {
      "text/plain": [
       "1    10306\n",
       "0     7502\n",
       "Name: landslide, dtype: int64"
      ]
     },
     "execution_count": 30,
     "metadata": {},
     "output_type": "execute_result"
    }
   ],
   "source": [
    "y.value_counts()"
   ]
  },
  {
   "cell_type": "code",
   "execution_count": 32,
   "metadata": {},
   "outputs": [
    {
     "data": {
      "text/plain": [
       "array([97.        ,  9.16920965,  9.        , 97.        , 10.199934  ,\n",
       "        8.        , 97.        ,  3.82319175,  9.        , 89.        ,\n",
       "        1.75261042, 10.        , 93.        ,  3.96493901, 10.        ,\n",
       "       91.        ,  1.4204574 ,  6.        , 94.        ,  2.06859881,\n",
       "        6.        ])"
      ]
     },
     "execution_count": 32,
     "metadata": {},
     "output_type": "execute_result"
    }
   ],
   "source": [
    "from sklearn.model_selection import train_test_split\n",
    "from sklearn.preprocessing import StandardScaler\n",
    "X_train, X_test, y_train, y_test = train_test_split(X, y, test_size = 0.2)\n",
    "\n",
    "# scaler = StandardScaler()\n",
    "# scaler.fit(X_train)\n",
    "\n",
    "# X_train = scaler.transform(X_train)\n",
    "# X_test = scaler.transform(X_test)\n",
    "X_train = np.array(X_train)\n",
    "X_test = np.array(X_test)\n",
    "X_train[0]"
   ]
  },
  {
   "cell_type": "code",
   "execution_count": 34,
   "metadata": {},
   "outputs": [
    {
     "name": "stdout",
     "output_type": "stream",
     "text": [
      "(14246, 7, 3)\n"
     ]
    },
    {
     "data": {
      "text/plain": [
       "array([[97.        ,  9.16920965,  9.        ],\n",
       "       [97.        , 10.199934  ,  8.        ],\n",
       "       [97.        ,  3.82319175,  9.        ],\n",
       "       [89.        ,  1.75261042, 10.        ],\n",
       "       [93.        ,  3.96493901, 10.        ],\n",
       "       [91.        ,  1.4204574 ,  6.        ],\n",
       "       [94.        ,  2.06859881,  6.        ]])"
      ]
     },
     "execution_count": 34,
     "metadata": {},
     "output_type": "execute_result"
    }
   ],
   "source": [
    "y_train = np.array(y_train)\n",
    "y_test = np.array(y_test)\n",
    "# len(X_train) # of batches\n",
    "# 5 timesteps (days 7 - 3)\n",
    "# 2 features per timestep\n",
    "X_train=X_train.reshape((len(X_train), 7, 3))\n",
    "X_test=X_test.reshape((len(X_test), 7, 3))\n",
    "print(X_train.shape)\n",
    "X_train[0]"
   ]
  },
  {
   "cell_type": "code",
   "execution_count": 35,
   "metadata": {
    "scrolled": true
   },
   "outputs": [
    {
     "name": "stdout",
     "output_type": "stream",
     "text": [
      "Epoch 1/15\n",
      "713/713 - 2s - loss: 0.6208 - accuracy: 0.6830\n",
      "Epoch 2/15\n",
      "713/713 - 2s - loss: 0.6029 - accuracy: 0.6942\n",
      "Epoch 3/15\n",
      "713/713 - 2s - loss: 0.6034 - accuracy: 0.6912\n",
      "Epoch 4/15\n",
      "713/713 - 2s - loss: 0.6098 - accuracy: 0.6904\n",
      "Epoch 5/15\n",
      "713/713 - 2s - loss: 0.5859 - accuracy: 0.6969\n",
      "Epoch 6/15\n",
      "713/713 - 2s - loss: 0.5814 - accuracy: 0.7021\n",
      "Epoch 7/15\n",
      "713/713 - 2s - loss: 0.5788 - accuracy: 0.7043\n",
      "Epoch 8/15\n",
      "713/713 - 2s - loss: 0.5929 - accuracy: 0.7035\n",
      "Epoch 9/15\n",
      "713/713 - 2s - loss: 0.5762 - accuracy: 0.7100\n",
      "Epoch 10/15\n",
      "713/713 - 2s - loss: 0.5755 - accuracy: 0.7088\n",
      "Epoch 11/15\n",
      "713/713 - 2s - loss: 0.5742 - accuracy: 0.7087\n",
      "Epoch 12/15\n",
      "713/713 - 2s - loss: 0.5736 - accuracy: 0.7086\n",
      "Epoch 13/15\n",
      "713/713 - 2s - loss: 0.5718 - accuracy: 0.7110\n",
      "Epoch 14/15\n",
      "713/713 - 2s - loss: 0.5715 - accuracy: 0.7121\n",
      "Epoch 15/15\n",
      "713/713 - 2s - loss: 0.5716 - accuracy: 0.7102\n"
     ]
    },
    {
     "data": {
      "text/plain": [
       "<tensorflow.python.keras.callbacks.History at 0x7fe0a3e6e210>"
      ]
     },
     "execution_count": 35,
     "metadata": {},
     "output_type": "execute_result"
    }
   ],
   "source": [
    "original = Sequential()\n",
    "original.add(Bidirectional(LSTM(11)))\n",
    "original.add(Dense(1))\n",
    "original.compile(loss='binary_crossentropy', optimizer='adam', metrics=[\"accuracy\"])\n",
    "original.fit(X_train, y_train, epochs = 15, batch_size = 20, verbose = 2)\n",
    "# res = LSTM(11)\n",
    "# out = res(X_train)\n",
    "# print(out.shape)"
   ]
  },
  {
   "cell_type": "code",
   "execution_count": 36,
   "metadata": {},
   "outputs": [
    {
     "name": "stdout",
     "output_type": "stream",
     "text": [
      "112/112 [==============================] - 0s 1ms/step - loss: 0.5725 - accuracy: 0.7047\n"
     ]
    },
    {
     "data": {
      "text/plain": [
       "[0.5724890828132629, 0.7046602964401245]"
      ]
     },
     "execution_count": 36,
     "metadata": {},
     "output_type": "execute_result"
    }
   ],
   "source": [
    "original.evaluate(X_test, y_test)"
   ]
  },
  {
   "cell_type": "code",
   "execution_count": 37,
   "metadata": {},
   "outputs": [
    {
     "data": {
      "text/plain": [
       "array([1, 1, 1, ..., 1, 0, 0])"
      ]
     },
     "execution_count": 37,
     "metadata": {},
     "output_type": "execute_result"
    }
   ],
   "source": [
    "from sklearn.metrics import confusion_matrix\n",
    "res = original.predict(X_test)\n",
    "LST\n",
    "res = np.rint(res)\n",
    "pred = np.array([int(i) for i in res])\n",
    "pred"
   ]
  },
  {
   "cell_type": "code",
   "execution_count": 38,
   "metadata": {},
   "outputs": [
    {
     "name": "stdout",
     "output_type": "stream",
     "text": [
      "990 2572\n"
     ]
    },
    {
     "data": {
      "text/plain": [
       "{0, 1}"
      ]
     },
     "execution_count": 38,
     "metadata": {},
     "output_type": "execute_result"
    }
   ],
   "source": [
    "zeroes = 0\n",
    "ones = 0\n",
    "types = set()\n",
    "for i in pred:\n",
    "    if i == 0:\n",
    "        zeroes += 1\n",
    "    else:\n",
    "        ones += 1\n",
    "    types.add(i)\n",
    "print(zeroes, ones)\n",
    "types"
   ]
  },
  {
   "cell_type": "code",
   "execution_count": 39,
   "metadata": {},
   "outputs": [
    {
     "name": "stdout",
     "output_type": "stream",
     "text": [
      "1470 2092\n"
     ]
    }
   ],
   "source": [
    "zeroes = 0\n",
    "ones = 0\n",
    "for i in y_test:\n",
    "    if i == 0:\n",
    "        zeroes += 1\n",
    "    else:\n",
    "        ones += 1\n",
    "print(zeroes, ones)"
   ]
  },
  {
   "cell_type": "code",
   "execution_count": 40,
   "metadata": {},
   "outputs": [
    {
     "data": {
      "text/plain": [
       "array([[ 704,  766],\n",
       "       [ 286, 1806]])"
      ]
     },
     "execution_count": 40,
     "metadata": {},
     "output_type": "execute_result"
    }
   ],
   "source": [
    "array = confusion_matrix(y_test, pred)\n",
    "array"
   ]
  },
  {
   "cell_type": "code",
   "execution_count": 41,
   "metadata": {},
   "outputs": [
    {
     "data": {
      "image/png": "[encoded data removed]",
      "text/plain": [
       "<Figure size 720x504 with 2 Axes>"
      ]
     },
     "metadata": {
      "needs_background": "light"
     },
     "output_type": "display_data"
    }
   ],
   "source": [
    "import seaborn as sn\n",
    "import pandas as pd\n",
    "import matplotlib.pyplot as plt\n",
    "binary = True\n",
    "if binary:\n",
    "    df_cm = pd.DataFrame(array, index = [i for i in [\"No\", \"Yes\"]],\n",
    "                    columns = [i for i in [\"No\", \"Yes\"]])\n",
    "else:\n",
    "    df_cm = pd.DataFrame(array, index = [i for i in [\"None\", \"Small\", \"Medium\", \"Large\", \"Very Large\"]],\n",
    "                  columns = [i for i in [\"None\", \"Small\", \"Medium\", \"Large\", \"Very Large\"]])\n",
    "\n",
    "plt.figure(figsize = (10,7))\n",
    "\n",
    "ax = sn.heatmap(df_cm, cmap=\"Reds\", annot=True, annot_kws={\"size\":50}, fmt='g')\n",
    "ax.tick_params(axis='both', which='major', labelsize=27)\n",
    "plt.xlabel('Predicted', fontsize = 40) \n",
    "# plt.title(\"KNN Confusion Matrix\", fontsize = 50)\n",
    "plt.ylabel('Actual', fontsize = 40) \n",
    "\n",
    "plt.savefig(\"Wind LSTM\")\n",
    "plt.show()"
   ]
  },
  {
   "cell_type": "code",
   "execution_count": 50,
   "metadata": {
    "scrolled": true
   },
   "outputs": [
    {
     "name": "stdout",
     "output_type": "stream",
     "text": [
      "Epoch 1/15\n",
      "713/713 - 2s - loss: 0.6221 - accuracy: 0.6566\n",
      "Epoch 2/15\n",
      "713/713 - 2s - loss: 0.5870 - accuracy: 0.6912\n",
      "Epoch 3/15\n",
      "713/713 - 2s - loss: 0.5807 - accuracy: 0.6945\n",
      "Epoch 4/15\n",
      "713/713 - 2s - loss: 0.5763 - accuracy: 0.7031\n",
      "Epoch 5/15\n",
      "713/713 - 2s - loss: 0.5768 - accuracy: 0.7041\n",
      "Epoch 6/15\n",
      "713/713 - 2s - loss: 0.5743 - accuracy: 0.7064\n",
      "Epoch 7/15\n",
      "713/713 - 2s - loss: 0.5731 - accuracy: 0.7031\n",
      "Epoch 8/15\n",
      "713/713 - 2s - loss: 0.5717 - accuracy: 0.7109\n",
      "Epoch 9/15\n",
      "713/713 - 2s - loss: 0.5710 - accuracy: 0.7085\n",
      "Epoch 10/15\n",
      "713/713 - 2s - loss: 0.5699 - accuracy: 0.7085\n",
      "Epoch 11/15\n",
      "713/713 - 2s - loss: 0.5689 - accuracy: 0.7078\n",
      "Epoch 12/15\n",
      "713/713 - 2s - loss: 0.5694 - accuracy: 0.7078\n",
      "Epoch 13/15\n",
      "713/713 - 2s - loss: 0.5682 - accuracy: 0.7123\n",
      "Epoch 14/15\n",
      "713/713 - 2s - loss: 0.5677 - accuracy: 0.7122\n",
      "Epoch 15/15\n",
      "713/713 - 2s - loss: 0.5669 - accuracy: 0.7122\n"
     ]
    },
    {
     "data": {
      "text/plain": [
       "<tensorflow.python.keras.callbacks.History at 0x7fe095bb6690>"
      ]
     },
     "execution_count": 50,
     "metadata": {},
     "output_type": "execute_result"
    }
   ],
   "source": [
    "model = Sequential()\n",
    "model.add(Bidirectional(LSTM(11)))\n",
    "model.add(Dropout(0.2))\n",
    "model.add(Dense(1, activation = 'sigmoid'))\n",
    "model.compile(loss='binary_crossentropy', optimizer='adam', metrics=[\"accuracy\"])\n",
    "model.fit(X_train, y_train, epochs = 15, batch_size = 20, verbose = 2)"
   ]
  },
  {
   "cell_type": "code",
   "execution_count": 43,
   "metadata": {},
   "outputs": [
    {
     "data": {
      "text/plain": [
       "array([1, 1, 0, ..., 1, 0, 0])"
      ]
     },
     "execution_count": 43,
     "metadata": {},
     "output_type": "execute_result"
    }
   ],
   "source": [
    "from sklearn.metrics import confusion_matrix\n",
    "res = model.predict(X_test)\n",
    "res = np.rint(res)\n",
    "pred = np.array([int(i) for i in res])\n",
    "pred"
   ]
  },
  {
   "cell_type": "code",
   "execution_count": 51,
   "metadata": {},
   "outputs": [
    {
     "name": "stdout",
     "output_type": "stream",
     "text": [
      "112/112 [==============================] - 0s 1ms/step - loss: 0.5689 - accuracy: 0.7075\n"
     ]
    },
    {
     "data": {
      "text/plain": [
       "[0.5689383149147034, 0.7074677348136902]"
      ]
     },
     "execution_count": 51,
     "metadata": {},
     "output_type": "execute_result"
    }
   ],
   "source": [
    "model.evaluate(X_test, y_test)"
   ]
  },
  {
   "cell_type": "code",
   "execution_count": 1,
   "metadata": {},
   "outputs": [
    {
     "data": {
      "text/plain": [
       "[[865, 605], [438, 1654]]"
      ]
     },
     "execution_count": 1,
     "metadata": {},
     "output_type": "execute_result"
    }
   ],
   "source": [
    "# array = confusion_matrix(y_test, pred)\n",
    "array = [[ 865,  605],\n",
    "       [ 438, 1654]]\n",
    "array"
   ]
  },
  {
   "cell_type": "code",
   "execution_count": 2,
   "metadata": {},
   "outputs": [
    {
     "data": {
      "image/png": "[encoded data removed]",
      "text/plain": [
       "<Figure size 720x504 with 2 Axes>"
      ]
     },
     "metadata": {
      "needs_background": "light"
     },
     "output_type": "display_data"
    }
   ],
   "source": [
    "import seaborn as sn\n",
    "import pandas as pd\n",
    "import matplotlib.pyplot as plt\n",
    "binary = True\n",
    "if binary:\n",
    "    df_cm = pd.DataFrame(array, index = [i for i in [\"No\", \"Yes\"]],\n",
    "                    columns = [i for i in [\"No\", \"Yes\"]])\n",
    "else:\n",
    "    df_cm = pd.DataFrame(array, index = [i for i in [\"None\", \"Small\", \"Medium\", \"Large\", \"Very Large\"]],\n",
    "                  columns = [i for i in [\"None\", \"Small\", \"Medium\", \"Large\", \"Very Large\"]])\n",
    "\n",
    "plt.figure(figsize = (10,7))\n",
    "\n",
    "ax = sn.heatmap(df_cm, cmap=\"Purples\", annot=True, annot_kws={\"size\":50}, fmt='g')\n",
    "ax.tick_params(axis='both', which='major', labelsize=27)\n",
    "plt.xlabel('Predicted', fontsize = 40) \n",
    "# plt.title(\"KNN Confusion Matrix\", fontsize = 50)\n",
    "plt.ylabel('Actual', fontsize = 40) \n",
    "\n",
    "plt.savefig(\"LSTM Wind Sigmoid Confusion Matrix\", bbox_inches=\"tight\")\n",
    "plt.show()"
   ]
  },
  {
   "cell_type": "code",
   "execution_count": 115,
   "metadata": {
    "scrolled": true
   },
   "outputs": [
    {
     "name": "stdout",
     "output_type": "stream",
     "text": [
      "Epoch 1/30\n",
      "713/713 - 2s - loss: 0.6706 - accuracy: 0.6346\n",
      "Epoch 2/30\n",
      "713/713 - 2s - loss: 0.6008 - accuracy: 0.6852\n",
      "Epoch 3/30\n",
      "713/713 - 2s - loss: 0.6518 - accuracy: 0.6648\n",
      "Epoch 4/30\n",
      "713/713 - 2s - loss: 0.6700 - accuracy: 0.6212\n",
      "Epoch 5/30\n",
      "713/713 - 2s - loss: 0.6430 - accuracy: 0.6381\n",
      "Epoch 6/30\n",
      "713/713 - 2s - loss: 0.6363 - accuracy: 0.6482\n",
      "Epoch 7/30\n",
      "713/713 - 3s - loss: 0.6240 - accuracy: 0.6751\n",
      "Epoch 8/30\n",
      "713/713 - 2s - loss: 0.6155 - accuracy: 0.6702\n",
      "Epoch 9/30\n",
      "713/713 - 2s - loss: 0.6056 - accuracy: 0.6858\n",
      "Epoch 10/30\n",
      "713/713 - 2s - loss: 0.5978 - accuracy: 0.6904\n",
      "Epoch 11/30\n",
      "713/713 - 2s - loss: 0.5924 - accuracy: 0.6916\n",
      "Epoch 12/30\n",
      "713/713 - 2s - loss: 0.5877 - accuracy: 0.6923\n",
      "Epoch 13/30\n",
      "713/713 - 2s - loss: 0.5863 - accuracy: 0.6948\n",
      "Epoch 14/30\n",
      "713/713 - 2s - loss: 0.6185 - accuracy: 0.6709\n",
      "Epoch 15/30\n",
      "713/713 - 2s - loss: 0.5933 - accuracy: 0.6932\n",
      "Epoch 16/30\n",
      "713/713 - 2s - loss: 0.5874 - accuracy: 0.6939\n",
      "Epoch 17/30\n",
      "713/713 - 2s - loss: 0.5879 - accuracy: 0.6927\n",
      "Epoch 18/30\n",
      "713/713 - 2s - loss: 0.5871 - accuracy: 0.6950\n",
      "Epoch 19/30\n",
      "713/713 - 2s - loss: 0.5873 - accuracy: 0.6930\n",
      "Epoch 20/30\n",
      "713/713 - 2s - loss: 0.5859 - accuracy: 0.6980\n",
      "Epoch 21/30\n",
      "713/713 - 2s - loss: 0.5858 - accuracy: 0.6966\n",
      "Epoch 22/30\n",
      "713/713 - 2s - loss: 0.5891 - accuracy: 0.6994\n",
      "Epoch 23/30\n",
      "713/713 - 2s - loss: 0.5872 - accuracy: 0.6979\n",
      "Epoch 24/30\n",
      "713/713 - 2s - loss: 0.5873 - accuracy: 0.6984\n",
      "Epoch 25/30\n",
      "713/713 - 2s - loss: 0.5873 - accuracy: 0.6961\n",
      "Epoch 26/30\n",
      "713/713 - 2s - loss: 0.5854 - accuracy: 0.6953\n",
      "Epoch 27/30\n",
      "713/713 - 2s - loss: 0.5848 - accuracy: 0.6978\n",
      "Epoch 28/30\n",
      "713/713 - 2s - loss: 0.5879 - accuracy: 0.6972\n",
      "Epoch 29/30\n",
      "713/713 - 2s - loss: 0.5867 - accuracy: 0.6985\n",
      "Epoch 30/30\n",
      "713/713 - 2s - loss: 0.5850 - accuracy: 0.6960\n"
     ]
    },
    {
     "data": {
      "text/plain": [
       "<tensorflow.python.keras.callbacks.History at 0x7fbd0e1f2750>"
      ]
     },
     "execution_count": 115,
     "metadata": {},
     "output_type": "execute_result"
    }
   ],
   "source": [
    "model2 = Sequential()\n",
    "model2.add(Bidirectional(LSTM(15)))\n",
    "model2.add(Dense(1))\n",
    "model2.compile(loss='binary_crossentropy', optimizer='adam', metrics=[\"accuracy\"])\n",
    "model2.fit(X_train, y_train, epochs = 30, batch_size = 20, verbose = 2)"
   ]
  },
  {
   "cell_type": "code",
   "execution_count": null,
   "metadata": {},
   "outputs": [],
   "source": []
  }
 ],
 "metadata": {
  "kernelspec": {
   "display_name": "Python 3",
   "language": "python",
   "name": "python3"
  },
  "language_info": {
   "codemirror_mode": {
    "name": "ipython",
    "version": 3
   },
   "file_extension": ".py",
   "mimetype": "text/x-python",
   "name": "python",
   "nbconvert_exporter": "python",
   "pygments_lexer": "ipython3",
   "version": "3.7.4"
  }
 },
 "nbformat": 4,
 "nbformat_minor": 2
}
