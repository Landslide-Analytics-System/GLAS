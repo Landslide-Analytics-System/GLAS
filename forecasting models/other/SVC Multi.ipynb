{
 "cells": [
  {
   "cell_type": "markdown",
   "metadata": {},
   "source": [
    "## SVC Classifier\n",
    "The model predicts the severity of the landslide (or if there will even be one) within the next 2 days, based on weather data from the past 5 days."
   ]
  },
  {
   "cell_type": "code",
   "execution_count": 55,
   "metadata": {},
   "outputs": [],
   "source": [
    "import pandas as pd\n",
    "import numpy as np\n",
    "import matplotlib.pyplot as plt\n",
    "%matplotlib inline\n",
    "import sklearn\n",
    "from sklearn.utils import shuffle\n",
    "import pickle"
   ]
  },
  {
   "cell_type": "code",
   "execution_count": 56,
   "metadata": {},
   "outputs": [
    {
     "name": "stderr",
     "output_type": "stream",
     "text": [
      "/Library/Frameworks/Python.framework/Versions/3.7/lib/python3.7/site-packages/IPython/core/interactiveshell.py:3146: DtypeWarning: Columns (5,8,9,10,11) have mixed types.Specify dtype option on import or set low_memory=False.\n",
      "  interactivity=interactivity, compiler=compiler, result=result)\n"
     ]
    },
    {
     "data": {
      "text/plain": [
       "17808"
      ]
     },
     "execution_count": 56,
     "metadata": {},
     "output_type": "execute_result"
    }
   ],
   "source": [
    "# df = pd.read_csv(\"full_dataset_v1.csv\")\n",
    "df = pd.read_csv(\"dataset.csv\")\n",
    "len(df)"
   ]
  },
  {
   "cell_type": "code",
   "execution_count": 57,
   "metadata": {},
   "outputs": [
    {
     "data": {
      "text/plain": [
       "medium          5594\n",
       "small           2612\n",
       "unknown          834\n",
       "large            679\n",
       "...              359\n",
       "very_large       102\n",
       "Medium            72\n",
       "Unknown           19\n",
       "Large             17\n",
       "Small             10\n",
       "catastrophic       4\n",
       "landslide          2\n",
       "Very_large         1\n",
       "Very...large       1\n",
       "Name: severity, dtype: int64"
      ]
     },
     "execution_count": 57,
     "metadata": {},
     "output_type": "execute_result"
    }
   ],
   "source": [
    "df['severity'].value_counts()"
   ]
  },
  {
   "cell_type": "code",
   "execution_count": 58,
   "metadata": {},
   "outputs": [],
   "source": [
    "# filter by severity. na is for non-landslide data\n",
    "# df = df[df['severity'].isin([\"medium\", \"small\", \"large\", \"very_large\", \"na\"])]\n",
    "# Remove -1 slopes\n",
    "# df = df.loc[~(df.slope == -1)]"
   ]
  },
  {
   "cell_type": "code",
   "execution_count": 59,
   "metadata": {},
   "outputs": [
    {
     "name": "stdout",
     "output_type": "stream",
     "text": [
      "17808\n"
     ]
    }
   ],
   "source": [
    "df['severity'].value_counts()\n",
    "df = shuffle(df)\n",
    "df.reset_index(inplace=True, drop=True)\n",
    "print(len(df))"
   ]
  },
  {
   "cell_type": "code",
   "execution_count": 60,
   "metadata": {},
   "outputs": [
    {
     "data": {
      "text/html": [
       "<div>\n",
       "<style scoped>\n",
       "    .dataframe tbody tr th:only-of-type {\n",
       "        vertical-align: middle;\n",
       "    }\n",
       "\n",
       "    .dataframe tbody tr th {\n",
       "        vertical-align: top;\n",
       "    }\n",
       "\n",
       "    .dataframe thead th {\n",
       "        text-align: right;\n",
       "    }\n",
       "</style>\n",
       "<table border=\"1\" class=\"dataframe\">\n",
       "  <thead>\n",
       "    <tr style=\"text-align: right;\">\n",
       "      <th></th>\n",
       "      <th>humidity9</th>\n",
       "      <th>ARI9</th>\n",
       "      <th>wind9</th>\n",
       "      <th>humidity8</th>\n",
       "      <th>ARI8</th>\n",
       "      <th>wind8</th>\n",
       "      <th>humidity7</th>\n",
       "      <th>ARI7</th>\n",
       "      <th>wind7</th>\n",
       "      <th>humidity6</th>\n",
       "      <th>ARI6</th>\n",
       "      <th>wind6</th>\n",
       "      <th>humidity5</th>\n",
       "      <th>ARI5</th>\n",
       "      <th>wind5</th>\n",
       "      <th>slope</th>\n",
       "      <th>forest2</th>\n",
       "      <th>osm</th>\n",
       "    </tr>\n",
       "  </thead>\n",
       "  <tbody>\n",
       "    <tr>\n",
       "      <th>0</th>\n",
       "      <td>93</td>\n",
       "      <td>0.039688</td>\n",
       "      <td>21</td>\n",
       "      <td>98</td>\n",
       "      <td>0.226000</td>\n",
       "      <td>16</td>\n",
       "      <td>98</td>\n",
       "      <td>3.774060</td>\n",
       "      <td>28</td>\n",
       "      <td>96</td>\n",
       "      <td>1.675710</td>\n",
       "      <td>22</td>\n",
       "      <td>88</td>\n",
       "      <td>0.672030</td>\n",
       "      <td>24</td>\n",
       "      <td>5.334</td>\n",
       "      <td>1</td>\n",
       "      <td>786</td>\n",
       "    </tr>\n",
       "    <tr>\n",
       "      <th>1</th>\n",
       "      <td>98</td>\n",
       "      <td>0.029104</td>\n",
       "      <td>17</td>\n",
       "      <td>99</td>\n",
       "      <td>0.020211</td>\n",
       "      <td>13</td>\n",
       "      <td>59</td>\n",
       "      <td>0.014849</td>\n",
       "      <td>31</td>\n",
       "      <td>98</td>\n",
       "      <td>0.198439</td>\n",
       "      <td>30</td>\n",
       "      <td>99</td>\n",
       "      <td>0.380342</td>\n",
       "      <td>15</td>\n",
       "      <td>1.168</td>\n",
       "      <td>1</td>\n",
       "      <td>3466</td>\n",
       "    </tr>\n",
       "    <tr>\n",
       "      <th>2</th>\n",
       "      <td>99</td>\n",
       "      <td>1.399766</td>\n",
       "      <td>15</td>\n",
       "      <td>99</td>\n",
       "      <td>0.809998</td>\n",
       "      <td>11</td>\n",
       "      <td>100</td>\n",
       "      <td>1.632222</td>\n",
       "      <td>11</td>\n",
       "      <td>99</td>\n",
       "      <td>2.085284</td>\n",
       "      <td>18</td>\n",
       "      <td>99</td>\n",
       "      <td>0.750174</td>\n",
       "      <td>7</td>\n",
       "      <td>20.933</td>\n",
       "      <td>1</td>\n",
       "      <td>2721</td>\n",
       "    </tr>\n",
       "    <tr>\n",
       "      <th>3</th>\n",
       "      <td>96</td>\n",
       "      <td>1.949418</td>\n",
       "      <td>7</td>\n",
       "      <td>96</td>\n",
       "      <td>2.465483</td>\n",
       "      <td>10</td>\n",
       "      <td>97</td>\n",
       "      <td>2.421954</td>\n",
       "      <td>7</td>\n",
       "      <td>96</td>\n",
       "      <td>3.307102</td>\n",
       "      <td>12</td>\n",
       "      <td>97</td>\n",
       "      <td>2.434339</td>\n",
       "      <td>9</td>\n",
       "      <td>4.955</td>\n",
       "      <td>1</td>\n",
       "      <td>59954</td>\n",
       "    </tr>\n",
       "    <tr>\n",
       "      <th>4</th>\n",
       "      <td>98</td>\n",
       "      <td>1.312565</td>\n",
       "      <td>7</td>\n",
       "      <td>99</td>\n",
       "      <td>0.458217</td>\n",
       "      <td>10</td>\n",
       "      <td>97</td>\n",
       "      <td>2.226045</td>\n",
       "      <td>5</td>\n",
       "      <td>98</td>\n",
       "      <td>6.133194</td>\n",
       "      <td>8</td>\n",
       "      <td>98</td>\n",
       "      <td>12.797939</td>\n",
       "      <td>6</td>\n",
       "      <td>26.444</td>\n",
       "      <td>1</td>\n",
       "      <td>3519</td>\n",
       "    </tr>\n",
       "    <tr>\n",
       "      <th>...</th>\n",
       "      <td>...</td>\n",
       "      <td>...</td>\n",
       "      <td>...</td>\n",
       "      <td>...</td>\n",
       "      <td>...</td>\n",
       "      <td>...</td>\n",
       "      <td>...</td>\n",
       "      <td>...</td>\n",
       "      <td>...</td>\n",
       "      <td>...</td>\n",
       "      <td>...</td>\n",
       "      <td>...</td>\n",
       "      <td>...</td>\n",
       "      <td>...</td>\n",
       "      <td>...</td>\n",
       "      <td>...</td>\n",
       "      <td>...</td>\n",
       "      <td>...</td>\n",
       "    </tr>\n",
       "    <tr>\n",
       "      <th>17803</th>\n",
       "      <td>93</td>\n",
       "      <td>4.445037</td>\n",
       "      <td>6</td>\n",
       "      <td>94</td>\n",
       "      <td>4.571782</td>\n",
       "      <td>8</td>\n",
       "      <td>97</td>\n",
       "      <td>33.132867</td>\n",
       "      <td>27</td>\n",
       "      <td>95</td>\n",
       "      <td>9.539085</td>\n",
       "      <td>20</td>\n",
       "      <td>94</td>\n",
       "      <td>4.802067</td>\n",
       "      <td>15</td>\n",
       "      <td>33.675</td>\n",
       "      <td>1</td>\n",
       "      <td>2816</td>\n",
       "    </tr>\n",
       "    <tr>\n",
       "      <th>17804</th>\n",
       "      <td>100</td>\n",
       "      <td>2.384951</td>\n",
       "      <td>9</td>\n",
       "      <td>100</td>\n",
       "      <td>2.353811</td>\n",
       "      <td>10</td>\n",
       "      <td>100</td>\n",
       "      <td>1.552674</td>\n",
       "      <td>7</td>\n",
       "      <td>100</td>\n",
       "      <td>1.713802</td>\n",
       "      <td>8</td>\n",
       "      <td>100</td>\n",
       "      <td>0.601693</td>\n",
       "      <td>4</td>\n",
       "      <td>21.648</td>\n",
       "      <td>1</td>\n",
       "      <td>14265</td>\n",
       "    </tr>\n",
       "    <tr>\n",
       "      <th>17805</th>\n",
       "      <td>91</td>\n",
       "      <td>2.759326</td>\n",
       "      <td>22</td>\n",
       "      <td>88</td>\n",
       "      <td>3.380598</td>\n",
       "      <td>18</td>\n",
       "      <td>88</td>\n",
       "      <td>1.007805</td>\n",
       "      <td>6</td>\n",
       "      <td>80</td>\n",
       "      <td>0.464696</td>\n",
       "      <td>9</td>\n",
       "      <td>90</td>\n",
       "      <td>0.273038</td>\n",
       "      <td>15</td>\n",
       "      <td>22.361</td>\n",
       "      <td>1</td>\n",
       "      <td>16879</td>\n",
       "    </tr>\n",
       "    <tr>\n",
       "      <th>17806</th>\n",
       "      <td>83</td>\n",
       "      <td>0.023886</td>\n",
       "      <td>41</td>\n",
       "      <td>90</td>\n",
       "      <td>0.017549</td>\n",
       "      <td>31</td>\n",
       "      <td>76</td>\n",
       "      <td>0.000000</td>\n",
       "      <td>25</td>\n",
       "      <td>48</td>\n",
       "      <td>0.000000</td>\n",
       "      <td>61</td>\n",
       "      <td>51</td>\n",
       "      <td>0.000000</td>\n",
       "      <td>37</td>\n",
       "      <td>0.893</td>\n",
       "      <td>0</td>\n",
       "      <td>45</td>\n",
       "    </tr>\n",
       "    <tr>\n",
       "      <th>17807</th>\n",
       "      <td>96</td>\n",
       "      <td>5.515222</td>\n",
       "      <td>6</td>\n",
       "      <td>96</td>\n",
       "      <td>3.816246</td>\n",
       "      <td>6</td>\n",
       "      <td>98</td>\n",
       "      <td>4.811781</td>\n",
       "      <td>6</td>\n",
       "      <td>98</td>\n",
       "      <td>4.831113</td>\n",
       "      <td>6</td>\n",
       "      <td>96</td>\n",
       "      <td>3.010932</td>\n",
       "      <td>6</td>\n",
       "      <td>11.313</td>\n",
       "      <td>1</td>\n",
       "      <td>7936</td>\n",
       "    </tr>\n",
       "  </tbody>\n",
       "</table>\n",
       "<p>16489 rows × 18 columns</p>\n",
       "</div>"
      ],
      "text/plain": [
       "       humidity9      ARI9  wind9  humidity8      ARI8  wind8  humidity7  \\\n",
       "0             93  0.039688     21         98  0.226000     16         98   \n",
       "1             98  0.029104     17         99  0.020211     13         59   \n",
       "2             99  1.399766     15         99  0.809998     11        100   \n",
       "3             96  1.949418      7         96  2.465483     10         97   \n",
       "4             98  1.312565      7         99  0.458217     10         97   \n",
       "...          ...       ...    ...        ...       ...    ...        ...   \n",
       "17803         93  4.445037      6         94  4.571782      8         97   \n",
       "17804        100  2.384951      9        100  2.353811     10        100   \n",
       "17805         91  2.759326     22         88  3.380598     18         88   \n",
       "17806         83  0.023886     41         90  0.017549     31         76   \n",
       "17807         96  5.515222      6         96  3.816246      6         98   \n",
       "\n",
       "            ARI7  wind7  humidity6      ARI6  wind6  humidity5       ARI5  \\\n",
       "0       3.774060     28         96  1.675710     22         88   0.672030   \n",
       "1       0.014849     31         98  0.198439     30         99   0.380342   \n",
       "2       1.632222     11         99  2.085284     18         99   0.750174   \n",
       "3       2.421954      7         96  3.307102     12         97   2.434339   \n",
       "4       2.226045      5         98  6.133194      8         98  12.797939   \n",
       "...          ...    ...        ...       ...    ...        ...        ...   \n",
       "17803  33.132867     27         95  9.539085     20         94   4.802067   \n",
       "17804   1.552674      7        100  1.713802      8        100   0.601693   \n",
       "17805   1.007805      6         80  0.464696      9         90   0.273038   \n",
       "17806   0.000000     25         48  0.000000     61         51   0.000000   \n",
       "17807   4.811781      6         98  4.831113      6         96   3.010932   \n",
       "\n",
       "       wind5   slope  forest2    osm  \n",
       "0         24   5.334        1    786  \n",
       "1         15   1.168        1   3466  \n",
       "2          7  20.933        1   2721  \n",
       "3          9   4.955        1  59954  \n",
       "4          6  26.444        1   3519  \n",
       "...      ...     ...      ...    ...  \n",
       "17803     15  33.675        1   2816  \n",
       "17804      4  21.648        1  14265  \n",
       "17805     15  22.361        1  16879  \n",
       "17806     37   0.893        0     45  \n",
       "17807      6  11.313        1   7936  \n",
       "\n",
       "[16489 rows x 18 columns]"
      ]
     },
     "execution_count": 60,
     "metadata": {},
     "output_type": "execute_result"
    }
   ],
   "source": [
    "df = df.query(\"(landslide == 0) | (landslide == 1 & (severity == 'medium' | severity == 'small' | severity == 'large' | severity=='very_large'))\")\n",
    "df\n",
    "X = df.copy()\n",
    "y = []\n",
    "for idx, row in X.iterrows():\n",
    "    if row.landslide == 0:\n",
    "        y.append(0)\n",
    "    elif row.severity == 'small':\n",
    "        y.append(1)\n",
    "    elif row.severity == 'medium':\n",
    "        y.append(2)\n",
    "    else:\n",
    "        y.append(3)\n",
    "columns=[]\n",
    "for i in range(9, 4, -1):\n",
    "    columns.append('humidity' + str(i))\n",
    "    columns.append('ARI' + str(i))\n",
    "    columns.append('wind' + str(i))\n",
    "columns.append('slope')\n",
    "columns.append('forest2')\n",
    "columns.append('osm')\n",
    "X = X[columns]\n",
    "X"
   ]
  },
  {
   "cell_type": "markdown",
   "metadata": {},
   "source": [
    "## Scaling"
   ]
  },
  {
   "cell_type": "code",
   "execution_count": 61,
   "metadata": {},
   "outputs": [],
   "source": [
    "from sklearn.model_selection import train_test_split\n",
    "from sklearn.preprocessing import StandardScaler\n",
    "X_train, X_test, y_train, y_test = train_test_split(X, y, test_size = 0.2)\n",
    "\n",
    "scaler = StandardScaler()\n",
    "scaler.fit(X_train)\n",
    "\n",
    "X_train = scaler.transform(X_train)\n",
    "X_test = scaler.transform(X_test)"
   ]
  },
  {
   "cell_type": "markdown",
   "metadata": {},
   "source": [
    "## PCA"
   ]
  },
  {
   "cell_type": "code",
   "execution_count": 62,
   "metadata": {},
   "outputs": [
    {
     "data": {
      "text/plain": [
       "array([0.36587057, 0.16230077, 0.13486293, 0.05835025, 0.05509266,\n",
       "       0.04061275, 0.03620369, 0.02780216, 0.02575913])"
      ]
     },
     "execution_count": 62,
     "metadata": {},
     "output_type": "execute_result"
    }
   ],
   "source": [
    "from sklearn.decomposition import PCA\n",
    "pca = PCA(0.9)\n",
    "\n",
    "principalComponents = pca.fit_transform(X_train)\n",
    "pca.explained_variance_ratio_"
   ]
  },
  {
   "cell_type": "code",
   "execution_count": 63,
   "metadata": {},
   "outputs": [],
   "source": [
    "X_train = pca.transform(X_train)\n",
    "X_test = pca.transform(X_test)"
   ]
  },
  {
   "cell_type": "code",
   "execution_count": 64,
   "metadata": {},
   "outputs": [],
   "source": [
    "from sklearn.svm import SVC\n",
    "svclassifier = SVC(kernel='rbf', verbose = True)"
   ]
  },
  {
   "cell_type": "code",
   "execution_count": 65,
   "metadata": {},
   "outputs": [
    {
     "name": "stdout",
     "output_type": "stream",
     "text": [
      "[LibSVM]"
     ]
    },
    {
     "data": {
      "text/plain": [
       "SVC(verbose=True)"
      ]
     },
     "execution_count": 65,
     "metadata": {},
     "output_type": "execute_result"
    }
   ],
   "source": [
    "svclassifier.fit(X_train, y_train)"
   ]
  },
  {
   "cell_type": "code",
   "execution_count": 66,
   "metadata": {},
   "outputs": [
    {
     "name": "stdout",
     "output_type": "stream",
     "text": [
      "ACCURACY: 0.6813220133414191\n"
     ]
    }
   ],
   "source": [
    "from sklearn.metrics import accuracy_score\n",
    "pred = svclassifier.predict(X_test)\n",
    "print(\"ACCURACY:\" ,accuracy_score(pred, y_test))"
   ]
  },
  {
   "cell_type": "markdown",
   "metadata": {},
   "source": [
    "## Testing gamma and c"
   ]
  },
  {
   "cell_type": "code",
   "execution_count": 67,
   "metadata": {},
   "outputs": [
    {
     "name": "stdout",
     "output_type": "stream",
     "text": [
      "[LibSVM]1 0.1 : 0.6825348696179503\n",
      "[LibSVM]1 1 : 0.6646452395391146\n",
      "[LibSVM]1 10 : 0.5151607034566403\n",
      "[LibSVM]1 100 : 0.4681625227410552\n",
      "[LibSVM]10 0.1 : 0.6849605821710127\n",
      "[LibSVM]10 1 : 0.6315949060036385\n",
      "[LibSVM]10 10 : 0.5251667677380231\n",
      "[LibSVM]10 100 : 0.47028502122498483\n",
      "[LibSVM]100 0.1 : 0.6755609460278957\n",
      "[LibSVM]100 1 : 0.5991510006064281\n",
      "[LibSVM]100 10 : 0.5254699818071559\n",
      "[LibSVM]100 100 : 0.469981807155852\n"
     ]
    }
   ],
   "source": [
    "from sklearn.metrics import accuracy_score\n",
    "C_range =[1, 10, 100]\n",
    "gamma_range = [0.1, 1, 10, 100]\n",
    "for c in C_range:\n",
    "    for g in gamma_range:\n",
    "        svc2 = SVC(kernel='rbf', gamma=g,C=c, verbose = True)\n",
    "        svc2.fit(X_train, y_train)\n",
    "        print(c, g, \":\",accuracy_score(y_test, svc2.predict(X_test)))"
   ]
  },
  {
   "cell_type": "code",
   "execution_count": 68,
   "metadata": {},
   "outputs": [
    {
     "name": "stdout",
     "output_type": "stream",
     "text": [
      "[LibSVM]"
     ]
    },
    {
     "data": {
      "text/plain": [
       "0.6849605821710127"
      ]
     },
     "execution_count": 68,
     "metadata": {},
     "output_type": "execute_result"
    }
   ],
   "source": [
    "svc2 = SVC(kernel='rbf', gamma=0.1,C=10, verbose = True)\n",
    "svc2.fit(X_train, y_train)\n",
    "accuracy_score(y_test, svc2.predict(X_test))"
   ]
  },
  {
   "cell_type": "code",
   "execution_count": 44,
   "metadata": {},
   "outputs": [
    {
     "name": "stdout",
     "output_type": "stream",
     "text": [
      "ACCURACY: 0.6885991510006064\n"
     ]
    }
   ],
   "source": [
    "pred = svc2.predict(X_test)\n",
    "print(\"ACCURACY:\" ,accuracy_score(pred, y_test))"
   ]
  },
  {
   "cell_type": "markdown",
   "metadata": {},
   "source": [
    "## Confusion Matrix"
   ]
  },
  {
   "cell_type": "code",
   "execution_count": 1,
   "metadata": {},
   "outputs": [
    {
     "data": {
      "text/plain": [
       "[[1336, 14, 153, 1], [119, 43, 358, 1], [204, 36, 892, 3], [33, 2, 103, 0]]"
      ]
     },
     "execution_count": 1,
     "metadata": {},
     "output_type": "execute_result"
    }
   ],
   "source": [
    "from sklearn.metrics import confusion_matrix\n",
    "array = [[1336,   14,  153,    1],\n",
    "       [ 119,   43,  358,    1],\n",
    "       [ 204,   36,  892,    3],\n",
    "       [  33,    2,  103,    0]]\n",
    "array"
   ]
  },
  {
   "cell_type": "code",
   "execution_count": 2,
   "metadata": {},
   "outputs": [
    {
     "data": {
      "image/png": "[encoded data removed]",
      "text/plain": [
       "<Figure size 720x504 with 2 Axes>"
      ]
     },
     "metadata": {
      "needs_background": "light"
     },
     "output_type": "display_data"
    }
   ],
   "source": [
    "import seaborn as sn\n",
    "import pandas as pd\n",
    "import matplotlib.pyplot as plt\n",
    "binary = False\n",
    "if binary:\n",
    "    df_cm = pd.DataFrame(array, index = [i for i in [\"No\", \"Yes\"]],\n",
    "                    columns = [i for i in [\"No\", \"Yes\"]])\n",
    "else:\n",
    "    df_cm = pd.DataFrame(array, index = [i for i in [\"None\", \"Small\", \"Medium\", \"Large\"]],\n",
    "                  columns = [i for i in [\"None\", \"Small\", \"Medium\", \"Large\"]])\n",
    "\n",
    "plt.figure(figsize = (10,7))\n",
    "\n",
    "ax = sn.heatmap(df_cm, cmap=\"Reds\", annot=True, annot_kws={\"size\":35}, fmt='g')\n",
    "ax.tick_params(axis='both', which='major', labelsize=23)\n",
    "plt.xlabel('Predicted', fontsize = 35) \n",
    "# plt.title(\"KNN Confusion Matrix\", fontsize = 50)\n",
    "plt.ylabel('Actual', fontsize = 40) \n",
    "plt.savefig(\"SVC Multi Matrix\", bbox_inches=\"tight\")\n",
    "\n",
    "plt.show()"
   ]
  },
  {
   "cell_type": "code",
   "execution_count": null,
   "metadata": {},
   "outputs": [],
   "source": []
  }
 ],
 "metadata": {
  "kernelspec": {
   "display_name": "Python 3",
   "language": "python",
   "name": "python3"
  },
  "language_info": {
   "codemirror_mode": {
    "name": "ipython",
    "version": 3
   },
   "file_extension": ".py",
   "mimetype": "text/x-python",
   "name": "python",
   "nbconvert_exporter": "python",
   "pygments_lexer": "ipython3",
   "version": "3.7.4"
  }
 },
 "nbformat": 4,
 "nbformat_minor": 4
}
