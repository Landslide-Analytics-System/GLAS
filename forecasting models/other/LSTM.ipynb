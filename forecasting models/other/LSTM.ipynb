{
 "cells": [
  {
   "cell_type": "code",
   "execution_count": 13,
   "metadata": {},
   "outputs": [],
   "source": [
    "import matplotlib.pyplot as plt\n",
    "import pandas as pd\n",
    "import numpy as np\n",
    "from sklearn.utils import shuffle\n",
    "import sklearn\n",
    "import os\n",
    "%matplotlib inline\n",
    "from tensorflow.keras import Sequential\n",
    "import tensorflow as tf\n",
    "import tensorflow.keras.layers\n",
    "from tensorflow.keras.layers import Bidirectional, LSTM, Dense\n",
    "import tensorflow.keras.losses"
   ]
  },
  {
   "cell_type": "code",
   "execution_count": 14,
   "metadata": {},
   "outputs": [
    {
     "output_type": "stream",
     "name": "stderr",
     "text": [
      "/Users/shreyjoshi/opt/anaconda3/envs/glas/lib/python3.8/site-packages/IPython/core/interactiveshell.py:3441: DtypeWarning: Columns (9,10,11,12) have mixed types.Specify dtype option on import or set low_memory=False.\n  exec(code_obj, self.user_global_ns, self.user_ns)\n"
     ]
    }
   ],
   "source": [
    "df = pd.read_csv(\"../../GLIF_dataset.csv\")"
   ]
  },
  {
   "cell_type": "code",
   "execution_count": 16,
   "metadata": {},
   "outputs": [
    {
     "output_type": "display_data",
     "data": {
      "text/plain": "medium       5522\nsmall        2596\nunknown       827\nlarge         778\n...           357\nUnknown        19\nlandslide       2\nName: severity, dtype: int64"
     },
     "metadata": {}
    }
   ],
   "source": [
    "# df = df[df['severity'].isin([\"medium\", \"small\", \"large\", \"very_large\", \"na\"])]\n",
    "display(df['severity'].value_counts())\n",
    "df = shuffle(df)\n",
    "df.reset_index(inplace=True, drop=True)"
   ]
  },
  {
   "cell_type": "code",
   "execution_count": 17,
   "metadata": {},
   "outputs": [],
   "source": [
    "def convert(field, func):\n",
    "\tglobal df\n",
    "\tdf[field] = df[field].apply(func)"
   ]
  },
  {
   "cell_type": "code",
   "execution_count": 18,
   "metadata": {},
   "outputs": [
    {
     "output_type": "stream",
     "name": "stdout",
     "text": [
      "float64\nfloat64\nfloat64\nfloat64\nfloat64\nfloat64\nfloat64\n"
     ]
    },
    {
     "output_type": "execute_result",
     "data": {
      "text/plain": [
       "       humidity9       ARI9  humidity8       ARI8  humidity7       ARI7  \\\n",
       "0             88   3.213674         68   1.920537         92   5.646332   \n",
       "1             99  13.870376         99  15.023235         99   9.013662   \n",
       "2             47   0.818951         48   0.464330         49   0.063222   \n",
       "3            100   8.423505        100  13.015446        100   6.876906   \n",
       "4             87  18.179277         90  13.880922         91  14.968099   \n",
       "...          ...        ...        ...        ...        ...        ...   \n",
       "20103         99   5.157585         84   1.470840         91   0.703045   \n",
       "20104         87   0.272873         96   0.221388         96   0.049610   \n",
       "20105         57   0.000000         56   0.000000         50   0.330732   \n",
       "20106         86   0.000000         88   0.000000         87   0.000000   \n",
       "20107         71   2.244169         74   2.844193         73   2.980820   \n",
       "\n",
       "       humidity6       ARI6  humidity5       ARI5  humidity4       ARI4  \\\n",
       "0             95  44.401469         92  21.932705         87   9.438918   \n",
       "1             99   7.728608         99  11.283893         99  19.534317   \n",
       "2             46   0.040498         53   0.000000         52   0.000000   \n",
       "3             96   2.691581         98   2.473345        100   6.423965   \n",
       "4             85  34.454695         86  34.862513         86  13.866170   \n",
       "...          ...        ...        ...        ...        ...        ...   \n",
       "20103         83   0.413783         92   0.471531         99   0.373742   \n",
       "20104         91   0.485074         96  14.349644         96  10.229401   \n",
       "20105         55   0.479562         55   0.135968         68   0.064768   \n",
       "20106         87   0.000000         83   0.926050         88   0.892977   \n",
       "20107         73   3.805118         71   3.102492         72   1.064551   \n",
       "\n",
       "       humidity3       ARI3  \n",
       "0             92  23.445983  \n",
       "1             99  20.903275  \n",
       "2             51   0.000000  \n",
       "3            100   3.494707  \n",
       "4             89  20.622561  \n",
       "...          ...        ...  \n",
       "20103         91   0.141517  \n",
       "20104         95   3.466717  \n",
       "20105         62   0.038034  \n",
       "20106         82   0.665139  \n",
       "20107         68   0.552349  \n",
       "\n",
       "[20108 rows x 14 columns]"
      ],
      "text/html": "<div>\n<style scoped>\n    .dataframe tbody tr th:only-of-type {\n        vertical-align: middle;\n    }\n\n    .dataframe tbody tr th {\n        vertical-align: top;\n    }\n\n    .dataframe thead th {\n        text-align: right;\n    }\n</style>\n<table border=\"1\" class=\"dataframe\">\n  <thead>\n    <tr style=\"text-align: right;\">\n      <th></th>\n      <th>humidity9</th>\n      <th>ARI9</th>\n      <th>humidity8</th>\n      <th>ARI8</th>\n      <th>humidity7</th>\n      <th>ARI7</th>\n      <th>humidity6</th>\n      <th>ARI6</th>\n      <th>humidity5</th>\n      <th>ARI5</th>\n      <th>humidity4</th>\n      <th>ARI4</th>\n      <th>humidity3</th>\n      <th>ARI3</th>\n    </tr>\n  </thead>\n  <tbody>\n    <tr>\n      <th>0</th>\n      <td>88</td>\n      <td>3.213674</td>\n      <td>68</td>\n      <td>1.920537</td>\n      <td>92</td>\n      <td>5.646332</td>\n      <td>95</td>\n      <td>44.401469</td>\n      <td>92</td>\n      <td>21.932705</td>\n      <td>87</td>\n      <td>9.438918</td>\n      <td>92</td>\n      <td>23.445983</td>\n    </tr>\n    <tr>\n      <th>1</th>\n      <td>99</td>\n      <td>13.870376</td>\n      <td>99</td>\n      <td>15.023235</td>\n      <td>99</td>\n      <td>9.013662</td>\n      <td>99</td>\n      <td>7.728608</td>\n      <td>99</td>\n      <td>11.283893</td>\n      <td>99</td>\n      <td>19.534317</td>\n      <td>99</td>\n      <td>20.903275</td>\n    </tr>\n    <tr>\n      <th>2</th>\n      <td>47</td>\n      <td>0.818951</td>\n      <td>48</td>\n      <td>0.464330</td>\n      <td>49</td>\n      <td>0.063222</td>\n      <td>46</td>\n      <td>0.040498</td>\n      <td>53</td>\n      <td>0.000000</td>\n      <td>52</td>\n      <td>0.000000</td>\n      <td>51</td>\n      <td>0.000000</td>\n    </tr>\n    <tr>\n      <th>3</th>\n      <td>100</td>\n      <td>8.423505</td>\n      <td>100</td>\n      <td>13.015446</td>\n      <td>100</td>\n      <td>6.876906</td>\n      <td>96</td>\n      <td>2.691581</td>\n      <td>98</td>\n      <td>2.473345</td>\n      <td>100</td>\n      <td>6.423965</td>\n      <td>100</td>\n      <td>3.494707</td>\n    </tr>\n    <tr>\n      <th>4</th>\n      <td>87</td>\n      <td>18.179277</td>\n      <td>90</td>\n      <td>13.880922</td>\n      <td>91</td>\n      <td>14.968099</td>\n      <td>85</td>\n      <td>34.454695</td>\n      <td>86</td>\n      <td>34.862513</td>\n      <td>86</td>\n      <td>13.866170</td>\n      <td>89</td>\n      <td>20.622561</td>\n    </tr>\n    <tr>\n      <th>...</th>\n      <td>...</td>\n      <td>...</td>\n      <td>...</td>\n      <td>...</td>\n      <td>...</td>\n      <td>...</td>\n      <td>...</td>\n      <td>...</td>\n      <td>...</td>\n      <td>...</td>\n      <td>...</td>\n      <td>...</td>\n      <td>...</td>\n      <td>...</td>\n    </tr>\n    <tr>\n      <th>20103</th>\n      <td>99</td>\n      <td>5.157585</td>\n      <td>84</td>\n      <td>1.470840</td>\n      <td>91</td>\n      <td>0.703045</td>\n      <td>83</td>\n      <td>0.413783</td>\n      <td>92</td>\n      <td>0.471531</td>\n      <td>99</td>\n      <td>0.373742</td>\n      <td>91</td>\n      <td>0.141517</td>\n    </tr>\n    <tr>\n      <th>20104</th>\n      <td>87</td>\n      <td>0.272873</td>\n      <td>96</td>\n      <td>0.221388</td>\n      <td>96</td>\n      <td>0.049610</td>\n      <td>91</td>\n      <td>0.485074</td>\n      <td>96</td>\n      <td>14.349644</td>\n      <td>96</td>\n      <td>10.229401</td>\n      <td>95</td>\n      <td>3.466717</td>\n    </tr>\n    <tr>\n      <th>20105</th>\n      <td>57</td>\n      <td>0.000000</td>\n      <td>56</td>\n      <td>0.000000</td>\n      <td>50</td>\n      <td>0.330732</td>\n      <td>55</td>\n      <td>0.479562</td>\n      <td>55</td>\n      <td>0.135968</td>\n      <td>68</td>\n      <td>0.064768</td>\n      <td>62</td>\n      <td>0.038034</td>\n    </tr>\n    <tr>\n      <th>20106</th>\n      <td>86</td>\n      <td>0.000000</td>\n      <td>88</td>\n      <td>0.000000</td>\n      <td>87</td>\n      <td>0.000000</td>\n      <td>87</td>\n      <td>0.000000</td>\n      <td>83</td>\n      <td>0.926050</td>\n      <td>88</td>\n      <td>0.892977</td>\n      <td>82</td>\n      <td>0.665139</td>\n    </tr>\n    <tr>\n      <th>20107</th>\n      <td>71</td>\n      <td>2.244169</td>\n      <td>74</td>\n      <td>2.844193</td>\n      <td>73</td>\n      <td>2.980820</td>\n      <td>73</td>\n      <td>3.805118</td>\n      <td>71</td>\n      <td>3.102492</td>\n      <td>72</td>\n      <td>1.064551</td>\n      <td>68</td>\n      <td>0.552349</td>\n    </tr>\n  </tbody>\n</table>\n<p>20108 rows × 14 columns</p>\n</div>"
     },
     "metadata": {},
     "execution_count": 18
    }
   ],
   "source": [
    "X = df.copy()\n",
    "y = X.landslide\n",
    "columns=[]\n",
    "for i in range(9, 2, -1):\n",
    "    columns.append('humidity' + str(i))\n",
    "    columns.append('ARI' + str(i))\n",
    "X = X[columns]\n",
    "for i in range(9, 2, -1):\n",
    "#     X['ARI' + str(i)] = X['ARI' + str(i)].apply(float)\n",
    "    print(X['ARI' + str(i)].dtypes)\n",
    "X"
   ]
  },
  {
   "cell_type": "code",
   "execution_count": 19,
   "metadata": {},
   "outputs": [
    {
     "output_type": "execute_result",
     "data": {
      "text/plain": [
       "1    10101\n",
       "0    10007\n",
       "Name: landslide, dtype: int64"
      ]
     },
     "metadata": {},
     "execution_count": 19
    }
   ],
   "source": [
    "y.value_counts()"
   ]
  },
  {
   "cell_type": "code",
   "execution_count": 39,
   "metadata": {},
   "outputs": [
    {
     "output_type": "stream",
     "name": "stdout",
     "text": [
      "(16086, 14)\n(16086,)\n(4022, 14)\n(4022,)\n"
     ]
    }
   ],
   "source": [
    "from sklearn.model_selection import train_test_split\n",
    "from sklearn.preprocessing import StandardScaler\n",
    "X_train, X_test, y_train, y_test = train_test_split(X, y, test_size = 0.2)\n",
    "\n",
    "# scaler = StandardScaler()\n",
    "# scaler.fit(X_train)\n",
    "\n",
    "# X_train = scaler.transform(X_train)\n",
    "# X_test = scaler.transform(X_test)\n",
    "X_train = np.array(X_train)\n",
    "X_test = np.array(X_test)\n",
    "\n",
    "print(X_train.shape)\n",
    "print(y_train.shape)\n",
    "print(X_test.shape)\n",
    "print(y_test.shape)"
   ]
  },
  {
   "cell_type": "code",
   "execution_count": 41,
   "metadata": {},
   "outputs": [
    {
     "output_type": "stream",
     "name": "stdout",
     "text": [
      "(16086, 7, 2)\n(16086,)\n(4022, 7, 2)\n(4022,)\n"
     ]
    }
   ],
   "source": [
    "# y_train = np.array(y_train)\n",
    "# y_test = np.array(y_test)\n",
    "# len(X_train) # of batches\n",
    "# 5 timesteps (days 7 - 3)\n",
    "# 2 features per timestep\n",
    "X_train=X_train.reshape((len(X_train), 7, 2))\n",
    "X_test=X_test.reshape((len(X_test), 7, 2))\n",
    "print(X_train.shape)\n",
    "print(y_train.shape)\n",
    "print(X_test.shape)\n",
    "print(y_test.shape)\n",
    "X_train[0]\n",
    "\n",
    "X_train = tf.convert_to_tensor(X_train)\n",
    "X_test = tf.convert_to_tensor(X_test)\n",
    "y_train = tf.convert_to_tensor(y_train)\n",
    "y_test = tf.convert_to_tensor(y_test)\n"
   ]
  },
  {
   "cell_type": "code",
   "execution_count": 42,
   "metadata": {
    "scrolled": true
   },
   "outputs": [
    {
     "output_type": "stream",
     "name": "stdout",
     "text": [
      "Epoch 1/15\n"
     ]
    },
    {
     "output_type": "error",
     "ename": "NotImplementedError",
     "evalue": "in user code:\n\n    /Users/shreyjoshi/opt/anaconda3/envs/glas/lib/python3.8/site-packages/tensorflow/python/keras/engine/training.py:805 train_function  *\n        return step_function(self, iterator)\n    /Users/shreyjoshi/opt/anaconda3/envs/glas/lib/python3.8/site-packages/tensorflow/python/keras/engine/training.py:795 step_function  **\n        outputs = model.distribute_strategy.run(run_step, args=(data,))\n    /Users/shreyjoshi/opt/anaconda3/envs/glas/lib/python3.8/site-packages/tensorflow/python/distribute/distribute_lib.py:1259 run\n        return self._extended.call_for_each_replica(fn, args=args, kwargs=kwargs)\n    /Users/shreyjoshi/opt/anaconda3/envs/glas/lib/python3.8/site-packages/tensorflow/python/distribute/distribute_lib.py:2730 call_for_each_replica\n        return self._call_for_each_replica(fn, args, kwargs)\n    /Users/shreyjoshi/opt/anaconda3/envs/glas/lib/python3.8/site-packages/tensorflow/python/distribute/distribute_lib.py:3417 _call_for_each_replica\n        return fn(*args, **kwargs)\n    /Users/shreyjoshi/opt/anaconda3/envs/glas/lib/python3.8/site-packages/tensorflow/python/keras/engine/training.py:788 run_step  **\n        outputs = model.train_step(data)\n    /Users/shreyjoshi/opt/anaconda3/envs/glas/lib/python3.8/site-packages/tensorflow/python/keras/engine/training.py:754 train_step\n        y_pred = self(x, training=True)\n    /Users/shreyjoshi/opt/anaconda3/envs/glas/lib/python3.8/site-packages/tensorflow/python/keras/engine/base_layer.py:1012 __call__\n        outputs = call_fn(inputs, *args, **kwargs)\n    /Users/shreyjoshi/opt/anaconda3/envs/glas/lib/python3.8/site-packages/tensorflow/python/keras/engine/sequential.py:389 call\n        outputs = layer(inputs, **kwargs)\n    /Users/shreyjoshi/opt/anaconda3/envs/glas/lib/python3.8/site-packages/tensorflow/python/keras/layers/wrappers.py:539 __call__\n        return super(Bidirectional, self).__call__(inputs, **kwargs)\n    /Users/shreyjoshi/opt/anaconda3/envs/glas/lib/python3.8/site-packages/tensorflow/python/keras/engine/base_layer.py:1012 __call__\n        outputs = call_fn(inputs, *args, **kwargs)\n    /Users/shreyjoshi/opt/anaconda3/envs/glas/lib/python3.8/site-packages/tensorflow/python/keras/layers/wrappers.py:652 call\n        y = self.forward_layer(forward_inputs,\n    /Users/shreyjoshi/opt/anaconda3/envs/glas/lib/python3.8/site-packages/tensorflow/python/keras/layers/recurrent.py:660 __call__\n        return super(RNN, self).__call__(inputs, **kwargs)\n    /Users/shreyjoshi/opt/anaconda3/envs/glas/lib/python3.8/site-packages/tensorflow/python/keras/engine/base_layer.py:1012 __call__\n        outputs = call_fn(inputs, *args, **kwargs)\n    /Users/shreyjoshi/opt/anaconda3/envs/glas/lib/python3.8/site-packages/tensorflow/python/keras/layers/recurrent_v2.py:1157 call\n        inputs, initial_state, _ = self._process_inputs(inputs, initial_state, None)\n    /Users/shreyjoshi/opt/anaconda3/envs/glas/lib/python3.8/site-packages/tensorflow/python/keras/layers/recurrent.py:859 _process_inputs\n        initial_state = self.get_initial_state(inputs)\n    /Users/shreyjoshi/opt/anaconda3/envs/glas/lib/python3.8/site-packages/tensorflow/python/keras/layers/recurrent.py:642 get_initial_state\n        init_state = get_initial_state_fn(\n    /Users/shreyjoshi/opt/anaconda3/envs/glas/lib/python3.8/site-packages/tensorflow/python/keras/layers/recurrent.py:2506 get_initial_state\n        return list(_generate_zero_filled_state_for_cell(\n    /Users/shreyjoshi/opt/anaconda3/envs/glas/lib/python3.8/site-packages/tensorflow/python/keras/layers/recurrent.py:2987 _generate_zero_filled_state_for_cell\n        return _generate_zero_filled_state(batch_size, cell.state_size, dtype)\n    /Users/shreyjoshi/opt/anaconda3/envs/glas/lib/python3.8/site-packages/tensorflow/python/keras/layers/recurrent.py:3003 _generate_zero_filled_state\n        return nest.map_structure(create_zeros, state_size)\n    /Users/shreyjoshi/opt/anaconda3/envs/glas/lib/python3.8/site-packages/tensorflow/python/util/nest.py:659 map_structure\n        structure[0], [func(*x) for x in entries],\n    /Users/shreyjoshi/opt/anaconda3/envs/glas/lib/python3.8/site-packages/tensorflow/python/util/nest.py:659 <listcomp>\n        structure[0], [func(*x) for x in entries],\n    /Users/shreyjoshi/opt/anaconda3/envs/glas/lib/python3.8/site-packages/tensorflow/python/keras/layers/recurrent.py:3000 create_zeros\n        return array_ops.zeros(init_state_size, dtype=dtype)\n    /Users/shreyjoshi/opt/anaconda3/envs/glas/lib/python3.8/site-packages/tensorflow/python/util/dispatch.py:201 wrapper\n        return target(*args, **kwargs)\n    /Users/shreyjoshi/opt/anaconda3/envs/glas/lib/python3.8/site-packages/tensorflow/python/ops/array_ops.py:2819 wrapped\n        tensor = fun(*args, **kwargs)\n    /Users/shreyjoshi/opt/anaconda3/envs/glas/lib/python3.8/site-packages/tensorflow/python/ops/array_ops.py:2868 zeros\n        output = _constant_if_small(zero, shape, dtype, name)\n    /Users/shreyjoshi/opt/anaconda3/envs/glas/lib/python3.8/site-packages/tensorflow/python/ops/array_ops.py:2804 _constant_if_small\n        if np.prod(shape) < 1000:\n    <__array_function__ internals>:5 prod\n        \n    /Users/shreyjoshi/opt/anaconda3/envs/glas/lib/python3.8/site-packages/numpy/core/fromnumeric.py:3051 prod\n        return _wrapreduction(a, np.multiply, 'prod', axis, dtype, out,\n    /Users/shreyjoshi/opt/anaconda3/envs/glas/lib/python3.8/site-packages/numpy/core/fromnumeric.py:86 _wrapreduction\n        return ufunc.reduce(obj, axis, dtype, out, **passkwargs)\n    /Users/shreyjoshi/opt/anaconda3/envs/glas/lib/python3.8/site-packages/tensorflow/python/framework/ops.py:852 __array__\n        raise NotImplementedError(\n\n    NotImplementedError: Cannot convert a symbolic Tensor (sequential_5/bidirectional_5/forward_lstm_5/strided_slice:0) to a numpy array. This error may indicate that you're trying to pass a Tensor to a NumPy call, which is not supported\n",
     "traceback": [
      "\u001b[0;31m---------------------------------------------------------------------------\u001b[0m",
      "\u001b[0;31mNotImplementedError\u001b[0m                       Traceback (most recent call last)",
      "\u001b[0;32m/var/folders/v9/p487fl653rb3r8zzx3f1g59r0000gn/T/ipykernel_13149/184291818.py\u001b[0m in \u001b[0;36m<module>\u001b[0;34m\u001b[0m\n\u001b[1;32m      4\u001b[0m \u001b[0moriginal\u001b[0m\u001b[0;34m.\u001b[0m\u001b[0madd\u001b[0m\u001b[0;34m(\u001b[0m\u001b[0mDense\u001b[0m\u001b[0;34m(\u001b[0m\u001b[0;36m1\u001b[0m\u001b[0;34m)\u001b[0m\u001b[0;34m)\u001b[0m\u001b[0;34m\u001b[0m\u001b[0;34m\u001b[0m\u001b[0m\n\u001b[1;32m      5\u001b[0m \u001b[0moriginal\u001b[0m\u001b[0;34m.\u001b[0m\u001b[0mcompile\u001b[0m\u001b[0;34m(\u001b[0m\u001b[0mloss\u001b[0m\u001b[0;34m=\u001b[0m\u001b[0;34m'binary_crossentropy'\u001b[0m\u001b[0;34m,\u001b[0m \u001b[0moptimizer\u001b[0m\u001b[0;34m=\u001b[0m\u001b[0;34m'adam'\u001b[0m\u001b[0;34m,\u001b[0m \u001b[0mmetrics\u001b[0m\u001b[0;34m=\u001b[0m\u001b[0;34m[\u001b[0m\u001b[0;34m\"accuracy\"\u001b[0m\u001b[0;34m]\u001b[0m\u001b[0;34m)\u001b[0m\u001b[0;34m\u001b[0m\u001b[0;34m\u001b[0m\u001b[0m\n\u001b[0;32m----> 6\u001b[0;31m \u001b[0moriginal\u001b[0m\u001b[0;34m.\u001b[0m\u001b[0mfit\u001b[0m\u001b[0;34m(\u001b[0m\u001b[0mX_train\u001b[0m\u001b[0;34m,\u001b[0m \u001b[0my_train\u001b[0m\u001b[0;34m,\u001b[0m \u001b[0mepochs\u001b[0m \u001b[0;34m=\u001b[0m \u001b[0;36m15\u001b[0m\u001b[0;34m,\u001b[0m \u001b[0mbatch_size\u001b[0m \u001b[0;34m=\u001b[0m \u001b[0;36m20\u001b[0m\u001b[0;34m,\u001b[0m \u001b[0mverbose\u001b[0m \u001b[0;34m=\u001b[0m \u001b[0;36m2\u001b[0m\u001b[0;34m)\u001b[0m\u001b[0;34m\u001b[0m\u001b[0;34m\u001b[0m\u001b[0m\n\u001b[0m\u001b[1;32m      7\u001b[0m \u001b[0;31m# res = LSTM(11)\u001b[0m\u001b[0;34m\u001b[0m\u001b[0;34m\u001b[0m\u001b[0;34m\u001b[0m\u001b[0m\n\u001b[1;32m      8\u001b[0m \u001b[0;31m# out = res(X_train)\u001b[0m\u001b[0;34m\u001b[0m\u001b[0;34m\u001b[0m\u001b[0;34m\u001b[0m\u001b[0m\n",
      "\u001b[0;32m~/opt/anaconda3/envs/glas/lib/python3.8/site-packages/tensorflow/python/keras/engine/training.py\u001b[0m in \u001b[0;36mfit\u001b[0;34m(self, x, y, batch_size, epochs, verbose, callbacks, validation_split, validation_data, shuffle, class_weight, sample_weight, initial_epoch, steps_per_epoch, validation_steps, validation_batch_size, validation_freq, max_queue_size, workers, use_multiprocessing)\u001b[0m\n\u001b[1;32m   1098\u001b[0m                 _r=1):\n\u001b[1;32m   1099\u001b[0m               \u001b[0mcallbacks\u001b[0m\u001b[0;34m.\u001b[0m\u001b[0mon_train_batch_begin\u001b[0m\u001b[0;34m(\u001b[0m\u001b[0mstep\u001b[0m\u001b[0;34m)\u001b[0m\u001b[0;34m\u001b[0m\u001b[0;34m\u001b[0m\u001b[0m\n\u001b[0;32m-> 1100\u001b[0;31m               \u001b[0mtmp_logs\u001b[0m \u001b[0;34m=\u001b[0m \u001b[0mself\u001b[0m\u001b[0;34m.\u001b[0m\u001b[0mtrain_function\u001b[0m\u001b[0;34m(\u001b[0m\u001b[0miterator\u001b[0m\u001b[0;34m)\u001b[0m\u001b[0;34m\u001b[0m\u001b[0;34m\u001b[0m\u001b[0m\n\u001b[0m\u001b[1;32m   1101\u001b[0m               \u001b[0;32mif\u001b[0m \u001b[0mdata_handler\u001b[0m\u001b[0;34m.\u001b[0m\u001b[0mshould_sync\u001b[0m\u001b[0;34m:\u001b[0m\u001b[0;34m\u001b[0m\u001b[0;34m\u001b[0m\u001b[0m\n\u001b[1;32m   1102\u001b[0m                 \u001b[0mcontext\u001b[0m\u001b[0;34m.\u001b[0m\u001b[0masync_wait\u001b[0m\u001b[0;34m(\u001b[0m\u001b[0;34m)\u001b[0m\u001b[0;34m\u001b[0m\u001b[0;34m\u001b[0m\u001b[0m\n",
      "\u001b[0;32m~/opt/anaconda3/envs/glas/lib/python3.8/site-packages/tensorflow/python/eager/def_function.py\u001b[0m in \u001b[0;36m__call__\u001b[0;34m(self, *args, **kwds)\u001b[0m\n\u001b[1;32m    826\u001b[0m     \u001b[0mtracing_count\u001b[0m \u001b[0;34m=\u001b[0m \u001b[0mself\u001b[0m\u001b[0;34m.\u001b[0m\u001b[0mexperimental_get_tracing_count\u001b[0m\u001b[0;34m(\u001b[0m\u001b[0;34m)\u001b[0m\u001b[0;34m\u001b[0m\u001b[0;34m\u001b[0m\u001b[0m\n\u001b[1;32m    827\u001b[0m     \u001b[0;32mwith\u001b[0m \u001b[0mtrace\u001b[0m\u001b[0;34m.\u001b[0m\u001b[0mTrace\u001b[0m\u001b[0;34m(\u001b[0m\u001b[0mself\u001b[0m\u001b[0;34m.\u001b[0m\u001b[0m_name\u001b[0m\u001b[0;34m)\u001b[0m \u001b[0;32mas\u001b[0m \u001b[0mtm\u001b[0m\u001b[0;34m:\u001b[0m\u001b[0;34m\u001b[0m\u001b[0;34m\u001b[0m\u001b[0m\n\u001b[0;32m--> 828\u001b[0;31m       \u001b[0mresult\u001b[0m \u001b[0;34m=\u001b[0m \u001b[0mself\u001b[0m\u001b[0;34m.\u001b[0m\u001b[0m_call\u001b[0m\u001b[0;34m(\u001b[0m\u001b[0;34m*\u001b[0m\u001b[0margs\u001b[0m\u001b[0;34m,\u001b[0m \u001b[0;34m**\u001b[0m\u001b[0mkwds\u001b[0m\u001b[0;34m)\u001b[0m\u001b[0;34m\u001b[0m\u001b[0;34m\u001b[0m\u001b[0m\n\u001b[0m\u001b[1;32m    829\u001b[0m       \u001b[0mcompiler\u001b[0m \u001b[0;34m=\u001b[0m \u001b[0;34m\"xla\"\u001b[0m \u001b[0;32mif\u001b[0m \u001b[0mself\u001b[0m\u001b[0;34m.\u001b[0m\u001b[0m_experimental_compile\u001b[0m \u001b[0;32melse\u001b[0m \u001b[0;34m\"nonXla\"\u001b[0m\u001b[0;34m\u001b[0m\u001b[0;34m\u001b[0m\u001b[0m\n\u001b[1;32m    830\u001b[0m       \u001b[0mnew_tracing_count\u001b[0m \u001b[0;34m=\u001b[0m \u001b[0mself\u001b[0m\u001b[0;34m.\u001b[0m\u001b[0mexperimental_get_tracing_count\u001b[0m\u001b[0;34m(\u001b[0m\u001b[0;34m)\u001b[0m\u001b[0;34m\u001b[0m\u001b[0;34m\u001b[0m\u001b[0m\n",
      "\u001b[0;32m~/opt/anaconda3/envs/glas/lib/python3.8/site-packages/tensorflow/python/eager/def_function.py\u001b[0m in \u001b[0;36m_call\u001b[0;34m(self, *args, **kwds)\u001b[0m\n\u001b[1;32m    869\u001b[0m       \u001b[0;31m# This is the first call of __call__, so we have to initialize.\u001b[0m\u001b[0;34m\u001b[0m\u001b[0;34m\u001b[0m\u001b[0;34m\u001b[0m\u001b[0m\n\u001b[1;32m    870\u001b[0m       \u001b[0minitializers\u001b[0m \u001b[0;34m=\u001b[0m \u001b[0;34m[\u001b[0m\u001b[0;34m]\u001b[0m\u001b[0;34m\u001b[0m\u001b[0;34m\u001b[0m\u001b[0m\n\u001b[0;32m--> 871\u001b[0;31m       \u001b[0mself\u001b[0m\u001b[0;34m.\u001b[0m\u001b[0m_initialize\u001b[0m\u001b[0;34m(\u001b[0m\u001b[0margs\u001b[0m\u001b[0;34m,\u001b[0m \u001b[0mkwds\u001b[0m\u001b[0;34m,\u001b[0m \u001b[0madd_initializers_to\u001b[0m\u001b[0;34m=\u001b[0m\u001b[0minitializers\u001b[0m\u001b[0;34m)\u001b[0m\u001b[0;34m\u001b[0m\u001b[0;34m\u001b[0m\u001b[0m\n\u001b[0m\u001b[1;32m    872\u001b[0m     \u001b[0;32mfinally\u001b[0m\u001b[0;34m:\u001b[0m\u001b[0;34m\u001b[0m\u001b[0;34m\u001b[0m\u001b[0m\n\u001b[1;32m    873\u001b[0m       \u001b[0;31m# At this point we know that the initialization is complete (or less\u001b[0m\u001b[0;34m\u001b[0m\u001b[0;34m\u001b[0m\u001b[0;34m\u001b[0m\u001b[0m\n",
      "\u001b[0;32m~/opt/anaconda3/envs/glas/lib/python3.8/site-packages/tensorflow/python/eager/def_function.py\u001b[0m in \u001b[0;36m_initialize\u001b[0;34m(self, args, kwds, add_initializers_to)\u001b[0m\n\u001b[1;32m    723\u001b[0m     \u001b[0mself\u001b[0m\u001b[0;34m.\u001b[0m\u001b[0m_graph_deleter\u001b[0m \u001b[0;34m=\u001b[0m \u001b[0mFunctionDeleter\u001b[0m\u001b[0;34m(\u001b[0m\u001b[0mself\u001b[0m\u001b[0;34m.\u001b[0m\u001b[0m_lifted_initializer_graph\u001b[0m\u001b[0;34m)\u001b[0m\u001b[0;34m\u001b[0m\u001b[0;34m\u001b[0m\u001b[0m\n\u001b[1;32m    724\u001b[0m     self._concrete_stateful_fn = (\n\u001b[0;32m--> 725\u001b[0;31m         self._stateful_fn._get_concrete_function_internal_garbage_collected(  # pylint: disable=protected-access\n\u001b[0m\u001b[1;32m    726\u001b[0m             *args, **kwds))\n\u001b[1;32m    727\u001b[0m \u001b[0;34m\u001b[0m\u001b[0m\n",
      "\u001b[0;32m~/opt/anaconda3/envs/glas/lib/python3.8/site-packages/tensorflow/python/eager/function.py\u001b[0m in \u001b[0;36m_get_concrete_function_internal_garbage_collected\u001b[0;34m(self, *args, **kwargs)\u001b[0m\n\u001b[1;32m   2967\u001b[0m       \u001b[0margs\u001b[0m\u001b[0;34m,\u001b[0m \u001b[0mkwargs\u001b[0m \u001b[0;34m=\u001b[0m \u001b[0;32mNone\u001b[0m\u001b[0;34m,\u001b[0m \u001b[0;32mNone\u001b[0m\u001b[0;34m\u001b[0m\u001b[0;34m\u001b[0m\u001b[0m\n\u001b[1;32m   2968\u001b[0m     \u001b[0;32mwith\u001b[0m \u001b[0mself\u001b[0m\u001b[0;34m.\u001b[0m\u001b[0m_lock\u001b[0m\u001b[0;34m:\u001b[0m\u001b[0;34m\u001b[0m\u001b[0;34m\u001b[0m\u001b[0m\n\u001b[0;32m-> 2969\u001b[0;31m       \u001b[0mgraph_function\u001b[0m\u001b[0;34m,\u001b[0m \u001b[0m_\u001b[0m \u001b[0;34m=\u001b[0m \u001b[0mself\u001b[0m\u001b[0;34m.\u001b[0m\u001b[0m_maybe_define_function\u001b[0m\u001b[0;34m(\u001b[0m\u001b[0margs\u001b[0m\u001b[0;34m,\u001b[0m \u001b[0mkwargs\u001b[0m\u001b[0;34m)\u001b[0m\u001b[0;34m\u001b[0m\u001b[0;34m\u001b[0m\u001b[0m\n\u001b[0m\u001b[1;32m   2970\u001b[0m     \u001b[0;32mreturn\u001b[0m \u001b[0mgraph_function\u001b[0m\u001b[0;34m\u001b[0m\u001b[0;34m\u001b[0m\u001b[0m\n\u001b[1;32m   2971\u001b[0m \u001b[0;34m\u001b[0m\u001b[0m\n",
      "\u001b[0;32m~/opt/anaconda3/envs/glas/lib/python3.8/site-packages/tensorflow/python/eager/function.py\u001b[0m in \u001b[0;36m_maybe_define_function\u001b[0;34m(self, args, kwargs)\u001b[0m\n\u001b[1;32m   3359\u001b[0m \u001b[0;34m\u001b[0m\u001b[0m\n\u001b[1;32m   3360\u001b[0m           \u001b[0mself\u001b[0m\u001b[0;34m.\u001b[0m\u001b[0m_function_cache\u001b[0m\u001b[0;34m.\u001b[0m\u001b[0mmissed\u001b[0m\u001b[0;34m.\u001b[0m\u001b[0madd\u001b[0m\u001b[0;34m(\u001b[0m\u001b[0mcall_context_key\u001b[0m\u001b[0;34m)\u001b[0m\u001b[0;34m\u001b[0m\u001b[0;34m\u001b[0m\u001b[0m\n\u001b[0;32m-> 3361\u001b[0;31m           \u001b[0mgraph_function\u001b[0m \u001b[0;34m=\u001b[0m \u001b[0mself\u001b[0m\u001b[0;34m.\u001b[0m\u001b[0m_create_graph_function\u001b[0m\u001b[0;34m(\u001b[0m\u001b[0margs\u001b[0m\u001b[0;34m,\u001b[0m \u001b[0mkwargs\u001b[0m\u001b[0;34m)\u001b[0m\u001b[0;34m\u001b[0m\u001b[0;34m\u001b[0m\u001b[0m\n\u001b[0m\u001b[1;32m   3362\u001b[0m           \u001b[0mself\u001b[0m\u001b[0;34m.\u001b[0m\u001b[0m_function_cache\u001b[0m\u001b[0;34m.\u001b[0m\u001b[0mprimary\u001b[0m\u001b[0;34m[\u001b[0m\u001b[0mcache_key\u001b[0m\u001b[0;34m]\u001b[0m \u001b[0;34m=\u001b[0m \u001b[0mgraph_function\u001b[0m\u001b[0;34m\u001b[0m\u001b[0;34m\u001b[0m\u001b[0m\n\u001b[1;32m   3363\u001b[0m \u001b[0;34m\u001b[0m\u001b[0m\n",
      "\u001b[0;32m~/opt/anaconda3/envs/glas/lib/python3.8/site-packages/tensorflow/python/eager/function.py\u001b[0m in \u001b[0;36m_create_graph_function\u001b[0;34m(self, args, kwargs, override_flat_arg_shapes)\u001b[0m\n\u001b[1;32m   3194\u001b[0m     \u001b[0marg_names\u001b[0m \u001b[0;34m=\u001b[0m \u001b[0mbase_arg_names\u001b[0m \u001b[0;34m+\u001b[0m \u001b[0mmissing_arg_names\u001b[0m\u001b[0;34m\u001b[0m\u001b[0;34m\u001b[0m\u001b[0m\n\u001b[1;32m   3195\u001b[0m     graph_function = ConcreteFunction(\n\u001b[0;32m-> 3196\u001b[0;31m         func_graph_module.func_graph_from_py_func(\n\u001b[0m\u001b[1;32m   3197\u001b[0m             \u001b[0mself\u001b[0m\u001b[0;34m.\u001b[0m\u001b[0m_name\u001b[0m\u001b[0;34m,\u001b[0m\u001b[0;34m\u001b[0m\u001b[0;34m\u001b[0m\u001b[0m\n\u001b[1;32m   3198\u001b[0m             \u001b[0mself\u001b[0m\u001b[0;34m.\u001b[0m\u001b[0m_python_function\u001b[0m\u001b[0;34m,\u001b[0m\u001b[0;34m\u001b[0m\u001b[0;34m\u001b[0m\u001b[0m\n",
      "\u001b[0;32m~/opt/anaconda3/envs/glas/lib/python3.8/site-packages/tensorflow/python/framework/func_graph.py\u001b[0m in \u001b[0;36mfunc_graph_from_py_func\u001b[0;34m(name, python_func, args, kwargs, signature, func_graph, autograph, autograph_options, add_control_dependencies, arg_names, op_return_value, collections, capture_by_value, override_flat_arg_shapes)\u001b[0m\n\u001b[1;32m    988\u001b[0m         \u001b[0m_\u001b[0m\u001b[0;34m,\u001b[0m \u001b[0moriginal_func\u001b[0m \u001b[0;34m=\u001b[0m \u001b[0mtf_decorator\u001b[0m\u001b[0;34m.\u001b[0m\u001b[0munwrap\u001b[0m\u001b[0;34m(\u001b[0m\u001b[0mpython_func\u001b[0m\u001b[0;34m)\u001b[0m\u001b[0;34m\u001b[0m\u001b[0;34m\u001b[0m\u001b[0m\n\u001b[1;32m    989\u001b[0m \u001b[0;34m\u001b[0m\u001b[0m\n\u001b[0;32m--> 990\u001b[0;31m       \u001b[0mfunc_outputs\u001b[0m \u001b[0;34m=\u001b[0m \u001b[0mpython_func\u001b[0m\u001b[0;34m(\u001b[0m\u001b[0;34m*\u001b[0m\u001b[0mfunc_args\u001b[0m\u001b[0;34m,\u001b[0m \u001b[0;34m**\u001b[0m\u001b[0mfunc_kwargs\u001b[0m\u001b[0;34m)\u001b[0m\u001b[0;34m\u001b[0m\u001b[0;34m\u001b[0m\u001b[0m\n\u001b[0m\u001b[1;32m    991\u001b[0m \u001b[0;34m\u001b[0m\u001b[0m\n\u001b[1;32m    992\u001b[0m       \u001b[0;31m# invariant: `func_outputs` contains only Tensors, CompositeTensors,\u001b[0m\u001b[0;34m\u001b[0m\u001b[0;34m\u001b[0m\u001b[0;34m\u001b[0m\u001b[0m\n",
      "\u001b[0;32m~/opt/anaconda3/envs/glas/lib/python3.8/site-packages/tensorflow/python/eager/def_function.py\u001b[0m in \u001b[0;36mwrapped_fn\u001b[0;34m(*args, **kwds)\u001b[0m\n\u001b[1;32m    632\u001b[0m             \u001b[0mxla_context\u001b[0m\u001b[0;34m.\u001b[0m\u001b[0mExit\u001b[0m\u001b[0;34m(\u001b[0m\u001b[0;34m)\u001b[0m\u001b[0;34m\u001b[0m\u001b[0;34m\u001b[0m\u001b[0m\n\u001b[1;32m    633\u001b[0m         \u001b[0;32melse\u001b[0m\u001b[0;34m:\u001b[0m\u001b[0;34m\u001b[0m\u001b[0;34m\u001b[0m\u001b[0m\n\u001b[0;32m--> 634\u001b[0;31m           \u001b[0mout\u001b[0m \u001b[0;34m=\u001b[0m \u001b[0mweak_wrapped_fn\u001b[0m\u001b[0;34m(\u001b[0m\u001b[0;34m)\u001b[0m\u001b[0;34m.\u001b[0m\u001b[0m__wrapped__\u001b[0m\u001b[0;34m(\u001b[0m\u001b[0;34m*\u001b[0m\u001b[0margs\u001b[0m\u001b[0;34m,\u001b[0m \u001b[0;34m**\u001b[0m\u001b[0mkwds\u001b[0m\u001b[0;34m)\u001b[0m\u001b[0;34m\u001b[0m\u001b[0;34m\u001b[0m\u001b[0m\n\u001b[0m\u001b[1;32m    635\u001b[0m         \u001b[0;32mreturn\u001b[0m \u001b[0mout\u001b[0m\u001b[0;34m\u001b[0m\u001b[0;34m\u001b[0m\u001b[0m\n\u001b[1;32m    636\u001b[0m \u001b[0;34m\u001b[0m\u001b[0m\n",
      "\u001b[0;32m~/opt/anaconda3/envs/glas/lib/python3.8/site-packages/tensorflow/python/framework/func_graph.py\u001b[0m in \u001b[0;36mwrapper\u001b[0;34m(*args, **kwargs)\u001b[0m\n\u001b[1;32m    975\u001b[0m           \u001b[0;32mexcept\u001b[0m \u001b[0mException\u001b[0m \u001b[0;32mas\u001b[0m \u001b[0me\u001b[0m\u001b[0;34m:\u001b[0m  \u001b[0;31m# pylint:disable=broad-except\u001b[0m\u001b[0;34m\u001b[0m\u001b[0;34m\u001b[0m\u001b[0m\n\u001b[1;32m    976\u001b[0m             \u001b[0;32mif\u001b[0m \u001b[0mhasattr\u001b[0m\u001b[0;34m(\u001b[0m\u001b[0me\u001b[0m\u001b[0;34m,\u001b[0m \u001b[0;34m\"ag_error_metadata\"\u001b[0m\u001b[0;34m)\u001b[0m\u001b[0;34m:\u001b[0m\u001b[0;34m\u001b[0m\u001b[0;34m\u001b[0m\u001b[0m\n\u001b[0;32m--> 977\u001b[0;31m               \u001b[0;32mraise\u001b[0m \u001b[0me\u001b[0m\u001b[0;34m.\u001b[0m\u001b[0mag_error_metadata\u001b[0m\u001b[0;34m.\u001b[0m\u001b[0mto_exception\u001b[0m\u001b[0;34m(\u001b[0m\u001b[0me\u001b[0m\u001b[0;34m)\u001b[0m\u001b[0;34m\u001b[0m\u001b[0;34m\u001b[0m\u001b[0m\n\u001b[0m\u001b[1;32m    978\u001b[0m             \u001b[0;32melse\u001b[0m\u001b[0;34m:\u001b[0m\u001b[0;34m\u001b[0m\u001b[0;34m\u001b[0m\u001b[0m\n\u001b[1;32m    979\u001b[0m               \u001b[0;32mraise\u001b[0m\u001b[0;34m\u001b[0m\u001b[0;34m\u001b[0m\u001b[0m\n",
      "\u001b[0;31mNotImplementedError\u001b[0m: in user code:\n\n    /Users/shreyjoshi/opt/anaconda3/envs/glas/lib/python3.8/site-packages/tensorflow/python/keras/engine/training.py:805 train_function  *\n        return step_function(self, iterator)\n    /Users/shreyjoshi/opt/anaconda3/envs/glas/lib/python3.8/site-packages/tensorflow/python/keras/engine/training.py:795 step_function  **\n        outputs = model.distribute_strategy.run(run_step, args=(data,))\n    /Users/shreyjoshi/opt/anaconda3/envs/glas/lib/python3.8/site-packages/tensorflow/python/distribute/distribute_lib.py:1259 run\n        return self._extended.call_for_each_replica(fn, args=args, kwargs=kwargs)\n    /Users/shreyjoshi/opt/anaconda3/envs/glas/lib/python3.8/site-packages/tensorflow/python/distribute/distribute_lib.py:2730 call_for_each_replica\n        return self._call_for_each_replica(fn, args, kwargs)\n    /Users/shreyjoshi/opt/anaconda3/envs/glas/lib/python3.8/site-packages/tensorflow/python/distribute/distribute_lib.py:3417 _call_for_each_replica\n        return fn(*args, **kwargs)\n    /Users/shreyjoshi/opt/anaconda3/envs/glas/lib/python3.8/site-packages/tensorflow/python/keras/engine/training.py:788 run_step  **\n        outputs = model.train_step(data)\n    /Users/shreyjoshi/opt/anaconda3/envs/glas/lib/python3.8/site-packages/tensorflow/python/keras/engine/training.py:754 train_step\n        y_pred = self(x, training=True)\n    /Users/shreyjoshi/opt/anaconda3/envs/glas/lib/python3.8/site-packages/tensorflow/python/keras/engine/base_layer.py:1012 __call__\n        outputs = call_fn(inputs, *args, **kwargs)\n    /Users/shreyjoshi/opt/anaconda3/envs/glas/lib/python3.8/site-packages/tensorflow/python/keras/engine/sequential.py:389 call\n        outputs = layer(inputs, **kwargs)\n    /Users/shreyjoshi/opt/anaconda3/envs/glas/lib/python3.8/site-packages/tensorflow/python/keras/layers/wrappers.py:539 __call__\n        return super(Bidirectional, self).__call__(inputs, **kwargs)\n    /Users/shreyjoshi/opt/anaconda3/envs/glas/lib/python3.8/site-packages/tensorflow/python/keras/engine/base_layer.py:1012 __call__\n        outputs = call_fn(inputs, *args, **kwargs)\n    /Users/shreyjoshi/opt/anaconda3/envs/glas/lib/python3.8/site-packages/tensorflow/python/keras/layers/wrappers.py:652 call\n        y = self.forward_layer(forward_inputs,\n    /Users/shreyjoshi/opt/anaconda3/envs/glas/lib/python3.8/site-packages/tensorflow/python/keras/layers/recurrent.py:660 __call__\n        return super(RNN, self).__call__(inputs, **kwargs)\n    /Users/shreyjoshi/opt/anaconda3/envs/glas/lib/python3.8/site-packages/tensorflow/python/keras/engine/base_layer.py:1012 __call__\n        outputs = call_fn(inputs, *args, **kwargs)\n    /Users/shreyjoshi/opt/anaconda3/envs/glas/lib/python3.8/site-packages/tensorflow/python/keras/layers/recurrent_v2.py:1157 call\n        inputs, initial_state, _ = self._process_inputs(inputs, initial_state, None)\n    /Users/shreyjoshi/opt/anaconda3/envs/glas/lib/python3.8/site-packages/tensorflow/python/keras/layers/recurrent.py:859 _process_inputs\n        initial_state = self.get_initial_state(inputs)\n    /Users/shreyjoshi/opt/anaconda3/envs/glas/lib/python3.8/site-packages/tensorflow/python/keras/layers/recurrent.py:642 get_initial_state\n        init_state = get_initial_state_fn(\n    /Users/shreyjoshi/opt/anaconda3/envs/glas/lib/python3.8/site-packages/tensorflow/python/keras/layers/recurrent.py:2506 get_initial_state\n        return list(_generate_zero_filled_state_for_cell(\n    /Users/shreyjoshi/opt/anaconda3/envs/glas/lib/python3.8/site-packages/tensorflow/python/keras/layers/recurrent.py:2987 _generate_zero_filled_state_for_cell\n        return _generate_zero_filled_state(batch_size, cell.state_size, dtype)\n    /Users/shreyjoshi/opt/anaconda3/envs/glas/lib/python3.8/site-packages/tensorflow/python/keras/layers/recurrent.py:3003 _generate_zero_filled_state\n        return nest.map_structure(create_zeros, state_size)\n    /Users/shreyjoshi/opt/anaconda3/envs/glas/lib/python3.8/site-packages/tensorflow/python/util/nest.py:659 map_structure\n        structure[0], [func(*x) for x in entries],\n    /Users/shreyjoshi/opt/anaconda3/envs/glas/lib/python3.8/site-packages/tensorflow/python/util/nest.py:659 <listcomp>\n        structure[0], [func(*x) for x in entries],\n    /Users/shreyjoshi/opt/anaconda3/envs/glas/lib/python3.8/site-packages/tensorflow/python/keras/layers/recurrent.py:3000 create_zeros\n        return array_ops.zeros(init_state_size, dtype=dtype)\n    /Users/shreyjoshi/opt/anaconda3/envs/glas/lib/python3.8/site-packages/tensorflow/python/util/dispatch.py:201 wrapper\n        return target(*args, **kwargs)\n    /Users/shreyjoshi/opt/anaconda3/envs/glas/lib/python3.8/site-packages/tensorflow/python/ops/array_ops.py:2819 wrapped\n        tensor = fun(*args, **kwargs)\n    /Users/shreyjoshi/opt/anaconda3/envs/glas/lib/python3.8/site-packages/tensorflow/python/ops/array_ops.py:2868 zeros\n        output = _constant_if_small(zero, shape, dtype, name)\n    /Users/shreyjoshi/opt/anaconda3/envs/glas/lib/python3.8/site-packages/tensorflow/python/ops/array_ops.py:2804 _constant_if_small\n        if np.prod(shape) < 1000:\n    <__array_function__ internals>:5 prod\n        \n    /Users/shreyjoshi/opt/anaconda3/envs/glas/lib/python3.8/site-packages/numpy/core/fromnumeric.py:3051 prod\n        return _wrapreduction(a, np.multiply, 'prod', axis, dtype, out,\n    /Users/shreyjoshi/opt/anaconda3/envs/glas/lib/python3.8/site-packages/numpy/core/fromnumeric.py:86 _wrapreduction\n        return ufunc.reduce(obj, axis, dtype, out, **passkwargs)\n    /Users/shreyjoshi/opt/anaconda3/envs/glas/lib/python3.8/site-packages/tensorflow/python/framework/ops.py:852 __array__\n        raise NotImplementedError(\n\n    NotImplementedError: Cannot convert a symbolic Tensor (sequential_5/bidirectional_5/forward_lstm_5/strided_slice:0) to a numpy array. This error may indicate that you're trying to pass a Tensor to a NumPy call, which is not supported\n"
     ]
    }
   ],
   "source": [
    "original = Sequential()\n",
    "original.add(Bidirectional(LSTM(11)))\n",
    "original.add(Dense(100))\n",
    "original.add(Dense(1))\n",
    "original.compile(loss='binary_crossentropy', optimizer='adam', metrics=[\"accuracy\"])\n",
    "original.fit(X_train, y_train, epochs = 15, batch_size = 20, verbose = 2)\n",
    "# res = LSTM(11)\n",
    "# out = res(X_train)\n",
    "# print(out.shape)"
   ]
  },
  {
   "cell_type": "code",
   "execution_count": 90,
   "metadata": {},
   "outputs": [
    {
     "name": "stdout",
     "output_type": "stream",
     "text": [
      "112/112 [==============================] - 0s 1ms/step - loss: 0.5945 - accuracy: 0.6814\n"
     ]
    },
    {
     "data": {
      "text/plain": [
       "[0.5945157408714294, 0.681358814239502]"
      ]
     },
     "execution_count": 90,
     "metadata": {},
     "output_type": "execute_result"
    }
   ],
   "source": [
    "original.evaluate(X_test, y_test)"
   ]
  },
  {
   "cell_type": "code",
   "execution_count": 91,
   "metadata": {},
   "outputs": [],
   "source": [
    "# 11 units: 0.5952649116516113\n",
    "# 15 units: 0.59"
   ]
  },
  {
   "cell_type": "code",
   "execution_count": 107,
   "metadata": {},
   "outputs": [
    {
     "data": {
      "text/plain": [
       "array([1, 1, 0, ..., 1, 0, 1])"
      ]
     },
     "execution_count": 107,
     "metadata": {},
     "output_type": "execute_result"
    }
   ],
   "source": [
    "from sklearn.metrics import confusion_matrix\n",
    "res = original.predict(X_test)\n",
    "res = np.rint(res)\n",
    "pred = np.array([int(i) for i in res])\n",
    "pred"
   ]
  },
  {
   "cell_type": "code",
   "execution_count": 108,
   "metadata": {},
   "outputs": [
    {
     "name": "stdout",
     "output_type": "stream",
     "text": [
      "870 2692\n"
     ]
    }
   ],
   "source": [
    "zeroes = 0\n",
    "ones = 0\n",
    "for i in pred:\n",
    "    if i == 0:\n",
    "        zeroes += 1\n",
    "    else:\n",
    "        ones += 1\n",
    "print(zeroes, ones)"
   ]
  },
  {
   "cell_type": "code",
   "execution_count": 109,
   "metadata": {},
   "outputs": [
    {
     "name": "stdout",
     "output_type": "stream",
     "text": [
      "1501 2061\n"
     ]
    }
   ],
   "source": [
    "zeroes = 0\n",
    "ones = 0\n",
    "for i in y_test:\n",
    "    if i == 0:\n",
    "        zeroes += 1\n",
    "    else:\n",
    "        ones += 1\n",
    "print(zeroes, ones)"
   ]
  },
  {
   "cell_type": "code",
   "execution_count": 110,
   "metadata": {},
   "outputs": [
    {
     "data": {
      "text/plain": [
       "array([[ 618,  883],\n",
       "       [ 252, 1809]])"
      ]
     },
     "execution_count": 110,
     "metadata": {},
     "output_type": "execute_result"
    }
   ],
   "source": [
    "array = confusion_matrix(y_test, pred)\n",
    "array"
   ]
  },
  {
   "cell_type": "code",
   "execution_count": 111,
   "metadata": {},
   "outputs": [
    {
     "data": {
      "image/png": "[encoded data removed]",
      "text/plain": [
       "<Figure size 720x504 with 2 Axes>"
      ]
     },
     "metadata": {
      "needs_background": "light"
     },
     "output_type": "display_data"
    }
   ],
   "source": [
    "import seaborn as sn\n",
    "import pandas as pd\n",
    "import matplotlib.pyplot as plt\n",
    "binary = True\n",
    "if binary:\n",
    "    df_cm = pd.DataFrame(array, index = [i for i in [\"No\", \"Yes\"]],\n",
    "                    columns = [i for i in [\"No\", \"Yes\"]])\n",
    "else:\n",
    "    df_cm = pd.DataFrame(array, index = [i for i in [\"None\", \"Small\", \"Medium\", \"Large\", \"Very Large\"]],\n",
    "                  columns = [i for i in [\"None\", \"Small\", \"Medium\", \"Large\", \"Very Large\"]])\n",
    "\n",
    "plt.figure(figsize = (10,7))\n",
    "\n",
    "ax = sn.heatmap(df_cm, cmap=\"Reds\", annot=True, annot_kws={\"size\":50}, fmt='g')\n",
    "ax.tick_params(axis='both', which='major', labelsize=27)\n",
    "plt.xlabel('Predicted', fontsize = 40) \n",
    "# plt.title(\"KNN Confusion Matrix\", fontsize = 50)\n",
    "plt.ylabel('Actual', fontsize = 40) \n",
    "\n",
    "plt.savefig(\"LSTM Confusion Matrix\")\n",
    "plt.show()"
   ]
  },
  {
   "cell_type": "code",
   "execution_count": 101,
   "metadata": {
    "scrolled": true
   },
   "outputs": [
    {
     "name": "stdout",
     "output_type": "stream",
     "text": [
      "Epoch 1/15\n",
      "713/713 - 2s - loss: 0.6218 - accuracy: 0.6670\n",
      "Epoch 2/15\n",
      "713/713 - 2s - loss: 0.5896 - accuracy: 0.6906\n",
      "Epoch 3/15\n",
      "713/713 - 2s - loss: 0.5870 - accuracy: 0.6948\n",
      "Epoch 4/15\n",
      "713/713 - 2s - loss: 0.5856 - accuracy: 0.6958\n",
      "Epoch 5/15\n",
      "713/713 - 2s - loss: 0.5853 - accuracy: 0.6947\n",
      "Epoch 6/15\n",
      "713/713 - 2s - loss: 0.5844 - accuracy: 0.6982\n",
      "Epoch 7/15\n",
      "713/713 - 2s - loss: 0.5841 - accuracy: 0.6975\n",
      "Epoch 8/15\n",
      "713/713 - 2s - loss: 0.5851 - accuracy: 0.6975\n",
      "Epoch 9/15\n",
      "713/713 - 2s - loss: 0.5835 - accuracy: 0.6990\n",
      "Epoch 10/15\n",
      "713/713 - 2s - loss: 0.5829 - accuracy: 0.6979\n",
      "Epoch 11/15\n",
      "713/713 - 2s - loss: 0.5851 - accuracy: 0.6958\n",
      "Epoch 12/15\n",
      "713/713 - 2s - loss: 0.5833 - accuracy: 0.6965\n",
      "Epoch 13/15\n",
      "713/713 - 2s - loss: 0.5830 - accuracy: 0.6989\n",
      "Epoch 14/15\n",
      "713/713 - 2s - loss: 0.5830 - accuracy: 0.6994\n",
      "Epoch 15/15\n",
      "713/713 - 2s - loss: 0.5830 - accuracy: 0.6977\n"
     ]
    },
    {
     "data": {
      "text/plain": [
       "<tensorflow.python.keras.callbacks.History at 0x7fbd2bdc6250>"
      ]
     },
     "execution_count": 101,
     "metadata": {},
     "output_type": "execute_result"
    }
   ],
   "source": [
    "model = Sequential()\n",
    "model.add(Bidirectional(LSTM(11)))\n",
    "model.add(Dense(1, activation = 'sigmoid'))\n",
    "model.compile(loss='binary_crossentropy', optimizer='adam', metrics=[\"accuracy\"])\n",
    "model.fit(X_train, y_train, epochs = 15, batch_size = 20, verbose = 2)"
   ]
  },
  {
   "cell_type": "code",
   "execution_count": 118,
   "metadata": {},
   "outputs": [
    {
     "data": {
      "text/plain": [
       "array([1, 1, 0, ..., 1, 0, 1])"
      ]
     },
     "execution_count": 118,
     "metadata": {},
     "output_type": "execute_result"
    }
   ],
   "source": [
    "from sklearn.metrics import confusion_matrix\n",
    "res = model.predict(X_test)\n",
    "res = np.rint(res)\n",
    "pred = np.array([int(i) for i in res])\n",
    "pred"
   ]
  },
  {
   "cell_type": "code",
   "execution_count": 119,
   "metadata": {},
   "outputs": [
    {
     "name": "stdout",
     "output_type": "stream",
     "text": [
      "112/112 [==============================] - 0s 1ms/step - loss: 0.5911 - accuracy: 0.6909\n"
     ]
    },
    {
     "data": {
      "text/plain": [
       "[0.591059148311615, 0.6909039616584778]"
      ]
     },
     "execution_count": 119,
     "metadata": {},
     "output_type": "execute_result"
    }
   ],
   "source": [
    "model.evaluate(X_test, y_test)"
   ]
  },
  {
   "cell_type": "code",
   "execution_count": 2,
   "metadata": {},
   "outputs": [
    {
     "data": {
      "text/plain": [
       "[[642, 859], [242, 1819]]"
      ]
     },
     "execution_count": 2,
     "metadata": {},
     "output_type": "execute_result"
    }
   ],
   "source": [
    "array = confusion_matrix(y_test, pred)\n",
    "array"
   ]
  },
  {
   "cell_type": "code",
   "execution_count": 3,
   "metadata": {},
   "outputs": [
    {
     "data": {
      "image/png": "[encoded data removed]",
      "text/plain": [
       "<Figure size 720x504 with 2 Axes>"
      ]
     },
     "metadata": {
      "needs_background": "light"
     },
     "output_type": "display_data"
    }
   ],
   "source": [
    "import seaborn as sn\n",
    "import pandas as pd\n",
    "import matplotlib.pyplot as plt\n",
    "binary = True\n",
    "if binary:\n",
    "    df_cm = pd.DataFrame(array, index = [i for i in [\"No\", \"Yes\"]],\n",
    "                    columns = [i for i in [\"No\", \"Yes\"]])\n",
    "else:\n",
    "    df_cm = pd.DataFrame(array, index = [i for i in [\"None\", \"Small\", \"Medium\", \"Large\", \"Very Large\"]],\n",
    "                  columns = [i for i in [\"None\", \"Small\", \"Medium\", \"Large\", \"Very Large\"]])\n",
    "\n",
    "plt.figure(figsize = (10,7))\n",
    "\n",
    "ax = sn.heatmap(df_cm, cmap=\"Purples\", annot=True, annot_kws={\"size\":50}, fmt='g')\n",
    "ax.tick_params(axis='both', which='major', labelsize=27)\n",
    "plt.xlabel('Predicted', fontsize = 40) \n",
    "# plt.title(\"KNN Confusion Matrix\", fontsize = 50)\n",
    "plt.ylabel('Actual', fontsize = 40) \n",
    "\n",
    "plt.savefig(\"LSTM Sigmoid Confusion Matrix\")\n",
    "plt.show()"
   ]
  },
  {
   "cell_type": "code",
   "execution_count": 115,
   "metadata": {
    "scrolled": true
   },
   "outputs": [
    {
     "name": "stdout",
     "output_type": "stream",
     "text": [
      "Epoch 1/30\n",
      "713/713 - 2s - loss: 0.6706 - accuracy: 0.6346\n",
      "Epoch 2/30\n",
      "713/713 - 2s - loss: 0.6008 - accuracy: 0.6852\n",
      "Epoch 3/30\n",
      "713/713 - 2s - loss: 0.6518 - accuracy: 0.6648\n",
      "Epoch 4/30\n",
      "713/713 - 2s - loss: 0.6700 - accuracy: 0.6212\n",
      "Epoch 5/30\n",
      "713/713 - 2s - loss: 0.6430 - accuracy: 0.6381\n",
      "Epoch 6/30\n",
      "713/713 - 2s - loss: 0.6363 - accuracy: 0.6482\n",
      "Epoch 7/30\n",
      "713/713 - 3s - loss: 0.6240 - accuracy: 0.6751\n",
      "Epoch 8/30\n",
      "713/713 - 2s - loss: 0.6155 - accuracy: 0.6702\n",
      "Epoch 9/30\n",
      "713/713 - 2s - loss: 0.6056 - accuracy: 0.6858\n",
      "Epoch 10/30\n",
      "713/713 - 2s - loss: 0.5978 - accuracy: 0.6904\n",
      "Epoch 11/30\n",
      "713/713 - 2s - loss: 0.5924 - accuracy: 0.6916\n",
      "Epoch 12/30\n",
      "713/713 - 2s - loss: 0.5877 - accuracy: 0.6923\n",
      "Epoch 13/30\n",
      "713/713 - 2s - loss: 0.5863 - accuracy: 0.6948\n",
      "Epoch 14/30\n",
      "713/713 - 2s - loss: 0.6185 - accuracy: 0.6709\n",
      "Epoch 15/30\n",
      "713/713 - 2s - loss: 0.5933 - accuracy: 0.6932\n",
      "Epoch 16/30\n",
      "713/713 - 2s - loss: 0.5874 - accuracy: 0.6939\n",
      "Epoch 17/30\n",
      "713/713 - 2s - loss: 0.5879 - accuracy: 0.6927\n",
      "Epoch 18/30\n",
      "713/713 - 2s - loss: 0.5871 - accuracy: 0.6950\n",
      "Epoch 19/30\n",
      "713/713 - 2s - loss: 0.5873 - accuracy: 0.6930\n",
      "Epoch 20/30\n",
      "713/713 - 2s - loss: 0.5859 - accuracy: 0.6980\n",
      "Epoch 21/30\n",
      "713/713 - 2s - loss: 0.5858 - accuracy: 0.6966\n",
      "Epoch 22/30\n",
      "713/713 - 2s - loss: 0.5891 - accuracy: 0.6994\n",
      "Epoch 23/30\n",
      "713/713 - 2s - loss: 0.5872 - accuracy: 0.6979\n",
      "Epoch 24/30\n",
      "713/713 - 2s - loss: 0.5873 - accuracy: 0.6984\n",
      "Epoch 25/30\n",
      "713/713 - 2s - loss: 0.5873 - accuracy: 0.6961\n",
      "Epoch 26/30\n",
      "713/713 - 2s - loss: 0.5854 - accuracy: 0.6953\n",
      "Epoch 27/30\n",
      "713/713 - 2s - loss: 0.5848 - accuracy: 0.6978\n",
      "Epoch 28/30\n",
      "713/713 - 2s - loss: 0.5879 - accuracy: 0.6972\n",
      "Epoch 29/30\n",
      "713/713 - 2s - loss: 0.5867 - accuracy: 0.6985\n",
      "Epoch 30/30\n",
      "713/713 - 2s - loss: 0.5850 - accuracy: 0.6960\n"
     ]
    },
    {
     "data": {
      "text/plain": [
       "<tensorflow.python.keras.callbacks.History at 0x7fbd0e1f2750>"
      ]
     },
     "execution_count": 115,
     "metadata": {},
     "output_type": "execute_result"
    }
   ],
   "source": [
    "model2 = Sequential()\n",
    "model2.add(Bidirectional(LSTM(15)))\n",
    "model2.add(Dense(1))\n",
    "model2.compile(loss='binary_crossentropy', optimizer='adam', metrics=[\"accuracy\"])\n",
    "model2.fit(X_train, y_train, epochs = 30, batch_size = 20, verbose = 2)"
   ]
  },
  {
   "cell_type": "code",
   "execution_count": null,
   "metadata": {},
   "outputs": [],
   "source": []
  }
 ],
 "metadata": {
  "kernelspec": {
   "name": "python3",
   "display_name": "Python 3.8.10 64-bit ('glas': conda)"
  },
  "language_info": {
   "codemirror_mode": {
    "name": "ipython",
    "version": 3
   },
   "file_extension": ".py",
   "mimetype": "text/x-python",
   "name": "python",
   "nbconvert_exporter": "python",
   "pygments_lexer": "ipython3",
   "version": "3.8.10"
  },
  "interpreter": {
   "hash": "6db9e3f28e3c9fc1931df6786eb1e83c9a5a821fa301f9d0a83db48eb2f819cd"
  }
 },
 "nbformat": 4,
 "nbformat_minor": 2
}