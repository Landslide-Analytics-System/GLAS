{
 "cells": [
  {
   "cell_type": "markdown",
   "metadata": {},
   "source": [
    "## SVC Classifier\n",
    "The model predicts the severity of the landslide (or if there will even be one) within the next 2 days, based on weather data from the past 5 days."
   ]
  },
  {
   "cell_type": "code",
   "execution_count": 23,
   "metadata": {},
   "outputs": [],
   "source": [
    "import pandas as pd\n",
    "import numpy as np\n",
    "import matplotlib.pyplot as plt\n",
    "%matplotlib inline\n",
    "import sklearn\n",
    "from sklearn.utils import shuffle\n",
    "import pickle"
   ]
  },
  {
   "cell_type": "code",
   "execution_count": 24,
   "metadata": {},
   "outputs": [
    {
     "name": "stderr",
     "output_type": "stream",
     "text": [
      "/Library/Frameworks/Python.framework/Versions/3.7/lib/python3.7/site-packages/IPython/core/interactiveshell.py:3146: DtypeWarning: Columns (5,8,9,10,11) have mixed types.Specify dtype option on import or set low_memory=False.\n",
      "  interactivity=interactivity, compiler=compiler, result=result)\n"
     ]
    },
    {
     "data": {
      "text/plain": [
       "17808"
      ]
     },
     "execution_count": 24,
     "metadata": {},
     "output_type": "execute_result"
    }
   ],
   "source": [
    "df = pd.read_csv(\"dataset.csv\")\n",
    "len(df)"
   ]
  },
  {
   "cell_type": "code",
   "execution_count": 25,
   "metadata": {},
   "outputs": [
    {
     "data": {
      "text/plain": [
       "medium          5594\n",
       "small           2612\n",
       "unknown          834\n",
       "large            679\n",
       "...              359\n",
       "very_large       102\n",
       "Medium            72\n",
       "Unknown           19\n",
       "Large             17\n",
       "Small             10\n",
       "catastrophic       4\n",
       "landslide          2\n",
       "Very...large       1\n",
       "Very_large         1\n",
       "Name: severity, dtype: int64"
      ]
     },
     "execution_count": 25,
     "metadata": {},
     "output_type": "execute_result"
    }
   ],
   "source": [
    "df['severity'].value_counts()"
   ]
  },
  {
   "cell_type": "code",
   "execution_count": 26,
   "metadata": {},
   "outputs": [
    {
     "data": {
      "text/plain": [
       "1    10306\n",
       "0     7502\n",
       "Name: landslide, dtype: int64"
      ]
     },
     "execution_count": 26,
     "metadata": {},
     "output_type": "execute_result"
    }
   ],
   "source": [
    "df.landslide.value_counts()"
   ]
  },
  {
   "cell_type": "code",
   "execution_count": 27,
   "metadata": {},
   "outputs": [
    {
     "name": "stdout",
     "output_type": "stream",
     "text": [
      "17808\n"
     ]
    }
   ],
   "source": [
    "df['severity'].value_counts()\n",
    "df = shuffle(df)\n",
    "df.reset_index(inplace=True, drop=True)\n",
    "print(len(df))"
   ]
  },
  {
   "cell_type": "code",
   "execution_count": 34,
   "metadata": {},
   "outputs": [
    {
     "name": "stdout",
     "output_type": "stream",
     "text": [
      "11 10\n",
      "{9: 3299, 7: 3198, 8: 3170, 6: 3211}\n"
     ]
    }
   ],
   "source": [
    "import random\n",
    "X = []\n",
    "y = []\n",
    "days = dict()\n",
    "mac = 2577\n",
    "for idx, row in df.iterrows():\n",
    "    lastday = random.randint(6, 9)\n",
    "    if row.landslide == 1:\n",
    "        y.append(lastday-4)\n",
    "    else:\n",
    "        mac -= 1\n",
    "        if mac<=0:\n",
    "            continue\n",
    "        y.append(-1)\n",
    "    temp=[]\n",
    "    if lastday in days:\n",
    "        days[lastday] +=1\n",
    "    else:\n",
    "        days[lastday] = 0\n",
    "    for i in range(5):\n",
    "        temp.append(row['humidity' + str(lastday-i)])\n",
    "        temp.append(row['ARI' + str(lastday-i)])\n",
    "        temp.append(row['wind' + str(lastday-i)])\n",
    "    temp.append(row['slope'])\n",
    "    year = int(str(row.date)[-2:])\n",
    "    temp.append(row['forest2'])\n",
    "#     temp.append(1 if year - row.forest_year <= 2 else 0)\n",
    "    temp.append(row['osm'])\n",
    "    X.append(temp)\n",
    "    if idx == 0:\n",
    "        print(year, row.forest_year)\n",
    "print(days)"
   ]
  },
  {
   "cell_type": "markdown",
   "metadata": {},
   "source": [
    "## Scaling"
   ]
  },
  {
   "cell_type": "code",
   "execution_count": 35,
   "metadata": {},
   "outputs": [],
   "source": [
    "from sklearn.model_selection import train_test_split\n",
    "from sklearn.preprocessing import StandardScaler\n",
    "X_train, X_test, y_train, y_test = train_test_split(X, y, test_size = 0.2)\n",
    "\n",
    "scaler = StandardScaler()\n",
    "scaler.fit(X_train)\n",
    "\n",
    "X_train = scaler.transform(X_train)\n",
    "X_test = scaler.transform(X_test)"
   ]
  },
  {
   "cell_type": "markdown",
   "metadata": {},
   "source": [
    "## PCA"
   ]
  },
  {
   "cell_type": "code",
   "execution_count": 36,
   "metadata": {},
   "outputs": [
    {
     "data": {
      "text/plain": [
       "array([0.33909101, 0.17054503, 0.13600395, 0.0585007 , 0.05547552,\n",
       "       0.04499722, 0.03979274, 0.02903705, 0.02536788, 0.0182876 ,\n",
       "       0.01709012, 0.01482805, 0.01416886])"
      ]
     },
     "execution_count": 36,
     "metadata": {},
     "output_type": "execute_result"
    }
   ],
   "source": [
    "from sklearn.decomposition import PCA\n",
    "pca = PCA(0.95)\n",
    "\n",
    "principalComponents = pca.fit_transform(X_train)\n",
    "pca.explained_variance_ratio_"
   ]
  },
  {
   "cell_type": "code",
   "execution_count": 37,
   "metadata": {},
   "outputs": [],
   "source": [
    "X_train = pca.transform(X_train)\n",
    "X_test = pca.transform(X_test)"
   ]
  },
  {
   "cell_type": "code",
   "execution_count": 38,
   "metadata": {},
   "outputs": [],
   "source": [
    "from sklearn.svm import SVC\n",
    "svclassifier = SVC(kernel='rbf', verbose = True)"
   ]
  },
  {
   "cell_type": "code",
   "execution_count": 39,
   "metadata": {},
   "outputs": [
    {
     "name": "stdout",
     "output_type": "stream",
     "text": [
      "[LibSVM]"
     ]
    },
    {
     "data": {
      "text/plain": [
       "SVC(verbose=True)"
      ]
     },
     "execution_count": 39,
     "metadata": {},
     "output_type": "execute_result"
    }
   ],
   "source": [
    "svclassifier.fit(X_train, y_train)"
   ]
  },
  {
   "cell_type": "code",
   "execution_count": 40,
   "metadata": {},
   "outputs": [
    {
     "name": "stdout",
     "output_type": "stream",
     "text": [
      "ACCURACY: 0.3476911136980986\n"
     ]
    }
   ],
   "source": [
    "from sklearn.metrics import accuracy_score\n",
    "pred = svclassifier.predict(X_test)\n",
    "print(\"ACCURACY:\", accuracy_score(pred, y_test))"
   ]
  },
  {
   "cell_type": "markdown",
   "metadata": {},
   "source": [
    "## Testing gamma and c"
   ]
  },
  {
   "cell_type": "code",
   "execution_count": 41,
   "metadata": {},
   "outputs": [
    {
     "name": "stdout",
     "output_type": "stream",
     "text": [
      "[LibSVM]1 0.1 : 0.35079549864183157\n",
      "[LibSVM]1 1 : 0.35001940240589835\n",
      "[LibSVM]1 10 : 0.25533566162204113\n",
      "[LibSVM]1 100 : 0.21420256111757857\n",
      "[LibSVM]10 0.1 : 0.3585564610011641\n",
      "[LibSVM]10 1 : 0.3473030655801319\n",
      "[LibSVM]10 10 : 0.2576639503298409\n",
      "[LibSVM]10 100 : 0.21497865735351185\n",
      "[LibSVM]100 0.1 : 0.3585564610011641\n",
      "[LibSVM]100 1 : 0.3414823438106325\n",
      "[LibSVM]100 10 : 0.2572759022118743\n",
      "[LibSVM]100 100 : 0.21497865735351185\n"
     ]
    }
   ],
   "source": [
    "from sklearn.metrics import accuracy_score\n",
    "C_range =[1, 10, 100]\n",
    "gamma_range = [0.1, 1, 10, 100]\n",
    "for c in C_range:\n",
    "    for g in gamma_range:\n",
    "        svc2 = SVC(kernel='rbf', gamma=g,C=c, verbose = True)\n",
    "        svc2.fit(X_train, y_train)\n",
    "        print(c, g, \":\",accuracy_score(y_test, svc2.predict(X_test)))"
   ]
  },
  {
   "cell_type": "code",
   "execution_count": 14,
   "metadata": {},
   "outputs": [
    {
     "name": "stdout",
     "output_type": "stream",
     "text": [
      "[LibSVM]"
     ]
    },
    {
     "data": {
      "text/plain": [
       "0.5162829870859068"
      ]
     },
     "execution_count": 14,
     "metadata": {},
     "output_type": "execute_result"
    }
   ],
   "source": [
    "svc2 = SVC(kernel='rbf', gamma=0.1,C=10, verbose = True)\n",
    "svc2.fit(X_train, y_train)\n",
    "accuracy_score(y_test, svc2.predict(X_test))"
   ]
  },
  {
   "cell_type": "code",
   "execution_count": 15,
   "metadata": {},
   "outputs": [
    {
     "name": "stdout",
     "output_type": "stream",
     "text": [
      "ACCURACY: 0.5162829870859068\n"
     ]
    }
   ],
   "source": [
    "pred = svc2.predict(X_test)\n",
    "print(\"ACCURACY:\" ,accuracy_score(pred, y_test))"
   ]
  },
  {
   "cell_type": "markdown",
   "metadata": {},
   "source": [
    "## Confusion Matrix"
   ]
  },
  {
   "cell_type": "code",
   "execution_count": 16,
   "metadata": {},
   "outputs": [
    {
     "data": {
      "text/plain": [
       "array([[1388,   36,   36,   25,   30],\n",
       "       [ 115,  128,   80,   87,  119],\n",
       "       [ 131,   88,   90,   86,   93],\n",
       "       [ 127,   91,   96,   95,  110],\n",
       "       [ 142,   85,   69,   77,  138]])"
      ]
     },
     "execution_count": 16,
     "metadata": {},
     "output_type": "execute_result"
    }
   ],
   "source": [
    "from sklearn.metrics import confusion_matrix\n",
    "array = confusion_matrix(y_test, pred)\n",
    "array"
   ]
  },
  {
   "cell_type": "code",
   "execution_count": 19,
   "metadata": {},
   "outputs": [
    {
     "data": {
      "image/png": "[encoded data removed]",
      "text/plain": [
       "<Figure size 720x504 with 2 Axes>"
      ]
     },
     "metadata": {
      "needs_background": "light"
     },
     "output_type": "display_data"
    }
   ],
   "source": [
    "import seaborn as sn\n",
    "import pandas as pd\n",
    "import matplotlib.pyplot as plt\n",
    "binary=False\n",
    "if binary:\n",
    "    df_cm = pd.DataFrame(array, index = [i for i in [\"No\", \"Yes\"]],\n",
    "                    columns = [i for i in [\"No\", \"Yes\"]])\n",
    "else:\n",
    "    df_cm = pd.DataFrame(array, index = [i for i in [\"None\", \"Small\", \"Medium\", \"Large\", \"Very Large\"]],\n",
    "                  columns = [i for i in [\"None\", \"Small\", \"Medium\", \"Large\", \"Very Large\"]])\n",
    "\n",
    "plt.figure(figsize = (10,7))\n",
    "\n",
    "ax = sn.heatmap(df_cm, cmap=\"Greens\", annot=True, annot_kws={\"size\":35}, fmt='g')\n",
    "ax.tick_params(axis='both', which='major', labelsize=23)\n",
    "plt.xlabel('Predicted', fontsize = 32) \n",
    "# plt.title(\"KNN Confusion Matrix\", fontsize = 50)\n",
    "plt.ylabel('Actual', fontsize = 40) \n",
    "# plt.savefig(\"SVC Matrix\", bbox_inches=\"tight\")\n",
    "\n",
    "plt.show()"
   ]
  },
  {
   "cell_type": "code",
   "execution_count": null,
   "metadata": {},
   "outputs": [],
   "source": []
  }
 ],
 "metadata": {
  "kernelspec": {
   "display_name": "Python 3",
   "language": "python",
   "name": "python3"
  },
  "language_info": {
   "codemirror_mode": {
    "name": "ipython",
    "version": 3
   },
   "file_extension": ".py",
   "mimetype": "text/x-python",
   "name": "python",
   "nbconvert_exporter": "python",
   "pygments_lexer": "ipython3",
   "version": "3.7.4"
  }
 },
 "nbformat": 4,
 "nbformat_minor": 4
}
