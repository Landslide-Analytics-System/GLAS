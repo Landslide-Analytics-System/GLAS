{
 "cells": [
  {
   "cell_type": "markdown",
   "metadata": {},
   "source": [
    "## SVC Classifier\n",
    "The model predicts the severity of the landslide (or if there will even be one) within the next 2 days, based on weather data from the past 5 days."
   ]
  },
  {
   "cell_type": "code",
   "execution_count": 1,
   "metadata": {},
   "outputs": [],
   "source": [
    "import pandas as pd\n",
    "import numpy as np\n",
    "import matplotlib.pyplot as plt\n",
    "%matplotlib inline\n",
    "import sklearn\n",
    "from sklearn.utils import shuffle\n",
    "import pickle"
   ]
  },
  {
   "cell_type": "code",
   "execution_count": 2,
   "metadata": {},
   "outputs": [
    {
     "name": "stderr",
     "output_type": "stream",
     "text": [
      "/Library/Frameworks/Python.framework/Versions/3.7/lib/python3.7/site-packages/IPython/core/interactiveshell.py:3146: DtypeWarning: Columns (5,8,9,10,11) have mixed types.Specify dtype option on import or set low_memory=False.\n",
      "  interactivity=interactivity, compiler=compiler, result=result)\n"
     ]
    },
    {
     "data": {
      "text/plain": [
       "17808"
      ]
     },
     "execution_count": 2,
     "metadata": {},
     "output_type": "execute_result"
    }
   ],
   "source": [
    "# df = pd.read_csv(\"full_dataset_v1.csv\")\n",
    "df = pd.read_csv(\"dataset.csv\")\n",
    "len(df)"
   ]
  },
  {
   "cell_type": "code",
   "execution_count": 3,
   "metadata": {},
   "outputs": [
    {
     "data": {
      "text/plain": [
       "medium          5594\n",
       "small           2612\n",
       "unknown          834\n",
       "large            679\n",
       "...              359\n",
       "very_large       102\n",
       "Medium            72\n",
       "Unknown           19\n",
       "Large             17\n",
       "Small             10\n",
       "catastrophic       4\n",
       "landslide          2\n",
       "Very_large         1\n",
       "Very...large       1\n",
       "Name: severity, dtype: int64"
      ]
     },
     "execution_count": 3,
     "metadata": {},
     "output_type": "execute_result"
    }
   ],
   "source": [
    "df['severity'].value_counts()"
   ]
  },
  {
   "cell_type": "code",
   "execution_count": 4,
   "metadata": {},
   "outputs": [],
   "source": [
    "# filter by severity. na is for non-landslide data\n",
    "# df = df[df['severity'].isin([\"medium\", \"small\", \"large\", \"very_large\", \"na\"])]\n",
    "# Remove -1 slopes\n",
    "# df = df.loc[~(df.slope == -1)]"
   ]
  },
  {
   "cell_type": "code",
   "execution_count": 5,
   "metadata": {},
   "outputs": [
    {
     "name": "stdout",
     "output_type": "stream",
     "text": [
      "17808\n"
     ]
    }
   ],
   "source": [
    "df['severity'].value_counts()\n",
    "df = shuffle(df)\n",
    "df.reset_index(inplace=True, drop=True)\n",
    "print(len(df))"
   ]
  },
  {
   "cell_type": "code",
   "execution_count": 6,
   "metadata": {},
   "outputs": [
    {
     "data": {
      "text/html": [
       "<div>\n",
       "<style scoped>\n",
       "    .dataframe tbody tr th:only-of-type {\n",
       "        vertical-align: middle;\n",
       "    }\n",
       "\n",
       "    .dataframe tbody tr th {\n",
       "        vertical-align: top;\n",
       "    }\n",
       "\n",
       "    .dataframe thead th {\n",
       "        text-align: right;\n",
       "    }\n",
       "</style>\n",
       "<table border=\"1\" class=\"dataframe\">\n",
       "  <thead>\n",
       "    <tr style=\"text-align: right;\">\n",
       "      <th></th>\n",
       "      <th>humidity9</th>\n",
       "      <th>ARI9</th>\n",
       "      <th>humidity8</th>\n",
       "      <th>ARI8</th>\n",
       "      <th>humidity7</th>\n",
       "      <th>ARI7</th>\n",
       "      <th>humidity6</th>\n",
       "      <th>ARI6</th>\n",
       "      <th>humidity5</th>\n",
       "      <th>ARI5</th>\n",
       "      <th>slope</th>\n",
       "      <th>forest2</th>\n",
       "      <th>osm</th>\n",
       "    </tr>\n",
       "  </thead>\n",
       "  <tbody>\n",
       "    <tr>\n",
       "      <th>0</th>\n",
       "      <td>94</td>\n",
       "      <td>0.089812</td>\n",
       "      <td>95</td>\n",
       "      <td>0.161204</td>\n",
       "      <td>95</td>\n",
       "      <td>0.245696</td>\n",
       "      <td>98</td>\n",
       "      <td>0.137235</td>\n",
       "      <td>95</td>\n",
       "      <td>0.051337</td>\n",
       "      <td>2.175</td>\n",
       "      <td>1</td>\n",
       "      <td>6320</td>\n",
       "    </tr>\n",
       "    <tr>\n",
       "      <th>1</th>\n",
       "      <td>48</td>\n",
       "      <td>0.006780</td>\n",
       "      <td>78</td>\n",
       "      <td>0.004483</td>\n",
       "      <td>83</td>\n",
       "      <td>0.003187</td>\n",
       "      <td>59</td>\n",
       "      <td>0.001350</td>\n",
       "      <td>44</td>\n",
       "      <td>0.264586</td>\n",
       "      <td>4.531</td>\n",
       "      <td>1</td>\n",
       "      <td>1581</td>\n",
       "    </tr>\n",
       "    <tr>\n",
       "      <th>2</th>\n",
       "      <td>82</td>\n",
       "      <td>1.422149</td>\n",
       "      <td>70</td>\n",
       "      <td>0.567757</td>\n",
       "      <td>57</td>\n",
       "      <td>0.309602</td>\n",
       "      <td>65</td>\n",
       "      <td>0.195297</td>\n",
       "      <td>74</td>\n",
       "      <td>0.134498</td>\n",
       "      <td>0.000</td>\n",
       "      <td>0</td>\n",
       "      <td>312</td>\n",
       "    </tr>\n",
       "    <tr>\n",
       "      <th>3</th>\n",
       "      <td>59</td>\n",
       "      <td>0.028348</td>\n",
       "      <td>99</td>\n",
       "      <td>0.000000</td>\n",
       "      <td>100</td>\n",
       "      <td>0.000000</td>\n",
       "      <td>94</td>\n",
       "      <td>0.000000</td>\n",
       "      <td>99</td>\n",
       "      <td>1.322929</td>\n",
       "      <td>23.029</td>\n",
       "      <td>1</td>\n",
       "      <td>1756</td>\n",
       "    </tr>\n",
       "    <tr>\n",
       "      <th>4</th>\n",
       "      <td>94</td>\n",
       "      <td>0.188113</td>\n",
       "      <td>91</td>\n",
       "      <td>0.091490</td>\n",
       "      <td>92</td>\n",
       "      <td>0.036379</td>\n",
       "      <td>85</td>\n",
       "      <td>0.022342</td>\n",
       "      <td>88</td>\n",
       "      <td>0.013933</td>\n",
       "      <td>14.242</td>\n",
       "      <td>1</td>\n",
       "      <td>3178</td>\n",
       "    </tr>\n",
       "    <tr>\n",
       "      <th>...</th>\n",
       "      <td>...</td>\n",
       "      <td>...</td>\n",
       "      <td>...</td>\n",
       "      <td>...</td>\n",
       "      <td>...</td>\n",
       "      <td>...</td>\n",
       "      <td>...</td>\n",
       "      <td>...</td>\n",
       "      <td>...</td>\n",
       "      <td>...</td>\n",
       "      <td>...</td>\n",
       "      <td>...</td>\n",
       "      <td>...</td>\n",
       "    </tr>\n",
       "    <tr>\n",
       "      <th>17803</th>\n",
       "      <td>93</td>\n",
       "      <td>0.369029</td>\n",
       "      <td>93</td>\n",
       "      <td>1.300976</td>\n",
       "      <td>99</td>\n",
       "      <td>1.846464</td>\n",
       "      <td>98</td>\n",
       "      <td>2.444062</td>\n",
       "      <td>99</td>\n",
       "      <td>1.720421</td>\n",
       "      <td>20.239</td>\n",
       "      <td>1</td>\n",
       "      <td>2608</td>\n",
       "    </tr>\n",
       "    <tr>\n",
       "      <th>17804</th>\n",
       "      <td>97</td>\n",
       "      <td>0.408730</td>\n",
       "      <td>93</td>\n",
       "      <td>0.353438</td>\n",
       "      <td>94</td>\n",
       "      <td>0.131711</td>\n",
       "      <td>92</td>\n",
       "      <td>0.071530</td>\n",
       "      <td>92</td>\n",
       "      <td>2.874520</td>\n",
       "      <td>4.707</td>\n",
       "      <td>1</td>\n",
       "      <td>16954</td>\n",
       "    </tr>\n",
       "    <tr>\n",
       "      <th>17805</th>\n",
       "      <td>52</td>\n",
       "      <td>0.164043</td>\n",
       "      <td>82</td>\n",
       "      <td>1.436848</td>\n",
       "      <td>68</td>\n",
       "      <td>0.414428</td>\n",
       "      <td>79</td>\n",
       "      <td>0.146992</td>\n",
       "      <td>77</td>\n",
       "      <td>0.082683</td>\n",
       "      <td>14.312</td>\n",
       "      <td>0</td>\n",
       "      <td>1051</td>\n",
       "    </tr>\n",
       "    <tr>\n",
       "      <th>17806</th>\n",
       "      <td>86</td>\n",
       "      <td>0.488186</td>\n",
       "      <td>83</td>\n",
       "      <td>0.355041</td>\n",
       "      <td>87</td>\n",
       "      <td>0.346975</td>\n",
       "      <td>89</td>\n",
       "      <td>0.184828</td>\n",
       "      <td>84</td>\n",
       "      <td>0.033683</td>\n",
       "      <td>4.264</td>\n",
       "      <td>1</td>\n",
       "      <td>143</td>\n",
       "    </tr>\n",
       "    <tr>\n",
       "      <th>17807</th>\n",
       "      <td>85</td>\n",
       "      <td>0.256209</td>\n",
       "      <td>95</td>\n",
       "      <td>2.175560</td>\n",
       "      <td>98</td>\n",
       "      <td>2.969662</td>\n",
       "      <td>99</td>\n",
       "      <td>6.631144</td>\n",
       "      <td>98</td>\n",
       "      <td>1.969122</td>\n",
       "      <td>7.251</td>\n",
       "      <td>1</td>\n",
       "      <td>9841</td>\n",
       "    </tr>\n",
       "  </tbody>\n",
       "</table>\n",
       "<p>17808 rows × 13 columns</p>\n",
       "</div>"
      ],
      "text/plain": [
       "       humidity9      ARI9  humidity8      ARI8  humidity7      ARI7  \\\n",
       "0             94  0.089812         95  0.161204         95  0.245696   \n",
       "1             48  0.006780         78  0.004483         83  0.003187   \n",
       "2             82  1.422149         70  0.567757         57  0.309602   \n",
       "3             59  0.028348         99  0.000000        100  0.000000   \n",
       "4             94  0.188113         91  0.091490         92  0.036379   \n",
       "...          ...       ...        ...       ...        ...       ...   \n",
       "17803         93  0.369029         93  1.300976         99  1.846464   \n",
       "17804         97  0.408730         93  0.353438         94  0.131711   \n",
       "17805         52  0.164043         82  1.436848         68  0.414428   \n",
       "17806         86  0.488186         83  0.355041         87  0.346975   \n",
       "17807         85  0.256209         95  2.175560         98  2.969662   \n",
       "\n",
       "       humidity6      ARI6  humidity5      ARI5   slope  forest2    osm  \n",
       "0             98  0.137235         95  0.051337   2.175        1   6320  \n",
       "1             59  0.001350         44  0.264586   4.531        1   1581  \n",
       "2             65  0.195297         74  0.134498   0.000        0    312  \n",
       "3             94  0.000000         99  1.322929  23.029        1   1756  \n",
       "4             85  0.022342         88  0.013933  14.242        1   3178  \n",
       "...          ...       ...        ...       ...     ...      ...    ...  \n",
       "17803         98  2.444062         99  1.720421  20.239        1   2608  \n",
       "17804         92  0.071530         92  2.874520   4.707        1  16954  \n",
       "17805         79  0.146992         77  0.082683  14.312        0   1051  \n",
       "17806         89  0.184828         84  0.033683   4.264        1    143  \n",
       "17807         99  6.631144         98  1.969122   7.251        1   9841  \n",
       "\n",
       "[17808 rows x 13 columns]"
      ]
     },
     "execution_count": 6,
     "metadata": {},
     "output_type": "execute_result"
    }
   ],
   "source": [
    "X = df.copy()\n",
    "y = X.landslide\n",
    "columns=[]\n",
    "for i in range(9, 4, -1):\n",
    "    columns.append('humidity' + str(i))\n",
    "    columns.append('ARI' + str(i))\n",
    "columns.append('slope')\n",
    "columns.append('forest2')\n",
    "columns.append('osm')\n",
    "X = X[columns]\n",
    "X"
   ]
  },
  {
   "cell_type": "markdown",
   "metadata": {},
   "source": [
    "## Scaling"
   ]
  },
  {
   "cell_type": "code",
   "execution_count": 7,
   "metadata": {},
   "outputs": [],
   "source": [
    "from sklearn.model_selection import train_test_split\n",
    "from sklearn.preprocessing import StandardScaler\n",
    "X_train, X_test, y_train, y_test = train_test_split(X, y, test_size = 0.2)\n",
    "\n",
    "scaler = StandardScaler()\n",
    "scaler.fit(X_train)\n",
    "\n",
    "X_train = scaler.transform(X_train)\n",
    "X_test = scaler.transform(X_test)"
   ]
  },
  {
   "cell_type": "markdown",
   "metadata": {},
   "source": [
    "## PCA"
   ]
  },
  {
   "cell_type": "code",
   "execution_count": 8,
   "metadata": {},
   "outputs": [
    {
     "data": {
      "text/plain": [
       "array([0.43341633, 0.18762311, 0.08219791, 0.07672617, 0.05631004,\n",
       "       0.05179036, 0.03585658])"
      ]
     },
     "execution_count": 8,
     "metadata": {},
     "output_type": "execute_result"
    }
   ],
   "source": [
    "from sklearn.decomposition import PCA\n",
    "pca = PCA(0.9)\n",
    "\n",
    "principalComponents = pca.fit_transform(X_train)\n",
    "pca.explained_variance_ratio_"
   ]
  },
  {
   "cell_type": "code",
   "execution_count": 9,
   "metadata": {},
   "outputs": [],
   "source": [
    "X_train = pca.transform(X_train)\n",
    "X_test = pca.transform(X_test)"
   ]
  },
  {
   "cell_type": "code",
   "execution_count": 10,
   "metadata": {},
   "outputs": [],
   "source": [
    "from sklearn.svm import SVC\n",
    "svclassifier = SVC(kernel='rbf', verbose = True)"
   ]
  },
  {
   "cell_type": "code",
   "execution_count": 11,
   "metadata": {},
   "outputs": [
    {
     "name": "stdout",
     "output_type": "stream",
     "text": [
      "[LibSVM]"
     ]
    },
    {
     "data": {
      "text/plain": [
       "SVC(verbose=True)"
      ]
     },
     "execution_count": 11,
     "metadata": {},
     "output_type": "execute_result"
    }
   ],
   "source": [
    "svclassifier.fit(X_train, y_train)"
   ]
  },
  {
   "cell_type": "code",
   "execution_count": 12,
   "metadata": {},
   "outputs": [
    {
     "name": "stdout",
     "output_type": "stream",
     "text": [
      "ACCURACY: 0.862436833239753\n"
     ]
    }
   ],
   "source": [
    "from sklearn.metrics import accuracy_score\n",
    "pred = svclassifier.predict(X_test)\n",
    "print(\"ACCURACY:\" ,accuracy_score(pred, y_test))"
   ]
  },
  {
   "cell_type": "markdown",
   "metadata": {},
   "source": [
    "## Testing gamma and c"
   ]
  },
  {
   "cell_type": "code",
   "execution_count": 45,
   "metadata": {},
   "outputs": [
    {
     "name": "stdout",
     "output_type": "stream",
     "text": [
      "[LibSVM]1 0.1 : 0.6749545178896301\n",
      "[LibSVM]1 1 : 0.6734384475439661\n",
      "[LibSVM]1 10 : 0.6431170406306853\n",
      "[LibSVM]1 100 : 0.47604608853850816\n",
      "[LibSVM]10 0.1 : 0.6761673741661614\n",
      "[LibSVM]10 1 : 0.6613098847786537\n",
      "[LibSVM]10 10 : 0.6228016979987872\n",
      "[LibSVM]10 100 : 0.47847180109157067\n",
      "[LibSVM]100 0.1 : 0.6749545178896301\n",
      "[LibSVM]100 1 : 0.6367495451788963\n",
      "[LibSVM]100 10 : 0.6103699211643421\n",
      "[LibSVM]100 100 : 0.47847180109157067\n"
     ]
    }
   ],
   "source": [
    "from sklearn.metrics import accuracy_score\n",
    "C_range =[1, 10, 100]\n",
    "gamma_range = [0.1, 1, 10, 100]\n",
    "for c in C_range:\n",
    "    for g in gamma_range:\n",
    "        svc2 = SVC(kernel='rbf', gamma=g,C=c, verbose = True)\n",
    "        svc2.fit(X_train, y_train)\n",
    "        print(c, g, \":\",accuracy_score(y_test, svc2.predict(X_test)))"
   ]
  },
  {
   "cell_type": "code",
   "execution_count": 46,
   "metadata": {},
   "outputs": [
    {
     "name": "stdout",
     "output_type": "stream",
     "text": [
      "[LibSVM]"
     ]
    },
    {
     "data": {
      "text/plain": [
       "0.6761673741661614"
      ]
     },
     "execution_count": 46,
     "metadata": {},
     "output_type": "execute_result"
    }
   ],
   "source": [
    "svc2 = SVC(kernel='rbf', gamma=0.1,C=10, verbose = True)\n",
    "svc2.fit(X_train, y_train)\n",
    "accuracy_score(y_test, svc2.predict(X_test))"
   ]
  },
  {
   "cell_type": "code",
   "execution_count": 13,
   "metadata": {},
   "outputs": [
    {
     "name": "stdout",
     "output_type": "stream",
     "text": [
      "ACCURACY: 0.862436833239753\n"
     ]
    }
   ],
   "source": [
    "pred = svc2.predict(X_test)\n",
    "print(\"ACCURACY:\" ,accuracy_score(pred, y_test))"
   ]
  },
  {
   "cell_type": "markdown",
   "metadata": {},
   "source": [
    "## Confusion Matrix"
   ]
  },
  {
   "cell_type": "code",
   "execution_count": 14,
   "metadata": {},
   "outputs": [
    {
     "data": {
      "text/plain": [
       "array([[1217,  273],\n",
       "       [ 217, 1855]])"
      ]
     },
     "execution_count": 14,
     "metadata": {},
     "output_type": "execute_result"
    }
   ],
   "source": [
    "from sklearn.metrics import confusion_matrix\n",
    "array = confusion_matrix(y_test, pred)\n",
    "array"
   ]
  },
  {
   "cell_type": "code",
   "execution_count": 19,
   "metadata": {},
   "outputs": [
    {
     "data": {
      "image/png": "[encoded data removed]",
      "text/plain": [
       "<Figure size 720x504 with 2 Axes>"
      ]
     },
     "metadata": {
      "needs_background": "light"
     },
     "output_type": "display_data"
    }
   ],
   "source": [
    "import seaborn as sn\n",
    "import pandas as pd\n",
    "import matplotlib.pyplot as plt\n",
    "binary=True\n",
    "if binary:\n",
    "    df_cm = pd.DataFrame(array, index = [i for i in [\"No\", \"Yes\"]],\n",
    "                    columns = [i for i in [\"No\", \"Yes\"]])\n",
    "else:\n",
    "    df_cm = pd.DataFrame(array, index = [i for i in [\"None\", \"Small\", \"Medium\", \"Large\", \"Very Large\"]],\n",
    "                  columns = [i for i in [\"None\", \"Small\", \"Medium\", \"Large\", \"Very Large\"]])\n",
    "\n",
    "plt.figure(figsize = (10,7))\n",
    "\n",
    "ax = sn.heatmap(df_cm, cmap=\"Reds\", annot=True, annot_kws={\"size\":50}, fmt='g')\n",
    "ax.tick_params(axis='both', which='major', labelsize=27)\n",
    "plt.xlabel('Predicted', fontsize = 40) \n",
    "# plt.title(\"KNN Confusion Matrix\", fontsize = 50)\n",
    "plt.ylabel('Actual', fontsize = 40)\n",
    "plt.savefig(\"SVC Matrix\", bbox_inches=\"tight\")\n",
    "\n",
    "plt.show()"
   ]
  },
  {
   "cell_type": "code",
   "execution_count": null,
   "metadata": {},
   "outputs": [],
   "source": []
  }
 ],
 "metadata": {
  "kernelspec": {
   "display_name": "Python 3",
   "language": "python",
   "name": "python3"
  },
  "language_info": {
   "codemirror_mode": {
    "name": "ipython",
    "version": 3
   },
   "file_extension": ".py",
   "mimetype": "text/x-python",
   "name": "python",
   "nbconvert_exporter": "python",
   "pygments_lexer": "ipython3",
   "version": "3.7.4"
  }
 },
 "nbformat": 4,
 "nbformat_minor": 4
}
